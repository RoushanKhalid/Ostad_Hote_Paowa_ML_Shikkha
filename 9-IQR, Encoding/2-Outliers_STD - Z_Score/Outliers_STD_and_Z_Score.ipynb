{
 "cells": [
  {
   "cell_type": "markdown",
   "metadata": {},
   "source": [
    "<h2 align='center' style='color:purple'>Outlier detection and removal using z-score and standard deviation in python pandas</h2>"
   ]
  },
  {
   "cell_type": "code",
   "execution_count": 1,
   "metadata": {},
   "outputs": [],
   "source": [
    "import pandas as pd\n",
    "import matplotlib\n",
    "from matplotlib import pyplot as plt"
   ]
  },
  {
   "cell_type": "markdown",
   "metadata": {},
   "source": [
    "**We are going to use heights dataset from kaggle.com. Dataset has heights and weights both but I have removed weights to make it simple**"
   ]
  },
  {
   "cell_type": "code",
   "execution_count": 2,
   "metadata": {
    "scrolled": true
   },
   "outputs": [
    {
     "data": {
      "application/vnd.microsoft.datawrangler.viewer.v0+json": {
       "columns": [
        {
         "name": "index",
         "rawType": "int64",
         "type": "integer"
        },
        {
         "name": "gender",
         "rawType": "object",
         "type": "string"
        },
        {
         "name": "height",
         "rawType": "float64",
         "type": "float"
        }
       ],
       "conversionMethod": "pd.DataFrame",
       "ref": "60941061-15a2-467d-9110-90a2ebbe6801",
       "rows": [
        [
         "0",
         "Male",
         "73.84701702"
        ],
        [
         "1",
         "Male",
         "68.78190405"
        ],
        [
         "2",
         "Male",
         "74.11010539"
        ],
        [
         "3",
         "Male",
         "71.7309784"
        ],
        [
         "4",
         "Male",
         "69.88179586"
        ],
        [
         "5",
         "Male",
         "67.25301569"
        ],
        [
         "6",
         "Male",
         "68.78508125"
        ],
        [
         "7",
         "Male",
         "68.34851551"
        ],
        [
         "8",
         "Male",
         "67.01894966"
        ],
        [
         "9",
         "Male",
         "63.45649398"
        ],
        [
         "10",
         "Male",
         "71.19538228"
        ],
        [
         "11",
         "Male",
         "71.64080512"
        ],
        [
         "12",
         "Male",
         "64.76632913"
        ],
        [
         "13",
         "Male",
         "69.2830701"
        ],
        [
         "14",
         "Male",
         "69.24373223"
        ],
        [
         "15",
         "Male",
         "67.6456197"
        ],
        [
         "16",
         "Male",
         "72.41831663"
        ],
        [
         "17",
         "Male",
         "63.97432572"
        ],
        [
         "18",
         "Male",
         "69.6400599"
        ],
        [
         "19",
         "Male",
         "67.93600485"
        ],
        [
         "20",
         "Male",
         "67.91505019"
        ],
        [
         "21",
         "Male",
         "69.43943987"
        ],
        [
         "22",
         "Male",
         "66.14913196"
        ],
        [
         "23",
         "Male",
         "75.20597361"
        ],
        [
         "24",
         "Male",
         "67.89319634"
        ],
        [
         "25",
         "Male",
         "68.1440328"
        ],
        [
         "26",
         "Male",
         "69.08963143"
        ],
        [
         "27",
         "Male",
         "72.80084352"
        ],
        [
         "28",
         "Male",
         "67.42124228"
        ],
        [
         "29",
         "Male",
         "68.49641536"
        ],
        [
         "30",
         "Male",
         "68.61811055"
        ],
        [
         "31",
         "Male",
         "74.03380762"
        ],
        [
         "32",
         "Male",
         "71.52821604"
        ],
        [
         "33",
         "Male",
         "69.1801611"
        ],
        [
         "34",
         "Male",
         "69.57720237"
        ],
        [
         "35",
         "Male",
         "70.40092889"
        ],
        [
         "36",
         "Male",
         "69.07617117"
        ],
        [
         "37",
         "Male",
         "67.19352328"
        ],
        [
         "38",
         "Male",
         "65.80731565"
        ],
        [
         "39",
         "Male",
         "64.30418789"
        ],
        [
         "40",
         "Male",
         "67.97433623"
        ],
        [
         "41",
         "Male",
         "72.18942596"
        ],
        [
         "42",
         "Male",
         "65.27034552"
        ],
        [
         "43",
         "Male",
         "66.09017738"
        ],
        [
         "44",
         "Male",
         "67.51032152"
        ],
        [
         "45",
         "Male",
         "70.10478626"
        ],
        [
         "46",
         "Male",
         "68.25183644"
        ],
        [
         "47",
         "Male",
         "72.17270912"
        ],
        [
         "48",
         "Male",
         "69.17985762"
        ],
        [
         "49",
         "Male",
         "72.87036015"
        ]
       ],
       "shape": {
        "columns": 2,
        "rows": 10000
       }
      },
      "text/html": [
       "<div>\n",
       "<style scoped>\n",
       "    .dataframe tbody tr th:only-of-type {\n",
       "        vertical-align: middle;\n",
       "    }\n",
       "\n",
       "    .dataframe tbody tr th {\n",
       "        vertical-align: top;\n",
       "    }\n",
       "\n",
       "    .dataframe thead th {\n",
       "        text-align: right;\n",
       "    }\n",
       "</style>\n",
       "<table border=\"1\" class=\"dataframe\">\n",
       "  <thead>\n",
       "    <tr style=\"text-align: right;\">\n",
       "      <th></th>\n",
       "      <th>gender</th>\n",
       "      <th>height</th>\n",
       "    </tr>\n",
       "  </thead>\n",
       "  <tbody>\n",
       "    <tr>\n",
       "      <th>0</th>\n",
       "      <td>Male</td>\n",
       "      <td>73.847017</td>\n",
       "    </tr>\n",
       "    <tr>\n",
       "      <th>1</th>\n",
       "      <td>Male</td>\n",
       "      <td>68.781904</td>\n",
       "    </tr>\n",
       "    <tr>\n",
       "      <th>2</th>\n",
       "      <td>Male</td>\n",
       "      <td>74.110105</td>\n",
       "    </tr>\n",
       "    <tr>\n",
       "      <th>3</th>\n",
       "      <td>Male</td>\n",
       "      <td>71.730978</td>\n",
       "    </tr>\n",
       "    <tr>\n",
       "      <th>4</th>\n",
       "      <td>Male</td>\n",
       "      <td>69.881796</td>\n",
       "    </tr>\n",
       "    <tr>\n",
       "      <th>...</th>\n",
       "      <td>...</td>\n",
       "      <td>...</td>\n",
       "    </tr>\n",
       "    <tr>\n",
       "      <th>9995</th>\n",
       "      <td>Female</td>\n",
       "      <td>66.172652</td>\n",
       "    </tr>\n",
       "    <tr>\n",
       "      <th>9996</th>\n",
       "      <td>Female</td>\n",
       "      <td>67.067155</td>\n",
       "    </tr>\n",
       "    <tr>\n",
       "      <th>9997</th>\n",
       "      <td>Female</td>\n",
       "      <td>63.867992</td>\n",
       "    </tr>\n",
       "    <tr>\n",
       "      <th>9998</th>\n",
       "      <td>Female</td>\n",
       "      <td>69.034243</td>\n",
       "    </tr>\n",
       "    <tr>\n",
       "      <th>9999</th>\n",
       "      <td>Female</td>\n",
       "      <td>61.944246</td>\n",
       "    </tr>\n",
       "  </tbody>\n",
       "</table>\n",
       "<p>10000 rows × 2 columns</p>\n",
       "</div>"
      ],
      "text/plain": [
       "      gender     height\n",
       "0       Male  73.847017\n",
       "1       Male  68.781904\n",
       "2       Male  74.110105\n",
       "3       Male  71.730978\n",
       "4       Male  69.881796\n",
       "...      ...        ...\n",
       "9995  Female  66.172652\n",
       "9996  Female  67.067155\n",
       "9997  Female  63.867992\n",
       "9998  Female  69.034243\n",
       "9999  Female  61.944246\n",
       "\n",
       "[10000 rows x 2 columns]"
      ]
     },
     "execution_count": 2,
     "metadata": {},
     "output_type": "execute_result"
    }
   ],
   "source": [
    "df = pd.read_csv(\"heights.csv\")\n",
    "df"
   ]
  },
  {
   "cell_type": "code",
   "execution_count": 4,
   "metadata": {},
   "outputs": [
    {
     "data": {
      "image/png": "[encoded data removed]",
      "text/plain": [
       "<Figure size 640x480 with 1 Axes>"
      ]
     },
     "metadata": {},
     "output_type": "display_data"
    }
   ],
   "source": [
    "df.height.hist(bins=20, rwidth=0.8)\n",
    "plt.show()"
   ]
  },
  {
   "cell_type": "code",
   "execution_count": 5,
   "metadata": {
    "scrolled": true
   },
   "outputs": [
    {
     "data": {
      "image/png": "[encoded data removed]",
      "text/plain": [
       "<Figure size 640x480 with 1 Axes>"
      ]
     },
     "metadata": {},
     "output_type": "display_data"
    }
   ],
   "source": [
    "plt.hist(df.height, bins=20, rwidth=0.8)\n",
    "plt.xlabel('Height (inches)')\n",
    "plt.ylabel('Count')\n",
    "plt.show()"
   ]
  },
  {
   "cell_type": "markdown",
   "metadata": {},
   "source": [
    "Read this awesome article to get your fundamentals clear on normal distribution, bell curve and standard deviation. https://www.mathsisfun.com/data/standard-normal-distribution.html"
   ]
  },
  {
   "cell_type": "markdown",
   "metadata": {},
   "source": [
    "**Plot bell curve along with histogram for our dataset**"
   ]
  },
  {
   "cell_type": "code",
   "execution_count": 6,
   "metadata": {},
   "outputs": [
    {
     "data": {
      "text/plain": [
       "np.float64(66.367559754866)"
      ]
     },
     "execution_count": 6,
     "metadata": {},
     "output_type": "execute_result"
    }
   ],
   "source": [
    "df.height.mean()"
   ]
  },
  {
   "cell_type": "code",
   "execution_count": 7,
   "metadata": {},
   "outputs": [
    {
     "data": {
      "text/plain": [
       "np.float64(3.847528120795573)"
      ]
     },
     "execution_count": 7,
     "metadata": {},
     "output_type": "execute_result"
    }
   ],
   "source": [
    "df.height.std()"
   ]
  },
  {
   "cell_type": "markdown",
   "metadata": {},
   "source": [
    "Here the mean is 66.37 and standard deviation is 3.84. "
   ]
  },
  {
   "cell_type": "markdown",
   "metadata": {},
   "source": [
    "<h3 style='color:blue'>(1) Outlier detection and removal using 3 standard deviation</h3>"
   ]
  },
  {
   "cell_type": "markdown",
   "metadata": {},
   "source": [
    "One of the ways we can remove outliers is remove any data points that are beyond **3 standard deviation** from mean. Which means we can come up with following upper and lower bounds"
   ]
  },
  {
   "cell_type": "code",
   "execution_count": 8,
   "metadata": {},
   "outputs": [
    {
     "data": {
      "text/plain": [
       "np.float64(77.91014411725271)"
      ]
     },
     "execution_count": 8,
     "metadata": {},
     "output_type": "execute_result"
    }
   ],
   "source": [
    "upper_limit = df.height.mean() + 3*df.height.std()\n",
    "upper_limit"
   ]
  },
  {
   "cell_type": "code",
   "execution_count": 9,
   "metadata": {},
   "outputs": [
    {
     "data": {
      "text/plain": [
       "np.float64(54.824975392479274)"
      ]
     },
     "execution_count": 9,
     "metadata": {},
     "output_type": "execute_result"
    }
   ],
   "source": [
    "lower_limit = df.height.mean() -3*df.height.std()\n",
    "lower_limit"
   ]
  },
  {
   "cell_type": "markdown",
   "metadata": {},
   "source": [
    "Here are the outliers that are beyond 3 std dev from mean"
   ]
  },
  {
   "cell_type": "code",
   "execution_count": 10,
   "metadata": {
    "scrolled": true
   },
   "outputs": [
    {
     "data": {
      "application/vnd.microsoft.datawrangler.viewer.v0+json": {
       "columns": [
        {
         "name": "index",
         "rawType": "int64",
         "type": "integer"
        },
        {
         "name": "gender",
         "rawType": "object",
         "type": "string"
        },
        {
         "name": "height",
         "rawType": "float64",
         "type": "float"
        }
       ],
       "conversionMethod": "pd.DataFrame",
       "ref": "26cb1a2f-9fcc-448a-b30c-9d2c431309b2",
       "rows": [
        [
         "994",
         "Male",
         "78.09586747"
        ],
        [
         "1317",
         "Male",
         "78.46205292"
        ],
        [
         "2014",
         "Male",
         "78.99874235"
        ],
        [
         "3285",
         "Male",
         "78.52821043"
        ],
        [
         "3757",
         "Male",
         "78.62137397"
        ],
        [
         "6624",
         "Female",
         "54.61685783"
        ],
        [
         "9285",
         "Female",
         "54.26313333"
        ]
       ],
       "shape": {
        "columns": 2,
        "rows": 7
       }
      },
      "text/html": [
       "<div>\n",
       "<style scoped>\n",
       "    .dataframe tbody tr th:only-of-type {\n",
       "        vertical-align: middle;\n",
       "    }\n",
       "\n",
       "    .dataframe tbody tr th {\n",
       "        vertical-align: top;\n",
       "    }\n",
       "\n",
       "    .dataframe thead th {\n",
       "        text-align: right;\n",
       "    }\n",
       "</style>\n",
       "<table border=\"1\" class=\"dataframe\">\n",
       "  <thead>\n",
       "    <tr style=\"text-align: right;\">\n",
       "      <th></th>\n",
       "      <th>gender</th>\n",
       "      <th>height</th>\n",
       "    </tr>\n",
       "  </thead>\n",
       "  <tbody>\n",
       "    <tr>\n",
       "      <th>994</th>\n",
       "      <td>Male</td>\n",
       "      <td>78.095867</td>\n",
       "    </tr>\n",
       "    <tr>\n",
       "      <th>1317</th>\n",
       "      <td>Male</td>\n",
       "      <td>78.462053</td>\n",
       "    </tr>\n",
       "    <tr>\n",
       "      <th>2014</th>\n",
       "      <td>Male</td>\n",
       "      <td>78.998742</td>\n",
       "    </tr>\n",
       "    <tr>\n",
       "      <th>3285</th>\n",
       "      <td>Male</td>\n",
       "      <td>78.528210</td>\n",
       "    </tr>\n",
       "    <tr>\n",
       "      <th>3757</th>\n",
       "      <td>Male</td>\n",
       "      <td>78.621374</td>\n",
       "    </tr>\n",
       "    <tr>\n",
       "      <th>6624</th>\n",
       "      <td>Female</td>\n",
       "      <td>54.616858</td>\n",
       "    </tr>\n",
       "    <tr>\n",
       "      <th>9285</th>\n",
       "      <td>Female</td>\n",
       "      <td>54.263133</td>\n",
       "    </tr>\n",
       "  </tbody>\n",
       "</table>\n",
       "</div>"
      ],
      "text/plain": [
       "      gender     height\n",
       "994     Male  78.095867\n",
       "1317    Male  78.462053\n",
       "2014    Male  78.998742\n",
       "3285    Male  78.528210\n",
       "3757    Male  78.621374\n",
       "6624  Female  54.616858\n",
       "9285  Female  54.263133"
      ]
     },
     "execution_count": 10,
     "metadata": {},
     "output_type": "execute_result"
    }
   ],
   "source": [
    "df[(df.height>upper_limit) | (df.height<lower_limit)]   #select * from df where height <= upper_limit and height >= lower_limit"
   ]
  },
  {
   "cell_type": "markdown",
   "metadata": {},
   "source": [
    "Above the heights on higher end is **78 inch** which is around **6 ft 6 inch**. Now that is quite unusual height. There are people who have this height but it is very uncommon and it is ok if you remove those data points.\n",
    "Similarly on lower end it is **54 inch** which is around **4 ft 6 inch**. While this is also a legitimate height you don't find many people having this height so it is safe to consider both of these cases as outliers"
   ]
  },
  {
   "cell_type": "markdown",
   "metadata": {},
   "source": [
    "**Now remove these outliers and generate new dataframe**"
   ]
  },
  {
   "cell_type": "code",
   "execution_count": 11,
   "metadata": {},
   "outputs": [
    {
     "data": {
      "application/vnd.microsoft.datawrangler.viewer.v0+json": {
       "columns": [
        {
         "name": "index",
         "rawType": "int64",
         "type": "integer"
        },
        {
         "name": "gender",
         "rawType": "object",
         "type": "string"
        },
        {
         "name": "height",
         "rawType": "float64",
         "type": "float"
        }
       ],
       "conversionMethod": "pd.DataFrame",
       "ref": "5c5aba6a-e68f-448e-b4ad-61916163cd86",
       "rows": [
        [
         "0",
         "Male",
         "73.84701702"
        ],
        [
         "1",
         "Male",
         "68.78190405"
        ],
        [
         "2",
         "Male",
         "74.11010539"
        ],
        [
         "3",
         "Male",
         "71.7309784"
        ],
        [
         "4",
         "Male",
         "69.88179586"
        ],
        [
         "5",
         "Male",
         "67.25301569"
        ],
        [
         "6",
         "Male",
         "68.78508125"
        ],
        [
         "7",
         "Male",
         "68.34851551"
        ],
        [
         "8",
         "Male",
         "67.01894966"
        ],
        [
         "9",
         "Male",
         "63.45649398"
        ],
        [
         "10",
         "Male",
         "71.19538228"
        ],
        [
         "11",
         "Male",
         "71.64080512"
        ],
        [
         "12",
         "Male",
         "64.76632913"
        ],
        [
         "13",
         "Male",
         "69.2830701"
        ],
        [
         "14",
         "Male",
         "69.24373223"
        ],
        [
         "15",
         "Male",
         "67.6456197"
        ],
        [
         "16",
         "Male",
         "72.41831663"
        ],
        [
         "17",
         "Male",
         "63.97432572"
        ],
        [
         "18",
         "Male",
         "69.6400599"
        ],
        [
         "19",
         "Male",
         "67.93600485"
        ],
        [
         "20",
         "Male",
         "67.91505019"
        ],
        [
         "21",
         "Male",
         "69.43943987"
        ],
        [
         "22",
         "Male",
         "66.14913196"
        ],
        [
         "23",
         "Male",
         "75.20597361"
        ],
        [
         "24",
         "Male",
         "67.89319634"
        ],
        [
         "25",
         "Male",
         "68.1440328"
        ],
        [
         "26",
         "Male",
         "69.08963143"
        ],
        [
         "27",
         "Male",
         "72.80084352"
        ],
        [
         "28",
         "Male",
         "67.42124228"
        ],
        [
         "29",
         "Male",
         "68.49641536"
        ],
        [
         "30",
         "Male",
         "68.61811055"
        ],
        [
         "31",
         "Male",
         "74.03380762"
        ],
        [
         "32",
         "Male",
         "71.52821604"
        ],
        [
         "33",
         "Male",
         "69.1801611"
        ],
        [
         "34",
         "Male",
         "69.57720237"
        ],
        [
         "35",
         "Male",
         "70.40092889"
        ],
        [
         "36",
         "Male",
         "69.07617117"
        ],
        [
         "37",
         "Male",
         "67.19352328"
        ],
        [
         "38",
         "Male",
         "65.80731565"
        ],
        [
         "39",
         "Male",
         "64.30418789"
        ],
        [
         "40",
         "Male",
         "67.97433623"
        ],
        [
         "41",
         "Male",
         "72.18942596"
        ],
        [
         "42",
         "Male",
         "65.27034552"
        ],
        [
         "43",
         "Male",
         "66.09017738"
        ],
        [
         "44",
         "Male",
         "67.51032152"
        ],
        [
         "45",
         "Male",
         "70.10478626"
        ],
        [
         "46",
         "Male",
         "68.25183644"
        ],
        [
         "47",
         "Male",
         "72.17270912"
        ],
        [
         "48",
         "Male",
         "69.17985762"
        ],
        [
         "49",
         "Male",
         "72.87036015"
        ]
       ],
       "shape": {
        "columns": 2,
        "rows": 9993
       }
      },
      "text/html": [
       "<div>\n",
       "<style scoped>\n",
       "    .dataframe tbody tr th:only-of-type {\n",
       "        vertical-align: middle;\n",
       "    }\n",
       "\n",
       "    .dataframe tbody tr th {\n",
       "        vertical-align: top;\n",
       "    }\n",
       "\n",
       "    .dataframe thead th {\n",
       "        text-align: right;\n",
       "    }\n",
       "</style>\n",
       "<table border=\"1\" class=\"dataframe\">\n",
       "  <thead>\n",
       "    <tr style=\"text-align: right;\">\n",
       "      <th></th>\n",
       "      <th>gender</th>\n",
       "      <th>height</th>\n",
       "    </tr>\n",
       "  </thead>\n",
       "  <tbody>\n",
       "    <tr>\n",
       "      <th>0</th>\n",
       "      <td>Male</td>\n",
       "      <td>73.847017</td>\n",
       "    </tr>\n",
       "    <tr>\n",
       "      <th>1</th>\n",
       "      <td>Male</td>\n",
       "      <td>68.781904</td>\n",
       "    </tr>\n",
       "    <tr>\n",
       "      <th>2</th>\n",
       "      <td>Male</td>\n",
       "      <td>74.110105</td>\n",
       "    </tr>\n",
       "    <tr>\n",
       "      <th>3</th>\n",
       "      <td>Male</td>\n",
       "      <td>71.730978</td>\n",
       "    </tr>\n",
       "    <tr>\n",
       "      <th>4</th>\n",
       "      <td>Male</td>\n",
       "      <td>69.881796</td>\n",
       "    </tr>\n",
       "    <tr>\n",
       "      <th>...</th>\n",
       "      <td>...</td>\n",
       "      <td>...</td>\n",
       "    </tr>\n",
       "    <tr>\n",
       "      <th>9995</th>\n",
       "      <td>Female</td>\n",
       "      <td>66.172652</td>\n",
       "    </tr>\n",
       "    <tr>\n",
       "      <th>9996</th>\n",
       "      <td>Female</td>\n",
       "      <td>67.067155</td>\n",
       "    </tr>\n",
       "    <tr>\n",
       "      <th>9997</th>\n",
       "      <td>Female</td>\n",
       "      <td>63.867992</td>\n",
       "    </tr>\n",
       "    <tr>\n",
       "      <th>9998</th>\n",
       "      <td>Female</td>\n",
       "      <td>69.034243</td>\n",
       "    </tr>\n",
       "    <tr>\n",
       "      <th>9999</th>\n",
       "      <td>Female</td>\n",
       "      <td>61.944246</td>\n",
       "    </tr>\n",
       "  </tbody>\n",
       "</table>\n",
       "<p>9993 rows × 2 columns</p>\n",
       "</div>"
      ],
      "text/plain": [
       "      gender     height\n",
       "0       Male  73.847017\n",
       "1       Male  68.781904\n",
       "2       Male  74.110105\n",
       "3       Male  71.730978\n",
       "4       Male  69.881796\n",
       "...      ...        ...\n",
       "9995  Female  66.172652\n",
       "9996  Female  67.067155\n",
       "9997  Female  63.867992\n",
       "9998  Female  69.034243\n",
       "9999  Female  61.944246\n",
       "\n",
       "[9993 rows x 2 columns]"
      ]
     },
     "execution_count": 11,
     "metadata": {},
     "output_type": "execute_result"
    }
   ],
   "source": [
    "df_no_outlier_std_dev = df[(df.height<=upper_limit) & (df.height>=lower_limit)]\n",
    "df_no_outlier_std_dev"
   ]
  },
  {
   "cell_type": "code",
   "execution_count": 12,
   "metadata": {},
   "outputs": [
    {
     "data": {
      "text/plain": [
       "(9993, 2)"
      ]
     },
     "execution_count": 12,
     "metadata": {},
     "output_type": "execute_result"
    }
   ],
   "source": [
    "df_no_outlier_std_dev.shape"
   ]
  },
  {
   "cell_type": "code",
   "execution_count": 13,
   "metadata": {},
   "outputs": [
    {
     "data": {
      "text/plain": [
       "(10000, 2)"
      ]
     },
     "execution_count": 13,
     "metadata": {},
     "output_type": "execute_result"
    }
   ],
   "source": [
    "df.shape"
   ]
  },
  {
   "cell_type": "markdown",
   "metadata": {},
   "source": [
    "Above shows original dataframe data 10000 data points. Out of that we removed 7 outliers (i.e. 10000-9993) "
   ]
  },
  {
   "cell_type": "markdown",
   "metadata": {},
   "source": [
    "<h3 style='color:blue'>(2) Outlier detection and removal using Z Score</h3>"
   ]
  },
  {
   "cell_type": "markdown",
   "metadata": {},
   "source": [
    "**Z score is a way to achieve same thing that we did above in part (1)**"
   ]
  },
  {
   "cell_type": "markdown",
   "metadata": {},
   "source": [
    "**Z score indicates how many standard deviation away a data point is.**\n",
    "\n",
    "For example in our case mean is 66.37 and standard deviation is 3.84. \n",
    "\n",
    "If a value of a data point is 77.91 then Z score for that is 3 because it is 3 standard deviation away (77.91 = 66.37 + 3 * 3.84)"
   ]
  },
  {
   "cell_type": "markdown",
   "metadata": {},
   "source": [
    "<h3 style='color:purple'>Calculate the Z Score</h3>"
   ]
  },
  {
   "cell_type": "markdown",
   "metadata": {},
   "source": [
    "<img align='left' height=\"200\" width=\"500\" src=\"zscore.png\" />"
   ]
  },
  {
   "cell_type": "code",
   "execution_count": 14,
   "metadata": {
    "scrolled": true
   },
   "outputs": [
    {
     "data": {
      "application/vnd.microsoft.datawrangler.viewer.v0+json": {
       "columns": [
        {
         "name": "index",
         "rawType": "int64",
         "type": "integer"
        },
        {
         "name": "gender",
         "rawType": "object",
         "type": "string"
        },
        {
         "name": "height",
         "rawType": "float64",
         "type": "float"
        },
        {
         "name": "zscore",
         "rawType": "float64",
         "type": "float"
        }
       ],
       "conversionMethod": "pd.DataFrame",
       "ref": "f1803b3a-afcb-420a-b789-b310f3b95560",
       "rows": [
        [
         "0",
         "Male",
         "73.84701702",
         "1.9439642883201165"
        ],
        [
         "1",
         "Male",
         "68.78190405",
         "0.6275053019326015"
        ],
        [
         "2",
         "Male",
         "74.11010539",
         "2.0123428320864467"
        ],
        [
         "3",
         "Male",
         "71.7309784",
         "1.3939907589356313"
        ],
        [
         "4",
         "Male",
         "69.88179586",
         "0.9133750280185987"
        ],
        [
         "5",
         "Male",
         "67.25301569",
         "0.23013631280514568"
        ],
        [
         "6",
         "Male",
         "68.78508125",
         "0.6283310788730837"
        ],
        [
         "7",
         "Male",
         "68.34851551",
         "0.5148645293655171"
        ],
        [
         "8",
         "Male",
         "67.01894966",
         "0.1693008821984436"
        ],
        [
         "9",
         "Male",
         "63.45649398",
         "-0.7566067572402979"
        ],
        [
         "10",
         "Male",
         "71.19538228",
         "1.2547855073599141"
        ],
        [
         "11",
         "Male",
         "71.64080512",
         "1.370554080328236"
        ],
        [
         "12",
         "Male",
         "64.76632913",
         "-0.41617125972685454"
        ],
        [
         "13",
         "Male",
         "69.2830701",
         "0.7577619327525941"
        ],
        [
         "14",
         "Male",
         "69.24373223",
         "0.7475377397733721"
        ],
        [
         "15",
         "Male",
         "67.6456197",
         "0.33217689514111537"
        ],
        [
         "16",
         "Male",
         "72.41831663",
         "1.5726348671579993"
        ],
        [
         "17",
         "Male",
         "63.97432572",
         "-0.6220185947259897"
        ],
        [
         "18",
         "Male",
         "69.6400599",
         "0.8505461279012905"
        ],
        [
         "19",
         "Male",
         "67.93600485",
         "0.4076500667160021"
        ],
        [
         "20",
         "Male",
         "67.91505019",
         "0.40220380112882087"
        ],
        [
         "21",
         "Male",
         "69.43943987",
         "0.7984035512387155"
        ],
        [
         "22",
         "Male",
         "66.14913196",
         "-0.05677094176008851"
        ],
        [
         "23",
         "Male",
         "75.20597361",
         "2.2971667984343265"
        ],
        [
         "24",
         "Male",
         "67.89319634",
         "0.39652382964742194"
        ],
        [
         "25",
         "Male",
         "68.1440328",
         "0.46171801462147105"
        ],
        [
         "26",
         "Male",
         "69.08963143",
         "0.707485842773034"
        ],
        [
         "27",
         "Male",
         "72.80084352",
         "1.6720563341337618"
        ],
        [
         "28",
         "Male",
         "67.42124228",
         "0.27385960337468107"
        ],
        [
         "29",
         "Male",
         "68.49641536",
         "0.5533047552343326"
        ],
        [
         "30",
         "Male",
         "68.61811055",
         "0.5849342030718272"
        ],
        [
         "31",
         "Male",
         "74.03380762",
         "1.9925124974912"
        ],
        [
         "32",
         "Male",
         "71.52821604",
         "1.3412913754264946"
        ],
        [
         "33",
         "Male",
         "69.1801611",
         "0.7310151496832821"
        ],
        [
         "34",
         "Male",
         "69.57720237",
         "0.8342090075407498"
        ],
        [
         "35",
         "Male",
         "70.40092889",
         "1.0483014050849897"
        ],
        [
         "36",
         "Male",
         "69.07617117",
         "0.703987425197539"
        ],
        [
         "37",
         "Male",
         "67.19352328",
         "0.2146738111333703"
        ],
        [
         "38",
         "Male",
         "65.80731565",
         "-0.14561143863716386"
        ],
        [
         "39",
         "Male",
         "64.30418789",
         "-0.5362850640944361"
        ],
        [
         "40",
         "Male",
         "67.97433623",
         "0.4176126657657204"
        ],
        [
         "41",
         "Male",
         "72.18942596",
         "1.5131445495270828"
        ],
        [
         "42",
         "Male",
         "65.27034552",
         "-0.28517380521162"
        ],
        [
         "43",
         "Male",
         "66.09017738",
         "-0.07209365757894391"
        ],
        [
         "44",
         "Male",
         "67.51032152",
         "0.29701193318314634"
        ],
        [
         "45",
         "Male",
         "70.10478626",
         "0.9713318233945066"
        ],
        [
         "46",
         "Male",
         "68.25183644",
         "0.4897369495364182"
        ],
        [
         "47",
         "Male",
         "72.17270912",
         "1.5087997235829531"
        ],
        [
         "48",
         "Male",
         "69.17985762",
         "0.730936273066797"
        ],
        [
         "49",
         "Male",
         "72.87036015",
         "1.6901242020784464"
        ]
       ],
       "shape": {
        "columns": 3,
        "rows": 10000
       }
      },
      "text/html": [
       "<div>\n",
       "<style scoped>\n",
       "    .dataframe tbody tr th:only-of-type {\n",
       "        vertical-align: middle;\n",
       "    }\n",
       "\n",
       "    .dataframe tbody tr th {\n",
       "        vertical-align: top;\n",
       "    }\n",
       "\n",
       "    .dataframe thead th {\n",
       "        text-align: right;\n",
       "    }\n",
       "</style>\n",
       "<table border=\"1\" class=\"dataframe\">\n",
       "  <thead>\n",
       "    <tr style=\"text-align: right;\">\n",
       "      <th></th>\n",
       "      <th>gender</th>\n",
       "      <th>height</th>\n",
       "      <th>zscore</th>\n",
       "    </tr>\n",
       "  </thead>\n",
       "  <tbody>\n",
       "    <tr>\n",
       "      <th>0</th>\n",
       "      <td>Male</td>\n",
       "      <td>73.847017</td>\n",
       "      <td>1.943964</td>\n",
       "    </tr>\n",
       "    <tr>\n",
       "      <th>1</th>\n",
       "      <td>Male</td>\n",
       "      <td>68.781904</td>\n",
       "      <td>0.627505</td>\n",
       "    </tr>\n",
       "    <tr>\n",
       "      <th>2</th>\n",
       "      <td>Male</td>\n",
       "      <td>74.110105</td>\n",
       "      <td>2.012343</td>\n",
       "    </tr>\n",
       "    <tr>\n",
       "      <th>3</th>\n",
       "      <td>Male</td>\n",
       "      <td>71.730978</td>\n",
       "      <td>1.393991</td>\n",
       "    </tr>\n",
       "    <tr>\n",
       "      <th>4</th>\n",
       "      <td>Male</td>\n",
       "      <td>69.881796</td>\n",
       "      <td>0.913375</td>\n",
       "    </tr>\n",
       "    <tr>\n",
       "      <th>...</th>\n",
       "      <td>...</td>\n",
       "      <td>...</td>\n",
       "      <td>...</td>\n",
       "    </tr>\n",
       "    <tr>\n",
       "      <th>9995</th>\n",
       "      <td>Female</td>\n",
       "      <td>66.172652</td>\n",
       "      <td>-0.050658</td>\n",
       "    </tr>\n",
       "    <tr>\n",
       "      <th>9996</th>\n",
       "      <td>Female</td>\n",
       "      <td>67.067155</td>\n",
       "      <td>0.181830</td>\n",
       "    </tr>\n",
       "    <tr>\n",
       "      <th>9997</th>\n",
       "      <td>Female</td>\n",
       "      <td>63.867992</td>\n",
       "      <td>-0.649655</td>\n",
       "    </tr>\n",
       "    <tr>\n",
       "      <th>9998</th>\n",
       "      <td>Female</td>\n",
       "      <td>69.034243</td>\n",
       "      <td>0.693090</td>\n",
       "    </tr>\n",
       "    <tr>\n",
       "      <th>9999</th>\n",
       "      <td>Female</td>\n",
       "      <td>61.944246</td>\n",
       "      <td>-1.149651</td>\n",
       "    </tr>\n",
       "  </tbody>\n",
       "</table>\n",
       "<p>10000 rows × 3 columns</p>\n",
       "</div>"
      ],
      "text/plain": [
       "      gender     height    zscore\n",
       "0       Male  73.847017  1.943964\n",
       "1       Male  68.781904  0.627505\n",
       "2       Male  74.110105  2.012343\n",
       "3       Male  71.730978  1.393991\n",
       "4       Male  69.881796  0.913375\n",
       "...      ...        ...       ...\n",
       "9995  Female  66.172652 -0.050658\n",
       "9996  Female  67.067155  0.181830\n",
       "9997  Female  63.867992 -0.649655\n",
       "9998  Female  69.034243  0.693090\n",
       "9999  Female  61.944246 -1.149651\n",
       "\n",
       "[10000 rows x 3 columns]"
      ]
     },
     "execution_count": 14,
     "metadata": {},
     "output_type": "execute_result"
    }
   ],
   "source": [
    "df['zscore'] = ( df.height - df.height.mean() ) / df.height.std()\n",
    "df"
   ]
  },
  {
   "cell_type": "markdown",
   "metadata": {},
   "source": [
    "Above for first record with height 73.84, z score is 1.94. This means 73.84 is 1.94 standard deviation away from mean"
   ]
  },
  {
   "cell_type": "code",
   "execution_count": 16,
   "metadata": {},
   "outputs": [
    {
     "data": {
      "text/plain": [
       "np.float64(66.367559754866)"
      ]
     },
     "execution_count": 16,
     "metadata": {},
     "output_type": "execute_result"
    }
   ],
   "source": [
    "df.height.mean()"
   ]
  },
  {
   "cell_type": "code",
   "execution_count": 17,
   "metadata": {},
   "outputs": [
    {
     "data": {
      "text/plain": [
       "1.9453124999999998"
      ]
     },
     "execution_count": 17,
     "metadata": {},
     "output_type": "execute_result"
    }
   ],
   "source": [
    "(73.84-66.37)/3.84"
   ]
  },
  {
   "cell_type": "markdown",
   "metadata": {},
   "source": [
    "**Get data points that has z score higher than 3 or lower than -3. Another way of saying same thing is get data points that are more than 3 standard deviation away**"
   ]
  },
  {
   "cell_type": "code",
   "execution_count": 18,
   "metadata": {
    "scrolled": true
   },
   "outputs": [
    {
     "data": {
      "application/vnd.microsoft.datawrangler.viewer.v0+json": {
       "columns": [
        {
         "name": "index",
         "rawType": "int64",
         "type": "integer"
        },
        {
         "name": "gender",
         "rawType": "object",
         "type": "string"
        },
        {
         "name": "height",
         "rawType": "float64",
         "type": "float"
        },
        {
         "name": "zscore",
         "rawType": "float64",
         "type": "float"
        }
       ],
       "conversionMethod": "pd.DataFrame",
       "ref": "90b7c66b-f286-4d11-82bd-0e05ba6c845f",
       "rows": [
        [
         "994",
         "Male",
         "78.09586747",
         "3.0482708239982625"
        ],
        [
         "1317",
         "Male",
         "78.46205292",
         "3.143445034167332"
        ],
        [
         "2014",
         "Male",
         "78.99874235",
         "3.2829344448097735"
        ],
        [
         "3285",
         "Male",
         "78.52821043",
         "3.1606398428660443"
        ],
        [
         "3757",
         "Male",
         "78.62137397",
         "3.1848537113746205"
        ]
       ],
       "shape": {
        "columns": 3,
        "rows": 5
       }
      },
      "text/html": [
       "<div>\n",
       "<style scoped>\n",
       "    .dataframe tbody tr th:only-of-type {\n",
       "        vertical-align: middle;\n",
       "    }\n",
       "\n",
       "    .dataframe tbody tr th {\n",
       "        vertical-align: top;\n",
       "    }\n",
       "\n",
       "    .dataframe thead th {\n",
       "        text-align: right;\n",
       "    }\n",
       "</style>\n",
       "<table border=\"1\" class=\"dataframe\">\n",
       "  <thead>\n",
       "    <tr style=\"text-align: right;\">\n",
       "      <th></th>\n",
       "      <th>gender</th>\n",
       "      <th>height</th>\n",
       "      <th>zscore</th>\n",
       "    </tr>\n",
       "  </thead>\n",
       "  <tbody>\n",
       "    <tr>\n",
       "      <th>994</th>\n",
       "      <td>Male</td>\n",
       "      <td>78.095867</td>\n",
       "      <td>3.048271</td>\n",
       "    </tr>\n",
       "    <tr>\n",
       "      <th>1317</th>\n",
       "      <td>Male</td>\n",
       "      <td>78.462053</td>\n",
       "      <td>3.143445</td>\n",
       "    </tr>\n",
       "    <tr>\n",
       "      <th>2014</th>\n",
       "      <td>Male</td>\n",
       "      <td>78.998742</td>\n",
       "      <td>3.282934</td>\n",
       "    </tr>\n",
       "    <tr>\n",
       "      <th>3285</th>\n",
       "      <td>Male</td>\n",
       "      <td>78.528210</td>\n",
       "      <td>3.160640</td>\n",
       "    </tr>\n",
       "    <tr>\n",
       "      <th>3757</th>\n",
       "      <td>Male</td>\n",
       "      <td>78.621374</td>\n",
       "      <td>3.184854</td>\n",
       "    </tr>\n",
       "  </tbody>\n",
       "</table>\n",
       "</div>"
      ],
      "text/plain": [
       "     gender     height    zscore\n",
       "994    Male  78.095867  3.048271\n",
       "1317   Male  78.462053  3.143445\n",
       "2014   Male  78.998742  3.282934\n",
       "3285   Male  78.528210  3.160640\n",
       "3757   Male  78.621374  3.184854"
      ]
     },
     "execution_count": 18,
     "metadata": {},
     "output_type": "execute_result"
    }
   ],
   "source": [
    "df[df['zscore']>3]"
   ]
  },
  {
   "cell_type": "code",
   "execution_count": 19,
   "metadata": {
    "scrolled": false
   },
   "outputs": [
    {
     "data": {
      "application/vnd.microsoft.datawrangler.viewer.v0+json": {
       "columns": [
        {
         "name": "index",
         "rawType": "int64",
         "type": "integer"
        },
        {
         "name": "gender",
         "rawType": "object",
         "type": "string"
        },
        {
         "name": "height",
         "rawType": "float64",
         "type": "float"
        },
        {
         "name": "zscore",
         "rawType": "float64",
         "type": "float"
        }
       ],
       "conversionMethod": "pd.DataFrame",
       "ref": "5d02c4f1-877d-4a21-b5d4-1b746aa69a13",
       "rows": [
        [
         "6624",
         "Female",
         "54.61685783",
         "-3.0540912388279673"
        ],
        [
         "9285",
         "Female",
         "54.26313333",
         "-3.146026759217837"
        ]
       ],
       "shape": {
        "columns": 3,
        "rows": 2
       }
      },
      "text/html": [
       "<div>\n",
       "<style scoped>\n",
       "    .dataframe tbody tr th:only-of-type {\n",
       "        vertical-align: middle;\n",
       "    }\n",
       "\n",
       "    .dataframe tbody tr th {\n",
       "        vertical-align: top;\n",
       "    }\n",
       "\n",
       "    .dataframe thead th {\n",
       "        text-align: right;\n",
       "    }\n",
       "</style>\n",
       "<table border=\"1\" class=\"dataframe\">\n",
       "  <thead>\n",
       "    <tr style=\"text-align: right;\">\n",
       "      <th></th>\n",
       "      <th>gender</th>\n",
       "      <th>height</th>\n",
       "      <th>zscore</th>\n",
       "    </tr>\n",
       "  </thead>\n",
       "  <tbody>\n",
       "    <tr>\n",
       "      <th>6624</th>\n",
       "      <td>Female</td>\n",
       "      <td>54.616858</td>\n",
       "      <td>-3.054091</td>\n",
       "    </tr>\n",
       "    <tr>\n",
       "      <th>9285</th>\n",
       "      <td>Female</td>\n",
       "      <td>54.263133</td>\n",
       "      <td>-3.146027</td>\n",
       "    </tr>\n",
       "  </tbody>\n",
       "</table>\n",
       "</div>"
      ],
      "text/plain": [
       "      gender     height    zscore\n",
       "6624  Female  54.616858 -3.054091\n",
       "9285  Female  54.263133 -3.146027"
      ]
     },
     "execution_count": 19,
     "metadata": {},
     "output_type": "execute_result"
    }
   ],
   "source": [
    "df[df['zscore']<-3]"
   ]
  },
  {
   "cell_type": "markdown",
   "metadata": {},
   "source": [
    "Here is the list of all outliers "
   ]
  },
  {
   "cell_type": "code",
   "execution_count": 20,
   "metadata": {},
   "outputs": [
    {
     "data": {
      "application/vnd.microsoft.datawrangler.viewer.v0+json": {
       "columns": [
        {
         "name": "index",
         "rawType": "int64",
         "type": "integer"
        },
        {
         "name": "gender",
         "rawType": "object",
         "type": "string"
        },
        {
         "name": "height",
         "rawType": "float64",
         "type": "float"
        },
        {
         "name": "zscore",
         "rawType": "float64",
         "type": "float"
        }
       ],
       "conversionMethod": "pd.DataFrame",
       "ref": "cb12e841-d0e1-48c1-9fac-51452921394f",
       "rows": [
        [
         "994",
         "Male",
         "78.09586747",
         "3.0482708239982625"
        ],
        [
         "1317",
         "Male",
         "78.46205292",
         "3.143445034167332"
        ],
        [
         "2014",
         "Male",
         "78.99874235",
         "3.2829344448097735"
        ],
        [
         "3285",
         "Male",
         "78.52821043",
         "3.1606398428660443"
        ],
        [
         "3757",
         "Male",
         "78.62137397",
         "3.1848537113746205"
        ],
        [
         "6624",
         "Female",
         "54.61685783",
         "-3.0540912388279673"
        ],
        [
         "9285",
         "Female",
         "54.26313333",
         "-3.146026759217837"
        ]
       ],
       "shape": {
        "columns": 3,
        "rows": 7
       }
      },
      "text/html": [
       "<div>\n",
       "<style scoped>\n",
       "    .dataframe tbody tr th:only-of-type {\n",
       "        vertical-align: middle;\n",
       "    }\n",
       "\n",
       "    .dataframe tbody tr th {\n",
       "        vertical-align: top;\n",
       "    }\n",
       "\n",
       "    .dataframe thead th {\n",
       "        text-align: right;\n",
       "    }\n",
       "</style>\n",
       "<table border=\"1\" class=\"dataframe\">\n",
       "  <thead>\n",
       "    <tr style=\"text-align: right;\">\n",
       "      <th></th>\n",
       "      <th>gender</th>\n",
       "      <th>height</th>\n",
       "      <th>zscore</th>\n",
       "    </tr>\n",
       "  </thead>\n",
       "  <tbody>\n",
       "    <tr>\n",
       "      <th>994</th>\n",
       "      <td>Male</td>\n",
       "      <td>78.095867</td>\n",
       "      <td>3.048271</td>\n",
       "    </tr>\n",
       "    <tr>\n",
       "      <th>1317</th>\n",
       "      <td>Male</td>\n",
       "      <td>78.462053</td>\n",
       "      <td>3.143445</td>\n",
       "    </tr>\n",
       "    <tr>\n",
       "      <th>2014</th>\n",
       "      <td>Male</td>\n",
       "      <td>78.998742</td>\n",
       "      <td>3.282934</td>\n",
       "    </tr>\n",
       "    <tr>\n",
       "      <th>3285</th>\n",
       "      <td>Male</td>\n",
       "      <td>78.528210</td>\n",
       "      <td>3.160640</td>\n",
       "    </tr>\n",
       "    <tr>\n",
       "      <th>3757</th>\n",
       "      <td>Male</td>\n",
       "      <td>78.621374</td>\n",
       "      <td>3.184854</td>\n",
       "    </tr>\n",
       "    <tr>\n",
       "      <th>6624</th>\n",
       "      <td>Female</td>\n",
       "      <td>54.616858</td>\n",
       "      <td>-3.054091</td>\n",
       "    </tr>\n",
       "    <tr>\n",
       "      <th>9285</th>\n",
       "      <td>Female</td>\n",
       "      <td>54.263133</td>\n",
       "      <td>-3.146027</td>\n",
       "    </tr>\n",
       "  </tbody>\n",
       "</table>\n",
       "</div>"
      ],
      "text/plain": [
       "      gender     height    zscore\n",
       "994     Male  78.095867  3.048271\n",
       "1317    Male  78.462053  3.143445\n",
       "2014    Male  78.998742  3.282934\n",
       "3285    Male  78.528210  3.160640\n",
       "3757    Male  78.621374  3.184854\n",
       "6624  Female  54.616858 -3.054091\n",
       "9285  Female  54.263133 -3.146027"
      ]
     },
     "execution_count": 20,
     "metadata": {},
     "output_type": "execute_result"
    }
   ],
   "source": [
    "df[(df.zscore<-3) | (df.zscore>3)]"
   ]
  },
  {
   "cell_type": "markdown",
   "metadata": {},
   "source": [
    "<h3 style='color:purple'>Remove the outliers and produce new dataframe</h3>"
   ]
  },
  {
   "cell_type": "code",
   "execution_count": 21,
   "metadata": {},
   "outputs": [
    {
     "data": {
      "text/plain": [
       "0       1.943964\n",
       "1       0.627505\n",
       "2       2.012343\n",
       "3       1.393991\n",
       "4       0.913375\n",
       "          ...   \n",
       "9995   -0.050658\n",
       "9996    0.181830\n",
       "9997   -0.649655\n",
       "9998    0.693090\n",
       "9999   -1.149651\n",
       "Name: zscore, Length: 10000, dtype: float64"
      ]
     },
     "execution_count": 21,
     "metadata": {},
     "output_type": "execute_result"
    }
   ],
   "source": [
    "df.zscore"
   ]
  },
  {
   "cell_type": "code",
   "execution_count": 22,
   "metadata": {
    "scrolled": false
   },
   "outputs": [
    {
     "data": {
      "application/vnd.microsoft.datawrangler.viewer.v0+json": {
       "columns": [
        {
         "name": "index",
         "rawType": "int64",
         "type": "integer"
        },
        {
         "name": "gender",
         "rawType": "object",
         "type": "string"
        },
        {
         "name": "height",
         "rawType": "float64",
         "type": "float"
        },
        {
         "name": "zscore",
         "rawType": "float64",
         "type": "float"
        }
       ],
       "conversionMethod": "pd.DataFrame",
       "ref": "2bdd37a4-b40c-48cf-9c2b-6c8c3dcadf43",
       "rows": [
        [
         "0",
         "Male",
         "73.84701702",
         "1.9439642883201165"
        ],
        [
         "1",
         "Male",
         "68.78190405",
         "0.6275053019326015"
        ],
        [
         "2",
         "Male",
         "74.11010539",
         "2.0123428320864467"
        ],
        [
         "3",
         "Male",
         "71.7309784",
         "1.3939907589356313"
        ],
        [
         "4",
         "Male",
         "69.88179586",
         "0.9133750280185987"
        ],
        [
         "5",
         "Male",
         "67.25301569",
         "0.23013631280514568"
        ],
        [
         "6",
         "Male",
         "68.78508125",
         "0.6283310788730837"
        ],
        [
         "7",
         "Male",
         "68.34851551",
         "0.5148645293655171"
        ],
        [
         "8",
         "Male",
         "67.01894966",
         "0.1693008821984436"
        ],
        [
         "9",
         "Male",
         "63.45649398",
         "-0.7566067572402979"
        ],
        [
         "10",
         "Male",
         "71.19538228",
         "1.2547855073599141"
        ],
        [
         "11",
         "Male",
         "71.64080512",
         "1.370554080328236"
        ],
        [
         "12",
         "Male",
         "64.76632913",
         "-0.41617125972685454"
        ],
        [
         "13",
         "Male",
         "69.2830701",
         "0.7577619327525941"
        ],
        [
         "14",
         "Male",
         "69.24373223",
         "0.7475377397733721"
        ],
        [
         "15",
         "Male",
         "67.6456197",
         "0.33217689514111537"
        ],
        [
         "16",
         "Male",
         "72.41831663",
         "1.5726348671579993"
        ],
        [
         "17",
         "Male",
         "63.97432572",
         "-0.6220185947259897"
        ],
        [
         "18",
         "Male",
         "69.6400599",
         "0.8505461279012905"
        ],
        [
         "19",
         "Male",
         "67.93600485",
         "0.4076500667160021"
        ],
        [
         "20",
         "Male",
         "67.91505019",
         "0.40220380112882087"
        ],
        [
         "21",
         "Male",
         "69.43943987",
         "0.7984035512387155"
        ],
        [
         "22",
         "Male",
         "66.14913196",
         "-0.05677094176008851"
        ],
        [
         "23",
         "Male",
         "75.20597361",
         "2.2971667984343265"
        ],
        [
         "24",
         "Male",
         "67.89319634",
         "0.39652382964742194"
        ],
        [
         "25",
         "Male",
         "68.1440328",
         "0.46171801462147105"
        ],
        [
         "26",
         "Male",
         "69.08963143",
         "0.707485842773034"
        ],
        [
         "27",
         "Male",
         "72.80084352",
         "1.6720563341337618"
        ],
        [
         "28",
         "Male",
         "67.42124228",
         "0.27385960337468107"
        ],
        [
         "29",
         "Male",
         "68.49641536",
         "0.5533047552343326"
        ],
        [
         "30",
         "Male",
         "68.61811055",
         "0.5849342030718272"
        ],
        [
         "31",
         "Male",
         "74.03380762",
         "1.9925124974912"
        ],
        [
         "32",
         "Male",
         "71.52821604",
         "1.3412913754264946"
        ],
        [
         "33",
         "Male",
         "69.1801611",
         "0.7310151496832821"
        ],
        [
         "34",
         "Male",
         "69.57720237",
         "0.8342090075407498"
        ],
        [
         "35",
         "Male",
         "70.40092889",
         "1.0483014050849897"
        ],
        [
         "36",
         "Male",
         "69.07617117",
         "0.703987425197539"
        ],
        [
         "37",
         "Male",
         "67.19352328",
         "0.2146738111333703"
        ],
        [
         "38",
         "Male",
         "65.80731565",
         "-0.14561143863716386"
        ],
        [
         "39",
         "Male",
         "64.30418789",
         "-0.5362850640944361"
        ],
        [
         "40",
         "Male",
         "67.97433623",
         "0.4176126657657204"
        ],
        [
         "41",
         "Male",
         "72.18942596",
         "1.5131445495270828"
        ],
        [
         "42",
         "Male",
         "65.27034552",
         "-0.28517380521162"
        ],
        [
         "43",
         "Male",
         "66.09017738",
         "-0.07209365757894391"
        ],
        [
         "44",
         "Male",
         "67.51032152",
         "0.29701193318314634"
        ],
        [
         "45",
         "Male",
         "70.10478626",
         "0.9713318233945066"
        ],
        [
         "46",
         "Male",
         "68.25183644",
         "0.4897369495364182"
        ],
        [
         "47",
         "Male",
         "72.17270912",
         "1.5087997235829531"
        ],
        [
         "48",
         "Male",
         "69.17985762",
         "0.730936273066797"
        ],
        [
         "49",
         "Male",
         "72.87036015",
         "1.6901242020784464"
        ]
       ],
       "shape": {
        "columns": 3,
        "rows": 9993
       }
      },
      "text/html": [
       "<div>\n",
       "<style scoped>\n",
       "    .dataframe tbody tr th:only-of-type {\n",
       "        vertical-align: middle;\n",
       "    }\n",
       "\n",
       "    .dataframe tbody tr th {\n",
       "        vertical-align: top;\n",
       "    }\n",
       "\n",
       "    .dataframe thead th {\n",
       "        text-align: right;\n",
       "    }\n",
       "</style>\n",
       "<table border=\"1\" class=\"dataframe\">\n",
       "  <thead>\n",
       "    <tr style=\"text-align: right;\">\n",
       "      <th></th>\n",
       "      <th>gender</th>\n",
       "      <th>height</th>\n",
       "      <th>zscore</th>\n",
       "    </tr>\n",
       "  </thead>\n",
       "  <tbody>\n",
       "    <tr>\n",
       "      <th>0</th>\n",
       "      <td>Male</td>\n",
       "      <td>73.847017</td>\n",
       "      <td>1.943964</td>\n",
       "    </tr>\n",
       "    <tr>\n",
       "      <th>1</th>\n",
       "      <td>Male</td>\n",
       "      <td>68.781904</td>\n",
       "      <td>0.627505</td>\n",
       "    </tr>\n",
       "    <tr>\n",
       "      <th>2</th>\n",
       "      <td>Male</td>\n",
       "      <td>74.110105</td>\n",
       "      <td>2.012343</td>\n",
       "    </tr>\n",
       "    <tr>\n",
       "      <th>3</th>\n",
       "      <td>Male</td>\n",
       "      <td>71.730978</td>\n",
       "      <td>1.393991</td>\n",
       "    </tr>\n",
       "    <tr>\n",
       "      <th>4</th>\n",
       "      <td>Male</td>\n",
       "      <td>69.881796</td>\n",
       "      <td>0.913375</td>\n",
       "    </tr>\n",
       "    <tr>\n",
       "      <th>...</th>\n",
       "      <td>...</td>\n",
       "      <td>...</td>\n",
       "      <td>...</td>\n",
       "    </tr>\n",
       "    <tr>\n",
       "      <th>9995</th>\n",
       "      <td>Female</td>\n",
       "      <td>66.172652</td>\n",
       "      <td>-0.050658</td>\n",
       "    </tr>\n",
       "    <tr>\n",
       "      <th>9996</th>\n",
       "      <td>Female</td>\n",
       "      <td>67.067155</td>\n",
       "      <td>0.181830</td>\n",
       "    </tr>\n",
       "    <tr>\n",
       "      <th>9997</th>\n",
       "      <td>Female</td>\n",
       "      <td>63.867992</td>\n",
       "      <td>-0.649655</td>\n",
       "    </tr>\n",
       "    <tr>\n",
       "      <th>9998</th>\n",
       "      <td>Female</td>\n",
       "      <td>69.034243</td>\n",
       "      <td>0.693090</td>\n",
       "    </tr>\n",
       "    <tr>\n",
       "      <th>9999</th>\n",
       "      <td>Female</td>\n",
       "      <td>61.944246</td>\n",
       "      <td>-1.149651</td>\n",
       "    </tr>\n",
       "  </tbody>\n",
       "</table>\n",
       "<p>9993 rows × 3 columns</p>\n",
       "</div>"
      ],
      "text/plain": [
       "      gender     height    zscore\n",
       "0       Male  73.847017  1.943964\n",
       "1       Male  68.781904  0.627505\n",
       "2       Male  74.110105  2.012343\n",
       "3       Male  71.730978  1.393991\n",
       "4       Male  69.881796  0.913375\n",
       "...      ...        ...       ...\n",
       "9995  Female  66.172652 -0.050658\n",
       "9996  Female  67.067155  0.181830\n",
       "9997  Female  63.867992 -0.649655\n",
       "9998  Female  69.034243  0.693090\n",
       "9999  Female  61.944246 -1.149651\n",
       "\n",
       "[9993 rows x 3 columns]"
      ]
     },
     "execution_count": 22,
     "metadata": {},
     "output_type": "execute_result"
    }
   ],
   "source": [
    "df_no_outliers = df[(df.zscore>=-3) & (df.zscore<=3)]\n",
    "df_no_outliers"
   ]
  },
  {
   "cell_type": "code",
   "execution_count": 23,
   "metadata": {},
   "outputs": [
    {
     "data": {
      "text/plain": [
       "(9993, 3)"
      ]
     },
     "execution_count": 23,
     "metadata": {},
     "output_type": "execute_result"
    }
   ],
   "source": [
    "df_no_outliers.shape"
   ]
  },
  {
   "cell_type": "code",
   "execution_count": 24,
   "metadata": {},
   "outputs": [
    {
     "data": {
      "text/plain": [
       "(10000, 3)"
      ]
     },
     "execution_count": 24,
     "metadata": {},
     "output_type": "execute_result"
    }
   ],
   "source": [
    "df.shape"
   ]
  },
  {
   "cell_type": "markdown",
   "metadata": {},
   "source": [
    "### IQR Method"
   ]
  },
  {
   "cell_type": "code",
   "execution_count": 25,
   "metadata": {},
   "outputs": [
    {
     "data": {
      "text/plain": [
       "(np.float64(63.505620480000005), np.float64(69.17426172750001))"
      ]
     },
     "execution_count": 25,
     "metadata": {},
     "output_type": "execute_result"
    }
   ],
   "source": [
    "Q1 = df.height.quantile(0.25)\n",
    "Q3 = df.height.quantile(0.75)\n",
    "Q1, Q3"
   ]
  },
  {
   "cell_type": "code",
   "execution_count": 26,
   "metadata": {},
   "outputs": [
    {
     "data": {
      "text/plain": [
       "np.float64(5.668641247500005)"
      ]
     },
     "execution_count": 26,
     "metadata": {},
     "output_type": "execute_result"
    }
   ],
   "source": [
    "IQR = Q3-Q1\n",
    "IQR"
   ]
  },
  {
   "cell_type": "code",
   "execution_count": 27,
   "metadata": {},
   "outputs": [
    {
     "data": {
      "text/plain": [
       "(np.float64(55.00265860875), np.float64(77.67722359875002))"
      ]
     },
     "execution_count": 27,
     "metadata": {},
     "output_type": "execute_result"
    }
   ],
   "source": [
    "lower_limit = Q1 - 1.5*IQR\n",
    "upper_limit = Q3 + 1.5*IQR\n",
    "lower_limit, upper_limit"
   ]
  },
  {
   "cell_type": "code",
   "execution_count": 32,
   "metadata": {},
   "outputs": [
    {
     "data": {
      "application/vnd.microsoft.datawrangler.viewer.v0+json": {
       "columns": [
        {
         "name": "index",
         "rawType": "int64",
         "type": "integer"
        },
        {
         "name": "gender",
         "rawType": "object",
         "type": "string"
        },
        {
         "name": "height",
         "rawType": "float64",
         "type": "float"
        },
        {
         "name": "zscore",
         "rawType": "float64",
         "type": "float"
        }
       ],
       "conversionMethod": "pd.DataFrame",
       "ref": "85bded65-40f9-454c-b7fc-f5e2a6d69e36",
       "rows": [
        [
         "994",
         "Male",
         "78.09586747",
         "3.0482708239982625"
        ],
        [
         "1317",
         "Male",
         "78.46205292",
         "3.143445034167332"
        ],
        [
         "2014",
         "Male",
         "78.99874235",
         "3.2829344448097735"
        ],
        [
         "3285",
         "Male",
         "78.52821043",
         "3.1606398428660443"
        ],
        [
         "3757",
         "Male",
         "78.62137397",
         "3.1848537113746205"
        ],
        [
         "6624",
         "Female",
         "54.61685783",
         "-3.0540912388279673"
        ],
        [
         "7294",
         "Female",
         "54.87372753",
         "-2.9873289717475435"
        ],
        [
         "9285",
         "Female",
         "54.26313333",
         "-3.146026759217837"
        ]
       ],
       "shape": {
        "columns": 3,
        "rows": 8
       }
      },
      "text/html": [
       "<div>\n",
       "<style scoped>\n",
       "    .dataframe tbody tr th:only-of-type {\n",
       "        vertical-align: middle;\n",
       "    }\n",
       "\n",
       "    .dataframe tbody tr th {\n",
       "        vertical-align: top;\n",
       "    }\n",
       "\n",
       "    .dataframe thead th {\n",
       "        text-align: right;\n",
       "    }\n",
       "</style>\n",
       "<table border=\"1\" class=\"dataframe\">\n",
       "  <thead>\n",
       "    <tr style=\"text-align: right;\">\n",
       "      <th></th>\n",
       "      <th>gender</th>\n",
       "      <th>height</th>\n",
       "      <th>zscore</th>\n",
       "    </tr>\n",
       "  </thead>\n",
       "  <tbody>\n",
       "    <tr>\n",
       "      <th>994</th>\n",
       "      <td>Male</td>\n",
       "      <td>78.095867</td>\n",
       "      <td>3.048271</td>\n",
       "    </tr>\n",
       "    <tr>\n",
       "      <th>1317</th>\n",
       "      <td>Male</td>\n",
       "      <td>78.462053</td>\n",
       "      <td>3.143445</td>\n",
       "    </tr>\n",
       "    <tr>\n",
       "      <th>2014</th>\n",
       "      <td>Male</td>\n",
       "      <td>78.998742</td>\n",
       "      <td>3.282934</td>\n",
       "    </tr>\n",
       "    <tr>\n",
       "      <th>3285</th>\n",
       "      <td>Male</td>\n",
       "      <td>78.528210</td>\n",
       "      <td>3.160640</td>\n",
       "    </tr>\n",
       "    <tr>\n",
       "      <th>3757</th>\n",
       "      <td>Male</td>\n",
       "      <td>78.621374</td>\n",
       "      <td>3.184854</td>\n",
       "    </tr>\n",
       "    <tr>\n",
       "      <th>6624</th>\n",
       "      <td>Female</td>\n",
       "      <td>54.616858</td>\n",
       "      <td>-3.054091</td>\n",
       "    </tr>\n",
       "    <tr>\n",
       "      <th>7294</th>\n",
       "      <td>Female</td>\n",
       "      <td>54.873728</td>\n",
       "      <td>-2.987329</td>\n",
       "    </tr>\n",
       "    <tr>\n",
       "      <th>9285</th>\n",
       "      <td>Female</td>\n",
       "      <td>54.263133</td>\n",
       "      <td>-3.146027</td>\n",
       "    </tr>\n",
       "  </tbody>\n",
       "</table>\n",
       "</div>"
      ],
      "text/plain": [
       "      gender     height    zscore\n",
       "994     Male  78.095867  3.048271\n",
       "1317    Male  78.462053  3.143445\n",
       "2014    Male  78.998742  3.282934\n",
       "3285    Male  78.528210  3.160640\n",
       "3757    Male  78.621374  3.184854\n",
       "6624  Female  54.616858 -3.054091\n",
       "7294  Female  54.873728 -2.987329\n",
       "9285  Female  54.263133 -3.146027"
      ]
     },
     "execution_count": 32,
     "metadata": {},
     "output_type": "execute_result"
    }
   ],
   "source": [
    "df[(df.height<lower_limit)|(df.height>upper_limit)]"
   ]
  }
 ],
 "metadata": {
  "kernelspec": {
   "display_name": "Python 3",
   "language": "python",
   "name": "python3"
  },
  "language_info": {
   "codemirror_mode": {
    "name": "ipython",
    "version": 3
   },
   "file_extension": ".py",
   "mimetype": "text/x-python",
   "name": "python",
   "nbconvert_exporter": "python",
   "pygments_lexer": "ipython3",
   "version": "3.12.3"
  }
 },
 "nbformat": 4,
 "nbformat_minor": 2
}

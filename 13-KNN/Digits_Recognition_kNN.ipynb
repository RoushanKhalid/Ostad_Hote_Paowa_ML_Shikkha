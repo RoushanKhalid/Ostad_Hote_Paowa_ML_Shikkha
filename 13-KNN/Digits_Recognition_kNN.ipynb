{
 "cells": [
  {
   "cell_type": "markdown",
   "metadata": {},
   "source": [
    "<h2 style=\"color:blue\" align=\"center\">Handwritten digits classification using KNN</h2>"
   ]
  },
  {
   "cell_type": "code",
   "execution_count": 1,
   "metadata": {},
   "outputs": [],
   "source": [
    "#pip install tensorflow"
   ]
  },
  {
   "cell_type": "code",
   "execution_count": 2,
   "metadata": {},
   "outputs": [],
   "source": [
    "from tensorflow import keras\n",
    "from tensorflow.keras import datasets\n",
    "import matplotlib.pyplot as plt\n",
    "%matplotlib inline\n",
    "import numpy as np"
   ]
  },
  {
   "cell_type": "code",
   "execution_count": 3,
   "metadata": {},
   "outputs": [],
   "source": [
    "(X_train, y_train) , (X_test, y_test) = datasets.mnist.load_data()"
   ]
  },
  {
   "cell_type": "code",
   "execution_count": 4,
   "metadata": {},
   "outputs": [
    {
     "data": {
      "text/plain": [
       "60000"
      ]
     },
     "execution_count": 4,
     "metadata": {},
     "output_type": "execute_result"
    }
   ],
   "source": [
    "len(X_train)"
   ]
  },
  {
   "cell_type": "code",
   "execution_count": 5,
   "metadata": {},
   "outputs": [
    {
     "data": {
      "text/plain": [
       "(60000, 28, 28)"
      ]
     },
     "execution_count": 5,
     "metadata": {},
     "output_type": "execute_result"
    }
   ],
   "source": [
    "X_train.shape"
   ]
  },
  {
   "cell_type": "code",
   "execution_count": 6,
   "metadata": {},
   "outputs": [
    {
     "data": {
      "text/plain": [
       "10000"
      ]
     },
     "execution_count": 6,
     "metadata": {},
     "output_type": "execute_result"
    }
   ],
   "source": [
    "len(X_test)"
   ]
  },
  {
   "cell_type": "code",
   "execution_count": 7,
   "metadata": {},
   "outputs": [
    {
     "data": {
      "text/plain": [
       "numpy.ndarray"
      ]
     },
     "execution_count": 7,
     "metadata": {},
     "output_type": "execute_result"
    }
   ],
   "source": [
    "type(X_train)"
   ]
  },
  {
   "cell_type": "code",
   "execution_count": 8,
   "metadata": {},
   "outputs": [
    {
     "data": {
      "text/plain": [
       "(28, 28)"
      ]
     },
     "execution_count": 8,
     "metadata": {},
     "output_type": "execute_result"
    }
   ],
   "source": [
    "X_train[0].shape"
   ]
  },
  {
   "cell_type": "code",
   "execution_count": 9,
   "metadata": {},
   "outputs": [
    {
     "data": {
      "text/plain": [
       "array([[  0,   0,   0,   0,   0,   0,   0,   0,   0,   0,   0,   0,   0,\n",
       "          0,   0,   0,   0,   0,   0,   0,   0,   0,   0,   0,   0,   0,\n",
       "          0,   0],\n",
       "       [  0,   0,   0,   0,   0,   0,   0,   0,   0,   0,   0,   0,   0,\n",
       "          0,   0,   0,   0,   0,   0,   0,   0,   0,   0,   0,   0,   0,\n",
       "          0,   0],\n",
       "       [  0,   0,   0,   0,   0,   0,   0,   0,   0,   0,   0,   0,   0,\n",
       "          0,   0,   0,   0,   0,   0,   0,   0,   0,   0,   0,   0,   0,\n",
       "          0,   0],\n",
       "       [  0,   0,   0,   0,   0,   0,   0,   0,   0,   0,   0,   0,   0,\n",
       "          0,   0,   0,   0,   0,   0,   0,   0,   0,   0,   0,   0,   0,\n",
       "          0,   0],\n",
       "       [  0,   0,   0,   0,   0,   0,   0,   0,   0,   0,   0,   0,   0,\n",
       "          0,   0,   0,   0,   0,   0,   0,   0,   0,   0,   0,   0,   0,\n",
       "          0,   0],\n",
       "       [  0,   0,   0,   0,   0,   0,   0,   0,   0,   0,   0,   0,   3,\n",
       "         18,  18,  18, 126, 136, 175,  26, 166, 255, 247, 127,   0,   0,\n",
       "          0,   0],\n",
       "       [  0,   0,   0,   0,   0,   0,   0,   0,  30,  36,  94, 154, 170,\n",
       "        253, 253, 253, 253, 253, 225, 172, 253, 242, 195,  64,   0,   0,\n",
       "          0,   0],\n",
       "       [  0,   0,   0,   0,   0,   0,   0,  49, 238, 253, 253, 253, 253,\n",
       "        253, 253, 253, 253, 251,  93,  82,  82,  56,  39,   0,   0,   0,\n",
       "          0,   0],\n",
       "       [  0,   0,   0,   0,   0,   0,   0,  18, 219, 253, 253, 253, 253,\n",
       "        253, 198, 182, 247, 241,   0,   0,   0,   0,   0,   0,   0,   0,\n",
       "          0,   0],\n",
       "       [  0,   0,   0,   0,   0,   0,   0,   0,  80, 156, 107, 253, 253,\n",
       "        205,  11,   0,  43, 154,   0,   0,   0,   0,   0,   0,   0,   0,\n",
       "          0,   0],\n",
       "       [  0,   0,   0,   0,   0,   0,   0,   0,   0,  14,   1, 154, 253,\n",
       "         90,   0,   0,   0,   0,   0,   0,   0,   0,   0,   0,   0,   0,\n",
       "          0,   0],\n",
       "       [  0,   0,   0,   0,   0,   0,   0,   0,   0,   0,   0, 139, 253,\n",
       "        190,   2,   0,   0,   0,   0,   0,   0,   0,   0,   0,   0,   0,\n",
       "          0,   0],\n",
       "       [  0,   0,   0,   0,   0,   0,   0,   0,   0,   0,   0,  11, 190,\n",
       "        253,  70,   0,   0,   0,   0,   0,   0,   0,   0,   0,   0,   0,\n",
       "          0,   0],\n",
       "       [  0,   0,   0,   0,   0,   0,   0,   0,   0,   0,   0,   0,  35,\n",
       "        241, 225, 160, 108,   1,   0,   0,   0,   0,   0,   0,   0,   0,\n",
       "          0,   0],\n",
       "       [  0,   0,   0,   0,   0,   0,   0,   0,   0,   0,   0,   0,   0,\n",
       "         81, 240, 253, 253, 119,  25,   0,   0,   0,   0,   0,   0,   0,\n",
       "          0,   0],\n",
       "       [  0,   0,   0,   0,   0,   0,   0,   0,   0,   0,   0,   0,   0,\n",
       "          0,  45, 186, 253, 253, 150,  27,   0,   0,   0,   0,   0,   0,\n",
       "          0,   0],\n",
       "       [  0,   0,   0,   0,   0,   0,   0,   0,   0,   0,   0,   0,   0,\n",
       "          0,   0,  16,  93, 252, 253, 187,   0,   0,   0,   0,   0,   0,\n",
       "          0,   0],\n",
       "       [  0,   0,   0,   0,   0,   0,   0,   0,   0,   0,   0,   0,   0,\n",
       "          0,   0,   0,   0, 249, 253, 249,  64,   0,   0,   0,   0,   0,\n",
       "          0,   0],\n",
       "       [  0,   0,   0,   0,   0,   0,   0,   0,   0,   0,   0,   0,   0,\n",
       "          0,  46, 130, 183, 253, 253, 207,   2,   0,   0,   0,   0,   0,\n",
       "          0,   0],\n",
       "       [  0,   0,   0,   0,   0,   0,   0,   0,   0,   0,   0,   0,  39,\n",
       "        148, 229, 253, 253, 253, 250, 182,   0,   0,   0,   0,   0,   0,\n",
       "          0,   0],\n",
       "       [  0,   0,   0,   0,   0,   0,   0,   0,   0,   0,  24, 114, 221,\n",
       "        253, 253, 253, 253, 201,  78,   0,   0,   0,   0,   0,   0,   0,\n",
       "          0,   0],\n",
       "       [  0,   0,   0,   0,   0,   0,   0,   0,  23,  66, 213, 253, 253,\n",
       "        253, 253, 198,  81,   2,   0,   0,   0,   0,   0,   0,   0,   0,\n",
       "          0,   0],\n",
       "       [  0,   0,   0,   0,   0,   0,  18, 171, 219, 253, 253, 253, 253,\n",
       "        195,  80,   9,   0,   0,   0,   0,   0,   0,   0,   0,   0,   0,\n",
       "          0,   0],\n",
       "       [  0,   0,   0,   0,  55, 172, 226, 253, 253, 253, 253, 244, 133,\n",
       "         11,   0,   0,   0,   0,   0,   0,   0,   0,   0,   0,   0,   0,\n",
       "          0,   0],\n",
       "       [  0,   0,   0,   0, 136, 253, 253, 253, 212, 135, 132,  16,   0,\n",
       "          0,   0,   0,   0,   0,   0,   0,   0,   0,   0,   0,   0,   0,\n",
       "          0,   0],\n",
       "       [  0,   0,   0,   0,   0,   0,   0,   0,   0,   0,   0,   0,   0,\n",
       "          0,   0,   0,   0,   0,   0,   0,   0,   0,   0,   0,   0,   0,\n",
       "          0,   0],\n",
       "       [  0,   0,   0,   0,   0,   0,   0,   0,   0,   0,   0,   0,   0,\n",
       "          0,   0,   0,   0,   0,   0,   0,   0,   0,   0,   0,   0,   0,\n",
       "          0,   0],\n",
       "       [  0,   0,   0,   0,   0,   0,   0,   0,   0,   0,   0,   0,   0,\n",
       "          0,   0,   0,   0,   0,   0,   0,   0,   0,   0,   0,   0,   0,\n",
       "          0,   0]], dtype=uint8)"
      ]
     },
     "execution_count": 9,
     "metadata": {},
     "output_type": "execute_result"
    }
   ],
   "source": [
    "X_train[0]"
   ]
  },
  {
   "cell_type": "code",
   "execution_count": 10,
   "metadata": {},
   "outputs": [
    {
     "data": {
      "text/plain": [
       "<matplotlib.image.AxesImage at 0x1876802f050>"
      ]
     },
     "execution_count": 10,
     "metadata": {},
     "output_type": "execute_result"
    },
    {
     "data": {
      "image/png": "[encoded data removed]",
      "text/plain": [
       "<Figure size 480x480 with 1 Axes>"
      ]
     },
     "metadata": {},
     "output_type": "display_data"
    }
   ],
   "source": [
    "plt.matshow(X_train[0])"
   ]
  },
  {
   "cell_type": "code",
   "execution_count": 11,
   "metadata": {},
   "outputs": [
    {
     "data": {
      "text/plain": [
       "np.uint8(5)"
      ]
     },
     "execution_count": 11,
     "metadata": {},
     "output_type": "execute_result"
    }
   ],
   "source": [
    "y_train[0]"
   ]
  },
  {
   "cell_type": "code",
   "execution_count": 12,
   "metadata": {},
   "outputs": [],
   "source": [
    "X_train = X_train / 255\n",
    "X_test = X_test / 255"
   ]
  },
  {
   "cell_type": "code",
   "execution_count": 13,
   "metadata": {},
   "outputs": [
    {
     "data": {
      "text/plain": [
       "array([[0.        , 0.        , 0.        , 0.        , 0.        ,\n",
       "        0.        , 0.        , 0.        , 0.        , 0.        ,\n",
       "        0.        , 0.        , 0.        , 0.        , 0.        ,\n",
       "        0.        , 0.        , 0.        , 0.        , 0.        ,\n",
       "        0.        , 0.        , 0.        , 0.        , 0.        ,\n",
       "        0.        , 0.        , 0.        ],\n",
       "       [0.        , 0.        , 0.        , 0.        , 0.        ,\n",
       "        0.        , 0.        , 0.        , 0.        , 0.        ,\n",
       "        0.        , 0.        , 0.        , 0.        , 0.        ,\n",
       "        0.        , 0.        , 0.        , 0.        , 0.        ,\n",
       "        0.        , 0.        , 0.        , 0.        , 0.        ,\n",
       "        0.        , 0.        , 0.        ],\n",
       "       [0.        , 0.        , 0.        , 0.        , 0.        ,\n",
       "        0.        , 0.        , 0.        , 0.        , 0.        ,\n",
       "        0.        , 0.        , 0.        , 0.        , 0.        ,\n",
       "        0.        , 0.        , 0.        , 0.        , 0.        ,\n",
       "        0.        , 0.        , 0.        , 0.        , 0.        ,\n",
       "        0.        , 0.        , 0.        ],\n",
       "       [0.        , 0.        , 0.        , 0.        , 0.        ,\n",
       "        0.        , 0.        , 0.        , 0.        , 0.        ,\n",
       "        0.        , 0.        , 0.        , 0.        , 0.        ,\n",
       "        0.        , 0.        , 0.        , 0.        , 0.        ,\n",
       "        0.        , 0.        , 0.        , 0.        , 0.        ,\n",
       "        0.        , 0.        , 0.        ],\n",
       "       [0.        , 0.        , 0.        , 0.        , 0.        ,\n",
       "        0.        , 0.        , 0.        , 0.        , 0.        ,\n",
       "        0.        , 0.        , 0.        , 0.        , 0.        ,\n",
       "        0.        , 0.        , 0.        , 0.        , 0.        ,\n",
       "        0.        , 0.        , 0.        , 0.        , 0.        ,\n",
       "        0.        , 0.        , 0.        ],\n",
       "       [0.        , 0.        , 0.        , 0.        , 0.        ,\n",
       "        0.        , 0.        , 0.        , 0.        , 0.        ,\n",
       "        0.        , 0.        , 0.01176471, 0.07058824, 0.07058824,\n",
       "        0.07058824, 0.49411765, 0.53333333, 0.68627451, 0.10196078,\n",
       "        0.65098039, 1.        , 0.96862745, 0.49803922, 0.        ,\n",
       "        0.        , 0.        , 0.        ],\n",
       "       [0.        , 0.        , 0.        , 0.        , 0.        ,\n",
       "        0.        , 0.        , 0.        , 0.11764706, 0.14117647,\n",
       "        0.36862745, 0.60392157, 0.66666667, 0.99215686, 0.99215686,\n",
       "        0.99215686, 0.99215686, 0.99215686, 0.88235294, 0.6745098 ,\n",
       "        0.99215686, 0.94901961, 0.76470588, 0.25098039, 0.        ,\n",
       "        0.        , 0.        , 0.        ],\n",
       "       [0.        , 0.        , 0.        , 0.        , 0.        ,\n",
       "        0.        , 0.        , 0.19215686, 0.93333333, 0.99215686,\n",
       "        0.99215686, 0.99215686, 0.99215686, 0.99215686, 0.99215686,\n",
       "        0.99215686, 0.99215686, 0.98431373, 0.36470588, 0.32156863,\n",
       "        0.32156863, 0.21960784, 0.15294118, 0.        , 0.        ,\n",
       "        0.        , 0.        , 0.        ],\n",
       "       [0.        , 0.        , 0.        , 0.        , 0.        ,\n",
       "        0.        , 0.        , 0.07058824, 0.85882353, 0.99215686,\n",
       "        0.99215686, 0.99215686, 0.99215686, 0.99215686, 0.77647059,\n",
       "        0.71372549, 0.96862745, 0.94509804, 0.        , 0.        ,\n",
       "        0.        , 0.        , 0.        , 0.        , 0.        ,\n",
       "        0.        , 0.        , 0.        ],\n",
       "       [0.        , 0.        , 0.        , 0.        , 0.        ,\n",
       "        0.        , 0.        , 0.        , 0.31372549, 0.61176471,\n",
       "        0.41960784, 0.99215686, 0.99215686, 0.80392157, 0.04313725,\n",
       "        0.        , 0.16862745, 0.60392157, 0.        , 0.        ,\n",
       "        0.        , 0.        , 0.        , 0.        , 0.        ,\n",
       "        0.        , 0.        , 0.        ],\n",
       "       [0.        , 0.        , 0.        , 0.        , 0.        ,\n",
       "        0.        , 0.        , 0.        , 0.        , 0.05490196,\n",
       "        0.00392157, 0.60392157, 0.99215686, 0.35294118, 0.        ,\n",
       "        0.        , 0.        , 0.        , 0.        , 0.        ,\n",
       "        0.        , 0.        , 0.        , 0.        , 0.        ,\n",
       "        0.        , 0.        , 0.        ],\n",
       "       [0.        , 0.        , 0.        , 0.        , 0.        ,\n",
       "        0.        , 0.        , 0.        , 0.        , 0.        ,\n",
       "        0.        , 0.54509804, 0.99215686, 0.74509804, 0.00784314,\n",
       "        0.        , 0.        , 0.        , 0.        , 0.        ,\n",
       "        0.        , 0.        , 0.        , 0.        , 0.        ,\n",
       "        0.        , 0.        , 0.        ],\n",
       "       [0.        , 0.        , 0.        , 0.        , 0.        ,\n",
       "        0.        , 0.        , 0.        , 0.        , 0.        ,\n",
       "        0.        , 0.04313725, 0.74509804, 0.99215686, 0.2745098 ,\n",
       "        0.        , 0.        , 0.        , 0.        , 0.        ,\n",
       "        0.        , 0.        , 0.        , 0.        , 0.        ,\n",
       "        0.        , 0.        , 0.        ],\n",
       "       [0.        , 0.        , 0.        , 0.        , 0.        ,\n",
       "        0.        , 0.        , 0.        , 0.        , 0.        ,\n",
       "        0.        , 0.        , 0.1372549 , 0.94509804, 0.88235294,\n",
       "        0.62745098, 0.42352941, 0.00392157, 0.        , 0.        ,\n",
       "        0.        , 0.        , 0.        , 0.        , 0.        ,\n",
       "        0.        , 0.        , 0.        ],\n",
       "       [0.        , 0.        , 0.        , 0.        , 0.        ,\n",
       "        0.        , 0.        , 0.        , 0.        , 0.        ,\n",
       "        0.        , 0.        , 0.        , 0.31764706, 0.94117647,\n",
       "        0.99215686, 0.99215686, 0.46666667, 0.09803922, 0.        ,\n",
       "        0.        , 0.        , 0.        , 0.        , 0.        ,\n",
       "        0.        , 0.        , 0.        ],\n",
       "       [0.        , 0.        , 0.        , 0.        , 0.        ,\n",
       "        0.        , 0.        , 0.        , 0.        , 0.        ,\n",
       "        0.        , 0.        , 0.        , 0.        , 0.17647059,\n",
       "        0.72941176, 0.99215686, 0.99215686, 0.58823529, 0.10588235,\n",
       "        0.        , 0.        , 0.        , 0.        , 0.        ,\n",
       "        0.        , 0.        , 0.        ],\n",
       "       [0.        , 0.        , 0.        , 0.        , 0.        ,\n",
       "        0.        , 0.        , 0.        , 0.        , 0.        ,\n",
       "        0.        , 0.        , 0.        , 0.        , 0.        ,\n",
       "        0.0627451 , 0.36470588, 0.98823529, 0.99215686, 0.73333333,\n",
       "        0.        , 0.        , 0.        , 0.        , 0.        ,\n",
       "        0.        , 0.        , 0.        ],\n",
       "       [0.        , 0.        , 0.        , 0.        , 0.        ,\n",
       "        0.        , 0.        , 0.        , 0.        , 0.        ,\n",
       "        0.        , 0.        , 0.        , 0.        , 0.        ,\n",
       "        0.        , 0.        , 0.97647059, 0.99215686, 0.97647059,\n",
       "        0.25098039, 0.        , 0.        , 0.        , 0.        ,\n",
       "        0.        , 0.        , 0.        ],\n",
       "       [0.        , 0.        , 0.        , 0.        , 0.        ,\n",
       "        0.        , 0.        , 0.        , 0.        , 0.        ,\n",
       "        0.        , 0.        , 0.        , 0.        , 0.18039216,\n",
       "        0.50980392, 0.71764706, 0.99215686, 0.99215686, 0.81176471,\n",
       "        0.00784314, 0.        , 0.        , 0.        , 0.        ,\n",
       "        0.        , 0.        , 0.        ],\n",
       "       [0.        , 0.        , 0.        , 0.        , 0.        ,\n",
       "        0.        , 0.        , 0.        , 0.        , 0.        ,\n",
       "        0.        , 0.        , 0.15294118, 0.58039216, 0.89803922,\n",
       "        0.99215686, 0.99215686, 0.99215686, 0.98039216, 0.71372549,\n",
       "        0.        , 0.        , 0.        , 0.        , 0.        ,\n",
       "        0.        , 0.        , 0.        ],\n",
       "       [0.        , 0.        , 0.        , 0.        , 0.        ,\n",
       "        0.        , 0.        , 0.        , 0.        , 0.        ,\n",
       "        0.09411765, 0.44705882, 0.86666667, 0.99215686, 0.99215686,\n",
       "        0.99215686, 0.99215686, 0.78823529, 0.30588235, 0.        ,\n",
       "        0.        , 0.        , 0.        , 0.        , 0.        ,\n",
       "        0.        , 0.        , 0.        ],\n",
       "       [0.        , 0.        , 0.        , 0.        , 0.        ,\n",
       "        0.        , 0.        , 0.        , 0.09019608, 0.25882353,\n",
       "        0.83529412, 0.99215686, 0.99215686, 0.99215686, 0.99215686,\n",
       "        0.77647059, 0.31764706, 0.00784314, 0.        , 0.        ,\n",
       "        0.        , 0.        , 0.        , 0.        , 0.        ,\n",
       "        0.        , 0.        , 0.        ],\n",
       "       [0.        , 0.        , 0.        , 0.        , 0.        ,\n",
       "        0.        , 0.07058824, 0.67058824, 0.85882353, 0.99215686,\n",
       "        0.99215686, 0.99215686, 0.99215686, 0.76470588, 0.31372549,\n",
       "        0.03529412, 0.        , 0.        , 0.        , 0.        ,\n",
       "        0.        , 0.        , 0.        , 0.        , 0.        ,\n",
       "        0.        , 0.        , 0.        ],\n",
       "       [0.        , 0.        , 0.        , 0.        , 0.21568627,\n",
       "        0.6745098 , 0.88627451, 0.99215686, 0.99215686, 0.99215686,\n",
       "        0.99215686, 0.95686275, 0.52156863, 0.04313725, 0.        ,\n",
       "        0.        , 0.        , 0.        , 0.        , 0.        ,\n",
       "        0.        , 0.        , 0.        , 0.        , 0.        ,\n",
       "        0.        , 0.        , 0.        ],\n",
       "       [0.        , 0.        , 0.        , 0.        , 0.53333333,\n",
       "        0.99215686, 0.99215686, 0.99215686, 0.83137255, 0.52941176,\n",
       "        0.51764706, 0.0627451 , 0.        , 0.        , 0.        ,\n",
       "        0.        , 0.        , 0.        , 0.        , 0.        ,\n",
       "        0.        , 0.        , 0.        , 0.        , 0.        ,\n",
       "        0.        , 0.        , 0.        ],\n",
       "       [0.        , 0.        , 0.        , 0.        , 0.        ,\n",
       "        0.        , 0.        , 0.        , 0.        , 0.        ,\n",
       "        0.        , 0.        , 0.        , 0.        , 0.        ,\n",
       "        0.        , 0.        , 0.        , 0.        , 0.        ,\n",
       "        0.        , 0.        , 0.        , 0.        , 0.        ,\n",
       "        0.        , 0.        , 0.        ],\n",
       "       [0.        , 0.        , 0.        , 0.        , 0.        ,\n",
       "        0.        , 0.        , 0.        , 0.        , 0.        ,\n",
       "        0.        , 0.        , 0.        , 0.        , 0.        ,\n",
       "        0.        , 0.        , 0.        , 0.        , 0.        ,\n",
       "        0.        , 0.        , 0.        , 0.        , 0.        ,\n",
       "        0.        , 0.        , 0.        ],\n",
       "       [0.        , 0.        , 0.        , 0.        , 0.        ,\n",
       "        0.        , 0.        , 0.        , 0.        , 0.        ,\n",
       "        0.        , 0.        , 0.        , 0.        , 0.        ,\n",
       "        0.        , 0.        , 0.        , 0.        , 0.        ,\n",
       "        0.        , 0.        , 0.        , 0.        , 0.        ,\n",
       "        0.        , 0.        , 0.        ]])"
      ]
     },
     "execution_count": 13,
     "metadata": {},
     "output_type": "execute_result"
    }
   ],
   "source": [
    "X_train[0]"
   ]
  },
  {
   "cell_type": "code",
   "execution_count": 14,
   "metadata": {},
   "outputs": [
    {
     "data": {
      "text/plain": [
       "<matplotlib.image.AxesImage at 0x187240fb920>"
      ]
     },
     "execution_count": 14,
     "metadata": {},
     "output_type": "execute_result"
    },
    {
     "data": {
      "image/png": "[encoded data removed]",
      "text/plain": [
       "<Figure size 480x480 with 1 Axes>"
      ]
     },
     "metadata": {},
     "output_type": "display_data"
    }
   ],
   "source": [
    "plt.matshow(X_train[0])"
   ]
  },
  {
   "cell_type": "code",
   "execution_count": 15,
   "metadata": {},
   "outputs": [],
   "source": [
    "X_train_flattened = X_train.reshape(len(X_train), 28*28)   #60000, 784\n",
    "X_test_flattened = X_test.reshape(len(X_test), 28*28)"
   ]
  },
  {
   "cell_type": "code",
   "execution_count": 16,
   "metadata": {
    "scrolled": true
   },
   "outputs": [
    {
     "data": {
      "text/plain": [
       "<matplotlib.image.AxesImage at 0x1872964e000>"
      ]
     },
     "execution_count": 16,
     "metadata": {},
     "output_type": "execute_result"
    },
    {
     "data": {
      "image/png": "[encoded data removed]",
      "text/plain": [
       "<Figure size 480x480 with 1 Axes>"
      ]
     },
     "metadata": {},
     "output_type": "display_data"
    }
   ],
   "source": [
    "plt.matshow(X_train_flattened[0].reshape(28,28))"
   ]
  },
  {
   "cell_type": "code",
   "execution_count": 17,
   "metadata": {},
   "outputs": [
    {
     "data": {
      "text/plain": [
       "array([0.        , 0.        , 0.        , 0.        , 0.        ,\n",
       "       0.        , 0.        , 0.        , 0.        , 0.        ,\n",
       "       0.        , 0.        , 0.        , 0.        , 0.        ,\n",
       "       0.        , 0.        , 0.        , 0.        , 0.        ,\n",
       "       0.        , 0.        , 0.        , 0.        , 0.        ,\n",
       "       0.        , 0.        , 0.        , 0.        , 0.        ,\n",
       "       0.        , 0.        , 0.        , 0.        , 0.        ,\n",
       "       0.        , 0.        , 0.        , 0.        , 0.        ,\n",
       "       0.        , 0.        , 0.        , 0.        , 0.        ,\n",
       "       0.        , 0.        , 0.        , 0.        , 0.        ,\n",
       "       0.        , 0.        , 0.        , 0.        , 0.        ,\n",
       "       0.        , 0.        , 0.        , 0.        , 0.        ,\n",
       "       0.        , 0.        , 0.        , 0.        , 0.        ,\n",
       "       0.        , 0.        , 0.        , 0.        , 0.        ,\n",
       "       0.        , 0.        , 0.        , 0.        , 0.        ,\n",
       "       0.        , 0.        , 0.        , 0.        , 0.        ,\n",
       "       0.        , 0.        , 0.        , 0.        , 0.        ,\n",
       "       0.        , 0.        , 0.        , 0.        , 0.        ,\n",
       "       0.        , 0.        , 0.        , 0.        , 0.        ,\n",
       "       0.        , 0.        , 0.        , 0.        , 0.        ,\n",
       "       0.        , 0.        , 0.        , 0.        , 0.        ,\n",
       "       0.        , 0.        , 0.        , 0.        , 0.        ,\n",
       "       0.        , 0.        , 0.        , 0.        , 0.        ,\n",
       "       0.        , 0.        , 0.        , 0.        , 0.        ,\n",
       "       0.        , 0.        , 0.        , 0.        , 0.        ,\n",
       "       0.        , 0.        , 0.        , 0.        , 0.        ,\n",
       "       0.        , 0.        , 0.        , 0.        , 0.        ,\n",
       "       0.        , 0.        , 0.        , 0.        , 0.        ,\n",
       "       0.        , 0.        , 0.        , 0.        , 0.        ,\n",
       "       0.        , 0.        , 0.        , 0.        , 0.        ,\n",
       "       0.        , 0.        , 0.01176471, 0.07058824, 0.07058824,\n",
       "       0.07058824, 0.49411765, 0.53333333, 0.68627451, 0.10196078,\n",
       "       0.65098039, 1.        , 0.96862745, 0.49803922, 0.        ,\n",
       "       0.        , 0.        , 0.        , 0.        , 0.        ,\n",
       "       0.        , 0.        , 0.        , 0.        , 0.        ,\n",
       "       0.        , 0.11764706, 0.14117647, 0.36862745, 0.60392157,\n",
       "       0.66666667, 0.99215686, 0.99215686, 0.99215686, 0.99215686,\n",
       "       0.99215686, 0.88235294, 0.6745098 , 0.99215686, 0.94901961,\n",
       "       0.76470588, 0.25098039, 0.        , 0.        , 0.        ,\n",
       "       0.        , 0.        , 0.        , 0.        , 0.        ,\n",
       "       0.        , 0.        , 0.        , 0.19215686, 0.93333333,\n",
       "       0.99215686, 0.99215686, 0.99215686, 0.99215686, 0.99215686,\n",
       "       0.99215686, 0.99215686, 0.99215686, 0.98431373, 0.36470588,\n",
       "       0.32156863, 0.32156863, 0.21960784, 0.15294118, 0.        ,\n",
       "       0.        , 0.        , 0.        , 0.        , 0.        ,\n",
       "       0.        , 0.        , 0.        , 0.        , 0.        ,\n",
       "       0.        , 0.07058824, 0.85882353, 0.99215686, 0.99215686,\n",
       "       0.99215686, 0.99215686, 0.99215686, 0.77647059, 0.71372549,\n",
       "       0.96862745, 0.94509804, 0.        , 0.        , 0.        ,\n",
       "       0.        , 0.        , 0.        , 0.        , 0.        ,\n",
       "       0.        , 0.        , 0.        , 0.        , 0.        ,\n",
       "       0.        , 0.        , 0.        , 0.        , 0.        ,\n",
       "       0.31372549, 0.61176471, 0.41960784, 0.99215686, 0.99215686,\n",
       "       0.80392157, 0.04313725, 0.        , 0.16862745, 0.60392157,\n",
       "       0.        , 0.        , 0.        , 0.        , 0.        ,\n",
       "       0.        , 0.        , 0.        , 0.        , 0.        ,\n",
       "       0.        , 0.        , 0.        , 0.        , 0.        ,\n",
       "       0.        , 0.        , 0.        , 0.        , 0.05490196,\n",
       "       0.00392157, 0.60392157, 0.99215686, 0.35294118, 0.        ,\n",
       "       0.        , 0.        , 0.        , 0.        , 0.        ,\n",
       "       0.        , 0.        , 0.        , 0.        , 0.        ,\n",
       "       0.        , 0.        , 0.        , 0.        , 0.        ,\n",
       "       0.        , 0.        , 0.        , 0.        , 0.        ,\n",
       "       0.        , 0.        , 0.        , 0.        , 0.54509804,\n",
       "       0.99215686, 0.74509804, 0.00784314, 0.        , 0.        ,\n",
       "       0.        , 0.        , 0.        , 0.        , 0.        ,\n",
       "       0.        , 0.        , 0.        , 0.        , 0.        ,\n",
       "       0.        , 0.        , 0.        , 0.        , 0.        ,\n",
       "       0.        , 0.        , 0.        , 0.        , 0.        ,\n",
       "       0.        , 0.        , 0.04313725, 0.74509804, 0.99215686,\n",
       "       0.2745098 , 0.        , 0.        , 0.        , 0.        ,\n",
       "       0.        , 0.        , 0.        , 0.        , 0.        ,\n",
       "       0.        , 0.        , 0.        , 0.        , 0.        ,\n",
       "       0.        , 0.        , 0.        , 0.        , 0.        ,\n",
       "       0.        , 0.        , 0.        , 0.        , 0.        ,\n",
       "       0.        , 0.1372549 , 0.94509804, 0.88235294, 0.62745098,\n",
       "       0.42352941, 0.00392157, 0.        , 0.        , 0.        ,\n",
       "       0.        , 0.        , 0.        , 0.        , 0.        ,\n",
       "       0.        , 0.        , 0.        , 0.        , 0.        ,\n",
       "       0.        , 0.        , 0.        , 0.        , 0.        ,\n",
       "       0.        , 0.        , 0.        , 0.        , 0.        ,\n",
       "       0.31764706, 0.94117647, 0.99215686, 0.99215686, 0.46666667,\n",
       "       0.09803922, 0.        , 0.        , 0.        , 0.        ,\n",
       "       0.        , 0.        , 0.        , 0.        , 0.        ,\n",
       "       0.        , 0.        , 0.        , 0.        , 0.        ,\n",
       "       0.        , 0.        , 0.        , 0.        , 0.        ,\n",
       "       0.        , 0.        , 0.        , 0.        , 0.17647059,\n",
       "       0.72941176, 0.99215686, 0.99215686, 0.58823529, 0.10588235,\n",
       "       0.        , 0.        , 0.        , 0.        , 0.        ,\n",
       "       0.        , 0.        , 0.        , 0.        , 0.        ,\n",
       "       0.        , 0.        , 0.        , 0.        , 0.        ,\n",
       "       0.        , 0.        , 0.        , 0.        , 0.        ,\n",
       "       0.        , 0.        , 0.        , 0.0627451 , 0.36470588,\n",
       "       0.98823529, 0.99215686, 0.73333333, 0.        , 0.        ,\n",
       "       0.        , 0.        , 0.        , 0.        , 0.        ,\n",
       "       0.        , 0.        , 0.        , 0.        , 0.        ,\n",
       "       0.        , 0.        , 0.        , 0.        , 0.        ,\n",
       "       0.        , 0.        , 0.        , 0.        , 0.        ,\n",
       "       0.        , 0.        , 0.        , 0.97647059, 0.99215686,\n",
       "       0.97647059, 0.25098039, 0.        , 0.        , 0.        ,\n",
       "       0.        , 0.        , 0.        , 0.        , 0.        ,\n",
       "       0.        , 0.        , 0.        , 0.        , 0.        ,\n",
       "       0.        , 0.        , 0.        , 0.        , 0.        ,\n",
       "       0.        , 0.        , 0.        , 0.18039216, 0.50980392,\n",
       "       0.71764706, 0.99215686, 0.99215686, 0.81176471, 0.00784314,\n",
       "       0.        , 0.        , 0.        , 0.        , 0.        ,\n",
       "       0.        , 0.        , 0.        , 0.        , 0.        ,\n",
       "       0.        , 0.        , 0.        , 0.        , 0.        ,\n",
       "       0.        , 0.        , 0.        , 0.        , 0.15294118,\n",
       "       0.58039216, 0.89803922, 0.99215686, 0.99215686, 0.99215686,\n",
       "       0.98039216, 0.71372549, 0.        , 0.        , 0.        ,\n",
       "       0.        , 0.        , 0.        , 0.        , 0.        ,\n",
       "       0.        , 0.        , 0.        , 0.        , 0.        ,\n",
       "       0.        , 0.        , 0.        , 0.        , 0.        ,\n",
       "       0.09411765, 0.44705882, 0.86666667, 0.99215686, 0.99215686,\n",
       "       0.99215686, 0.99215686, 0.78823529, 0.30588235, 0.        ,\n",
       "       0.        , 0.        , 0.        , 0.        , 0.        ,\n",
       "       0.        , 0.        , 0.        , 0.        , 0.        ,\n",
       "       0.        , 0.        , 0.        , 0.        , 0.        ,\n",
       "       0.        , 0.09019608, 0.25882353, 0.83529412, 0.99215686,\n",
       "       0.99215686, 0.99215686, 0.99215686, 0.77647059, 0.31764706,\n",
       "       0.00784314, 0.        , 0.        , 0.        , 0.        ,\n",
       "       0.        , 0.        , 0.        , 0.        , 0.        ,\n",
       "       0.        , 0.        , 0.        , 0.        , 0.        ,\n",
       "       0.        , 0.        , 0.07058824, 0.67058824, 0.85882353,\n",
       "       0.99215686, 0.99215686, 0.99215686, 0.99215686, 0.76470588,\n",
       "       0.31372549, 0.03529412, 0.        , 0.        , 0.        ,\n",
       "       0.        , 0.        , 0.        , 0.        , 0.        ,\n",
       "       0.        , 0.        , 0.        , 0.        , 0.        ,\n",
       "       0.        , 0.        , 0.        , 0.21568627, 0.6745098 ,\n",
       "       0.88627451, 0.99215686, 0.99215686, 0.99215686, 0.99215686,\n",
       "       0.95686275, 0.52156863, 0.04313725, 0.        , 0.        ,\n",
       "       0.        , 0.        , 0.        , 0.        , 0.        ,\n",
       "       0.        , 0.        , 0.        , 0.        , 0.        ,\n",
       "       0.        , 0.        , 0.        , 0.        , 0.        ,\n",
       "       0.        , 0.53333333, 0.99215686, 0.99215686, 0.99215686,\n",
       "       0.83137255, 0.52941176, 0.51764706, 0.0627451 , 0.        ,\n",
       "       0.        , 0.        , 0.        , 0.        , 0.        ,\n",
       "       0.        , 0.        , 0.        , 0.        , 0.        ,\n",
       "       0.        , 0.        , 0.        , 0.        , 0.        ,\n",
       "       0.        , 0.        , 0.        , 0.        , 0.        ,\n",
       "       0.        , 0.        , 0.        , 0.        , 0.        ,\n",
       "       0.        , 0.        , 0.        , 0.        , 0.        ,\n",
       "       0.        , 0.        , 0.        , 0.        , 0.        ,\n",
       "       0.        , 0.        , 0.        , 0.        , 0.        ,\n",
       "       0.        , 0.        , 0.        , 0.        , 0.        ,\n",
       "       0.        , 0.        , 0.        , 0.        , 0.        ,\n",
       "       0.        , 0.        , 0.        , 0.        , 0.        ,\n",
       "       0.        , 0.        , 0.        , 0.        , 0.        ,\n",
       "       0.        , 0.        , 0.        , 0.        , 0.        ,\n",
       "       0.        , 0.        , 0.        , 0.        , 0.        ,\n",
       "       0.        , 0.        , 0.        , 0.        , 0.        ,\n",
       "       0.        , 0.        , 0.        , 0.        , 0.        ,\n",
       "       0.        , 0.        , 0.        , 0.        , 0.        ,\n",
       "       0.        , 0.        , 0.        , 0.        , 0.        ,\n",
       "       0.        , 0.        , 0.        , 0.        , 0.        ,\n",
       "       0.        , 0.        , 0.        , 0.        ])"
      ]
     },
     "execution_count": 17,
     "metadata": {},
     "output_type": "execute_result"
    }
   ],
   "source": [
    "X_train_flattened[0]"
   ]
  },
  {
   "cell_type": "code",
   "execution_count": 18,
   "metadata": {},
   "outputs": [
    {
     "data": {
      "text/html": [
       "<style>#sk-container-id-1 {\n",
       "  /* Definition of color scheme common for light and dark mode */\n",
       "  --sklearn-color-text: black;\n",
       "  --sklearn-color-line: gray;\n",
       "  /* Definition of color scheme for unfitted estimators */\n",
       "  --sklearn-color-unfitted-level-0: #fff5e6;\n",
       "  --sklearn-color-unfitted-level-1: #f6e4d2;\n",
       "  --sklearn-color-unfitted-level-2: #ffe0b3;\n",
       "  --sklearn-color-unfitted-level-3: chocolate;\n",
       "  /* Definition of color scheme for fitted estimators */\n",
       "  --sklearn-color-fitted-level-0: #f0f8ff;\n",
       "  --sklearn-color-fitted-level-1: #d4ebff;\n",
       "  --sklearn-color-fitted-level-2: #b3dbfd;\n",
       "  --sklearn-color-fitted-level-3: cornflowerblue;\n",
       "\n",
       "  /* Specific color for light theme */\n",
       "  --sklearn-color-text-on-default-background: var(--sg-text-color, var(--theme-code-foreground, var(--jp-content-font-color1, black)));\n",
       "  --sklearn-color-background: var(--sg-background-color, var(--theme-background, var(--jp-layout-color0, white)));\n",
       "  --sklearn-color-border-box: var(--sg-text-color, var(--theme-code-foreground, var(--jp-content-font-color1, black)));\n",
       "  --sklearn-color-icon: #696969;\n",
       "\n",
       "  @media (prefers-color-scheme: dark) {\n",
       "    /* Redefinition of color scheme for dark theme */\n",
       "    --sklearn-color-text-on-default-background: var(--sg-text-color, var(--theme-code-foreground, var(--jp-content-font-color1, white)));\n",
       "    --sklearn-color-background: var(--sg-background-color, var(--theme-background, var(--jp-layout-color0, #111)));\n",
       "    --sklearn-color-border-box: var(--sg-text-color, var(--theme-code-foreground, var(--jp-content-font-color1, white)));\n",
       "    --sklearn-color-icon: #878787;\n",
       "  }\n",
       "}\n",
       "\n",
       "#sk-container-id-1 {\n",
       "  color: var(--sklearn-color-text);\n",
       "}\n",
       "\n",
       "#sk-container-id-1 pre {\n",
       "  padding: 0;\n",
       "}\n",
       "\n",
       "#sk-container-id-1 input.sk-hidden--visually {\n",
       "  border: 0;\n",
       "  clip: rect(1px 1px 1px 1px);\n",
       "  clip: rect(1px, 1px, 1px, 1px);\n",
       "  height: 1px;\n",
       "  margin: -1px;\n",
       "  overflow: hidden;\n",
       "  padding: 0;\n",
       "  position: absolute;\n",
       "  width: 1px;\n",
       "}\n",
       "\n",
       "#sk-container-id-1 div.sk-dashed-wrapped {\n",
       "  border: 1px dashed var(--sklearn-color-line);\n",
       "  margin: 0 0.4em 0.5em 0.4em;\n",
       "  box-sizing: border-box;\n",
       "  padding-bottom: 0.4em;\n",
       "  background-color: var(--sklearn-color-background);\n",
       "}\n",
       "\n",
       "#sk-container-id-1 div.sk-container {\n",
       "  /* jupyter's `normalize.less` sets `[hidden] { display: none; }`\n",
       "     but bootstrap.min.css set `[hidden] { display: none !important; }`\n",
       "     so we also need the `!important` here to be able to override the\n",
       "     default hidden behavior on the sphinx rendered scikit-learn.org.\n",
       "     See: https://github.com/scikit-learn/scikit-learn/issues/21755 */\n",
       "  display: inline-block !important;\n",
       "  position: relative;\n",
       "}\n",
       "\n",
       "#sk-container-id-1 div.sk-text-repr-fallback {\n",
       "  display: none;\n",
       "}\n",
       "\n",
       "div.sk-parallel-item,\n",
       "div.sk-serial,\n",
       "div.sk-item {\n",
       "  /* draw centered vertical line to link estimators */\n",
       "  background-image: linear-gradient(var(--sklearn-color-text-on-default-background), var(--sklearn-color-text-on-default-background));\n",
       "  background-size: 2px 100%;\n",
       "  background-repeat: no-repeat;\n",
       "  background-position: center center;\n",
       "}\n",
       "\n",
       "/* Parallel-specific style estimator block */\n",
       "\n",
       "#sk-container-id-1 div.sk-parallel-item::after {\n",
       "  content: \"\";\n",
       "  width: 100%;\n",
       "  border-bottom: 2px solid var(--sklearn-color-text-on-default-background);\n",
       "  flex-grow: 1;\n",
       "}\n",
       "\n",
       "#sk-container-id-1 div.sk-parallel {\n",
       "  display: flex;\n",
       "  align-items: stretch;\n",
       "  justify-content: center;\n",
       "  background-color: var(--sklearn-color-background);\n",
       "  position: relative;\n",
       "}\n",
       "\n",
       "#sk-container-id-1 div.sk-parallel-item {\n",
       "  display: flex;\n",
       "  flex-direction: column;\n",
       "}\n",
       "\n",
       "#sk-container-id-1 div.sk-parallel-item:first-child::after {\n",
       "  align-self: flex-end;\n",
       "  width: 50%;\n",
       "}\n",
       "\n",
       "#sk-container-id-1 div.sk-parallel-item:last-child::after {\n",
       "  align-self: flex-start;\n",
       "  width: 50%;\n",
       "}\n",
       "\n",
       "#sk-container-id-1 div.sk-parallel-item:only-child::after {\n",
       "  width: 0;\n",
       "}\n",
       "\n",
       "/* Serial-specific style estimator block */\n",
       "\n",
       "#sk-container-id-1 div.sk-serial {\n",
       "  display: flex;\n",
       "  flex-direction: column;\n",
       "  align-items: center;\n",
       "  background-color: var(--sklearn-color-background);\n",
       "  padding-right: 1em;\n",
       "  padding-left: 1em;\n",
       "}\n",
       "\n",
       "\n",
       "/* Toggleable style: style used for estimator/Pipeline/ColumnTransformer box that is\n",
       "clickable and can be expanded/collapsed.\n",
       "- Pipeline and ColumnTransformer use this feature and define the default style\n",
       "- Estimators will overwrite some part of the style using the `sk-estimator` class\n",
       "*/\n",
       "\n",
       "/* Pipeline and ColumnTransformer style (default) */\n",
       "\n",
       "#sk-container-id-1 div.sk-toggleable {\n",
       "  /* Default theme specific background. It is overwritten whether we have a\n",
       "  specific estimator or a Pipeline/ColumnTransformer */\n",
       "  background-color: var(--sklearn-color-background);\n",
       "}\n",
       "\n",
       "/* Toggleable label */\n",
       "#sk-container-id-1 label.sk-toggleable__label {\n",
       "  cursor: pointer;\n",
       "  display: block;\n",
       "  width: 100%;\n",
       "  margin-bottom: 0;\n",
       "  padding: 0.5em;\n",
       "  box-sizing: border-box;\n",
       "  text-align: center;\n",
       "}\n",
       "\n",
       "#sk-container-id-1 label.sk-toggleable__label-arrow:before {\n",
       "  /* Arrow on the left of the label */\n",
       "  content: \"▸\";\n",
       "  float: left;\n",
       "  margin-right: 0.25em;\n",
       "  color: var(--sklearn-color-icon);\n",
       "}\n",
       "\n",
       "#sk-container-id-1 label.sk-toggleable__label-arrow:hover:before {\n",
       "  color: var(--sklearn-color-text);\n",
       "}\n",
       "\n",
       "/* Toggleable content - dropdown */\n",
       "\n",
       "#sk-container-id-1 div.sk-toggleable__content {\n",
       "  max-height: 0;\n",
       "  max-width: 0;\n",
       "  overflow: hidden;\n",
       "  text-align: left;\n",
       "  /* unfitted */\n",
       "  background-color: var(--sklearn-color-unfitted-level-0);\n",
       "}\n",
       "\n",
       "#sk-container-id-1 div.sk-toggleable__content.fitted {\n",
       "  /* fitted */\n",
       "  background-color: var(--sklearn-color-fitted-level-0);\n",
       "}\n",
       "\n",
       "#sk-container-id-1 div.sk-toggleable__content pre {\n",
       "  margin: 0.2em;\n",
       "  border-radius: 0.25em;\n",
       "  color: var(--sklearn-color-text);\n",
       "  /* unfitted */\n",
       "  background-color: var(--sklearn-color-unfitted-level-0);\n",
       "}\n",
       "\n",
       "#sk-container-id-1 div.sk-toggleable__content.fitted pre {\n",
       "  /* unfitted */\n",
       "  background-color: var(--sklearn-color-fitted-level-0);\n",
       "}\n",
       "\n",
       "#sk-container-id-1 input.sk-toggleable__control:checked~div.sk-toggleable__content {\n",
       "  /* Expand drop-down */\n",
       "  max-height: 200px;\n",
       "  max-width: 100%;\n",
       "  overflow: auto;\n",
       "}\n",
       "\n",
       "#sk-container-id-1 input.sk-toggleable__control:checked~label.sk-toggleable__label-arrow:before {\n",
       "  content: \"▾\";\n",
       "}\n",
       "\n",
       "/* Pipeline/ColumnTransformer-specific style */\n",
       "\n",
       "#sk-container-id-1 div.sk-label input.sk-toggleable__control:checked~label.sk-toggleable__label {\n",
       "  color: var(--sklearn-color-text);\n",
       "  background-color: var(--sklearn-color-unfitted-level-2);\n",
       "}\n",
       "\n",
       "#sk-container-id-1 div.sk-label.fitted input.sk-toggleable__control:checked~label.sk-toggleable__label {\n",
       "  background-color: var(--sklearn-color-fitted-level-2);\n",
       "}\n",
       "\n",
       "/* Estimator-specific style */\n",
       "\n",
       "/* Colorize estimator box */\n",
       "#sk-container-id-1 div.sk-estimator input.sk-toggleable__control:checked~label.sk-toggleable__label {\n",
       "  /* unfitted */\n",
       "  background-color: var(--sklearn-color-unfitted-level-2);\n",
       "}\n",
       "\n",
       "#sk-container-id-1 div.sk-estimator.fitted input.sk-toggleable__control:checked~label.sk-toggleable__label {\n",
       "  /* fitted */\n",
       "  background-color: var(--sklearn-color-fitted-level-2);\n",
       "}\n",
       "\n",
       "#sk-container-id-1 div.sk-label label.sk-toggleable__label,\n",
       "#sk-container-id-1 div.sk-label label {\n",
       "  /* The background is the default theme color */\n",
       "  color: var(--sklearn-color-text-on-default-background);\n",
       "}\n",
       "\n",
       "/* On hover, darken the color of the background */\n",
       "#sk-container-id-1 div.sk-label:hover label.sk-toggleable__label {\n",
       "  color: var(--sklearn-color-text);\n",
       "  background-color: var(--sklearn-color-unfitted-level-2);\n",
       "}\n",
       "\n",
       "/* Label box, darken color on hover, fitted */\n",
       "#sk-container-id-1 div.sk-label.fitted:hover label.sk-toggleable__label.fitted {\n",
       "  color: var(--sklearn-color-text);\n",
       "  background-color: var(--sklearn-color-fitted-level-2);\n",
       "}\n",
       "\n",
       "/* Estimator label */\n",
       "\n",
       "#sk-container-id-1 div.sk-label label {\n",
       "  font-family: monospace;\n",
       "  font-weight: bold;\n",
       "  display: inline-block;\n",
       "  line-height: 1.2em;\n",
       "}\n",
       "\n",
       "#sk-container-id-1 div.sk-label-container {\n",
       "  text-align: center;\n",
       "}\n",
       "\n",
       "/* Estimator-specific */\n",
       "#sk-container-id-1 div.sk-estimator {\n",
       "  font-family: monospace;\n",
       "  border: 1px dotted var(--sklearn-color-border-box);\n",
       "  border-radius: 0.25em;\n",
       "  box-sizing: border-box;\n",
       "  margin-bottom: 0.5em;\n",
       "  /* unfitted */\n",
       "  background-color: var(--sklearn-color-unfitted-level-0);\n",
       "}\n",
       "\n",
       "#sk-container-id-1 div.sk-estimator.fitted {\n",
       "  /* fitted */\n",
       "  background-color: var(--sklearn-color-fitted-level-0);\n",
       "}\n",
       "\n",
       "/* on hover */\n",
       "#sk-container-id-1 div.sk-estimator:hover {\n",
       "  /* unfitted */\n",
       "  background-color: var(--sklearn-color-unfitted-level-2);\n",
       "}\n",
       "\n",
       "#sk-container-id-1 div.sk-estimator.fitted:hover {\n",
       "  /* fitted */\n",
       "  background-color: var(--sklearn-color-fitted-level-2);\n",
       "}\n",
       "\n",
       "/* Specification for estimator info (e.g. \"i\" and \"?\") */\n",
       "\n",
       "/* Common style for \"i\" and \"?\" */\n",
       "\n",
       ".sk-estimator-doc-link,\n",
       "a:link.sk-estimator-doc-link,\n",
       "a:visited.sk-estimator-doc-link {\n",
       "  float: right;\n",
       "  font-size: smaller;\n",
       "  line-height: 1em;\n",
       "  font-family: monospace;\n",
       "  background-color: var(--sklearn-color-background);\n",
       "  border-radius: 1em;\n",
       "  height: 1em;\n",
       "  width: 1em;\n",
       "  text-decoration: none !important;\n",
       "  margin-left: 1ex;\n",
       "  /* unfitted */\n",
       "  border: var(--sklearn-color-unfitted-level-1) 1pt solid;\n",
       "  color: var(--sklearn-color-unfitted-level-1);\n",
       "}\n",
       "\n",
       ".sk-estimator-doc-link.fitted,\n",
       "a:link.sk-estimator-doc-link.fitted,\n",
       "a:visited.sk-estimator-doc-link.fitted {\n",
       "  /* fitted */\n",
       "  border: var(--sklearn-color-fitted-level-1) 1pt solid;\n",
       "  color: var(--sklearn-color-fitted-level-1);\n",
       "}\n",
       "\n",
       "/* On hover */\n",
       "div.sk-estimator:hover .sk-estimator-doc-link:hover,\n",
       ".sk-estimator-doc-link:hover,\n",
       "div.sk-label-container:hover .sk-estimator-doc-link:hover,\n",
       ".sk-estimator-doc-link:hover {\n",
       "  /* unfitted */\n",
       "  background-color: var(--sklearn-color-unfitted-level-3);\n",
       "  color: var(--sklearn-color-background);\n",
       "  text-decoration: none;\n",
       "}\n",
       "\n",
       "div.sk-estimator.fitted:hover .sk-estimator-doc-link.fitted:hover,\n",
       ".sk-estimator-doc-link.fitted:hover,\n",
       "div.sk-label-container:hover .sk-estimator-doc-link.fitted:hover,\n",
       ".sk-estimator-doc-link.fitted:hover {\n",
       "  /* fitted */\n",
       "  background-color: var(--sklearn-color-fitted-level-3);\n",
       "  color: var(--sklearn-color-background);\n",
       "  text-decoration: none;\n",
       "}\n",
       "\n",
       "/* Span, style for the box shown on hovering the info icon */\n",
       ".sk-estimator-doc-link span {\n",
       "  display: none;\n",
       "  z-index: 9999;\n",
       "  position: relative;\n",
       "  font-weight: normal;\n",
       "  right: .2ex;\n",
       "  padding: .5ex;\n",
       "  margin: .5ex;\n",
       "  width: min-content;\n",
       "  min-width: 20ex;\n",
       "  max-width: 50ex;\n",
       "  color: var(--sklearn-color-text);\n",
       "  box-shadow: 2pt 2pt 4pt #999;\n",
       "  /* unfitted */\n",
       "  background: var(--sklearn-color-unfitted-level-0);\n",
       "  border: .5pt solid var(--sklearn-color-unfitted-level-3);\n",
       "}\n",
       "\n",
       ".sk-estimator-doc-link.fitted span {\n",
       "  /* fitted */\n",
       "  background: var(--sklearn-color-fitted-level-0);\n",
       "  border: var(--sklearn-color-fitted-level-3);\n",
       "}\n",
       "\n",
       ".sk-estimator-doc-link:hover span {\n",
       "  display: block;\n",
       "}\n",
       "\n",
       "/* \"?\"-specific style due to the `<a>` HTML tag */\n",
       "\n",
       "#sk-container-id-1 a.estimator_doc_link {\n",
       "  float: right;\n",
       "  font-size: 1rem;\n",
       "  line-height: 1em;\n",
       "  font-family: monospace;\n",
       "  background-color: var(--sklearn-color-background);\n",
       "  border-radius: 1rem;\n",
       "  height: 1rem;\n",
       "  width: 1rem;\n",
       "  text-decoration: none;\n",
       "  /* unfitted */\n",
       "  color: var(--sklearn-color-unfitted-level-1);\n",
       "  border: var(--sklearn-color-unfitted-level-1) 1pt solid;\n",
       "}\n",
       "\n",
       "#sk-container-id-1 a.estimator_doc_link.fitted {\n",
       "  /* fitted */\n",
       "  border: var(--sklearn-color-fitted-level-1) 1pt solid;\n",
       "  color: var(--sklearn-color-fitted-level-1);\n",
       "}\n",
       "\n",
       "/* On hover */\n",
       "#sk-container-id-1 a.estimator_doc_link:hover {\n",
       "  /* unfitted */\n",
       "  background-color: var(--sklearn-color-unfitted-level-3);\n",
       "  color: var(--sklearn-color-background);\n",
       "  text-decoration: none;\n",
       "}\n",
       "\n",
       "#sk-container-id-1 a.estimator_doc_link.fitted:hover {\n",
       "  /* fitted */\n",
       "  background-color: var(--sklearn-color-fitted-level-3);\n",
       "}\n",
       "</style><div id=\"sk-container-id-1\" class=\"sk-top-container\"><div class=\"sk-text-repr-fallback\"><pre>KNeighborsClassifier(n_neighbors=3)</pre><b>In a Jupyter environment, please rerun this cell to show the HTML representation or trust the notebook. <br />On GitHub, the HTML representation is unable to render, please try loading this page with nbviewer.org.</b></div><div class=\"sk-container\" hidden><div class=\"sk-item\"><div class=\"sk-estimator fitted sk-toggleable\"><input class=\"sk-toggleable__control sk-hidden--visually\" id=\"sk-estimator-id-1\" type=\"checkbox\" checked><label for=\"sk-estimator-id-1\" class=\"sk-toggleable__label fitted sk-toggleable__label-arrow fitted\">&nbsp;&nbsp;KNeighborsClassifier<a class=\"sk-estimator-doc-link fitted\" rel=\"noreferrer\" target=\"_blank\" href=\"https://scikit-learn.org/1.5/modules/generated/sklearn.neighbors.KNeighborsClassifier.html\">?<span>Documentation for KNeighborsClassifier</span></a><span class=\"sk-estimator-doc-link fitted\">i<span>Fitted</span></span></label><div class=\"sk-toggleable__content fitted\"><pre>KNeighborsClassifier(n_neighbors=3)</pre></div> </div></div></div></div>"
      ],
      "text/plain": [
       "KNeighborsClassifier(n_neighbors=3)"
      ]
     },
     "execution_count": 18,
     "metadata": {},
     "output_type": "execute_result"
    }
   ],
   "source": [
    "from sklearn.neighbors import KNeighborsClassifier\n",
    "knn = KNeighborsClassifier(n_neighbors=3) \n",
    "knn.fit(X_train_flattened, y_train)"
   ]
  },
  {
   "cell_type": "code",
   "execution_count": 19,
   "metadata": {},
   "outputs": [
    {
     "data": {
      "text/plain": [
       "0.9705"
      ]
     },
     "execution_count": 19,
     "metadata": {},
     "output_type": "execute_result"
    }
   ],
   "source": [
    "knn.score(X_test_flattened, y_test)"
   ]
  },
  {
   "cell_type": "code",
   "execution_count": 20,
   "metadata": {},
   "outputs": [
    {
     "data": {
      "text/plain": [
       "array([7, 2, 1, ..., 4, 5, 6], dtype=uint8)"
      ]
     },
     "execution_count": 20,
     "metadata": {},
     "output_type": "execute_result"
    }
   ],
   "source": [
    "knn.predict(X_test_flattened)"
   ]
  },
  {
   "cell_type": "markdown",
   "metadata": {},
   "source": [
    "<h3 style='color:purple'>Very simple neural network with no hidden layers</h3>"
   ]
  },
  {
   "cell_type": "code",
   "execution_count": 21,
   "metadata": {},
   "outputs": [
    {
     "data": {
      "text/plain": [
       "<matplotlib.image.AxesImage at 0x187270d75c0>"
      ]
     },
     "execution_count": 21,
     "metadata": {},
     "output_type": "execute_result"
    },
    {
     "data": {
      "image/png": "[encoded data removed]",
      "text/plain": [
       "<Figure size 480x480 with 1 Axes>"
      ]
     },
     "metadata": {},
     "output_type": "display_data"
    }
   ],
   "source": [
    "#y_test[6] #X_test[11]\n",
    "\n",
    "plt.matshow(X_test[7])"
   ]
  },
  {
   "cell_type": "code",
   "execution_count": 22,
   "metadata": {},
   "outputs": [
    {
     "data": {
      "text/plain": [
       "array([0.        , 0.        , 0.        , 0.        , 0.        ,\n",
       "       0.        , 0.        , 0.        , 0.        , 0.        ,\n",
       "       0.        , 0.        , 0.        , 0.        , 0.        ,\n",
       "       0.        , 0.        , 0.        , 0.        , 0.        ,\n",
       "       0.        , 0.        , 0.        , 0.        , 0.        ,\n",
       "       0.        , 0.        , 0.        , 0.        , 0.        ,\n",
       "       0.        , 0.        , 0.        , 0.        , 0.        ,\n",
       "       0.        , 0.        , 0.        , 0.        , 0.        ,\n",
       "       0.        , 0.        , 0.        , 0.        , 0.        ,\n",
       "       0.        , 0.        , 0.        , 0.        , 0.        ,\n",
       "       0.        , 0.        , 0.        , 0.        , 0.        ,\n",
       "       0.        , 0.        , 0.        , 0.        , 0.        ,\n",
       "       0.        , 0.        , 0.        , 0.        , 0.        ,\n",
       "       0.        , 0.        , 0.        , 0.        , 0.        ,\n",
       "       0.        , 0.        , 0.        , 0.        , 0.        ,\n",
       "       0.        , 0.        , 0.        , 0.        , 0.        ,\n",
       "       0.        , 0.        , 0.        , 0.        , 0.        ,\n",
       "       0.        , 0.        , 0.        , 0.        , 0.        ,\n",
       "       0.        , 0.        , 0.        , 0.        , 0.        ,\n",
       "       0.        , 0.        , 0.        , 0.        , 0.        ,\n",
       "       0.        , 0.        , 0.        , 0.        , 0.        ,\n",
       "       0.        , 0.        , 0.        , 0.        , 0.        ,\n",
       "       0.        , 0.        , 0.        , 0.        , 0.        ,\n",
       "       0.        , 0.        , 0.        , 0.        , 0.        ,\n",
       "       0.        , 0.        , 0.        , 0.        , 0.        ,\n",
       "       0.        , 0.        , 0.        , 0.        , 0.        ,\n",
       "       0.        , 0.        , 0.        , 0.        , 0.        ,\n",
       "       0.        , 0.        , 0.        , 0.        , 0.        ,\n",
       "       0.        , 0.        , 0.        , 0.        , 0.        ,\n",
       "       0.        , 0.        , 0.        , 0.        , 0.        ,\n",
       "       0.        , 0.        , 0.        , 0.        , 0.        ,\n",
       "       0.        , 0.        , 0.        , 0.        , 0.        ,\n",
       "       0.        , 0.        , 0.        , 0.        , 0.        ,\n",
       "       0.        , 0.        , 0.        , 0.        , 0.        ,\n",
       "       0.        , 0.        , 0.        , 0.        , 0.        ,\n",
       "       0.        , 0.        , 0.        , 0.        , 0.05490196,\n",
       "       0.58431373, 0.75686275, 0.01960784, 0.        , 0.        ,\n",
       "       0.        , 0.        , 0.        , 0.        , 0.        ,\n",
       "       0.        , 0.        , 0.        , 0.        , 0.        ,\n",
       "       0.        , 0.        , 0.        , 0.        , 0.        ,\n",
       "       0.        , 0.        , 0.        , 0.        , 0.        ,\n",
       "       0.        , 0.35686275, 0.87843137, 0.99215686, 0.99215686,\n",
       "       0.0745098 , 0.        , 0.        , 0.        , 0.        ,\n",
       "       0.        , 0.        , 0.        , 0.        , 0.        ,\n",
       "       0.        , 0.        , 0.        , 0.        , 0.        ,\n",
       "       0.        , 0.        , 0.        , 0.        , 0.        ,\n",
       "       0.        , 0.        , 0.        , 0.10980392, 0.92156863,\n",
       "       0.99607843, 0.99215686, 0.99215686, 0.65098039, 0.07058824,\n",
       "       0.        , 0.        , 0.        , 0.        , 0.        ,\n",
       "       0.        , 0.        , 0.        , 0.        , 0.        ,\n",
       "       0.        , 0.        , 0.        , 0.        , 0.        ,\n",
       "       0.        , 0.        , 0.        , 0.        , 0.        ,\n",
       "       0.        , 0.56470588, 0.99215686, 0.99607843, 0.99215686,\n",
       "       0.99215686, 0.99215686, 0.93333333, 0.45098039, 0.02352941,\n",
       "       0.        , 0.        , 0.        , 0.        , 0.        ,\n",
       "       0.        , 0.        , 0.        , 0.        , 0.        ,\n",
       "       0.        , 0.        , 0.        , 0.        , 0.        ,\n",
       "       0.        , 0.        , 0.        , 0.12156863, 0.94509804,\n",
       "       0.99215686, 0.81568627, 0.7254902 , 0.99215686, 0.99215686,\n",
       "       0.99215686, 0.90588235, 0.09411765, 0.        , 0.        ,\n",
       "       0.        , 0.        , 0.        , 0.        , 0.        ,\n",
       "       0.        , 0.        , 0.        , 0.        , 0.        ,\n",
       "       0.        , 0.        , 0.        , 0.        , 0.        ,\n",
       "       0.        , 0.30980392, 0.99607843, 0.75686275, 0.        ,\n",
       "       0.03137255, 0.38431373, 0.85882353, 0.99607843, 1.        ,\n",
       "       0.78823529, 0.07058824, 0.        , 0.        , 0.        ,\n",
       "       0.        , 0.        , 0.        , 0.        , 0.        ,\n",
       "       0.        , 0.        , 0.        , 0.        , 0.        ,\n",
       "       0.        , 0.        , 0.        , 0.        , 0.3372549 ,\n",
       "       0.99215686, 0.31372549, 0.        , 0.        , 0.        ,\n",
       "       0.71372549, 0.99215686, 0.99607843, 0.74901961, 0.04705882,\n",
       "       0.        , 0.        , 0.        , 0.        , 0.        ,\n",
       "       0.        , 0.        , 0.        , 0.        , 0.        ,\n",
       "       0.        , 0.        , 0.        , 0.        , 0.        ,\n",
       "       0.        , 0.        , 0.68627451, 0.99215686, 0.60784314,\n",
       "       0.        , 0.        , 0.        , 0.91764706, 0.99215686,\n",
       "       0.99607843, 0.52941176, 0.        , 0.        , 0.        ,\n",
       "       0.        , 0.        , 0.        , 0.        , 0.        ,\n",
       "       0.        , 0.        , 0.        , 0.        , 0.        ,\n",
       "       0.        , 0.        , 0.        , 0.        , 0.        ,\n",
       "       0.3372549 , 0.99215686, 0.81568627, 0.15686275, 0.33333333,\n",
       "       0.65098039, 0.98431373, 0.92941176, 0.99607843, 0.9254902 ,\n",
       "       0.16470588, 0.        , 0.        , 0.        , 0.        ,\n",
       "       0.        , 0.        , 0.        , 0.        , 0.        ,\n",
       "       0.        , 0.        , 0.        , 0.        , 0.        ,\n",
       "       0.        , 0.        , 0.        , 0.07058824, 0.93333333,\n",
       "       0.99215686, 0.99607843, 0.99215686, 0.99215686, 0.7254902 ,\n",
       "       0.14117647, 0.84705882, 0.99215686, 0.59607843, 0.        ,\n",
       "       0.        , 0.        , 0.        , 0.        , 0.        ,\n",
       "       0.        , 0.        , 0.        , 0.        , 0.        ,\n",
       "       0.        , 0.        , 0.        , 0.        , 0.        ,\n",
       "       0.        , 0.        , 0.26666667, 0.94117647, 1.        ,\n",
       "       0.99607843, 0.56862745, 0.03137255, 0.        , 0.5254902 ,\n",
       "       0.99607843, 0.8745098 , 0.1372549 , 0.        , 0.        ,\n",
       "       0.        , 0.        , 0.        , 0.        , 0.        ,\n",
       "       0.        , 0.        , 0.        , 0.        , 0.        ,\n",
       "       0.        , 0.        , 0.        , 0.        , 0.        ,\n",
       "       0.        , 0.26666667, 0.61960784, 0.55686275, 0.04705882,\n",
       "       0.        , 0.        , 0.03529412, 0.68627451, 0.99215686,\n",
       "       0.63137255, 0.        , 0.        , 0.        , 0.        ,\n",
       "       0.        , 0.        , 0.        , 0.        , 0.        ,\n",
       "       0.        , 0.        , 0.        , 0.        , 0.        ,\n",
       "       0.        , 0.        , 0.        , 0.        , 0.        ,\n",
       "       0.        , 0.        , 0.        , 0.        , 0.        ,\n",
       "       0.        , 0.34509804, 0.99215686, 0.88627451, 0.07058824,\n",
       "       0.        , 0.        , 0.        , 0.        , 0.        ,\n",
       "       0.        , 0.        , 0.        , 0.        , 0.        ,\n",
       "       0.        , 0.        , 0.        , 0.        , 0.        ,\n",
       "       0.        , 0.        , 0.        , 0.        , 0.        ,\n",
       "       0.        , 0.        , 0.        , 0.        , 0.00784314,\n",
       "       0.65098039, 0.99215686, 0.49411765, 0.        , 0.        ,\n",
       "       0.        , 0.        , 0.        , 0.        , 0.        ,\n",
       "       0.        , 0.        , 0.        , 0.        , 0.        ,\n",
       "       0.        , 0.        , 0.        , 0.        , 0.        ,\n",
       "       0.        , 0.        , 0.        , 0.        , 0.        ,\n",
       "       0.        , 0.        , 0.        , 0.18823529, 0.96078431,\n",
       "       0.99215686, 0.14901961, 0.        , 0.        , 0.        ,\n",
       "       0.        , 0.        , 0.        , 0.        , 0.        ,\n",
       "       0.        , 0.        , 0.        , 0.        , 0.        ,\n",
       "       0.        , 0.        , 0.        , 0.        , 0.        ,\n",
       "       0.        , 0.        , 0.        , 0.        , 0.        ,\n",
       "       0.        , 0.        , 0.45098039, 0.99607843, 0.6745098 ,\n",
       "       0.03529412, 0.        , 0.        , 0.        , 0.        ,\n",
       "       0.        , 0.        , 0.        , 0.        , 0.        ,\n",
       "       0.        , 0.        , 0.        , 0.        , 0.        ,\n",
       "       0.        , 0.        , 0.        , 0.        , 0.        ,\n",
       "       0.        , 0.        , 0.        , 0.        , 0.        ,\n",
       "       0.08235294, 0.85490196, 0.99607843, 0.18039216, 0.        ,\n",
       "       0.        , 0.        , 0.        , 0.        , 0.        ,\n",
       "       0.        , 0.        , 0.        , 0.        , 0.        ,\n",
       "       0.        , 0.        , 0.        , 0.        , 0.        ,\n",
       "       0.        , 0.        , 0.        , 0.        , 0.        ,\n",
       "       0.        , 0.        , 0.        , 0.        , 0.11764706,\n",
       "       0.99607843, 0.64705882, 0.        , 0.        , 0.        ,\n",
       "       0.        , 0.        , 0.        , 0.        , 0.        ,\n",
       "       0.        , 0.        , 0.        , 0.        , 0.        ,\n",
       "       0.        , 0.        , 0.        , 0.        , 0.        ,\n",
       "       0.        , 0.        , 0.        , 0.        , 0.        ,\n",
       "       0.        , 0.        , 0.        , 0.72941176, 0.95686275,\n",
       "       0.16470588, 0.        , 0.        , 0.        , 0.        ,\n",
       "       0.        , 0.        , 0.        , 0.        , 0.        ,\n",
       "       0.        , 0.        , 0.        , 0.        , 0.        ,\n",
       "       0.        , 0.        , 0.        , 0.        , 0.        ,\n",
       "       0.        , 0.        , 0.        , 0.        , 0.        ,\n",
       "       0.        , 0.05490196, 0.8745098 , 0.30588235, 0.        ,\n",
       "       0.        , 0.        , 0.        , 0.        , 0.        ,\n",
       "       0.        , 0.        , 0.        , 0.        , 0.        ,\n",
       "       0.        , 0.        , 0.        , 0.        , 0.        ,\n",
       "       0.        , 0.        , 0.        , 0.        , 0.        ,\n",
       "       0.        , 0.        , 0.        , 0.        , 0.        ,\n",
       "       0.        , 0.        , 0.        , 0.        , 0.        ,\n",
       "       0.        , 0.        , 0.        , 0.        , 0.        ,\n",
       "       0.        , 0.        , 0.        , 0.        , 0.        ,\n",
       "       0.        , 0.        , 0.        , 0.        , 0.        ,\n",
       "       0.        , 0.        , 0.        , 0.        , 0.        ,\n",
       "       0.        , 0.        , 0.        , 0.        , 0.        ,\n",
       "       0.        , 0.        , 0.        , 0.        ])"
      ]
     },
     "execution_count": 22,
     "metadata": {},
     "output_type": "execute_result"
    }
   ],
   "source": [
    "X_test_flattened[7]"
   ]
  },
  {
   "cell_type": "code",
   "execution_count": 23,
   "metadata": {},
   "outputs": [
    {
     "data": {
      "application/vnd.microsoft.datawrangler.viewer.v0+json": {
       "columns": [
        {
         "name": "index",
         "rawType": "int64",
         "type": "integer"
        },
        {
         "name": "0",
         "rawType": "float64",
         "type": "float"
        },
        {
         "name": "1",
         "rawType": "float64",
         "type": "float"
        },
        {
         "name": "2",
         "rawType": "float64",
         "type": "float"
        },
        {
         "name": "3",
         "rawType": "float64",
         "type": "float"
        },
        {
         "name": "4",
         "rawType": "float64",
         "type": "float"
        },
        {
         "name": "5",
         "rawType": "float64",
         "type": "float"
        },
        {
         "name": "6",
         "rawType": "float64",
         "type": "float"
        },
        {
         "name": "7",
         "rawType": "float64",
         "type": "float"
        },
        {
         "name": "8",
         "rawType": "float64",
         "type": "float"
        },
        {
         "name": "9",
         "rawType": "float64",
         "type": "float"
        },
        {
         "name": "10",
         "rawType": "float64",
         "type": "float"
        },
        {
         "name": "11",
         "rawType": "float64",
         "type": "float"
        },
        {
         "name": "12",
         "rawType": "float64",
         "type": "float"
        },
        {
         "name": "13",
         "rawType": "float64",
         "type": "float"
        },
        {
         "name": "14",
         "rawType": "float64",
         "type": "float"
        },
        {
         "name": "15",
         "rawType": "float64",
         "type": "float"
        },
        {
         "name": "16",
         "rawType": "float64",
         "type": "float"
        },
        {
         "name": "17",
         "rawType": "float64",
         "type": "float"
        },
        {
         "name": "18",
         "rawType": "float64",
         "type": "float"
        },
        {
         "name": "19",
         "rawType": "float64",
         "type": "float"
        },
        {
         "name": "20",
         "rawType": "float64",
         "type": "float"
        },
        {
         "name": "21",
         "rawType": "float64",
         "type": "float"
        },
        {
         "name": "22",
         "rawType": "float64",
         "type": "float"
        },
        {
         "name": "23",
         "rawType": "float64",
         "type": "float"
        },
        {
         "name": "24",
         "rawType": "float64",
         "type": "float"
        },
        {
         "name": "25",
         "rawType": "float64",
         "type": "float"
        },
        {
         "name": "26",
         "rawType": "float64",
         "type": "float"
        },
        {
         "name": "27",
         "rawType": "float64",
         "type": "float"
        },
        {
         "name": "28",
         "rawType": "float64",
         "type": "float"
        },
        {
         "name": "29",
         "rawType": "float64",
         "type": "float"
        },
        {
         "name": "30",
         "rawType": "float64",
         "type": "float"
        },
        {
         "name": "31",
         "rawType": "float64",
         "type": "float"
        },
        {
         "name": "32",
         "rawType": "float64",
         "type": "float"
        },
        {
         "name": "33",
         "rawType": "float64",
         "type": "float"
        },
        {
         "name": "34",
         "rawType": "float64",
         "type": "float"
        },
        {
         "name": "35",
         "rawType": "float64",
         "type": "float"
        },
        {
         "name": "36",
         "rawType": "float64",
         "type": "float"
        },
        {
         "name": "37",
         "rawType": "float64",
         "type": "float"
        },
        {
         "name": "38",
         "rawType": "float64",
         "type": "float"
        },
        {
         "name": "39",
         "rawType": "float64",
         "type": "float"
        },
        {
         "name": "40",
         "rawType": "float64",
         "type": "float"
        },
        {
         "name": "41",
         "rawType": "float64",
         "type": "float"
        },
        {
         "name": "42",
         "rawType": "float64",
         "type": "float"
        },
        {
         "name": "43",
         "rawType": "float64",
         "type": "float"
        },
        {
         "name": "44",
         "rawType": "float64",
         "type": "float"
        },
        {
         "name": "45",
         "rawType": "float64",
         "type": "float"
        },
        {
         "name": "46",
         "rawType": "float64",
         "type": "float"
        },
        {
         "name": "47",
         "rawType": "float64",
         "type": "float"
        },
        {
         "name": "48",
         "rawType": "float64",
         "type": "float"
        },
        {
         "name": "49",
         "rawType": "float64",
         "type": "float"
        },
        {
         "name": "50",
         "rawType": "float64",
         "type": "float"
        },
        {
         "name": "51",
         "rawType": "float64",
         "type": "float"
        },
        {
         "name": "52",
         "rawType": "float64",
         "type": "float"
        },
        {
         "name": "53",
         "rawType": "float64",
         "type": "float"
        },
        {
         "name": "54",
         "rawType": "float64",
         "type": "float"
        },
        {
         "name": "55",
         "rawType": "float64",
         "type": "float"
        },
        {
         "name": "56",
         "rawType": "float64",
         "type": "float"
        },
        {
         "name": "57",
         "rawType": "float64",
         "type": "float"
        },
        {
         "name": "58",
         "rawType": "float64",
         "type": "float"
        },
        {
         "name": "59",
         "rawType": "float64",
         "type": "float"
        },
        {
         "name": "60",
         "rawType": "float64",
         "type": "float"
        },
        {
         "name": "61",
         "rawType": "float64",
         "type": "float"
        },
        {
         "name": "62",
         "rawType": "float64",
         "type": "float"
        },
        {
         "name": "63",
         "rawType": "float64",
         "type": "float"
        },
        {
         "name": "64",
         "rawType": "float64",
         "type": "float"
        },
        {
         "name": "65",
         "rawType": "float64",
         "type": "float"
        },
        {
         "name": "66",
         "rawType": "float64",
         "type": "float"
        },
        {
         "name": "67",
         "rawType": "float64",
         "type": "float"
        },
        {
         "name": "68",
         "rawType": "float64",
         "type": "float"
        },
        {
         "name": "69",
         "rawType": "float64",
         "type": "float"
        },
        {
         "name": "70",
         "rawType": "float64",
         "type": "float"
        },
        {
         "name": "71",
         "rawType": "float64",
         "type": "float"
        },
        {
         "name": "72",
         "rawType": "float64",
         "type": "float"
        },
        {
         "name": "73",
         "rawType": "float64",
         "type": "float"
        },
        {
         "name": "74",
         "rawType": "float64",
         "type": "float"
        },
        {
         "name": "75",
         "rawType": "float64",
         "type": "float"
        },
        {
         "name": "76",
         "rawType": "float64",
         "type": "float"
        },
        {
         "name": "77",
         "rawType": "float64",
         "type": "float"
        },
        {
         "name": "78",
         "rawType": "float64",
         "type": "float"
        },
        {
         "name": "79",
         "rawType": "float64",
         "type": "float"
        },
        {
         "name": "80",
         "rawType": "float64",
         "type": "float"
        },
        {
         "name": "81",
         "rawType": "float64",
         "type": "float"
        },
        {
         "name": "82",
         "rawType": "float64",
         "type": "float"
        },
        {
         "name": "83",
         "rawType": "float64",
         "type": "float"
        },
        {
         "name": "84",
         "rawType": "float64",
         "type": "float"
        },
        {
         "name": "85",
         "rawType": "float64",
         "type": "float"
        },
        {
         "name": "86",
         "rawType": "float64",
         "type": "float"
        },
        {
         "name": "87",
         "rawType": "float64",
         "type": "float"
        },
        {
         "name": "88",
         "rawType": "float64",
         "type": "float"
        },
        {
         "name": "89",
         "rawType": "float64",
         "type": "float"
        },
        {
         "name": "90",
         "rawType": "float64",
         "type": "float"
        },
        {
         "name": "91",
         "rawType": "float64",
         "type": "float"
        },
        {
         "name": "92",
         "rawType": "float64",
         "type": "float"
        },
        {
         "name": "93",
         "rawType": "float64",
         "type": "float"
        },
        {
         "name": "94",
         "rawType": "float64",
         "type": "float"
        },
        {
         "name": "95",
         "rawType": "float64",
         "type": "float"
        },
        {
         "name": "96",
         "rawType": "float64",
         "type": "float"
        },
        {
         "name": "97",
         "rawType": "float64",
         "type": "float"
        },
        {
         "name": "98",
         "rawType": "float64",
         "type": "float"
        },
        {
         "name": "99",
         "rawType": "float64",
         "type": "float"
        },
        {
         "name": "100",
         "rawType": "float64",
         "type": "float"
        },
        {
         "name": "101",
         "rawType": "float64",
         "type": "float"
        },
        {
         "name": "102",
         "rawType": "float64",
         "type": "float"
        },
        {
         "name": "103",
         "rawType": "float64",
         "type": "float"
        },
        {
         "name": "104",
         "rawType": "float64",
         "type": "float"
        },
        {
         "name": "105",
         "rawType": "float64",
         "type": "float"
        },
        {
         "name": "106",
         "rawType": "float64",
         "type": "float"
        },
        {
         "name": "107",
         "rawType": "float64",
         "type": "float"
        },
        {
         "name": "108",
         "rawType": "float64",
         "type": "float"
        },
        {
         "name": "109",
         "rawType": "float64",
         "type": "float"
        },
        {
         "name": "110",
         "rawType": "float64",
         "type": "float"
        },
        {
         "name": "111",
         "rawType": "float64",
         "type": "float"
        },
        {
         "name": "112",
         "rawType": "float64",
         "type": "float"
        },
        {
         "name": "113",
         "rawType": "float64",
         "type": "float"
        },
        {
         "name": "114",
         "rawType": "float64",
         "type": "float"
        },
        {
         "name": "115",
         "rawType": "float64",
         "type": "float"
        },
        {
         "name": "116",
         "rawType": "float64",
         "type": "float"
        },
        {
         "name": "117",
         "rawType": "float64",
         "type": "float"
        },
        {
         "name": "118",
         "rawType": "float64",
         "type": "float"
        },
        {
         "name": "119",
         "rawType": "float64",
         "type": "float"
        },
        {
         "name": "120",
         "rawType": "float64",
         "type": "float"
        },
        {
         "name": "121",
         "rawType": "float64",
         "type": "float"
        },
        {
         "name": "122",
         "rawType": "float64",
         "type": "float"
        },
        {
         "name": "123",
         "rawType": "float64",
         "type": "float"
        },
        {
         "name": "124",
         "rawType": "float64",
         "type": "float"
        },
        {
         "name": "125",
         "rawType": "float64",
         "type": "float"
        },
        {
         "name": "126",
         "rawType": "float64",
         "type": "float"
        },
        {
         "name": "127",
         "rawType": "float64",
         "type": "float"
        },
        {
         "name": "128",
         "rawType": "float64",
         "type": "float"
        },
        {
         "name": "129",
         "rawType": "float64",
         "type": "float"
        },
        {
         "name": "130",
         "rawType": "float64",
         "type": "float"
        },
        {
         "name": "131",
         "rawType": "float64",
         "type": "float"
        },
        {
         "name": "132",
         "rawType": "float64",
         "type": "float"
        },
        {
         "name": "133",
         "rawType": "float64",
         "type": "float"
        },
        {
         "name": "134",
         "rawType": "float64",
         "type": "float"
        },
        {
         "name": "135",
         "rawType": "float64",
         "type": "float"
        },
        {
         "name": "136",
         "rawType": "float64",
         "type": "float"
        },
        {
         "name": "137",
         "rawType": "float64",
         "type": "float"
        },
        {
         "name": "138",
         "rawType": "float64",
         "type": "float"
        },
        {
         "name": "139",
         "rawType": "float64",
         "type": "float"
        },
        {
         "name": "140",
         "rawType": "float64",
         "type": "float"
        },
        {
         "name": "141",
         "rawType": "float64",
         "type": "float"
        },
        {
         "name": "142",
         "rawType": "float64",
         "type": "float"
        },
        {
         "name": "143",
         "rawType": "float64",
         "type": "float"
        },
        {
         "name": "144",
         "rawType": "float64",
         "type": "float"
        },
        {
         "name": "145",
         "rawType": "float64",
         "type": "float"
        },
        {
         "name": "146",
         "rawType": "float64",
         "type": "float"
        },
        {
         "name": "147",
         "rawType": "float64",
         "type": "float"
        },
        {
         "name": "148",
         "rawType": "float64",
         "type": "float"
        },
        {
         "name": "149",
         "rawType": "float64",
         "type": "float"
        },
        {
         "name": "150",
         "rawType": "float64",
         "type": "float"
        },
        {
         "name": "151",
         "rawType": "float64",
         "type": "float"
        },
        {
         "name": "152",
         "rawType": "float64",
         "type": "float"
        },
        {
         "name": "153",
         "rawType": "float64",
         "type": "float"
        },
        {
         "name": "154",
         "rawType": "float64",
         "type": "float"
        },
        {
         "name": "155",
         "rawType": "float64",
         "type": "float"
        },
        {
         "name": "156",
         "rawType": "float64",
         "type": "float"
        },
        {
         "name": "157",
         "rawType": "float64",
         "type": "float"
        },
        {
         "name": "158",
         "rawType": "float64",
         "type": "float"
        },
        {
         "name": "159",
         "rawType": "float64",
         "type": "float"
        },
        {
         "name": "160",
         "rawType": "float64",
         "type": "float"
        },
        {
         "name": "161",
         "rawType": "float64",
         "type": "float"
        },
        {
         "name": "162",
         "rawType": "float64",
         "type": "float"
        },
        {
         "name": "163",
         "rawType": "float64",
         "type": "float"
        },
        {
         "name": "164",
         "rawType": "float64",
         "type": "float"
        },
        {
         "name": "165",
         "rawType": "float64",
         "type": "float"
        },
        {
         "name": "166",
         "rawType": "float64",
         "type": "float"
        },
        {
         "name": "167",
         "rawType": "float64",
         "type": "float"
        },
        {
         "name": "168",
         "rawType": "float64",
         "type": "float"
        },
        {
         "name": "169",
         "rawType": "float64",
         "type": "float"
        },
        {
         "name": "170",
         "rawType": "float64",
         "type": "float"
        },
        {
         "name": "171",
         "rawType": "float64",
         "type": "float"
        },
        {
         "name": "172",
         "rawType": "float64",
         "type": "float"
        },
        {
         "name": "173",
         "rawType": "float64",
         "type": "float"
        },
        {
         "name": "174",
         "rawType": "float64",
         "type": "float"
        },
        {
         "name": "175",
         "rawType": "float64",
         "type": "float"
        },
        {
         "name": "176",
         "rawType": "float64",
         "type": "float"
        },
        {
         "name": "177",
         "rawType": "float64",
         "type": "float"
        },
        {
         "name": "178",
         "rawType": "float64",
         "type": "float"
        },
        {
         "name": "179",
         "rawType": "float64",
         "type": "float"
        },
        {
         "name": "180",
         "rawType": "float64",
         "type": "float"
        },
        {
         "name": "181",
         "rawType": "float64",
         "type": "float"
        },
        {
         "name": "182",
         "rawType": "float64",
         "type": "float"
        },
        {
         "name": "183",
         "rawType": "float64",
         "type": "float"
        },
        {
         "name": "184",
         "rawType": "float64",
         "type": "float"
        },
        {
         "name": "185",
         "rawType": "float64",
         "type": "float"
        },
        {
         "name": "186",
         "rawType": "float64",
         "type": "float"
        },
        {
         "name": "187",
         "rawType": "float64",
         "type": "float"
        },
        {
         "name": "188",
         "rawType": "float64",
         "type": "float"
        },
        {
         "name": "189",
         "rawType": "float64",
         "type": "float"
        },
        {
         "name": "190",
         "rawType": "float64",
         "type": "float"
        },
        {
         "name": "191",
         "rawType": "float64",
         "type": "float"
        },
        {
         "name": "192",
         "rawType": "float64",
         "type": "float"
        },
        {
         "name": "193",
         "rawType": "float64",
         "type": "float"
        },
        {
         "name": "194",
         "rawType": "float64",
         "type": "float"
        },
        {
         "name": "195",
         "rawType": "float64",
         "type": "float"
        },
        {
         "name": "196",
         "rawType": "float64",
         "type": "float"
        },
        {
         "name": "197",
         "rawType": "float64",
         "type": "float"
        },
        {
         "name": "198",
         "rawType": "float64",
         "type": "float"
        },
        {
         "name": "199",
         "rawType": "float64",
         "type": "float"
        },
        {
         "name": "200",
         "rawType": "float64",
         "type": "float"
        },
        {
         "name": "201",
         "rawType": "float64",
         "type": "float"
        },
        {
         "name": "202",
         "rawType": "float64",
         "type": "float"
        },
        {
         "name": "203",
         "rawType": "float64",
         "type": "float"
        },
        {
         "name": "204",
         "rawType": "float64",
         "type": "float"
        },
        {
         "name": "205",
         "rawType": "float64",
         "type": "float"
        },
        {
         "name": "206",
         "rawType": "float64",
         "type": "float"
        },
        {
         "name": "207",
         "rawType": "float64",
         "type": "float"
        },
        {
         "name": "208",
         "rawType": "float64",
         "type": "float"
        },
        {
         "name": "209",
         "rawType": "float64",
         "type": "float"
        },
        {
         "name": "210",
         "rawType": "float64",
         "type": "float"
        },
        {
         "name": "211",
         "rawType": "float64",
         "type": "float"
        },
        {
         "name": "212",
         "rawType": "float64",
         "type": "float"
        },
        {
         "name": "213",
         "rawType": "float64",
         "type": "float"
        },
        {
         "name": "214",
         "rawType": "float64",
         "type": "float"
        },
        {
         "name": "215",
         "rawType": "float64",
         "type": "float"
        },
        {
         "name": "216",
         "rawType": "float64",
         "type": "float"
        },
        {
         "name": "217",
         "rawType": "float64",
         "type": "float"
        },
        {
         "name": "218",
         "rawType": "float64",
         "type": "float"
        },
        {
         "name": "219",
         "rawType": "float64",
         "type": "float"
        },
        {
         "name": "220",
         "rawType": "float64",
         "type": "float"
        },
        {
         "name": "221",
         "rawType": "float64",
         "type": "float"
        },
        {
         "name": "222",
         "rawType": "float64",
         "type": "float"
        },
        {
         "name": "223",
         "rawType": "float64",
         "type": "float"
        },
        {
         "name": "224",
         "rawType": "float64",
         "type": "float"
        },
        {
         "name": "225",
         "rawType": "float64",
         "type": "float"
        },
        {
         "name": "226",
         "rawType": "float64",
         "type": "float"
        },
        {
         "name": "227",
         "rawType": "float64",
         "type": "float"
        },
        {
         "name": "228",
         "rawType": "float64",
         "type": "float"
        },
        {
         "name": "229",
         "rawType": "float64",
         "type": "float"
        },
        {
         "name": "230",
         "rawType": "float64",
         "type": "float"
        },
        {
         "name": "231",
         "rawType": "float64",
         "type": "float"
        },
        {
         "name": "232",
         "rawType": "float64",
         "type": "float"
        },
        {
         "name": "233",
         "rawType": "float64",
         "type": "float"
        },
        {
         "name": "234",
         "rawType": "float64",
         "type": "float"
        },
        {
         "name": "235",
         "rawType": "float64",
         "type": "float"
        },
        {
         "name": "236",
         "rawType": "float64",
         "type": "float"
        },
        {
         "name": "237",
         "rawType": "float64",
         "type": "float"
        },
        {
         "name": "238",
         "rawType": "float64",
         "type": "float"
        },
        {
         "name": "239",
         "rawType": "float64",
         "type": "float"
        },
        {
         "name": "240",
         "rawType": "float64",
         "type": "float"
        },
        {
         "name": "241",
         "rawType": "float64",
         "type": "float"
        },
        {
         "name": "242",
         "rawType": "float64",
         "type": "float"
        },
        {
         "name": "243",
         "rawType": "float64",
         "type": "float"
        },
        {
         "name": "244",
         "rawType": "float64",
         "type": "float"
        },
        {
         "name": "245",
         "rawType": "float64",
         "type": "float"
        },
        {
         "name": "246",
         "rawType": "float64",
         "type": "float"
        },
        {
         "name": "247",
         "rawType": "float64",
         "type": "float"
        },
        {
         "name": "248",
         "rawType": "float64",
         "type": "float"
        },
        {
         "name": "249",
         "rawType": "float64",
         "type": "float"
        },
        {
         "name": "250",
         "rawType": "float64",
         "type": "float"
        },
        {
         "name": "251",
         "rawType": "float64",
         "type": "float"
        },
        {
         "name": "252",
         "rawType": "float64",
         "type": "float"
        },
        {
         "name": "253",
         "rawType": "float64",
         "type": "float"
        },
        {
         "name": "254",
         "rawType": "float64",
         "type": "float"
        },
        {
         "name": "255",
         "rawType": "float64",
         "type": "float"
        },
        {
         "name": "256",
         "rawType": "float64",
         "type": "float"
        },
        {
         "name": "257",
         "rawType": "float64",
         "type": "float"
        },
        {
         "name": "258",
         "rawType": "float64",
         "type": "float"
        },
        {
         "name": "259",
         "rawType": "float64",
         "type": "float"
        },
        {
         "name": "260",
         "rawType": "float64",
         "type": "float"
        },
        {
         "name": "261",
         "rawType": "float64",
         "type": "float"
        },
        {
         "name": "262",
         "rawType": "float64",
         "type": "float"
        },
        {
         "name": "263",
         "rawType": "float64",
         "type": "float"
        },
        {
         "name": "264",
         "rawType": "float64",
         "type": "float"
        },
        {
         "name": "265",
         "rawType": "float64",
         "type": "float"
        },
        {
         "name": "266",
         "rawType": "float64",
         "type": "float"
        },
        {
         "name": "267",
         "rawType": "float64",
         "type": "float"
        },
        {
         "name": "268",
         "rawType": "float64",
         "type": "float"
        },
        {
         "name": "269",
         "rawType": "float64",
         "type": "float"
        },
        {
         "name": "270",
         "rawType": "float64",
         "type": "float"
        },
        {
         "name": "271",
         "rawType": "float64",
         "type": "float"
        },
        {
         "name": "272",
         "rawType": "float64",
         "type": "float"
        },
        {
         "name": "273",
         "rawType": "float64",
         "type": "float"
        },
        {
         "name": "274",
         "rawType": "float64",
         "type": "float"
        },
        {
         "name": "275",
         "rawType": "float64",
         "type": "float"
        },
        {
         "name": "276",
         "rawType": "float64",
         "type": "float"
        },
        {
         "name": "277",
         "rawType": "float64",
         "type": "float"
        },
        {
         "name": "278",
         "rawType": "float64",
         "type": "float"
        },
        {
         "name": "279",
         "rawType": "float64",
         "type": "float"
        },
        {
         "name": "280",
         "rawType": "float64",
         "type": "float"
        },
        {
         "name": "281",
         "rawType": "float64",
         "type": "float"
        },
        {
         "name": "282",
         "rawType": "float64",
         "type": "float"
        },
        {
         "name": "283",
         "rawType": "float64",
         "type": "float"
        },
        {
         "name": "284",
         "rawType": "float64",
         "type": "float"
        },
        {
         "name": "285",
         "rawType": "float64",
         "type": "float"
        },
        {
         "name": "286",
         "rawType": "float64",
         "type": "float"
        },
        {
         "name": "287",
         "rawType": "float64",
         "type": "float"
        },
        {
         "name": "288",
         "rawType": "float64",
         "type": "float"
        },
        {
         "name": "289",
         "rawType": "float64",
         "type": "float"
        },
        {
         "name": "290",
         "rawType": "float64",
         "type": "float"
        },
        {
         "name": "291",
         "rawType": "float64",
         "type": "float"
        },
        {
         "name": "292",
         "rawType": "float64",
         "type": "float"
        },
        {
         "name": "293",
         "rawType": "float64",
         "type": "float"
        },
        {
         "name": "294",
         "rawType": "float64",
         "type": "float"
        },
        {
         "name": "295",
         "rawType": "float64",
         "type": "float"
        },
        {
         "name": "296",
         "rawType": "float64",
         "type": "float"
        },
        {
         "name": "297",
         "rawType": "float64",
         "type": "float"
        },
        {
         "name": "298",
         "rawType": "float64",
         "type": "float"
        },
        {
         "name": "299",
         "rawType": "float64",
         "type": "float"
        },
        {
         "name": "300",
         "rawType": "float64",
         "type": "float"
        },
        {
         "name": "301",
         "rawType": "float64",
         "type": "float"
        },
        {
         "name": "302",
         "rawType": "float64",
         "type": "float"
        },
        {
         "name": "303",
         "rawType": "float64",
         "type": "float"
        },
        {
         "name": "304",
         "rawType": "float64",
         "type": "float"
        },
        {
         "name": "305",
         "rawType": "float64",
         "type": "float"
        },
        {
         "name": "306",
         "rawType": "float64",
         "type": "float"
        },
        {
         "name": "307",
         "rawType": "float64",
         "type": "float"
        },
        {
         "name": "308",
         "rawType": "float64",
         "type": "float"
        },
        {
         "name": "309",
         "rawType": "float64",
         "type": "float"
        },
        {
         "name": "310",
         "rawType": "float64",
         "type": "float"
        },
        {
         "name": "311",
         "rawType": "float64",
         "type": "float"
        },
        {
         "name": "312",
         "rawType": "float64",
         "type": "float"
        },
        {
         "name": "313",
         "rawType": "float64",
         "type": "float"
        },
        {
         "name": "314",
         "rawType": "float64",
         "type": "float"
        },
        {
         "name": "315",
         "rawType": "float64",
         "type": "float"
        },
        {
         "name": "316",
         "rawType": "float64",
         "type": "float"
        },
        {
         "name": "317",
         "rawType": "float64",
         "type": "float"
        },
        {
         "name": "318",
         "rawType": "float64",
         "type": "float"
        },
        {
         "name": "319",
         "rawType": "float64",
         "type": "float"
        },
        {
         "name": "320",
         "rawType": "float64",
         "type": "float"
        },
        {
         "name": "321",
         "rawType": "float64",
         "type": "float"
        },
        {
         "name": "322",
         "rawType": "float64",
         "type": "float"
        },
        {
         "name": "323",
         "rawType": "float64",
         "type": "float"
        },
        {
         "name": "324",
         "rawType": "float64",
         "type": "float"
        },
        {
         "name": "325",
         "rawType": "float64",
         "type": "float"
        },
        {
         "name": "326",
         "rawType": "float64",
         "type": "float"
        },
        {
         "name": "327",
         "rawType": "float64",
         "type": "float"
        },
        {
         "name": "328",
         "rawType": "float64",
         "type": "float"
        },
        {
         "name": "329",
         "rawType": "float64",
         "type": "float"
        },
        {
         "name": "330",
         "rawType": "float64",
         "type": "float"
        },
        {
         "name": "331",
         "rawType": "float64",
         "type": "float"
        },
        {
         "name": "332",
         "rawType": "float64",
         "type": "float"
        },
        {
         "name": "333",
         "rawType": "float64",
         "type": "float"
        },
        {
         "name": "334",
         "rawType": "float64",
         "type": "float"
        },
        {
         "name": "335",
         "rawType": "float64",
         "type": "float"
        },
        {
         "name": "336",
         "rawType": "float64",
         "type": "float"
        },
        {
         "name": "337",
         "rawType": "float64",
         "type": "float"
        },
        {
         "name": "338",
         "rawType": "float64",
         "type": "float"
        },
        {
         "name": "339",
         "rawType": "float64",
         "type": "float"
        },
        {
         "name": "340",
         "rawType": "float64",
         "type": "float"
        },
        {
         "name": "341",
         "rawType": "float64",
         "type": "float"
        },
        {
         "name": "342",
         "rawType": "float64",
         "type": "float"
        },
        {
         "name": "343",
         "rawType": "float64",
         "type": "float"
        },
        {
         "name": "344",
         "rawType": "float64",
         "type": "float"
        },
        {
         "name": "345",
         "rawType": "float64",
         "type": "float"
        },
        {
         "name": "346",
         "rawType": "float64",
         "type": "float"
        },
        {
         "name": "347",
         "rawType": "float64",
         "type": "float"
        },
        {
         "name": "348",
         "rawType": "float64",
         "type": "float"
        },
        {
         "name": "349",
         "rawType": "float64",
         "type": "float"
        },
        {
         "name": "350",
         "rawType": "float64",
         "type": "float"
        },
        {
         "name": "351",
         "rawType": "float64",
         "type": "float"
        },
        {
         "name": "352",
         "rawType": "float64",
         "type": "float"
        },
        {
         "name": "353",
         "rawType": "float64",
         "type": "float"
        },
        {
         "name": "354",
         "rawType": "float64",
         "type": "float"
        },
        {
         "name": "355",
         "rawType": "float64",
         "type": "float"
        },
        {
         "name": "356",
         "rawType": "float64",
         "type": "float"
        },
        {
         "name": "357",
         "rawType": "float64",
         "type": "float"
        },
        {
         "name": "358",
         "rawType": "float64",
         "type": "float"
        },
        {
         "name": "359",
         "rawType": "float64",
         "type": "float"
        },
        {
         "name": "360",
         "rawType": "float64",
         "type": "float"
        },
        {
         "name": "361",
         "rawType": "float64",
         "type": "float"
        },
        {
         "name": "362",
         "rawType": "float64",
         "type": "float"
        },
        {
         "name": "363",
         "rawType": "float64",
         "type": "float"
        },
        {
         "name": "364",
         "rawType": "float64",
         "type": "float"
        },
        {
         "name": "365",
         "rawType": "float64",
         "type": "float"
        },
        {
         "name": "366",
         "rawType": "float64",
         "type": "float"
        },
        {
         "name": "367",
         "rawType": "float64",
         "type": "float"
        },
        {
         "name": "368",
         "rawType": "float64",
         "type": "float"
        },
        {
         "name": "369",
         "rawType": "float64",
         "type": "float"
        },
        {
         "name": "370",
         "rawType": "float64",
         "type": "float"
        },
        {
         "name": "371",
         "rawType": "float64",
         "type": "float"
        },
        {
         "name": "372",
         "rawType": "float64",
         "type": "float"
        },
        {
         "name": "373",
         "rawType": "float64",
         "type": "float"
        },
        {
         "name": "374",
         "rawType": "float64",
         "type": "float"
        },
        {
         "name": "375",
         "rawType": "float64",
         "type": "float"
        },
        {
         "name": "376",
         "rawType": "float64",
         "type": "float"
        },
        {
         "name": "377",
         "rawType": "float64",
         "type": "float"
        },
        {
         "name": "378",
         "rawType": "float64",
         "type": "float"
        },
        {
         "name": "379",
         "rawType": "float64",
         "type": "float"
        },
        {
         "name": "380",
         "rawType": "float64",
         "type": "float"
        },
        {
         "name": "381",
         "rawType": "float64",
         "type": "float"
        },
        {
         "name": "382",
         "rawType": "float64",
         "type": "float"
        },
        {
         "name": "383",
         "rawType": "float64",
         "type": "float"
        },
        {
         "name": "384",
         "rawType": "float64",
         "type": "float"
        },
        {
         "name": "385",
         "rawType": "float64",
         "type": "float"
        },
        {
         "name": "386",
         "rawType": "float64",
         "type": "float"
        },
        {
         "name": "387",
         "rawType": "float64",
         "type": "float"
        },
        {
         "name": "388",
         "rawType": "float64",
         "type": "float"
        },
        {
         "name": "389",
         "rawType": "float64",
         "type": "float"
        },
        {
         "name": "390",
         "rawType": "float64",
         "type": "float"
        },
        {
         "name": "391",
         "rawType": "float64",
         "type": "float"
        },
        {
         "name": "392",
         "rawType": "float64",
         "type": "float"
        },
        {
         "name": "393",
         "rawType": "float64",
         "type": "float"
        },
        {
         "name": "394",
         "rawType": "float64",
         "type": "float"
        },
        {
         "name": "395",
         "rawType": "float64",
         "type": "float"
        },
        {
         "name": "396",
         "rawType": "float64",
         "type": "float"
        },
        {
         "name": "397",
         "rawType": "float64",
         "type": "float"
        },
        {
         "name": "398",
         "rawType": "float64",
         "type": "float"
        },
        {
         "name": "399",
         "rawType": "float64",
         "type": "float"
        },
        {
         "name": "400",
         "rawType": "float64",
         "type": "float"
        },
        {
         "name": "401",
         "rawType": "float64",
         "type": "float"
        },
        {
         "name": "402",
         "rawType": "float64",
         "type": "float"
        },
        {
         "name": "403",
         "rawType": "float64",
         "type": "float"
        },
        {
         "name": "404",
         "rawType": "float64",
         "type": "float"
        },
        {
         "name": "405",
         "rawType": "float64",
         "type": "float"
        },
        {
         "name": "406",
         "rawType": "float64",
         "type": "float"
        },
        {
         "name": "407",
         "rawType": "float64",
         "type": "float"
        },
        {
         "name": "408",
         "rawType": "float64",
         "type": "float"
        },
        {
         "name": "409",
         "rawType": "float64",
         "type": "float"
        },
        {
         "name": "410",
         "rawType": "float64",
         "type": "float"
        },
        {
         "name": "411",
         "rawType": "float64",
         "type": "float"
        },
        {
         "name": "412",
         "rawType": "float64",
         "type": "float"
        },
        {
         "name": "413",
         "rawType": "float64",
         "type": "float"
        },
        {
         "name": "414",
         "rawType": "float64",
         "type": "float"
        },
        {
         "name": "415",
         "rawType": "float64",
         "type": "float"
        },
        {
         "name": "416",
         "rawType": "float64",
         "type": "float"
        },
        {
         "name": "417",
         "rawType": "float64",
         "type": "float"
        },
        {
         "name": "418",
         "rawType": "float64",
         "type": "float"
        },
        {
         "name": "419",
         "rawType": "float64",
         "type": "float"
        },
        {
         "name": "420",
         "rawType": "float64",
         "type": "float"
        },
        {
         "name": "421",
         "rawType": "float64",
         "type": "float"
        },
        {
         "name": "422",
         "rawType": "float64",
         "type": "float"
        },
        {
         "name": "423",
         "rawType": "float64",
         "type": "float"
        },
        {
         "name": "424",
         "rawType": "float64",
         "type": "float"
        },
        {
         "name": "425",
         "rawType": "float64",
         "type": "float"
        },
        {
         "name": "426",
         "rawType": "float64",
         "type": "float"
        },
        {
         "name": "427",
         "rawType": "float64",
         "type": "float"
        },
        {
         "name": "428",
         "rawType": "float64",
         "type": "float"
        },
        {
         "name": "429",
         "rawType": "float64",
         "type": "float"
        },
        {
         "name": "430",
         "rawType": "float64",
         "type": "float"
        },
        {
         "name": "431",
         "rawType": "float64",
         "type": "float"
        },
        {
         "name": "432",
         "rawType": "float64",
         "type": "float"
        },
        {
         "name": "433",
         "rawType": "float64",
         "type": "float"
        },
        {
         "name": "434",
         "rawType": "float64",
         "type": "float"
        },
        {
         "name": "435",
         "rawType": "float64",
         "type": "float"
        },
        {
         "name": "436",
         "rawType": "float64",
         "type": "float"
        },
        {
         "name": "437",
         "rawType": "float64",
         "type": "float"
        },
        {
         "name": "438",
         "rawType": "float64",
         "type": "float"
        },
        {
         "name": "439",
         "rawType": "float64",
         "type": "float"
        },
        {
         "name": "440",
         "rawType": "float64",
         "type": "float"
        },
        {
         "name": "441",
         "rawType": "float64",
         "type": "float"
        },
        {
         "name": "442",
         "rawType": "float64",
         "type": "float"
        },
        {
         "name": "443",
         "rawType": "float64",
         "type": "float"
        },
        {
         "name": "444",
         "rawType": "float64",
         "type": "float"
        },
        {
         "name": "445",
         "rawType": "float64",
         "type": "float"
        },
        {
         "name": "446",
         "rawType": "float64",
         "type": "float"
        },
        {
         "name": "447",
         "rawType": "float64",
         "type": "float"
        },
        {
         "name": "448",
         "rawType": "float64",
         "type": "float"
        },
        {
         "name": "449",
         "rawType": "float64",
         "type": "float"
        },
        {
         "name": "450",
         "rawType": "float64",
         "type": "float"
        },
        {
         "name": "451",
         "rawType": "float64",
         "type": "float"
        },
        {
         "name": "452",
         "rawType": "float64",
         "type": "float"
        },
        {
         "name": "453",
         "rawType": "float64",
         "type": "float"
        },
        {
         "name": "454",
         "rawType": "float64",
         "type": "float"
        },
        {
         "name": "455",
         "rawType": "float64",
         "type": "float"
        },
        {
         "name": "456",
         "rawType": "float64",
         "type": "float"
        },
        {
         "name": "457",
         "rawType": "float64",
         "type": "float"
        },
        {
         "name": "458",
         "rawType": "float64",
         "type": "float"
        },
        {
         "name": "459",
         "rawType": "float64",
         "type": "float"
        },
        {
         "name": "460",
         "rawType": "float64",
         "type": "float"
        },
        {
         "name": "461",
         "rawType": "float64",
         "type": "float"
        },
        {
         "name": "462",
         "rawType": "float64",
         "type": "float"
        },
        {
         "name": "463",
         "rawType": "float64",
         "type": "float"
        },
        {
         "name": "464",
         "rawType": "float64",
         "type": "float"
        },
        {
         "name": "465",
         "rawType": "float64",
         "type": "float"
        },
        {
         "name": "466",
         "rawType": "float64",
         "type": "float"
        },
        {
         "name": "467",
         "rawType": "float64",
         "type": "float"
        },
        {
         "name": "468",
         "rawType": "float64",
         "type": "float"
        },
        {
         "name": "469",
         "rawType": "float64",
         "type": "float"
        },
        {
         "name": "470",
         "rawType": "float64",
         "type": "float"
        },
        {
         "name": "471",
         "rawType": "float64",
         "type": "float"
        },
        {
         "name": "472",
         "rawType": "float64",
         "type": "float"
        },
        {
         "name": "473",
         "rawType": "float64",
         "type": "float"
        },
        {
         "name": "474",
         "rawType": "float64",
         "type": "float"
        },
        {
         "name": "475",
         "rawType": "float64",
         "type": "float"
        },
        {
         "name": "476",
         "rawType": "float64",
         "type": "float"
        },
        {
         "name": "477",
         "rawType": "float64",
         "type": "float"
        },
        {
         "name": "478",
         "rawType": "float64",
         "type": "float"
        },
        {
         "name": "479",
         "rawType": "float64",
         "type": "float"
        },
        {
         "name": "480",
         "rawType": "float64",
         "type": "float"
        },
        {
         "name": "481",
         "rawType": "float64",
         "type": "float"
        },
        {
         "name": "482",
         "rawType": "float64",
         "type": "float"
        },
        {
         "name": "483",
         "rawType": "float64",
         "type": "float"
        },
        {
         "name": "484",
         "rawType": "float64",
         "type": "float"
        },
        {
         "name": "485",
         "rawType": "float64",
         "type": "float"
        },
        {
         "name": "486",
         "rawType": "float64",
         "type": "float"
        },
        {
         "name": "487",
         "rawType": "float64",
         "type": "float"
        },
        {
         "name": "488",
         "rawType": "float64",
         "type": "float"
        },
        {
         "name": "489",
         "rawType": "float64",
         "type": "float"
        },
        {
         "name": "490",
         "rawType": "float64",
         "type": "float"
        },
        {
         "name": "491",
         "rawType": "float64",
         "type": "float"
        },
        {
         "name": "492",
         "rawType": "float64",
         "type": "float"
        },
        {
         "name": "493",
         "rawType": "float64",
         "type": "float"
        },
        {
         "name": "494",
         "rawType": "float64",
         "type": "float"
        },
        {
         "name": "495",
         "rawType": "float64",
         "type": "float"
        },
        {
         "name": "496",
         "rawType": "float64",
         "type": "float"
        },
        {
         "name": "497",
         "rawType": "float64",
         "type": "float"
        },
        {
         "name": "498",
         "rawType": "float64",
         "type": "float"
        },
        {
         "name": "499",
         "rawType": "float64",
         "type": "float"
        },
        {
         "name": "500",
         "rawType": "float64",
         "type": "float"
        },
        {
         "name": "501",
         "rawType": "float64",
         "type": "float"
        },
        {
         "name": "502",
         "rawType": "float64",
         "type": "float"
        },
        {
         "name": "503",
         "rawType": "float64",
         "type": "float"
        },
        {
         "name": "504",
         "rawType": "float64",
         "type": "float"
        },
        {
         "name": "505",
         "rawType": "float64",
         "type": "float"
        },
        {
         "name": "506",
         "rawType": "float64",
         "type": "float"
        },
        {
         "name": "507",
         "rawType": "float64",
         "type": "float"
        },
        {
         "name": "508",
         "rawType": "float64",
         "type": "float"
        },
        {
         "name": "509",
         "rawType": "float64",
         "type": "float"
        },
        {
         "name": "510",
         "rawType": "float64",
         "type": "float"
        },
        {
         "name": "511",
         "rawType": "float64",
         "type": "float"
        },
        {
         "name": "512",
         "rawType": "float64",
         "type": "float"
        },
        {
         "name": "513",
         "rawType": "float64",
         "type": "float"
        },
        {
         "name": "514",
         "rawType": "float64",
         "type": "float"
        },
        {
         "name": "515",
         "rawType": "float64",
         "type": "float"
        },
        {
         "name": "516",
         "rawType": "float64",
         "type": "float"
        },
        {
         "name": "517",
         "rawType": "float64",
         "type": "float"
        },
        {
         "name": "518",
         "rawType": "float64",
         "type": "float"
        },
        {
         "name": "519",
         "rawType": "float64",
         "type": "float"
        },
        {
         "name": "520",
         "rawType": "float64",
         "type": "float"
        },
        {
         "name": "521",
         "rawType": "float64",
         "type": "float"
        },
        {
         "name": "522",
         "rawType": "float64",
         "type": "float"
        },
        {
         "name": "523",
         "rawType": "float64",
         "type": "float"
        },
        {
         "name": "524",
         "rawType": "float64",
         "type": "float"
        },
        {
         "name": "525",
         "rawType": "float64",
         "type": "float"
        },
        {
         "name": "526",
         "rawType": "float64",
         "type": "float"
        },
        {
         "name": "527",
         "rawType": "float64",
         "type": "float"
        },
        {
         "name": "528",
         "rawType": "float64",
         "type": "float"
        },
        {
         "name": "529",
         "rawType": "float64",
         "type": "float"
        },
        {
         "name": "530",
         "rawType": "float64",
         "type": "float"
        },
        {
         "name": "531",
         "rawType": "float64",
         "type": "float"
        },
        {
         "name": "532",
         "rawType": "float64",
         "type": "float"
        },
        {
         "name": "533",
         "rawType": "float64",
         "type": "float"
        },
        {
         "name": "534",
         "rawType": "float64",
         "type": "float"
        },
        {
         "name": "535",
         "rawType": "float64",
         "type": "float"
        },
        {
         "name": "536",
         "rawType": "float64",
         "type": "float"
        },
        {
         "name": "537",
         "rawType": "float64",
         "type": "float"
        },
        {
         "name": "538",
         "rawType": "float64",
         "type": "float"
        },
        {
         "name": "539",
         "rawType": "float64",
         "type": "float"
        },
        {
         "name": "540",
         "rawType": "float64",
         "type": "float"
        },
        {
         "name": "541",
         "rawType": "float64",
         "type": "float"
        },
        {
         "name": "542",
         "rawType": "float64",
         "type": "float"
        },
        {
         "name": "543",
         "rawType": "float64",
         "type": "float"
        },
        {
         "name": "544",
         "rawType": "float64",
         "type": "float"
        },
        {
         "name": "545",
         "rawType": "float64",
         "type": "float"
        },
        {
         "name": "546",
         "rawType": "float64",
         "type": "float"
        },
        {
         "name": "547",
         "rawType": "float64",
         "type": "float"
        },
        {
         "name": "548",
         "rawType": "float64",
         "type": "float"
        },
        {
         "name": "549",
         "rawType": "float64",
         "type": "float"
        },
        {
         "name": "550",
         "rawType": "float64",
         "type": "float"
        },
        {
         "name": "551",
         "rawType": "float64",
         "type": "float"
        },
        {
         "name": "552",
         "rawType": "float64",
         "type": "float"
        },
        {
         "name": "553",
         "rawType": "float64",
         "type": "float"
        },
        {
         "name": "554",
         "rawType": "float64",
         "type": "float"
        },
        {
         "name": "555",
         "rawType": "float64",
         "type": "float"
        },
        {
         "name": "556",
         "rawType": "float64",
         "type": "float"
        },
        {
         "name": "557",
         "rawType": "float64",
         "type": "float"
        },
        {
         "name": "558",
         "rawType": "float64",
         "type": "float"
        },
        {
         "name": "559",
         "rawType": "float64",
         "type": "float"
        },
        {
         "name": "560",
         "rawType": "float64",
         "type": "float"
        },
        {
         "name": "561",
         "rawType": "float64",
         "type": "float"
        },
        {
         "name": "562",
         "rawType": "float64",
         "type": "float"
        },
        {
         "name": "563",
         "rawType": "float64",
         "type": "float"
        },
        {
         "name": "564",
         "rawType": "float64",
         "type": "float"
        },
        {
         "name": "565",
         "rawType": "float64",
         "type": "float"
        },
        {
         "name": "566",
         "rawType": "float64",
         "type": "float"
        },
        {
         "name": "567",
         "rawType": "float64",
         "type": "float"
        },
        {
         "name": "568",
         "rawType": "float64",
         "type": "float"
        },
        {
         "name": "569",
         "rawType": "float64",
         "type": "float"
        },
        {
         "name": "570",
         "rawType": "float64",
         "type": "float"
        },
        {
         "name": "571",
         "rawType": "float64",
         "type": "float"
        },
        {
         "name": "572",
         "rawType": "float64",
         "type": "float"
        },
        {
         "name": "573",
         "rawType": "float64",
         "type": "float"
        },
        {
         "name": "574",
         "rawType": "float64",
         "type": "float"
        },
        {
         "name": "575",
         "rawType": "float64",
         "type": "float"
        },
        {
         "name": "576",
         "rawType": "float64",
         "type": "float"
        },
        {
         "name": "577",
         "rawType": "float64",
         "type": "float"
        },
        {
         "name": "578",
         "rawType": "float64",
         "type": "float"
        },
        {
         "name": "579",
         "rawType": "float64",
         "type": "float"
        },
        {
         "name": "580",
         "rawType": "float64",
         "type": "float"
        },
        {
         "name": "581",
         "rawType": "float64",
         "type": "float"
        },
        {
         "name": "582",
         "rawType": "float64",
         "type": "float"
        },
        {
         "name": "583",
         "rawType": "float64",
         "type": "float"
        },
        {
         "name": "584",
         "rawType": "float64",
         "type": "float"
        },
        {
         "name": "585",
         "rawType": "float64",
         "type": "float"
        },
        {
         "name": "586",
         "rawType": "float64",
         "type": "float"
        },
        {
         "name": "587",
         "rawType": "float64",
         "type": "float"
        },
        {
         "name": "588",
         "rawType": "float64",
         "type": "float"
        },
        {
         "name": "589",
         "rawType": "float64",
         "type": "float"
        },
        {
         "name": "590",
         "rawType": "float64",
         "type": "float"
        },
        {
         "name": "591",
         "rawType": "float64",
         "type": "float"
        },
        {
         "name": "592",
         "rawType": "float64",
         "type": "float"
        },
        {
         "name": "593",
         "rawType": "float64",
         "type": "float"
        },
        {
         "name": "594",
         "rawType": "float64",
         "type": "float"
        },
        {
         "name": "595",
         "rawType": "float64",
         "type": "float"
        },
        {
         "name": "596",
         "rawType": "float64",
         "type": "float"
        },
        {
         "name": "597",
         "rawType": "float64",
         "type": "float"
        },
        {
         "name": "598",
         "rawType": "float64",
         "type": "float"
        },
        {
         "name": "599",
         "rawType": "float64",
         "type": "float"
        },
        {
         "name": "600",
         "rawType": "float64",
         "type": "float"
        },
        {
         "name": "601",
         "rawType": "float64",
         "type": "float"
        },
        {
         "name": "602",
         "rawType": "float64",
         "type": "float"
        },
        {
         "name": "603",
         "rawType": "float64",
         "type": "float"
        },
        {
         "name": "604",
         "rawType": "float64",
         "type": "float"
        },
        {
         "name": "605",
         "rawType": "float64",
         "type": "float"
        },
        {
         "name": "606",
         "rawType": "float64",
         "type": "float"
        },
        {
         "name": "607",
         "rawType": "float64",
         "type": "float"
        },
        {
         "name": "608",
         "rawType": "float64",
         "type": "float"
        },
        {
         "name": "609",
         "rawType": "float64",
         "type": "float"
        },
        {
         "name": "610",
         "rawType": "float64",
         "type": "float"
        },
        {
         "name": "611",
         "rawType": "float64",
         "type": "float"
        },
        {
         "name": "612",
         "rawType": "float64",
         "type": "float"
        },
        {
         "name": "613",
         "rawType": "float64",
         "type": "float"
        },
        {
         "name": "614",
         "rawType": "float64",
         "type": "float"
        },
        {
         "name": "615",
         "rawType": "float64",
         "type": "float"
        },
        {
         "name": "616",
         "rawType": "float64",
         "type": "float"
        },
        {
         "name": "617",
         "rawType": "float64",
         "type": "float"
        },
        {
         "name": "618",
         "rawType": "float64",
         "type": "float"
        },
        {
         "name": "619",
         "rawType": "float64",
         "type": "float"
        },
        {
         "name": "620",
         "rawType": "float64",
         "type": "float"
        },
        {
         "name": "621",
         "rawType": "float64",
         "type": "float"
        },
        {
         "name": "622",
         "rawType": "float64",
         "type": "float"
        },
        {
         "name": "623",
         "rawType": "float64",
         "type": "float"
        },
        {
         "name": "624",
         "rawType": "float64",
         "type": "float"
        },
        {
         "name": "625",
         "rawType": "float64",
         "type": "float"
        },
        {
         "name": "626",
         "rawType": "float64",
         "type": "float"
        },
        {
         "name": "627",
         "rawType": "float64",
         "type": "float"
        },
        {
         "name": "628",
         "rawType": "float64",
         "type": "float"
        },
        {
         "name": "629",
         "rawType": "float64",
         "type": "float"
        },
        {
         "name": "630",
         "rawType": "float64",
         "type": "float"
        },
        {
         "name": "631",
         "rawType": "float64",
         "type": "float"
        },
        {
         "name": "632",
         "rawType": "float64",
         "type": "float"
        },
        {
         "name": "633",
         "rawType": "float64",
         "type": "float"
        },
        {
         "name": "634",
         "rawType": "float64",
         "type": "float"
        },
        {
         "name": "635",
         "rawType": "float64",
         "type": "float"
        },
        {
         "name": "636",
         "rawType": "float64",
         "type": "float"
        },
        {
         "name": "637",
         "rawType": "float64",
         "type": "float"
        },
        {
         "name": "638",
         "rawType": "float64",
         "type": "float"
        },
        {
         "name": "639",
         "rawType": "float64",
         "type": "float"
        },
        {
         "name": "640",
         "rawType": "float64",
         "type": "float"
        },
        {
         "name": "641",
         "rawType": "float64",
         "type": "float"
        },
        {
         "name": "642",
         "rawType": "float64",
         "type": "float"
        },
        {
         "name": "643",
         "rawType": "float64",
         "type": "float"
        },
        {
         "name": "644",
         "rawType": "float64",
         "type": "float"
        },
        {
         "name": "645",
         "rawType": "float64",
         "type": "float"
        },
        {
         "name": "646",
         "rawType": "float64",
         "type": "float"
        },
        {
         "name": "647",
         "rawType": "float64",
         "type": "float"
        },
        {
         "name": "648",
         "rawType": "float64",
         "type": "float"
        },
        {
         "name": "649",
         "rawType": "float64",
         "type": "float"
        },
        {
         "name": "650",
         "rawType": "float64",
         "type": "float"
        },
        {
         "name": "651",
         "rawType": "float64",
         "type": "float"
        },
        {
         "name": "652",
         "rawType": "float64",
         "type": "float"
        },
        {
         "name": "653",
         "rawType": "float64",
         "type": "float"
        },
        {
         "name": "654",
         "rawType": "float64",
         "type": "float"
        },
        {
         "name": "655",
         "rawType": "float64",
         "type": "float"
        },
        {
         "name": "656",
         "rawType": "float64",
         "type": "float"
        },
        {
         "name": "657",
         "rawType": "float64",
         "type": "float"
        },
        {
         "name": "658",
         "rawType": "float64",
         "type": "float"
        },
        {
         "name": "659",
         "rawType": "float64",
         "type": "float"
        },
        {
         "name": "660",
         "rawType": "float64",
         "type": "float"
        },
        {
         "name": "661",
         "rawType": "float64",
         "type": "float"
        },
        {
         "name": "662",
         "rawType": "float64",
         "type": "float"
        },
        {
         "name": "663",
         "rawType": "float64",
         "type": "float"
        },
        {
         "name": "664",
         "rawType": "float64",
         "type": "float"
        },
        {
         "name": "665",
         "rawType": "float64",
         "type": "float"
        },
        {
         "name": "666",
         "rawType": "float64",
         "type": "float"
        },
        {
         "name": "667",
         "rawType": "float64",
         "type": "float"
        },
        {
         "name": "668",
         "rawType": "float64",
         "type": "float"
        },
        {
         "name": "669",
         "rawType": "float64",
         "type": "float"
        },
        {
         "name": "670",
         "rawType": "float64",
         "type": "float"
        },
        {
         "name": "671",
         "rawType": "float64",
         "type": "float"
        },
        {
         "name": "672",
         "rawType": "float64",
         "type": "float"
        },
        {
         "name": "673",
         "rawType": "float64",
         "type": "float"
        },
        {
         "name": "674",
         "rawType": "float64",
         "type": "float"
        },
        {
         "name": "675",
         "rawType": "float64",
         "type": "float"
        },
        {
         "name": "676",
         "rawType": "float64",
         "type": "float"
        },
        {
         "name": "677",
         "rawType": "float64",
         "type": "float"
        },
        {
         "name": "678",
         "rawType": "float64",
         "type": "float"
        },
        {
         "name": "679",
         "rawType": "float64",
         "type": "float"
        },
        {
         "name": "680",
         "rawType": "float64",
         "type": "float"
        },
        {
         "name": "681",
         "rawType": "float64",
         "type": "float"
        },
        {
         "name": "682",
         "rawType": "float64",
         "type": "float"
        },
        {
         "name": "683",
         "rawType": "float64",
         "type": "float"
        },
        {
         "name": "684",
         "rawType": "float64",
         "type": "float"
        },
        {
         "name": "685",
         "rawType": "float64",
         "type": "float"
        },
        {
         "name": "686",
         "rawType": "float64",
         "type": "float"
        },
        {
         "name": "687",
         "rawType": "float64",
         "type": "float"
        },
        {
         "name": "688",
         "rawType": "float64",
         "type": "float"
        },
        {
         "name": "689",
         "rawType": "float64",
         "type": "float"
        },
        {
         "name": "690",
         "rawType": "float64",
         "type": "float"
        },
        {
         "name": "691",
         "rawType": "float64",
         "type": "float"
        },
        {
         "name": "692",
         "rawType": "float64",
         "type": "float"
        },
        {
         "name": "693",
         "rawType": "float64",
         "type": "float"
        },
        {
         "name": "694",
         "rawType": "float64",
         "type": "float"
        },
        {
         "name": "695",
         "rawType": "float64",
         "type": "float"
        },
        {
         "name": "696",
         "rawType": "float64",
         "type": "float"
        },
        {
         "name": "697",
         "rawType": "float64",
         "type": "float"
        },
        {
         "name": "698",
         "rawType": "float64",
         "type": "float"
        },
        {
         "name": "699",
         "rawType": "float64",
         "type": "float"
        },
        {
         "name": "700",
         "rawType": "float64",
         "type": "float"
        },
        {
         "name": "701",
         "rawType": "float64",
         "type": "float"
        },
        {
         "name": "702",
         "rawType": "float64",
         "type": "float"
        },
        {
         "name": "703",
         "rawType": "float64",
         "type": "float"
        },
        {
         "name": "704",
         "rawType": "float64",
         "type": "float"
        },
        {
         "name": "705",
         "rawType": "float64",
         "type": "float"
        },
        {
         "name": "706",
         "rawType": "float64",
         "type": "float"
        },
        {
         "name": "707",
         "rawType": "float64",
         "type": "float"
        },
        {
         "name": "708",
         "rawType": "float64",
         "type": "float"
        },
        {
         "name": "709",
         "rawType": "float64",
         "type": "float"
        },
        {
         "name": "710",
         "rawType": "float64",
         "type": "float"
        },
        {
         "name": "711",
         "rawType": "float64",
         "type": "float"
        },
        {
         "name": "712",
         "rawType": "float64",
         "type": "float"
        },
        {
         "name": "713",
         "rawType": "float64",
         "type": "float"
        },
        {
         "name": "714",
         "rawType": "float64",
         "type": "float"
        },
        {
         "name": "715",
         "rawType": "float64",
         "type": "float"
        },
        {
         "name": "716",
         "rawType": "float64",
         "type": "float"
        },
        {
         "name": "717",
         "rawType": "float64",
         "type": "float"
        },
        {
         "name": "718",
         "rawType": "float64",
         "type": "float"
        },
        {
         "name": "719",
         "rawType": "float64",
         "type": "float"
        },
        {
         "name": "720",
         "rawType": "float64",
         "type": "float"
        },
        {
         "name": "721",
         "rawType": "float64",
         "type": "float"
        },
        {
         "name": "722",
         "rawType": "float64",
         "type": "float"
        },
        {
         "name": "723",
         "rawType": "float64",
         "type": "float"
        },
        {
         "name": "724",
         "rawType": "float64",
         "type": "float"
        },
        {
         "name": "725",
         "rawType": "float64",
         "type": "float"
        },
        {
         "name": "726",
         "rawType": "float64",
         "type": "float"
        },
        {
         "name": "727",
         "rawType": "float64",
         "type": "float"
        },
        {
         "name": "728",
         "rawType": "float64",
         "type": "float"
        },
        {
         "name": "729",
         "rawType": "float64",
         "type": "float"
        },
        {
         "name": "730",
         "rawType": "float64",
         "type": "float"
        },
        {
         "name": "731",
         "rawType": "float64",
         "type": "float"
        },
        {
         "name": "732",
         "rawType": "float64",
         "type": "float"
        },
        {
         "name": "733",
         "rawType": "float64",
         "type": "float"
        },
        {
         "name": "734",
         "rawType": "float64",
         "type": "float"
        },
        {
         "name": "735",
         "rawType": "float64",
         "type": "float"
        },
        {
         "name": "736",
         "rawType": "float64",
         "type": "float"
        },
        {
         "name": "737",
         "rawType": "float64",
         "type": "float"
        },
        {
         "name": "738",
         "rawType": "float64",
         "type": "float"
        },
        {
         "name": "739",
         "rawType": "float64",
         "type": "float"
        },
        {
         "name": "740",
         "rawType": "float64",
         "type": "float"
        },
        {
         "name": "741",
         "rawType": "float64",
         "type": "float"
        },
        {
         "name": "742",
         "rawType": "float64",
         "type": "float"
        },
        {
         "name": "743",
         "rawType": "float64",
         "type": "float"
        },
        {
         "name": "744",
         "rawType": "float64",
         "type": "float"
        },
        {
         "name": "745",
         "rawType": "float64",
         "type": "float"
        },
        {
         "name": "746",
         "rawType": "float64",
         "type": "float"
        },
        {
         "name": "747",
         "rawType": "float64",
         "type": "float"
        },
        {
         "name": "748",
         "rawType": "float64",
         "type": "float"
        },
        {
         "name": "749",
         "rawType": "float64",
         "type": "float"
        },
        {
         "name": "750",
         "rawType": "float64",
         "type": "float"
        },
        {
         "name": "751",
         "rawType": "float64",
         "type": "float"
        },
        {
         "name": "752",
         "rawType": "float64",
         "type": "float"
        },
        {
         "name": "753",
         "rawType": "float64",
         "type": "float"
        },
        {
         "name": "754",
         "rawType": "float64",
         "type": "float"
        },
        {
         "name": "755",
         "rawType": "float64",
         "type": "float"
        },
        {
         "name": "756",
         "rawType": "float64",
         "type": "float"
        },
        {
         "name": "757",
         "rawType": "float64",
         "type": "float"
        },
        {
         "name": "758",
         "rawType": "float64",
         "type": "float"
        },
        {
         "name": "759",
         "rawType": "float64",
         "type": "float"
        },
        {
         "name": "760",
         "rawType": "float64",
         "type": "float"
        },
        {
         "name": "761",
         "rawType": "float64",
         "type": "float"
        },
        {
         "name": "762",
         "rawType": "float64",
         "type": "float"
        },
        {
         "name": "763",
         "rawType": "float64",
         "type": "float"
        },
        {
         "name": "764",
         "rawType": "float64",
         "type": "float"
        },
        {
         "name": "765",
         "rawType": "float64",
         "type": "float"
        },
        {
         "name": "766",
         "rawType": "float64",
         "type": "float"
        },
        {
         "name": "767",
         "rawType": "float64",
         "type": "float"
        },
        {
         "name": "768",
         "rawType": "float64",
         "type": "float"
        },
        {
         "name": "769",
         "rawType": "float64",
         "type": "float"
        },
        {
         "name": "770",
         "rawType": "float64",
         "type": "float"
        },
        {
         "name": "771",
         "rawType": "float64",
         "type": "float"
        },
        {
         "name": "772",
         "rawType": "float64",
         "type": "float"
        },
        {
         "name": "773",
         "rawType": "float64",
         "type": "float"
        },
        {
         "name": "774",
         "rawType": "float64",
         "type": "float"
        },
        {
         "name": "775",
         "rawType": "float64",
         "type": "float"
        },
        {
         "name": "776",
         "rawType": "float64",
         "type": "float"
        },
        {
         "name": "777",
         "rawType": "float64",
         "type": "float"
        },
        {
         "name": "778",
         "rawType": "float64",
         "type": "float"
        },
        {
         "name": "779",
         "rawType": "float64",
         "type": "float"
        },
        {
         "name": "780",
         "rawType": "float64",
         "type": "float"
        },
        {
         "name": "781",
         "rawType": "float64",
         "type": "float"
        },
        {
         "name": "782",
         "rawType": "float64",
         "type": "float"
        },
        {
         "name": "783",
         "rawType": "float64",
         "type": "float"
        }
       ],
       "conversionMethod": "pd.DataFrame",
       "ref": "0c330d70-575e-40e0-bae5-c996b751d0f5",
       "rows": [
        [
         "0",
         "0.0",
         "0.0",
         "0.0",
         "0.0",
         "0.0",
         "0.0",
         "0.0",
         "0.0",
         "0.0",
         "0.0",
         "0.0",
         "0.0",
         "0.0",
         "0.0",
         "0.0",
         "0.0",
         "0.0",
         "0.0",
         "0.0",
         "0.0",
         "0.0",
         "0.0",
         "0.0",
         "0.0",
         "0.0",
         "0.0",
         "0.0",
         "0.0",
         "0.0",
         "0.0",
         "0.0",
         "0.0",
         "0.0",
         "0.0",
         "0.0",
         "0.0",
         "0.0",
         "0.0",
         "0.0",
         "0.0",
         "0.0",
         "0.0",
         "0.0",
         "0.0",
         "0.0",
         "0.0",
         "0.0",
         "0.0",
         "0.0",
         "0.0",
         "0.0",
         "0.0",
         "0.0",
         "0.0",
         "0.0",
         "0.0",
         "0.0",
         "0.0",
         "0.0",
         "0.0",
         "0.0",
         "0.0",
         "0.0",
         "0.0",
         "0.0",
         "0.0",
         "0.0",
         "0.0",
         "0.0",
         "0.0",
         "0.0",
         "0.0",
         "0.0",
         "0.0",
         "0.0",
         "0.0",
         "0.0",
         "0.0",
         "0.0",
         "0.0",
         "0.0",
         "0.0",
         "0.0",
         "0.0",
         "0.0",
         "0.0",
         "0.0",
         "0.0",
         "0.0",
         "0.0",
         "0.0",
         "0.0",
         "0.0",
         "0.0",
         "0.0",
         "0.0",
         "0.0",
         "0.0",
         "0.0",
         "0.0",
         "0.0",
         "0.0",
         "0.0",
         "0.0",
         "0.0",
         "0.0",
         "0.0",
         "0.0",
         "0.0",
         "0.0",
         "0.0",
         "0.0",
         "0.0",
         "0.0",
         "0.0",
         "0.0",
         "0.0",
         "0.0",
         "0.0",
         "0.0",
         "0.0",
         "0.0",
         "0.0",
         "0.0",
         "0.0",
         "0.0",
         "0.0",
         "0.0",
         "0.0",
         "0.0",
         "0.0",
         "0.0",
         "0.0",
         "0.0",
         "0.0",
         "0.0",
         "0.0",
         "0.0",
         "0.0",
         "0.0",
         "0.0",
         "0.0",
         "0.0",
         "0.0",
         "0.0",
         "0.0",
         "0.0",
         "0.0",
         "0.0",
         "0.0",
         "0.0",
         "0.0",
         "0.0",
         "0.0",
         "0.0",
         "0.0",
         "0.0",
         "0.0",
         "0.0",
         "0.0",
         "0.0",
         "0.0",
         "0.0",
         "0.0",
         "0.0",
         "0.0",
         "0.0",
         "0.0",
         "0.0",
         "0.0",
         "0.0",
         "0.0",
         "0.0",
         "0.0",
         "0.0",
         "0.0",
         "0.0",
         "0.0",
         "0.0",
         "0.054901960784313725",
         "0.5843137254901961",
         "0.7568627450980392",
         "0.0196078431372549",
         "0.0",
         "0.0",
         "0.0",
         "0.0",
         "0.0",
         "0.0",
         "0.0",
         "0.0",
         "0.0",
         "0.0",
         "0.0",
         "0.0",
         "0.0",
         "0.0",
         "0.0",
         "0.0",
         "0.0",
         "0.0",
         "0.0",
         "0.0",
         "0.0",
         "0.0",
         "0.0",
         "0.3568627450980392",
         "0.8784313725490196",
         "0.9921568627450981",
         "0.9921568627450981",
         "0.07450980392156863",
         "0.0",
         "0.0",
         "0.0",
         "0.0",
         "0.0",
         "0.0",
         "0.0",
         "0.0",
         "0.0",
         "0.0",
         "0.0",
         "0.0",
         "0.0",
         "0.0",
         "0.0",
         "0.0",
         "0.0",
         "0.0",
         "0.0",
         "0.0",
         "0.0",
         "0.0",
         "0.10980392156862745",
         "0.9215686274509803",
         "0.996078431372549",
         "0.9921568627450981",
         "0.9921568627450981",
         "0.6509803921568628",
         "0.07058823529411765",
         "0.0",
         "0.0",
         "0.0",
         "0.0",
         "0.0",
         "0.0",
         "0.0",
         "0.0",
         "0.0",
         "0.0",
         "0.0",
         "0.0",
         "0.0",
         "0.0",
         "0.0",
         "0.0",
         "0.0",
         "0.0",
         "0.0",
         "0.0",
         "0.0",
         "0.5647058823529412",
         "0.9921568627450981",
         "0.996078431372549",
         "0.9921568627450981",
         "0.9921568627450981",
         "0.9921568627450981",
         "0.9333333333333333",
         "0.45098039215686275",
         "0.023529411764705882",
         "0.0",
         "0.0",
         "0.0",
         "0.0",
         "0.0",
         "0.0",
         "0.0",
         "0.0",
         "0.0",
         "0.0",
         "0.0",
         "0.0",
         "0.0",
         "0.0",
         "0.0",
         "0.0",
         "0.0",
         "0.0",
         "0.12156862745098039",
         "0.9450980392156862",
         "0.9921568627450981",
         "0.8156862745098039",
         "0.7254901960784313",
         "0.9921568627450981",
         "0.9921568627450981",
         "0.9921568627450981",
         "0.9058823529411765",
         "0.09411764705882353",
         "0.0",
         "0.0",
         "0.0",
         "0.0",
         "0.0",
         "0.0",
         "0.0",
         "0.0",
         "0.0",
         "0.0",
         "0.0",
         "0.0",
         "0.0",
         "0.0",
         "0.0",
         "0.0",
         "0.0",
         "0.0",
         "0.30980392156862746",
         "0.996078431372549",
         "0.7568627450980392",
         "0.0",
         "0.03137254901960784",
         "0.3843137254901961",
         "0.8588235294117647",
         "0.996078431372549",
         "1.0",
         "0.788235294117647",
         "0.07058823529411765",
         "0.0",
         "0.0",
         "0.0",
         "0.0",
         "0.0",
         "0.0",
         "0.0",
         "0.0",
         "0.0",
         "0.0",
         "0.0",
         "0.0",
         "0.0",
         "0.0",
         "0.0",
         "0.0",
         "0.0",
         "0.33725490196078434",
         "0.9921568627450981",
         "0.3137254901960784",
         "0.0",
         "0.0",
         "0.0",
         "0.7137254901960784",
         "0.9921568627450981",
         "0.996078431372549",
         "0.7490196078431373",
         "0.047058823529411764",
         "0.0",
         "0.0",
         "0.0",
         "0.0",
         "0.0",
         "0.0",
         "0.0",
         "0.0",
         "0.0",
         "0.0",
         "0.0",
         "0.0",
         "0.0",
         "0.0",
         "0.0",
         "0.0",
         "0.0",
         "0.6862745098039216",
         "0.9921568627450981",
         "0.6078431372549019",
         "0.0",
         "0.0",
         "0.0",
         "0.9176470588235294",
         "0.9921568627450981",
         "0.996078431372549",
         "0.5294117647058824",
         "0.0",
         "0.0",
         "0.0",
         "0.0",
         "0.0",
         "0.0",
         "0.0",
         "0.0",
         "0.0",
         "0.0",
         "0.0",
         "0.0",
         "0.0",
         "0.0",
         "0.0",
         "0.0",
         "0.0",
         "0.0",
         "0.33725490196078434",
         "0.9921568627450981",
         "0.8156862745098039",
         "0.1568627450980392",
         "0.3333333333333333",
         "0.6509803921568628",
         "0.984313725490196",
         "0.9294117647058824",
         "0.996078431372549",
         "0.9254901960784314",
         "0.16470588235294117",
         "0.0",
         "0.0",
         "0.0",
         "0.0",
         "0.0",
         "0.0",
         "0.0",
         "0.0",
         "0.0",
         "0.0",
         "0.0",
         "0.0",
         "0.0",
         "0.0",
         "0.0",
         "0.0",
         "0.0",
         "0.07058823529411765",
         "0.9333333333333333",
         "0.9921568627450981",
         "0.996078431372549",
         "0.9921568627450981",
         "0.9921568627450981",
         "0.7254901960784313",
         "0.1411764705882353",
         "0.8470588235294118",
         "0.9921568627450981",
         "0.596078431372549",
         "0.0",
         "0.0",
         "0.0",
         "0.0",
         "0.0",
         "0.0",
         "0.0",
         "0.0",
         "0.0",
         "0.0",
         "0.0",
         "0.0",
         "0.0",
         "0.0",
         "0.0",
         "0.0",
         "0.0",
         "0.0",
         "0.26666666666666666",
         "0.9411764705882353",
         "1.0",
         "0.996078431372549",
         "0.5686274509803921",
         "0.03137254901960784",
         "0.0",
         "0.5254901960784314",
         "0.996078431372549",
         "0.8745098039215686",
         "0.13725490196078433",
         "0.0",
         "0.0",
         "0.0",
         "0.0",
         "0.0",
         "0.0",
         "0.0",
         "0.0",
         "0.0",
         "0.0",
         "0.0",
         "0.0",
         "0.0",
         "0.0",
         "0.0",
         "0.0",
         "0.0",
         "0.0",
         "0.26666666666666666",
         "0.6196078431372549",
         "0.5568627450980392",
         "0.047058823529411764",
         "0.0",
         "0.0",
         "0.03529411764705882",
         "0.6862745098039216",
         "0.9921568627450981",
         "0.6313725490196078",
         "0.0",
         "0.0",
         "0.0",
         "0.0",
         "0.0",
         "0.0",
         "0.0",
         "0.0",
         "0.0",
         "0.0",
         "0.0",
         "0.0",
         "0.0",
         "0.0",
         "0.0",
         "0.0",
         "0.0",
         "0.0",
         "0.0",
         "0.0",
         "0.0",
         "0.0",
         "0.0",
         "0.0",
         "0.0",
         "0.34509803921568627",
         "0.9921568627450981",
         "0.8862745098039215",
         "0.07058823529411765",
         "0.0",
         "0.0",
         "0.0",
         "0.0",
         "0.0",
         "0.0",
         "0.0",
         "0.0",
         "0.0",
         "0.0",
         "0.0",
         "0.0",
         "0.0",
         "0.0",
         "0.0",
         "0.0",
         "0.0",
         "0.0",
         "0.0",
         "0.0",
         "0.0",
         "0.0",
         "0.0",
         "0.0",
         "0.00784313725490196",
         "0.6509803921568628",
         "0.9921568627450981",
         "0.49411764705882355",
         "0.0",
         "0.0",
         "0.0",
         "0.0",
         "0.0",
         "0.0",
         "0.0",
         "0.0",
         "0.0",
         "0.0",
         "0.0",
         "0.0",
         "0.0",
         "0.0",
         "0.0",
         "0.0",
         "0.0",
         "0.0",
         "0.0",
         "0.0",
         "0.0",
         "0.0",
         "0.0",
         "0.0",
         "0.0",
         "0.18823529411764706",
         "0.9607843137254902",
         "0.9921568627450981",
         "0.14901960784313725",
         "0.0",
         "0.0",
         "0.0",
         "0.0",
         "0.0",
         "0.0",
         "0.0",
         "0.0",
         "0.0",
         "0.0",
         "0.0",
         "0.0",
         "0.0",
         "0.0",
         "0.0",
         "0.0",
         "0.0",
         "0.0",
         "0.0",
         "0.0",
         "0.0",
         "0.0",
         "0.0",
         "0.0",
         "0.0",
         "0.45098039215686275",
         "0.996078431372549",
         "0.6745098039215687",
         "0.03529411764705882",
         "0.0",
         "0.0",
         "0.0",
         "0.0",
         "0.0",
         "0.0",
         "0.0",
         "0.0",
         "0.0",
         "0.0",
         "0.0",
         "0.0",
         "0.0",
         "0.0",
         "0.0",
         "0.0",
         "0.0",
         "0.0",
         "0.0",
         "0.0",
         "0.0",
         "0.0",
         "0.0",
         "0.0",
         "0.08235294117647059",
         "0.8549019607843137",
         "0.996078431372549",
         "0.1803921568627451",
         "0.0",
         "0.0",
         "0.0",
         "0.0",
         "0.0",
         "0.0",
         "0.0",
         "0.0",
         "0.0",
         "0.0",
         "0.0",
         "0.0",
         "0.0",
         "0.0",
         "0.0",
         "0.0",
         "0.0",
         "0.0",
         "0.0",
         "0.0",
         "0.0",
         "0.0",
         "0.0",
         "0.0",
         "0.0",
         "0.11764705882352941",
         "0.996078431372549",
         "0.6470588235294118",
         "0.0",
         "0.0",
         "0.0",
         "0.0",
         "0.0",
         "0.0",
         "0.0",
         "0.0",
         "0.0",
         "0.0",
         "0.0",
         "0.0",
         "0.0",
         "0.0",
         "0.0",
         "0.0",
         "0.0",
         "0.0",
         "0.0",
         "0.0",
         "0.0",
         "0.0",
         "0.0",
         "0.0",
         "0.0",
         "0.0",
         "0.7294117647058823",
         "0.9568627450980393",
         "0.16470588235294117",
         "0.0",
         "0.0",
         "0.0",
         "0.0",
         "0.0",
         "0.0",
         "0.0",
         "0.0",
         "0.0",
         "0.0",
         "0.0",
         "0.0",
         "0.0",
         "0.0",
         "0.0",
         "0.0",
         "0.0",
         "0.0",
         "0.0",
         "0.0",
         "0.0",
         "0.0",
         "0.0",
         "0.0",
         "0.0",
         "0.054901960784313725",
         "0.8745098039215686",
         "0.3058823529411765",
         "0.0",
         "0.0",
         "0.0",
         "0.0",
         "0.0",
         "0.0",
         "0.0",
         "0.0",
         "0.0",
         "0.0",
         "0.0",
         "0.0",
         "0.0",
         "0.0",
         "0.0",
         "0.0",
         "0.0",
         "0.0",
         "0.0",
         "0.0",
         "0.0",
         "0.0",
         "0.0",
         "0.0",
         "0.0",
         "0.0",
         "0.0",
         "0.0",
         "0.0",
         "0.0",
         "0.0",
         "0.0",
         "0.0",
         "0.0",
         "0.0",
         "0.0",
         "0.0",
         "0.0",
         "0.0",
         "0.0",
         "0.0",
         "0.0",
         "0.0",
         "0.0",
         "0.0",
         "0.0",
         "0.0",
         "0.0",
         "0.0",
         "0.0",
         "0.0",
         "0.0",
         "0.0",
         "0.0",
         "0.0",
         "0.0",
         "0.0",
         "0.0",
         "0.0",
         "0.0"
        ]
       ],
       "shape": {
        "columns": 784,
        "rows": 1
       }
      },
      "text/html": [
       "<div>\n",
       "<style scoped>\n",
       "    .dataframe tbody tr th:only-of-type {\n",
       "        vertical-align: middle;\n",
       "    }\n",
       "\n",
       "    .dataframe tbody tr th {\n",
       "        vertical-align: top;\n",
       "    }\n",
       "\n",
       "    .dataframe thead th {\n",
       "        text-align: right;\n",
       "    }\n",
       "</style>\n",
       "<table border=\"1\" class=\"dataframe\">\n",
       "  <thead>\n",
       "    <tr style=\"text-align: right;\">\n",
       "      <th></th>\n",
       "      <th>0</th>\n",
       "      <th>1</th>\n",
       "      <th>2</th>\n",
       "      <th>3</th>\n",
       "      <th>4</th>\n",
       "      <th>5</th>\n",
       "      <th>6</th>\n",
       "      <th>7</th>\n",
       "      <th>8</th>\n",
       "      <th>9</th>\n",
       "      <th>...</th>\n",
       "      <th>774</th>\n",
       "      <th>775</th>\n",
       "      <th>776</th>\n",
       "      <th>777</th>\n",
       "      <th>778</th>\n",
       "      <th>779</th>\n",
       "      <th>780</th>\n",
       "      <th>781</th>\n",
       "      <th>782</th>\n",
       "      <th>783</th>\n",
       "    </tr>\n",
       "  </thead>\n",
       "  <tbody>\n",
       "    <tr>\n",
       "      <th>0</th>\n",
       "      <td>0.0</td>\n",
       "      <td>0.0</td>\n",
       "      <td>0.0</td>\n",
       "      <td>0.0</td>\n",
       "      <td>0.0</td>\n",
       "      <td>0.0</td>\n",
       "      <td>0.0</td>\n",
       "      <td>0.0</td>\n",
       "      <td>0.0</td>\n",
       "      <td>0.0</td>\n",
       "      <td>...</td>\n",
       "      <td>0.0</td>\n",
       "      <td>0.0</td>\n",
       "      <td>0.0</td>\n",
       "      <td>0.0</td>\n",
       "      <td>0.0</td>\n",
       "      <td>0.0</td>\n",
       "      <td>0.0</td>\n",
       "      <td>0.0</td>\n",
       "      <td>0.0</td>\n",
       "      <td>0.0</td>\n",
       "    </tr>\n",
       "  </tbody>\n",
       "</table>\n",
       "<p>1 rows × 784 columns</p>\n",
       "</div>"
      ],
      "text/plain": [
       "   0    1    2    3    4    5    6    7    8    9    ...  774  775  776  777  \\\n",
       "0  0.0  0.0  0.0  0.0  0.0  0.0  0.0  0.0  0.0  0.0  ...  0.0  0.0  0.0  0.0   \n",
       "\n",
       "   778  779  780  781  782  783  \n",
       "0  0.0  0.0  0.0  0.0  0.0  0.0  \n",
       "\n",
       "[1 rows x 784 columns]"
      ]
     },
     "execution_count": 23,
     "metadata": {},
     "output_type": "execute_result"
    }
   ],
   "source": [
    "import pandas as pd\n",
    "df = pd.DataFrame(X_test_flattened[7])\n",
    "df = df.T\n",
    "df"
   ]
  },
  {
   "cell_type": "code",
   "execution_count": 24,
   "metadata": {},
   "outputs": [
    {
     "data": {
      "text/plain": [
       "array([9], dtype=uint8)"
      ]
     },
     "execution_count": 24,
     "metadata": {},
     "output_type": "execute_result"
    }
   ],
   "source": [
    "knn.predict(df)"
   ]
  },
  {
   "cell_type": "markdown",
   "metadata": {},
   "source": [
    "### Roted"
   ]
  },
  {
   "cell_type": "code",
   "execution_count": 25,
   "metadata": {},
   "outputs": [],
   "source": [
    "import cv2 "
   ]
  },
  {
   "cell_type": "code",
   "execution_count": 26,
   "metadata": {},
   "outputs": [
    {
     "data": {
      "text/plain": [
       "array([[0.        , 0.        , 0.        , 0.        , 0.        ,\n",
       "        0.        , 0.        , 0.        , 0.        , 0.        ,\n",
       "        0.        , 0.        , 0.        , 0.        , 0.        ,\n",
       "        0.        , 0.        , 0.        , 0.        , 0.        ,\n",
       "        0.        , 0.        , 0.        , 0.        , 0.        ,\n",
       "        0.        , 0.        , 0.        ],\n",
       "       [0.        , 0.        , 0.        , 0.        , 0.        ,\n",
       "        0.        , 0.        , 0.        , 0.        , 0.        ,\n",
       "        0.        , 0.        , 0.        , 0.        , 0.        ,\n",
       "        0.        , 0.        , 0.        , 0.        , 0.        ,\n",
       "        0.        , 0.        , 0.        , 0.        , 0.        ,\n",
       "        0.        , 0.        , 0.        ],\n",
       "       [0.        , 0.        , 0.        , 0.        , 0.        ,\n",
       "        0.        , 0.        , 0.        , 0.        , 0.        ,\n",
       "        0.        , 0.        , 0.        , 0.        , 0.        ,\n",
       "        0.        , 0.        , 0.        , 0.        , 0.        ,\n",
       "        0.        , 0.        , 0.        , 0.        , 0.        ,\n",
       "        0.        , 0.        , 0.        ],\n",
       "       [0.        , 0.        , 0.        , 0.        , 0.        ,\n",
       "        0.        , 0.        , 0.        , 0.        , 0.        ,\n",
       "        0.        , 0.        , 0.        , 0.        , 0.        ,\n",
       "        0.        , 0.        , 0.        , 0.        , 0.        ,\n",
       "        0.        , 0.        , 0.        , 0.        , 0.        ,\n",
       "        0.        , 0.        , 0.        ],\n",
       "       [0.        , 0.        , 0.        , 0.        , 0.        ,\n",
       "        0.        , 0.        , 0.        , 0.        , 0.        ,\n",
       "        0.        , 0.        , 0.        , 0.        , 0.        ,\n",
       "        0.        , 0.        , 0.        , 0.        , 0.        ,\n",
       "        0.        , 0.        , 0.        , 0.        , 0.        ,\n",
       "        0.        , 0.        , 0.        ],\n",
       "       [0.        , 0.        , 0.        , 0.        , 0.        ,\n",
       "        0.        , 0.        , 0.        , 0.        , 0.08627451,\n",
       "        0.75294118, 0.5254902 , 0.1254902 , 0.        , 0.        ,\n",
       "        0.        , 0.        , 0.        , 0.        , 0.        ,\n",
       "        0.        , 0.05882353, 0.30196078, 0.01960784, 0.        ,\n",
       "        0.        , 0.        , 0.        ],\n",
       "       [0.        , 0.        , 0.        , 0.        , 0.        ,\n",
       "        0.        , 0.        , 0.        , 0.06666667, 0.92156863,\n",
       "        0.98039216, 0.6627451 , 0.        , 0.        , 0.        ,\n",
       "        0.        , 0.        , 0.        , 0.        , 0.        ,\n",
       "        0.05882353, 0.8627451 , 0.94509804, 0.14509804, 0.        ,\n",
       "        0.        , 0.        , 0.        ],\n",
       "       [0.        , 0.        , 0.        , 0.        , 0.        ,\n",
       "        0.        , 0.        , 0.07843137, 0.74117647, 0.99215686,\n",
       "        0.57647059, 0.        , 0.        , 0.        , 0.        ,\n",
       "        0.        , 0.        , 0.        , 0.        , 0.        ,\n",
       "        0.54509804, 0.99215686, 0.39215686, 0.        , 0.        ,\n",
       "        0.        , 0.        , 0.        ],\n",
       "       [0.        , 0.        , 0.        , 0.        , 0.        ,\n",
       "        0.        , 0.        , 0.2745098 , 0.99215686, 0.99215686,\n",
       "        0.08235294, 0.        , 0.        , 0.        , 0.        ,\n",
       "        0.        , 0.        , 0.        , 0.        , 0.16862745,\n",
       "        0.99607843, 0.67843137, 0.05098039, 0.        , 0.        ,\n",
       "        0.        , 0.        , 0.        ],\n",
       "       [0.        , 0.        , 0.        , 0.        , 0.        ,\n",
       "        0.        , 0.08627451, 0.6       , 0.99215686, 0.37647059,\n",
       "        0.        , 0.        , 0.        , 0.        , 0.        ,\n",
       "        0.        , 0.        , 0.        , 0.16862745, 0.90588235,\n",
       "        0.99607843, 0.36078431, 0.        , 0.        , 0.        ,\n",
       "        0.        , 0.        , 0.        ],\n",
       "       [0.        , 0.        , 0.        , 0.        , 0.        ,\n",
       "        0.        , 0.63921569, 1.        , 0.8       , 0.04313725,\n",
       "        0.        , 0.        , 0.        , 0.        , 0.        ,\n",
       "        0.        , 0.        , 0.        , 0.40784314, 0.99607843,\n",
       "        0.61960784, 0.        , 0.        , 0.        , 0.        ,\n",
       "        0.        , 0.        , 0.        ],\n",
       "       [0.        , 0.        , 0.        , 0.        , 0.        ,\n",
       "        0.        , 0.63529412, 0.99215686, 0.69803922, 0.01960784,\n",
       "        0.        , 0.        , 0.        , 0.        , 0.        ,\n",
       "        0.        , 0.03529412, 0.51372549, 0.92941176, 0.99215686,\n",
       "        0.        , 0.        , 0.        , 0.        , 0.        ,\n",
       "        0.        , 0.        , 0.        ],\n",
       "       [0.        , 0.        , 0.        , 0.        , 0.        ,\n",
       "        0.        , 0.63529412, 0.99215686, 0.99215686, 0.74901961,\n",
       "        0.68627451, 0.2745098 , 0.2745098 , 0.2745098 , 0.2745098 ,\n",
       "        0.52156863, 0.77254902, 0.99215686, 0.99215686, 0.6627451 ,\n",
       "        0.        , 0.        , 0.        , 0.        , 0.        ,\n",
       "        0.        , 0.        , 0.        ],\n",
       "       [0.        , 0.        , 0.        , 0.        , 0.        ,\n",
       "        0.        , 0.2       , 0.89411765, 0.99215686, 0.99215686,\n",
       "        0.99607843, 0.99215686, 0.99215686, 0.99215686, 0.99215686,\n",
       "        0.99607843, 0.99215686, 0.99215686, 0.85882353, 0.1372549 ,\n",
       "        0.        , 0.        , 0.        , 0.        , 0.        ,\n",
       "        0.        , 0.        , 0.        ],\n",
       "       [0.        , 0.        , 0.        , 0.        , 0.        ,\n",
       "        0.        , 0.        , 0.06666667, 0.25490196, 0.5372549 ,\n",
       "        0.99607843, 0.90980392, 0.5372549 , 0.5372549 , 0.5372549 ,\n",
       "        0.17254902, 0.99215686, 0.99215686, 0.63137255, 0.        ,\n",
       "        0.        , 0.        , 0.        , 0.        , 0.        ,\n",
       "        0.        , 0.        , 0.        ],\n",
       "       [0.        , 0.        , 0.        , 0.        , 0.        ,\n",
       "        0.        , 0.        , 0.        , 0.        , 0.        ,\n",
       "        0.        , 0.        , 0.        , 0.        , 0.        ,\n",
       "        0.13333333, 0.99607843, 0.80784314, 0.08235294, 0.        ,\n",
       "        0.        , 0.        , 0.        , 0.        , 0.        ,\n",
       "        0.        , 0.        , 0.        ],\n",
       "       [0.        , 0.        , 0.        , 0.        , 0.        ,\n",
       "        0.        , 0.        , 0.        , 0.        , 0.        ,\n",
       "        0.        , 0.        , 0.        , 0.        , 0.        ,\n",
       "        0.62745098, 0.99215686, 0.27058824, 0.        , 0.        ,\n",
       "        0.        , 0.        , 0.        , 0.        , 0.        ,\n",
       "        0.        , 0.        , 0.        ],\n",
       "       [0.        , 0.        , 0.        , 0.        , 0.        ,\n",
       "        0.        , 0.        , 0.        , 0.        , 0.        ,\n",
       "        0.        , 0.        , 0.        , 0.        , 0.33333333,\n",
       "        0.99607843, 0.94509804, 0.19607843, 0.        , 0.        ,\n",
       "        0.        , 0.        , 0.        , 0.        , 0.        ,\n",
       "        0.        , 0.        , 0.        ],\n",
       "       [0.        , 0.        , 0.        , 0.        , 0.        ,\n",
       "        0.        , 0.        , 0.        , 0.        , 0.        ,\n",
       "        0.        , 0.        , 0.        , 0.        , 0.61960784,\n",
       "        0.99607843, 0.64705882, 0.        , 0.        , 0.        ,\n",
       "        0.        , 0.        , 0.        , 0.        , 0.        ,\n",
       "        0.        , 0.        , 0.        ],\n",
       "       [0.        , 0.        , 0.        , 0.        , 0.        ,\n",
       "        0.        , 0.        , 0.        , 0.        , 0.        ,\n",
       "        0.        , 0.        , 0.        , 0.        , 0.90588235,\n",
       "        0.95686275, 0.19607843, 0.        , 0.        , 0.        ,\n",
       "        0.        , 0.        , 0.        , 0.        , 0.        ,\n",
       "        0.        , 0.        , 0.        ],\n",
       "       [0.        , 0.        , 0.        , 0.        , 0.        ,\n",
       "        0.        , 0.        , 0.        , 0.        , 0.        ,\n",
       "        0.        , 0.        , 0.        , 0.40784314, 0.99607843,\n",
       "        0.90980392, 0.        , 0.        , 0.        , 0.        ,\n",
       "        0.        , 0.        , 0.        , 0.        , 0.        ,\n",
       "        0.        , 0.        , 0.        ],\n",
       "       [0.        , 0.        , 0.        , 0.        , 0.        ,\n",
       "        0.        , 0.        , 0.        , 0.        , 0.        ,\n",
       "        0.        , 0.        , 0.        , 0.81568627, 0.99215686,\n",
       "        0.61568627, 0.        , 0.05098039, 0.11764706, 0.        ,\n",
       "        0.        , 0.        , 0.        , 0.        , 0.        ,\n",
       "        0.        , 0.        , 0.        ],\n",
       "       [0.        , 0.        , 0.        , 0.        , 0.        ,\n",
       "        0.        , 0.        , 0.        , 0.        , 0.        ,\n",
       "        0.        , 0.        , 0.        , 0.81568627, 0.99215686,\n",
       "        0.60392157, 0.35686275, 0.8       , 0.63137255, 0.        ,\n",
       "        0.        , 0.        , 0.        , 0.        , 0.        ,\n",
       "        0.        , 0.        , 0.        ],\n",
       "       [0.        , 0.        , 0.        , 0.        , 0.        ,\n",
       "        0.        , 0.        , 0.        , 0.        , 0.        ,\n",
       "        0.        , 0.        , 0.        , 0.81568627, 0.99215686,\n",
       "        0.99607843, 0.99215686, 0.60392157, 0.11372549, 0.        ,\n",
       "        0.        , 0.        , 0.        , 0.        , 0.        ,\n",
       "        0.        , 0.        , 0.        ],\n",
       "       [0.        , 0.        , 0.        , 0.        , 0.        ,\n",
       "        0.        , 0.        , 0.        , 0.        , 0.        ,\n",
       "        0.        , 0.        , 0.        , 0.23921569, 0.74509804,\n",
       "        0.50196078, 0.09019608, 0.02352941, 0.        , 0.        ,\n",
       "        0.        , 0.        , 0.        , 0.        , 0.        ,\n",
       "        0.        , 0.        , 0.        ],\n",
       "       [0.        , 0.        , 0.        , 0.        , 0.        ,\n",
       "        0.        , 0.        , 0.        , 0.        , 0.        ,\n",
       "        0.        , 0.        , 0.        , 0.        , 0.        ,\n",
       "        0.        , 0.        , 0.        , 0.        , 0.        ,\n",
       "        0.        , 0.        , 0.        , 0.        , 0.        ,\n",
       "        0.        , 0.        , 0.        ],\n",
       "       [0.        , 0.        , 0.        , 0.        , 0.        ,\n",
       "        0.        , 0.        , 0.        , 0.        , 0.        ,\n",
       "        0.        , 0.        , 0.        , 0.        , 0.        ,\n",
       "        0.        , 0.        , 0.        , 0.        , 0.        ,\n",
       "        0.        , 0.        , 0.        , 0.        , 0.        ,\n",
       "        0.        , 0.        , 0.        ],\n",
       "       [0.        , 0.        , 0.        , 0.        , 0.        ,\n",
       "        0.        , 0.        , 0.        , 0.        , 0.        ,\n",
       "        0.        , 0.        , 0.        , 0.        , 0.        ,\n",
       "        0.        , 0.        , 0.        , 0.        , 0.        ,\n",
       "        0.        , 0.        , 0.        , 0.        , 0.        ,\n",
       "        0.        , 0.        , 0.        ]])"
      ]
     },
     "execution_count": 26,
     "metadata": {},
     "output_type": "execute_result"
    }
   ],
   "source": [
    "X_test[6]"
   ]
  },
  {
   "cell_type": "code",
   "execution_count": 27,
   "metadata": {},
   "outputs": [
    {
     "data": {
      "text/plain": [
       "(28, 28)"
      ]
     },
     "execution_count": 27,
     "metadata": {},
     "output_type": "execute_result"
    }
   ],
   "source": [
    "X_test[6].shape"
   ]
  },
  {
   "cell_type": "code",
   "execution_count": 28,
   "metadata": {},
   "outputs": [],
   "source": [
    "h, w = X_test[6].shape[:2]\n",
    "\n",
    "center = (w / 2, h / 2)\n",
    "mat = cv2.getRotationMatrix2D(center, 90, 1)\n",
    "rotimg = cv2.warpAffine(X_test[6], mat, (h, w))"
   ]
  },
  {
   "cell_type": "code",
   "execution_count": 29,
   "metadata": {},
   "outputs": [
    {
     "data": {
      "text/plain": [
       "<matplotlib.image.AxesImage at 0x18723ed2120>"
      ]
     },
     "execution_count": 29,
     "metadata": {},
     "output_type": "execute_result"
    },
    {
     "data": {
      "image/png": "[encoded data removed]",
      "text/plain": [
       "<Figure size 480x480 with 1 Axes>"
      ]
     },
     "metadata": {},
     "output_type": "display_data"
    }
   ],
   "source": [
    "plt.matshow(rotimg)"
   ]
  },
  {
   "cell_type": "code",
   "execution_count": 30,
   "metadata": {},
   "outputs": [
    {
     "data": {
      "text/plain": [
       "(28, 28)"
      ]
     },
     "execution_count": 30,
     "metadata": {},
     "output_type": "execute_result"
    }
   ],
   "source": [
    "rotimg.shape"
   ]
  },
  {
   "cell_type": "code",
   "execution_count": 31,
   "metadata": {},
   "outputs": [],
   "source": [
    "rotimg = rotimg.reshape(1, 28*28)"
   ]
  },
  {
   "cell_type": "code",
   "execution_count": 32,
   "metadata": {},
   "outputs": [
    {
     "data": {
      "application/vnd.microsoft.datawrangler.viewer.v0+json": {
       "columns": [
        {
         "name": "index",
         "rawType": "int64",
         "type": "integer"
        },
        {
         "name": "0",
         "rawType": "float64",
         "type": "float"
        },
        {
         "name": "1",
         "rawType": "float64",
         "type": "float"
        },
        {
         "name": "2",
         "rawType": "float64",
         "type": "float"
        },
        {
         "name": "3",
         "rawType": "float64",
         "type": "float"
        },
        {
         "name": "4",
         "rawType": "float64",
         "type": "float"
        },
        {
         "name": "5",
         "rawType": "float64",
         "type": "float"
        },
        {
         "name": "6",
         "rawType": "float64",
         "type": "float"
        },
        {
         "name": "7",
         "rawType": "float64",
         "type": "float"
        },
        {
         "name": "8",
         "rawType": "float64",
         "type": "float"
        },
        {
         "name": "9",
         "rawType": "float64",
         "type": "float"
        },
        {
         "name": "10",
         "rawType": "float64",
         "type": "float"
        },
        {
         "name": "11",
         "rawType": "float64",
         "type": "float"
        },
        {
         "name": "12",
         "rawType": "float64",
         "type": "float"
        },
        {
         "name": "13",
         "rawType": "float64",
         "type": "float"
        },
        {
         "name": "14",
         "rawType": "float64",
         "type": "float"
        },
        {
         "name": "15",
         "rawType": "float64",
         "type": "float"
        },
        {
         "name": "16",
         "rawType": "float64",
         "type": "float"
        },
        {
         "name": "17",
         "rawType": "float64",
         "type": "float"
        },
        {
         "name": "18",
         "rawType": "float64",
         "type": "float"
        },
        {
         "name": "19",
         "rawType": "float64",
         "type": "float"
        },
        {
         "name": "20",
         "rawType": "float64",
         "type": "float"
        },
        {
         "name": "21",
         "rawType": "float64",
         "type": "float"
        },
        {
         "name": "22",
         "rawType": "float64",
         "type": "float"
        },
        {
         "name": "23",
         "rawType": "float64",
         "type": "float"
        },
        {
         "name": "24",
         "rawType": "float64",
         "type": "float"
        },
        {
         "name": "25",
         "rawType": "float64",
         "type": "float"
        },
        {
         "name": "26",
         "rawType": "float64",
         "type": "float"
        },
        {
         "name": "27",
         "rawType": "float64",
         "type": "float"
        },
        {
         "name": "28",
         "rawType": "float64",
         "type": "float"
        },
        {
         "name": "29",
         "rawType": "float64",
         "type": "float"
        },
        {
         "name": "30",
         "rawType": "float64",
         "type": "float"
        },
        {
         "name": "31",
         "rawType": "float64",
         "type": "float"
        },
        {
         "name": "32",
         "rawType": "float64",
         "type": "float"
        },
        {
         "name": "33",
         "rawType": "float64",
         "type": "float"
        },
        {
         "name": "34",
         "rawType": "float64",
         "type": "float"
        },
        {
         "name": "35",
         "rawType": "float64",
         "type": "float"
        },
        {
         "name": "36",
         "rawType": "float64",
         "type": "float"
        },
        {
         "name": "37",
         "rawType": "float64",
         "type": "float"
        },
        {
         "name": "38",
         "rawType": "float64",
         "type": "float"
        },
        {
         "name": "39",
         "rawType": "float64",
         "type": "float"
        },
        {
         "name": "40",
         "rawType": "float64",
         "type": "float"
        },
        {
         "name": "41",
         "rawType": "float64",
         "type": "float"
        },
        {
         "name": "42",
         "rawType": "float64",
         "type": "float"
        },
        {
         "name": "43",
         "rawType": "float64",
         "type": "float"
        },
        {
         "name": "44",
         "rawType": "float64",
         "type": "float"
        },
        {
         "name": "45",
         "rawType": "float64",
         "type": "float"
        },
        {
         "name": "46",
         "rawType": "float64",
         "type": "float"
        },
        {
         "name": "47",
         "rawType": "float64",
         "type": "float"
        },
        {
         "name": "48",
         "rawType": "float64",
         "type": "float"
        },
        {
         "name": "49",
         "rawType": "float64",
         "type": "float"
        },
        {
         "name": "50",
         "rawType": "float64",
         "type": "float"
        },
        {
         "name": "51",
         "rawType": "float64",
         "type": "float"
        },
        {
         "name": "52",
         "rawType": "float64",
         "type": "float"
        },
        {
         "name": "53",
         "rawType": "float64",
         "type": "float"
        },
        {
         "name": "54",
         "rawType": "float64",
         "type": "float"
        },
        {
         "name": "55",
         "rawType": "float64",
         "type": "float"
        },
        {
         "name": "56",
         "rawType": "float64",
         "type": "float"
        },
        {
         "name": "57",
         "rawType": "float64",
         "type": "float"
        },
        {
         "name": "58",
         "rawType": "float64",
         "type": "float"
        },
        {
         "name": "59",
         "rawType": "float64",
         "type": "float"
        },
        {
         "name": "60",
         "rawType": "float64",
         "type": "float"
        },
        {
         "name": "61",
         "rawType": "float64",
         "type": "float"
        },
        {
         "name": "62",
         "rawType": "float64",
         "type": "float"
        },
        {
         "name": "63",
         "rawType": "float64",
         "type": "float"
        },
        {
         "name": "64",
         "rawType": "float64",
         "type": "float"
        },
        {
         "name": "65",
         "rawType": "float64",
         "type": "float"
        },
        {
         "name": "66",
         "rawType": "float64",
         "type": "float"
        },
        {
         "name": "67",
         "rawType": "float64",
         "type": "float"
        },
        {
         "name": "68",
         "rawType": "float64",
         "type": "float"
        },
        {
         "name": "69",
         "rawType": "float64",
         "type": "float"
        },
        {
         "name": "70",
         "rawType": "float64",
         "type": "float"
        },
        {
         "name": "71",
         "rawType": "float64",
         "type": "float"
        },
        {
         "name": "72",
         "rawType": "float64",
         "type": "float"
        },
        {
         "name": "73",
         "rawType": "float64",
         "type": "float"
        },
        {
         "name": "74",
         "rawType": "float64",
         "type": "float"
        },
        {
         "name": "75",
         "rawType": "float64",
         "type": "float"
        },
        {
         "name": "76",
         "rawType": "float64",
         "type": "float"
        },
        {
         "name": "77",
         "rawType": "float64",
         "type": "float"
        },
        {
         "name": "78",
         "rawType": "float64",
         "type": "float"
        },
        {
         "name": "79",
         "rawType": "float64",
         "type": "float"
        },
        {
         "name": "80",
         "rawType": "float64",
         "type": "float"
        },
        {
         "name": "81",
         "rawType": "float64",
         "type": "float"
        },
        {
         "name": "82",
         "rawType": "float64",
         "type": "float"
        },
        {
         "name": "83",
         "rawType": "float64",
         "type": "float"
        },
        {
         "name": "84",
         "rawType": "float64",
         "type": "float"
        },
        {
         "name": "85",
         "rawType": "float64",
         "type": "float"
        },
        {
         "name": "86",
         "rawType": "float64",
         "type": "float"
        },
        {
         "name": "87",
         "rawType": "float64",
         "type": "float"
        },
        {
         "name": "88",
         "rawType": "float64",
         "type": "float"
        },
        {
         "name": "89",
         "rawType": "float64",
         "type": "float"
        },
        {
         "name": "90",
         "rawType": "float64",
         "type": "float"
        },
        {
         "name": "91",
         "rawType": "float64",
         "type": "float"
        },
        {
         "name": "92",
         "rawType": "float64",
         "type": "float"
        },
        {
         "name": "93",
         "rawType": "float64",
         "type": "float"
        },
        {
         "name": "94",
         "rawType": "float64",
         "type": "float"
        },
        {
         "name": "95",
         "rawType": "float64",
         "type": "float"
        },
        {
         "name": "96",
         "rawType": "float64",
         "type": "float"
        },
        {
         "name": "97",
         "rawType": "float64",
         "type": "float"
        },
        {
         "name": "98",
         "rawType": "float64",
         "type": "float"
        },
        {
         "name": "99",
         "rawType": "float64",
         "type": "float"
        },
        {
         "name": "100",
         "rawType": "float64",
         "type": "float"
        },
        {
         "name": "101",
         "rawType": "float64",
         "type": "float"
        },
        {
         "name": "102",
         "rawType": "float64",
         "type": "float"
        },
        {
         "name": "103",
         "rawType": "float64",
         "type": "float"
        },
        {
         "name": "104",
         "rawType": "float64",
         "type": "float"
        },
        {
         "name": "105",
         "rawType": "float64",
         "type": "float"
        },
        {
         "name": "106",
         "rawType": "float64",
         "type": "float"
        },
        {
         "name": "107",
         "rawType": "float64",
         "type": "float"
        },
        {
         "name": "108",
         "rawType": "float64",
         "type": "float"
        },
        {
         "name": "109",
         "rawType": "float64",
         "type": "float"
        },
        {
         "name": "110",
         "rawType": "float64",
         "type": "float"
        },
        {
         "name": "111",
         "rawType": "float64",
         "type": "float"
        },
        {
         "name": "112",
         "rawType": "float64",
         "type": "float"
        },
        {
         "name": "113",
         "rawType": "float64",
         "type": "float"
        },
        {
         "name": "114",
         "rawType": "float64",
         "type": "float"
        },
        {
         "name": "115",
         "rawType": "float64",
         "type": "float"
        },
        {
         "name": "116",
         "rawType": "float64",
         "type": "float"
        },
        {
         "name": "117",
         "rawType": "float64",
         "type": "float"
        },
        {
         "name": "118",
         "rawType": "float64",
         "type": "float"
        },
        {
         "name": "119",
         "rawType": "float64",
         "type": "float"
        },
        {
         "name": "120",
         "rawType": "float64",
         "type": "float"
        },
        {
         "name": "121",
         "rawType": "float64",
         "type": "float"
        },
        {
         "name": "122",
         "rawType": "float64",
         "type": "float"
        },
        {
         "name": "123",
         "rawType": "float64",
         "type": "float"
        },
        {
         "name": "124",
         "rawType": "float64",
         "type": "float"
        },
        {
         "name": "125",
         "rawType": "float64",
         "type": "float"
        },
        {
         "name": "126",
         "rawType": "float64",
         "type": "float"
        },
        {
         "name": "127",
         "rawType": "float64",
         "type": "float"
        },
        {
         "name": "128",
         "rawType": "float64",
         "type": "float"
        },
        {
         "name": "129",
         "rawType": "float64",
         "type": "float"
        },
        {
         "name": "130",
         "rawType": "float64",
         "type": "float"
        },
        {
         "name": "131",
         "rawType": "float64",
         "type": "float"
        },
        {
         "name": "132",
         "rawType": "float64",
         "type": "float"
        },
        {
         "name": "133",
         "rawType": "float64",
         "type": "float"
        },
        {
         "name": "134",
         "rawType": "float64",
         "type": "float"
        },
        {
         "name": "135",
         "rawType": "float64",
         "type": "float"
        },
        {
         "name": "136",
         "rawType": "float64",
         "type": "float"
        },
        {
         "name": "137",
         "rawType": "float64",
         "type": "float"
        },
        {
         "name": "138",
         "rawType": "float64",
         "type": "float"
        },
        {
         "name": "139",
         "rawType": "float64",
         "type": "float"
        },
        {
         "name": "140",
         "rawType": "float64",
         "type": "float"
        },
        {
         "name": "141",
         "rawType": "float64",
         "type": "float"
        },
        {
         "name": "142",
         "rawType": "float64",
         "type": "float"
        },
        {
         "name": "143",
         "rawType": "float64",
         "type": "float"
        },
        {
         "name": "144",
         "rawType": "float64",
         "type": "float"
        },
        {
         "name": "145",
         "rawType": "float64",
         "type": "float"
        },
        {
         "name": "146",
         "rawType": "float64",
         "type": "float"
        },
        {
         "name": "147",
         "rawType": "float64",
         "type": "float"
        },
        {
         "name": "148",
         "rawType": "float64",
         "type": "float"
        },
        {
         "name": "149",
         "rawType": "float64",
         "type": "float"
        },
        {
         "name": "150",
         "rawType": "float64",
         "type": "float"
        },
        {
         "name": "151",
         "rawType": "float64",
         "type": "float"
        },
        {
         "name": "152",
         "rawType": "float64",
         "type": "float"
        },
        {
         "name": "153",
         "rawType": "float64",
         "type": "float"
        },
        {
         "name": "154",
         "rawType": "float64",
         "type": "float"
        },
        {
         "name": "155",
         "rawType": "float64",
         "type": "float"
        },
        {
         "name": "156",
         "rawType": "float64",
         "type": "float"
        },
        {
         "name": "157",
         "rawType": "float64",
         "type": "float"
        },
        {
         "name": "158",
         "rawType": "float64",
         "type": "float"
        },
        {
         "name": "159",
         "rawType": "float64",
         "type": "float"
        },
        {
         "name": "160",
         "rawType": "float64",
         "type": "float"
        },
        {
         "name": "161",
         "rawType": "float64",
         "type": "float"
        },
        {
         "name": "162",
         "rawType": "float64",
         "type": "float"
        },
        {
         "name": "163",
         "rawType": "float64",
         "type": "float"
        },
        {
         "name": "164",
         "rawType": "float64",
         "type": "float"
        },
        {
         "name": "165",
         "rawType": "float64",
         "type": "float"
        },
        {
         "name": "166",
         "rawType": "float64",
         "type": "float"
        },
        {
         "name": "167",
         "rawType": "float64",
         "type": "float"
        },
        {
         "name": "168",
         "rawType": "float64",
         "type": "float"
        },
        {
         "name": "169",
         "rawType": "float64",
         "type": "float"
        },
        {
         "name": "170",
         "rawType": "float64",
         "type": "float"
        },
        {
         "name": "171",
         "rawType": "float64",
         "type": "float"
        },
        {
         "name": "172",
         "rawType": "float64",
         "type": "float"
        },
        {
         "name": "173",
         "rawType": "float64",
         "type": "float"
        },
        {
         "name": "174",
         "rawType": "float64",
         "type": "float"
        },
        {
         "name": "175",
         "rawType": "float64",
         "type": "float"
        },
        {
         "name": "176",
         "rawType": "float64",
         "type": "float"
        },
        {
         "name": "177",
         "rawType": "float64",
         "type": "float"
        },
        {
         "name": "178",
         "rawType": "float64",
         "type": "float"
        },
        {
         "name": "179",
         "rawType": "float64",
         "type": "float"
        },
        {
         "name": "180",
         "rawType": "float64",
         "type": "float"
        },
        {
         "name": "181",
         "rawType": "float64",
         "type": "float"
        },
        {
         "name": "182",
         "rawType": "float64",
         "type": "float"
        },
        {
         "name": "183",
         "rawType": "float64",
         "type": "float"
        },
        {
         "name": "184",
         "rawType": "float64",
         "type": "float"
        },
        {
         "name": "185",
         "rawType": "float64",
         "type": "float"
        },
        {
         "name": "186",
         "rawType": "float64",
         "type": "float"
        },
        {
         "name": "187",
         "rawType": "float64",
         "type": "float"
        },
        {
         "name": "188",
         "rawType": "float64",
         "type": "float"
        },
        {
         "name": "189",
         "rawType": "float64",
         "type": "float"
        },
        {
         "name": "190",
         "rawType": "float64",
         "type": "float"
        },
        {
         "name": "191",
         "rawType": "float64",
         "type": "float"
        },
        {
         "name": "192",
         "rawType": "float64",
         "type": "float"
        },
        {
         "name": "193",
         "rawType": "float64",
         "type": "float"
        },
        {
         "name": "194",
         "rawType": "float64",
         "type": "float"
        },
        {
         "name": "195",
         "rawType": "float64",
         "type": "float"
        },
        {
         "name": "196",
         "rawType": "float64",
         "type": "float"
        },
        {
         "name": "197",
         "rawType": "float64",
         "type": "float"
        },
        {
         "name": "198",
         "rawType": "float64",
         "type": "float"
        },
        {
         "name": "199",
         "rawType": "float64",
         "type": "float"
        },
        {
         "name": "200",
         "rawType": "float64",
         "type": "float"
        },
        {
         "name": "201",
         "rawType": "float64",
         "type": "float"
        },
        {
         "name": "202",
         "rawType": "float64",
         "type": "float"
        },
        {
         "name": "203",
         "rawType": "float64",
         "type": "float"
        },
        {
         "name": "204",
         "rawType": "float64",
         "type": "float"
        },
        {
         "name": "205",
         "rawType": "float64",
         "type": "float"
        },
        {
         "name": "206",
         "rawType": "float64",
         "type": "float"
        },
        {
         "name": "207",
         "rawType": "float64",
         "type": "float"
        },
        {
         "name": "208",
         "rawType": "float64",
         "type": "float"
        },
        {
         "name": "209",
         "rawType": "float64",
         "type": "float"
        },
        {
         "name": "210",
         "rawType": "float64",
         "type": "float"
        },
        {
         "name": "211",
         "rawType": "float64",
         "type": "float"
        },
        {
         "name": "212",
         "rawType": "float64",
         "type": "float"
        },
        {
         "name": "213",
         "rawType": "float64",
         "type": "float"
        },
        {
         "name": "214",
         "rawType": "float64",
         "type": "float"
        },
        {
         "name": "215",
         "rawType": "float64",
         "type": "float"
        },
        {
         "name": "216",
         "rawType": "float64",
         "type": "float"
        },
        {
         "name": "217",
         "rawType": "float64",
         "type": "float"
        },
        {
         "name": "218",
         "rawType": "float64",
         "type": "float"
        },
        {
         "name": "219",
         "rawType": "float64",
         "type": "float"
        },
        {
         "name": "220",
         "rawType": "float64",
         "type": "float"
        },
        {
         "name": "221",
         "rawType": "float64",
         "type": "float"
        },
        {
         "name": "222",
         "rawType": "float64",
         "type": "float"
        },
        {
         "name": "223",
         "rawType": "float64",
         "type": "float"
        },
        {
         "name": "224",
         "rawType": "float64",
         "type": "float"
        },
        {
         "name": "225",
         "rawType": "float64",
         "type": "float"
        },
        {
         "name": "226",
         "rawType": "float64",
         "type": "float"
        },
        {
         "name": "227",
         "rawType": "float64",
         "type": "float"
        },
        {
         "name": "228",
         "rawType": "float64",
         "type": "float"
        },
        {
         "name": "229",
         "rawType": "float64",
         "type": "float"
        },
        {
         "name": "230",
         "rawType": "float64",
         "type": "float"
        },
        {
         "name": "231",
         "rawType": "float64",
         "type": "float"
        },
        {
         "name": "232",
         "rawType": "float64",
         "type": "float"
        },
        {
         "name": "233",
         "rawType": "float64",
         "type": "float"
        },
        {
         "name": "234",
         "rawType": "float64",
         "type": "float"
        },
        {
         "name": "235",
         "rawType": "float64",
         "type": "float"
        },
        {
         "name": "236",
         "rawType": "float64",
         "type": "float"
        },
        {
         "name": "237",
         "rawType": "float64",
         "type": "float"
        },
        {
         "name": "238",
         "rawType": "float64",
         "type": "float"
        },
        {
         "name": "239",
         "rawType": "float64",
         "type": "float"
        },
        {
         "name": "240",
         "rawType": "float64",
         "type": "float"
        },
        {
         "name": "241",
         "rawType": "float64",
         "type": "float"
        },
        {
         "name": "242",
         "rawType": "float64",
         "type": "float"
        },
        {
         "name": "243",
         "rawType": "float64",
         "type": "float"
        },
        {
         "name": "244",
         "rawType": "float64",
         "type": "float"
        },
        {
         "name": "245",
         "rawType": "float64",
         "type": "float"
        },
        {
         "name": "246",
         "rawType": "float64",
         "type": "float"
        },
        {
         "name": "247",
         "rawType": "float64",
         "type": "float"
        },
        {
         "name": "248",
         "rawType": "float64",
         "type": "float"
        },
        {
         "name": "249",
         "rawType": "float64",
         "type": "float"
        },
        {
         "name": "250",
         "rawType": "float64",
         "type": "float"
        },
        {
         "name": "251",
         "rawType": "float64",
         "type": "float"
        },
        {
         "name": "252",
         "rawType": "float64",
         "type": "float"
        },
        {
         "name": "253",
         "rawType": "float64",
         "type": "float"
        },
        {
         "name": "254",
         "rawType": "float64",
         "type": "float"
        },
        {
         "name": "255",
         "rawType": "float64",
         "type": "float"
        },
        {
         "name": "256",
         "rawType": "float64",
         "type": "float"
        },
        {
         "name": "257",
         "rawType": "float64",
         "type": "float"
        },
        {
         "name": "258",
         "rawType": "float64",
         "type": "float"
        },
        {
         "name": "259",
         "rawType": "float64",
         "type": "float"
        },
        {
         "name": "260",
         "rawType": "float64",
         "type": "float"
        },
        {
         "name": "261",
         "rawType": "float64",
         "type": "float"
        },
        {
         "name": "262",
         "rawType": "float64",
         "type": "float"
        },
        {
         "name": "263",
         "rawType": "float64",
         "type": "float"
        },
        {
         "name": "264",
         "rawType": "float64",
         "type": "float"
        },
        {
         "name": "265",
         "rawType": "float64",
         "type": "float"
        },
        {
         "name": "266",
         "rawType": "float64",
         "type": "float"
        },
        {
         "name": "267",
         "rawType": "float64",
         "type": "float"
        },
        {
         "name": "268",
         "rawType": "float64",
         "type": "float"
        },
        {
         "name": "269",
         "rawType": "float64",
         "type": "float"
        },
        {
         "name": "270",
         "rawType": "float64",
         "type": "float"
        },
        {
         "name": "271",
         "rawType": "float64",
         "type": "float"
        },
        {
         "name": "272",
         "rawType": "float64",
         "type": "float"
        },
        {
         "name": "273",
         "rawType": "float64",
         "type": "float"
        },
        {
         "name": "274",
         "rawType": "float64",
         "type": "float"
        },
        {
         "name": "275",
         "rawType": "float64",
         "type": "float"
        },
        {
         "name": "276",
         "rawType": "float64",
         "type": "float"
        },
        {
         "name": "277",
         "rawType": "float64",
         "type": "float"
        },
        {
         "name": "278",
         "rawType": "float64",
         "type": "float"
        },
        {
         "name": "279",
         "rawType": "float64",
         "type": "float"
        },
        {
         "name": "280",
         "rawType": "float64",
         "type": "float"
        },
        {
         "name": "281",
         "rawType": "float64",
         "type": "float"
        },
        {
         "name": "282",
         "rawType": "float64",
         "type": "float"
        },
        {
         "name": "283",
         "rawType": "float64",
         "type": "float"
        },
        {
         "name": "284",
         "rawType": "float64",
         "type": "float"
        },
        {
         "name": "285",
         "rawType": "float64",
         "type": "float"
        },
        {
         "name": "286",
         "rawType": "float64",
         "type": "float"
        },
        {
         "name": "287",
         "rawType": "float64",
         "type": "float"
        },
        {
         "name": "288",
         "rawType": "float64",
         "type": "float"
        },
        {
         "name": "289",
         "rawType": "float64",
         "type": "float"
        },
        {
         "name": "290",
         "rawType": "float64",
         "type": "float"
        },
        {
         "name": "291",
         "rawType": "float64",
         "type": "float"
        },
        {
         "name": "292",
         "rawType": "float64",
         "type": "float"
        },
        {
         "name": "293",
         "rawType": "float64",
         "type": "float"
        },
        {
         "name": "294",
         "rawType": "float64",
         "type": "float"
        },
        {
         "name": "295",
         "rawType": "float64",
         "type": "float"
        },
        {
         "name": "296",
         "rawType": "float64",
         "type": "float"
        },
        {
         "name": "297",
         "rawType": "float64",
         "type": "float"
        },
        {
         "name": "298",
         "rawType": "float64",
         "type": "float"
        },
        {
         "name": "299",
         "rawType": "float64",
         "type": "float"
        },
        {
         "name": "300",
         "rawType": "float64",
         "type": "float"
        },
        {
         "name": "301",
         "rawType": "float64",
         "type": "float"
        },
        {
         "name": "302",
         "rawType": "float64",
         "type": "float"
        },
        {
         "name": "303",
         "rawType": "float64",
         "type": "float"
        },
        {
         "name": "304",
         "rawType": "float64",
         "type": "float"
        },
        {
         "name": "305",
         "rawType": "float64",
         "type": "float"
        },
        {
         "name": "306",
         "rawType": "float64",
         "type": "float"
        },
        {
         "name": "307",
         "rawType": "float64",
         "type": "float"
        },
        {
         "name": "308",
         "rawType": "float64",
         "type": "float"
        },
        {
         "name": "309",
         "rawType": "float64",
         "type": "float"
        },
        {
         "name": "310",
         "rawType": "float64",
         "type": "float"
        },
        {
         "name": "311",
         "rawType": "float64",
         "type": "float"
        },
        {
         "name": "312",
         "rawType": "float64",
         "type": "float"
        },
        {
         "name": "313",
         "rawType": "float64",
         "type": "float"
        },
        {
         "name": "314",
         "rawType": "float64",
         "type": "float"
        },
        {
         "name": "315",
         "rawType": "float64",
         "type": "float"
        },
        {
         "name": "316",
         "rawType": "float64",
         "type": "float"
        },
        {
         "name": "317",
         "rawType": "float64",
         "type": "float"
        },
        {
         "name": "318",
         "rawType": "float64",
         "type": "float"
        },
        {
         "name": "319",
         "rawType": "float64",
         "type": "float"
        },
        {
         "name": "320",
         "rawType": "float64",
         "type": "float"
        },
        {
         "name": "321",
         "rawType": "float64",
         "type": "float"
        },
        {
         "name": "322",
         "rawType": "float64",
         "type": "float"
        },
        {
         "name": "323",
         "rawType": "float64",
         "type": "float"
        },
        {
         "name": "324",
         "rawType": "float64",
         "type": "float"
        },
        {
         "name": "325",
         "rawType": "float64",
         "type": "float"
        },
        {
         "name": "326",
         "rawType": "float64",
         "type": "float"
        },
        {
         "name": "327",
         "rawType": "float64",
         "type": "float"
        },
        {
         "name": "328",
         "rawType": "float64",
         "type": "float"
        },
        {
         "name": "329",
         "rawType": "float64",
         "type": "float"
        },
        {
         "name": "330",
         "rawType": "float64",
         "type": "float"
        },
        {
         "name": "331",
         "rawType": "float64",
         "type": "float"
        },
        {
         "name": "332",
         "rawType": "float64",
         "type": "float"
        },
        {
         "name": "333",
         "rawType": "float64",
         "type": "float"
        },
        {
         "name": "334",
         "rawType": "float64",
         "type": "float"
        },
        {
         "name": "335",
         "rawType": "float64",
         "type": "float"
        },
        {
         "name": "336",
         "rawType": "float64",
         "type": "float"
        },
        {
         "name": "337",
         "rawType": "float64",
         "type": "float"
        },
        {
         "name": "338",
         "rawType": "float64",
         "type": "float"
        },
        {
         "name": "339",
         "rawType": "float64",
         "type": "float"
        },
        {
         "name": "340",
         "rawType": "float64",
         "type": "float"
        },
        {
         "name": "341",
         "rawType": "float64",
         "type": "float"
        },
        {
         "name": "342",
         "rawType": "float64",
         "type": "float"
        },
        {
         "name": "343",
         "rawType": "float64",
         "type": "float"
        },
        {
         "name": "344",
         "rawType": "float64",
         "type": "float"
        },
        {
         "name": "345",
         "rawType": "float64",
         "type": "float"
        },
        {
         "name": "346",
         "rawType": "float64",
         "type": "float"
        },
        {
         "name": "347",
         "rawType": "float64",
         "type": "float"
        },
        {
         "name": "348",
         "rawType": "float64",
         "type": "float"
        },
        {
         "name": "349",
         "rawType": "float64",
         "type": "float"
        },
        {
         "name": "350",
         "rawType": "float64",
         "type": "float"
        },
        {
         "name": "351",
         "rawType": "float64",
         "type": "float"
        },
        {
         "name": "352",
         "rawType": "float64",
         "type": "float"
        },
        {
         "name": "353",
         "rawType": "float64",
         "type": "float"
        },
        {
         "name": "354",
         "rawType": "float64",
         "type": "float"
        },
        {
         "name": "355",
         "rawType": "float64",
         "type": "float"
        },
        {
         "name": "356",
         "rawType": "float64",
         "type": "float"
        },
        {
         "name": "357",
         "rawType": "float64",
         "type": "float"
        },
        {
         "name": "358",
         "rawType": "float64",
         "type": "float"
        },
        {
         "name": "359",
         "rawType": "float64",
         "type": "float"
        },
        {
         "name": "360",
         "rawType": "float64",
         "type": "float"
        },
        {
         "name": "361",
         "rawType": "float64",
         "type": "float"
        },
        {
         "name": "362",
         "rawType": "float64",
         "type": "float"
        },
        {
         "name": "363",
         "rawType": "float64",
         "type": "float"
        },
        {
         "name": "364",
         "rawType": "float64",
         "type": "float"
        },
        {
         "name": "365",
         "rawType": "float64",
         "type": "float"
        },
        {
         "name": "366",
         "rawType": "float64",
         "type": "float"
        },
        {
         "name": "367",
         "rawType": "float64",
         "type": "float"
        },
        {
         "name": "368",
         "rawType": "float64",
         "type": "float"
        },
        {
         "name": "369",
         "rawType": "float64",
         "type": "float"
        },
        {
         "name": "370",
         "rawType": "float64",
         "type": "float"
        },
        {
         "name": "371",
         "rawType": "float64",
         "type": "float"
        },
        {
         "name": "372",
         "rawType": "float64",
         "type": "float"
        },
        {
         "name": "373",
         "rawType": "float64",
         "type": "float"
        },
        {
         "name": "374",
         "rawType": "float64",
         "type": "float"
        },
        {
         "name": "375",
         "rawType": "float64",
         "type": "float"
        },
        {
         "name": "376",
         "rawType": "float64",
         "type": "float"
        },
        {
         "name": "377",
         "rawType": "float64",
         "type": "float"
        },
        {
         "name": "378",
         "rawType": "float64",
         "type": "float"
        },
        {
         "name": "379",
         "rawType": "float64",
         "type": "float"
        },
        {
         "name": "380",
         "rawType": "float64",
         "type": "float"
        },
        {
         "name": "381",
         "rawType": "float64",
         "type": "float"
        },
        {
         "name": "382",
         "rawType": "float64",
         "type": "float"
        },
        {
         "name": "383",
         "rawType": "float64",
         "type": "float"
        },
        {
         "name": "384",
         "rawType": "float64",
         "type": "float"
        },
        {
         "name": "385",
         "rawType": "float64",
         "type": "float"
        },
        {
         "name": "386",
         "rawType": "float64",
         "type": "float"
        },
        {
         "name": "387",
         "rawType": "float64",
         "type": "float"
        },
        {
         "name": "388",
         "rawType": "float64",
         "type": "float"
        },
        {
         "name": "389",
         "rawType": "float64",
         "type": "float"
        },
        {
         "name": "390",
         "rawType": "float64",
         "type": "float"
        },
        {
         "name": "391",
         "rawType": "float64",
         "type": "float"
        },
        {
         "name": "392",
         "rawType": "float64",
         "type": "float"
        },
        {
         "name": "393",
         "rawType": "float64",
         "type": "float"
        },
        {
         "name": "394",
         "rawType": "float64",
         "type": "float"
        },
        {
         "name": "395",
         "rawType": "float64",
         "type": "float"
        },
        {
         "name": "396",
         "rawType": "float64",
         "type": "float"
        },
        {
         "name": "397",
         "rawType": "float64",
         "type": "float"
        },
        {
         "name": "398",
         "rawType": "float64",
         "type": "float"
        },
        {
         "name": "399",
         "rawType": "float64",
         "type": "float"
        },
        {
         "name": "400",
         "rawType": "float64",
         "type": "float"
        },
        {
         "name": "401",
         "rawType": "float64",
         "type": "float"
        },
        {
         "name": "402",
         "rawType": "float64",
         "type": "float"
        },
        {
         "name": "403",
         "rawType": "float64",
         "type": "float"
        },
        {
         "name": "404",
         "rawType": "float64",
         "type": "float"
        },
        {
         "name": "405",
         "rawType": "float64",
         "type": "float"
        },
        {
         "name": "406",
         "rawType": "float64",
         "type": "float"
        },
        {
         "name": "407",
         "rawType": "float64",
         "type": "float"
        },
        {
         "name": "408",
         "rawType": "float64",
         "type": "float"
        },
        {
         "name": "409",
         "rawType": "float64",
         "type": "float"
        },
        {
         "name": "410",
         "rawType": "float64",
         "type": "float"
        },
        {
         "name": "411",
         "rawType": "float64",
         "type": "float"
        },
        {
         "name": "412",
         "rawType": "float64",
         "type": "float"
        },
        {
         "name": "413",
         "rawType": "float64",
         "type": "float"
        },
        {
         "name": "414",
         "rawType": "float64",
         "type": "float"
        },
        {
         "name": "415",
         "rawType": "float64",
         "type": "float"
        },
        {
         "name": "416",
         "rawType": "float64",
         "type": "float"
        },
        {
         "name": "417",
         "rawType": "float64",
         "type": "float"
        },
        {
         "name": "418",
         "rawType": "float64",
         "type": "float"
        },
        {
         "name": "419",
         "rawType": "float64",
         "type": "float"
        },
        {
         "name": "420",
         "rawType": "float64",
         "type": "float"
        },
        {
         "name": "421",
         "rawType": "float64",
         "type": "float"
        },
        {
         "name": "422",
         "rawType": "float64",
         "type": "float"
        },
        {
         "name": "423",
         "rawType": "float64",
         "type": "float"
        },
        {
         "name": "424",
         "rawType": "float64",
         "type": "float"
        },
        {
         "name": "425",
         "rawType": "float64",
         "type": "float"
        },
        {
         "name": "426",
         "rawType": "float64",
         "type": "float"
        },
        {
         "name": "427",
         "rawType": "float64",
         "type": "float"
        },
        {
         "name": "428",
         "rawType": "float64",
         "type": "float"
        },
        {
         "name": "429",
         "rawType": "float64",
         "type": "float"
        },
        {
         "name": "430",
         "rawType": "float64",
         "type": "float"
        },
        {
         "name": "431",
         "rawType": "float64",
         "type": "float"
        },
        {
         "name": "432",
         "rawType": "float64",
         "type": "float"
        },
        {
         "name": "433",
         "rawType": "float64",
         "type": "float"
        },
        {
         "name": "434",
         "rawType": "float64",
         "type": "float"
        },
        {
         "name": "435",
         "rawType": "float64",
         "type": "float"
        },
        {
         "name": "436",
         "rawType": "float64",
         "type": "float"
        },
        {
         "name": "437",
         "rawType": "float64",
         "type": "float"
        },
        {
         "name": "438",
         "rawType": "float64",
         "type": "float"
        },
        {
         "name": "439",
         "rawType": "float64",
         "type": "float"
        },
        {
         "name": "440",
         "rawType": "float64",
         "type": "float"
        },
        {
         "name": "441",
         "rawType": "float64",
         "type": "float"
        },
        {
         "name": "442",
         "rawType": "float64",
         "type": "float"
        },
        {
         "name": "443",
         "rawType": "float64",
         "type": "float"
        },
        {
         "name": "444",
         "rawType": "float64",
         "type": "float"
        },
        {
         "name": "445",
         "rawType": "float64",
         "type": "float"
        },
        {
         "name": "446",
         "rawType": "float64",
         "type": "float"
        },
        {
         "name": "447",
         "rawType": "float64",
         "type": "float"
        },
        {
         "name": "448",
         "rawType": "float64",
         "type": "float"
        },
        {
         "name": "449",
         "rawType": "float64",
         "type": "float"
        },
        {
         "name": "450",
         "rawType": "float64",
         "type": "float"
        },
        {
         "name": "451",
         "rawType": "float64",
         "type": "float"
        },
        {
         "name": "452",
         "rawType": "float64",
         "type": "float"
        },
        {
         "name": "453",
         "rawType": "float64",
         "type": "float"
        },
        {
         "name": "454",
         "rawType": "float64",
         "type": "float"
        },
        {
         "name": "455",
         "rawType": "float64",
         "type": "float"
        },
        {
         "name": "456",
         "rawType": "float64",
         "type": "float"
        },
        {
         "name": "457",
         "rawType": "float64",
         "type": "float"
        },
        {
         "name": "458",
         "rawType": "float64",
         "type": "float"
        },
        {
         "name": "459",
         "rawType": "float64",
         "type": "float"
        },
        {
         "name": "460",
         "rawType": "float64",
         "type": "float"
        },
        {
         "name": "461",
         "rawType": "float64",
         "type": "float"
        },
        {
         "name": "462",
         "rawType": "float64",
         "type": "float"
        },
        {
         "name": "463",
         "rawType": "float64",
         "type": "float"
        },
        {
         "name": "464",
         "rawType": "float64",
         "type": "float"
        },
        {
         "name": "465",
         "rawType": "float64",
         "type": "float"
        },
        {
         "name": "466",
         "rawType": "float64",
         "type": "float"
        },
        {
         "name": "467",
         "rawType": "float64",
         "type": "float"
        },
        {
         "name": "468",
         "rawType": "float64",
         "type": "float"
        },
        {
         "name": "469",
         "rawType": "float64",
         "type": "float"
        },
        {
         "name": "470",
         "rawType": "float64",
         "type": "float"
        },
        {
         "name": "471",
         "rawType": "float64",
         "type": "float"
        },
        {
         "name": "472",
         "rawType": "float64",
         "type": "float"
        },
        {
         "name": "473",
         "rawType": "float64",
         "type": "float"
        },
        {
         "name": "474",
         "rawType": "float64",
         "type": "float"
        },
        {
         "name": "475",
         "rawType": "float64",
         "type": "float"
        },
        {
         "name": "476",
         "rawType": "float64",
         "type": "float"
        },
        {
         "name": "477",
         "rawType": "float64",
         "type": "float"
        },
        {
         "name": "478",
         "rawType": "float64",
         "type": "float"
        },
        {
         "name": "479",
         "rawType": "float64",
         "type": "float"
        },
        {
         "name": "480",
         "rawType": "float64",
         "type": "float"
        },
        {
         "name": "481",
         "rawType": "float64",
         "type": "float"
        },
        {
         "name": "482",
         "rawType": "float64",
         "type": "float"
        },
        {
         "name": "483",
         "rawType": "float64",
         "type": "float"
        },
        {
         "name": "484",
         "rawType": "float64",
         "type": "float"
        },
        {
         "name": "485",
         "rawType": "float64",
         "type": "float"
        },
        {
         "name": "486",
         "rawType": "float64",
         "type": "float"
        },
        {
         "name": "487",
         "rawType": "float64",
         "type": "float"
        },
        {
         "name": "488",
         "rawType": "float64",
         "type": "float"
        },
        {
         "name": "489",
         "rawType": "float64",
         "type": "float"
        },
        {
         "name": "490",
         "rawType": "float64",
         "type": "float"
        },
        {
         "name": "491",
         "rawType": "float64",
         "type": "float"
        },
        {
         "name": "492",
         "rawType": "float64",
         "type": "float"
        },
        {
         "name": "493",
         "rawType": "float64",
         "type": "float"
        },
        {
         "name": "494",
         "rawType": "float64",
         "type": "float"
        },
        {
         "name": "495",
         "rawType": "float64",
         "type": "float"
        },
        {
         "name": "496",
         "rawType": "float64",
         "type": "float"
        },
        {
         "name": "497",
         "rawType": "float64",
         "type": "float"
        },
        {
         "name": "498",
         "rawType": "float64",
         "type": "float"
        },
        {
         "name": "499",
         "rawType": "float64",
         "type": "float"
        },
        {
         "name": "500",
         "rawType": "float64",
         "type": "float"
        },
        {
         "name": "501",
         "rawType": "float64",
         "type": "float"
        },
        {
         "name": "502",
         "rawType": "float64",
         "type": "float"
        },
        {
         "name": "503",
         "rawType": "float64",
         "type": "float"
        },
        {
         "name": "504",
         "rawType": "float64",
         "type": "float"
        },
        {
         "name": "505",
         "rawType": "float64",
         "type": "float"
        },
        {
         "name": "506",
         "rawType": "float64",
         "type": "float"
        },
        {
         "name": "507",
         "rawType": "float64",
         "type": "float"
        },
        {
         "name": "508",
         "rawType": "float64",
         "type": "float"
        },
        {
         "name": "509",
         "rawType": "float64",
         "type": "float"
        },
        {
         "name": "510",
         "rawType": "float64",
         "type": "float"
        },
        {
         "name": "511",
         "rawType": "float64",
         "type": "float"
        },
        {
         "name": "512",
         "rawType": "float64",
         "type": "float"
        },
        {
         "name": "513",
         "rawType": "float64",
         "type": "float"
        },
        {
         "name": "514",
         "rawType": "float64",
         "type": "float"
        },
        {
         "name": "515",
         "rawType": "float64",
         "type": "float"
        },
        {
         "name": "516",
         "rawType": "float64",
         "type": "float"
        },
        {
         "name": "517",
         "rawType": "float64",
         "type": "float"
        },
        {
         "name": "518",
         "rawType": "float64",
         "type": "float"
        },
        {
         "name": "519",
         "rawType": "float64",
         "type": "float"
        },
        {
         "name": "520",
         "rawType": "float64",
         "type": "float"
        },
        {
         "name": "521",
         "rawType": "float64",
         "type": "float"
        },
        {
         "name": "522",
         "rawType": "float64",
         "type": "float"
        },
        {
         "name": "523",
         "rawType": "float64",
         "type": "float"
        },
        {
         "name": "524",
         "rawType": "float64",
         "type": "float"
        },
        {
         "name": "525",
         "rawType": "float64",
         "type": "float"
        },
        {
         "name": "526",
         "rawType": "float64",
         "type": "float"
        },
        {
         "name": "527",
         "rawType": "float64",
         "type": "float"
        },
        {
         "name": "528",
         "rawType": "float64",
         "type": "float"
        },
        {
         "name": "529",
         "rawType": "float64",
         "type": "float"
        },
        {
         "name": "530",
         "rawType": "float64",
         "type": "float"
        },
        {
         "name": "531",
         "rawType": "float64",
         "type": "float"
        },
        {
         "name": "532",
         "rawType": "float64",
         "type": "float"
        },
        {
         "name": "533",
         "rawType": "float64",
         "type": "float"
        },
        {
         "name": "534",
         "rawType": "float64",
         "type": "float"
        },
        {
         "name": "535",
         "rawType": "float64",
         "type": "float"
        },
        {
         "name": "536",
         "rawType": "float64",
         "type": "float"
        },
        {
         "name": "537",
         "rawType": "float64",
         "type": "float"
        },
        {
         "name": "538",
         "rawType": "float64",
         "type": "float"
        },
        {
         "name": "539",
         "rawType": "float64",
         "type": "float"
        },
        {
         "name": "540",
         "rawType": "float64",
         "type": "float"
        },
        {
         "name": "541",
         "rawType": "float64",
         "type": "float"
        },
        {
         "name": "542",
         "rawType": "float64",
         "type": "float"
        },
        {
         "name": "543",
         "rawType": "float64",
         "type": "float"
        },
        {
         "name": "544",
         "rawType": "float64",
         "type": "float"
        },
        {
         "name": "545",
         "rawType": "float64",
         "type": "float"
        },
        {
         "name": "546",
         "rawType": "float64",
         "type": "float"
        },
        {
         "name": "547",
         "rawType": "float64",
         "type": "float"
        },
        {
         "name": "548",
         "rawType": "float64",
         "type": "float"
        },
        {
         "name": "549",
         "rawType": "float64",
         "type": "float"
        },
        {
         "name": "550",
         "rawType": "float64",
         "type": "float"
        },
        {
         "name": "551",
         "rawType": "float64",
         "type": "float"
        },
        {
         "name": "552",
         "rawType": "float64",
         "type": "float"
        },
        {
         "name": "553",
         "rawType": "float64",
         "type": "float"
        },
        {
         "name": "554",
         "rawType": "float64",
         "type": "float"
        },
        {
         "name": "555",
         "rawType": "float64",
         "type": "float"
        },
        {
         "name": "556",
         "rawType": "float64",
         "type": "float"
        },
        {
         "name": "557",
         "rawType": "float64",
         "type": "float"
        },
        {
         "name": "558",
         "rawType": "float64",
         "type": "float"
        },
        {
         "name": "559",
         "rawType": "float64",
         "type": "float"
        },
        {
         "name": "560",
         "rawType": "float64",
         "type": "float"
        },
        {
         "name": "561",
         "rawType": "float64",
         "type": "float"
        },
        {
         "name": "562",
         "rawType": "float64",
         "type": "float"
        },
        {
         "name": "563",
         "rawType": "float64",
         "type": "float"
        },
        {
         "name": "564",
         "rawType": "float64",
         "type": "float"
        },
        {
         "name": "565",
         "rawType": "float64",
         "type": "float"
        },
        {
         "name": "566",
         "rawType": "float64",
         "type": "float"
        },
        {
         "name": "567",
         "rawType": "float64",
         "type": "float"
        },
        {
         "name": "568",
         "rawType": "float64",
         "type": "float"
        },
        {
         "name": "569",
         "rawType": "float64",
         "type": "float"
        },
        {
         "name": "570",
         "rawType": "float64",
         "type": "float"
        },
        {
         "name": "571",
         "rawType": "float64",
         "type": "float"
        },
        {
         "name": "572",
         "rawType": "float64",
         "type": "float"
        },
        {
         "name": "573",
         "rawType": "float64",
         "type": "float"
        },
        {
         "name": "574",
         "rawType": "float64",
         "type": "float"
        },
        {
         "name": "575",
         "rawType": "float64",
         "type": "float"
        },
        {
         "name": "576",
         "rawType": "float64",
         "type": "float"
        },
        {
         "name": "577",
         "rawType": "float64",
         "type": "float"
        },
        {
         "name": "578",
         "rawType": "float64",
         "type": "float"
        },
        {
         "name": "579",
         "rawType": "float64",
         "type": "float"
        },
        {
         "name": "580",
         "rawType": "float64",
         "type": "float"
        },
        {
         "name": "581",
         "rawType": "float64",
         "type": "float"
        },
        {
         "name": "582",
         "rawType": "float64",
         "type": "float"
        },
        {
         "name": "583",
         "rawType": "float64",
         "type": "float"
        },
        {
         "name": "584",
         "rawType": "float64",
         "type": "float"
        },
        {
         "name": "585",
         "rawType": "float64",
         "type": "float"
        },
        {
         "name": "586",
         "rawType": "float64",
         "type": "float"
        },
        {
         "name": "587",
         "rawType": "float64",
         "type": "float"
        },
        {
         "name": "588",
         "rawType": "float64",
         "type": "float"
        },
        {
         "name": "589",
         "rawType": "float64",
         "type": "float"
        },
        {
         "name": "590",
         "rawType": "float64",
         "type": "float"
        },
        {
         "name": "591",
         "rawType": "float64",
         "type": "float"
        },
        {
         "name": "592",
         "rawType": "float64",
         "type": "float"
        },
        {
         "name": "593",
         "rawType": "float64",
         "type": "float"
        },
        {
         "name": "594",
         "rawType": "float64",
         "type": "float"
        },
        {
         "name": "595",
         "rawType": "float64",
         "type": "float"
        },
        {
         "name": "596",
         "rawType": "float64",
         "type": "float"
        },
        {
         "name": "597",
         "rawType": "float64",
         "type": "float"
        },
        {
         "name": "598",
         "rawType": "float64",
         "type": "float"
        },
        {
         "name": "599",
         "rawType": "float64",
         "type": "float"
        },
        {
         "name": "600",
         "rawType": "float64",
         "type": "float"
        },
        {
         "name": "601",
         "rawType": "float64",
         "type": "float"
        },
        {
         "name": "602",
         "rawType": "float64",
         "type": "float"
        },
        {
         "name": "603",
         "rawType": "float64",
         "type": "float"
        },
        {
         "name": "604",
         "rawType": "float64",
         "type": "float"
        },
        {
         "name": "605",
         "rawType": "float64",
         "type": "float"
        },
        {
         "name": "606",
         "rawType": "float64",
         "type": "float"
        },
        {
         "name": "607",
         "rawType": "float64",
         "type": "float"
        },
        {
         "name": "608",
         "rawType": "float64",
         "type": "float"
        },
        {
         "name": "609",
         "rawType": "float64",
         "type": "float"
        },
        {
         "name": "610",
         "rawType": "float64",
         "type": "float"
        },
        {
         "name": "611",
         "rawType": "float64",
         "type": "float"
        },
        {
         "name": "612",
         "rawType": "float64",
         "type": "float"
        },
        {
         "name": "613",
         "rawType": "float64",
         "type": "float"
        },
        {
         "name": "614",
         "rawType": "float64",
         "type": "float"
        },
        {
         "name": "615",
         "rawType": "float64",
         "type": "float"
        },
        {
         "name": "616",
         "rawType": "float64",
         "type": "float"
        },
        {
         "name": "617",
         "rawType": "float64",
         "type": "float"
        },
        {
         "name": "618",
         "rawType": "float64",
         "type": "float"
        },
        {
         "name": "619",
         "rawType": "float64",
         "type": "float"
        },
        {
         "name": "620",
         "rawType": "float64",
         "type": "float"
        },
        {
         "name": "621",
         "rawType": "float64",
         "type": "float"
        },
        {
         "name": "622",
         "rawType": "float64",
         "type": "float"
        },
        {
         "name": "623",
         "rawType": "float64",
         "type": "float"
        },
        {
         "name": "624",
         "rawType": "float64",
         "type": "float"
        },
        {
         "name": "625",
         "rawType": "float64",
         "type": "float"
        },
        {
         "name": "626",
         "rawType": "float64",
         "type": "float"
        },
        {
         "name": "627",
         "rawType": "float64",
         "type": "float"
        },
        {
         "name": "628",
         "rawType": "float64",
         "type": "float"
        },
        {
         "name": "629",
         "rawType": "float64",
         "type": "float"
        },
        {
         "name": "630",
         "rawType": "float64",
         "type": "float"
        },
        {
         "name": "631",
         "rawType": "float64",
         "type": "float"
        },
        {
         "name": "632",
         "rawType": "float64",
         "type": "float"
        },
        {
         "name": "633",
         "rawType": "float64",
         "type": "float"
        },
        {
         "name": "634",
         "rawType": "float64",
         "type": "float"
        },
        {
         "name": "635",
         "rawType": "float64",
         "type": "float"
        },
        {
         "name": "636",
         "rawType": "float64",
         "type": "float"
        },
        {
         "name": "637",
         "rawType": "float64",
         "type": "float"
        },
        {
         "name": "638",
         "rawType": "float64",
         "type": "float"
        },
        {
         "name": "639",
         "rawType": "float64",
         "type": "float"
        },
        {
         "name": "640",
         "rawType": "float64",
         "type": "float"
        },
        {
         "name": "641",
         "rawType": "float64",
         "type": "float"
        },
        {
         "name": "642",
         "rawType": "float64",
         "type": "float"
        },
        {
         "name": "643",
         "rawType": "float64",
         "type": "float"
        },
        {
         "name": "644",
         "rawType": "float64",
         "type": "float"
        },
        {
         "name": "645",
         "rawType": "float64",
         "type": "float"
        },
        {
         "name": "646",
         "rawType": "float64",
         "type": "float"
        },
        {
         "name": "647",
         "rawType": "float64",
         "type": "float"
        },
        {
         "name": "648",
         "rawType": "float64",
         "type": "float"
        },
        {
         "name": "649",
         "rawType": "float64",
         "type": "float"
        },
        {
         "name": "650",
         "rawType": "float64",
         "type": "float"
        },
        {
         "name": "651",
         "rawType": "float64",
         "type": "float"
        },
        {
         "name": "652",
         "rawType": "float64",
         "type": "float"
        },
        {
         "name": "653",
         "rawType": "float64",
         "type": "float"
        },
        {
         "name": "654",
         "rawType": "float64",
         "type": "float"
        },
        {
         "name": "655",
         "rawType": "float64",
         "type": "float"
        },
        {
         "name": "656",
         "rawType": "float64",
         "type": "float"
        },
        {
         "name": "657",
         "rawType": "float64",
         "type": "float"
        },
        {
         "name": "658",
         "rawType": "float64",
         "type": "float"
        },
        {
         "name": "659",
         "rawType": "float64",
         "type": "float"
        },
        {
         "name": "660",
         "rawType": "float64",
         "type": "float"
        },
        {
         "name": "661",
         "rawType": "float64",
         "type": "float"
        },
        {
         "name": "662",
         "rawType": "float64",
         "type": "float"
        },
        {
         "name": "663",
         "rawType": "float64",
         "type": "float"
        },
        {
         "name": "664",
         "rawType": "float64",
         "type": "float"
        },
        {
         "name": "665",
         "rawType": "float64",
         "type": "float"
        },
        {
         "name": "666",
         "rawType": "float64",
         "type": "float"
        },
        {
         "name": "667",
         "rawType": "float64",
         "type": "float"
        },
        {
         "name": "668",
         "rawType": "float64",
         "type": "float"
        },
        {
         "name": "669",
         "rawType": "float64",
         "type": "float"
        },
        {
         "name": "670",
         "rawType": "float64",
         "type": "float"
        },
        {
         "name": "671",
         "rawType": "float64",
         "type": "float"
        },
        {
         "name": "672",
         "rawType": "float64",
         "type": "float"
        },
        {
         "name": "673",
         "rawType": "float64",
         "type": "float"
        },
        {
         "name": "674",
         "rawType": "float64",
         "type": "float"
        },
        {
         "name": "675",
         "rawType": "float64",
         "type": "float"
        },
        {
         "name": "676",
         "rawType": "float64",
         "type": "float"
        },
        {
         "name": "677",
         "rawType": "float64",
         "type": "float"
        },
        {
         "name": "678",
         "rawType": "float64",
         "type": "float"
        },
        {
         "name": "679",
         "rawType": "float64",
         "type": "float"
        },
        {
         "name": "680",
         "rawType": "float64",
         "type": "float"
        },
        {
         "name": "681",
         "rawType": "float64",
         "type": "float"
        },
        {
         "name": "682",
         "rawType": "float64",
         "type": "float"
        },
        {
         "name": "683",
         "rawType": "float64",
         "type": "float"
        },
        {
         "name": "684",
         "rawType": "float64",
         "type": "float"
        },
        {
         "name": "685",
         "rawType": "float64",
         "type": "float"
        },
        {
         "name": "686",
         "rawType": "float64",
         "type": "float"
        },
        {
         "name": "687",
         "rawType": "float64",
         "type": "float"
        },
        {
         "name": "688",
         "rawType": "float64",
         "type": "float"
        },
        {
         "name": "689",
         "rawType": "float64",
         "type": "float"
        },
        {
         "name": "690",
         "rawType": "float64",
         "type": "float"
        },
        {
         "name": "691",
         "rawType": "float64",
         "type": "float"
        },
        {
         "name": "692",
         "rawType": "float64",
         "type": "float"
        },
        {
         "name": "693",
         "rawType": "float64",
         "type": "float"
        },
        {
         "name": "694",
         "rawType": "float64",
         "type": "float"
        },
        {
         "name": "695",
         "rawType": "float64",
         "type": "float"
        },
        {
         "name": "696",
         "rawType": "float64",
         "type": "float"
        },
        {
         "name": "697",
         "rawType": "float64",
         "type": "float"
        },
        {
         "name": "698",
         "rawType": "float64",
         "type": "float"
        },
        {
         "name": "699",
         "rawType": "float64",
         "type": "float"
        },
        {
         "name": "700",
         "rawType": "float64",
         "type": "float"
        },
        {
         "name": "701",
         "rawType": "float64",
         "type": "float"
        },
        {
         "name": "702",
         "rawType": "float64",
         "type": "float"
        },
        {
         "name": "703",
         "rawType": "float64",
         "type": "float"
        },
        {
         "name": "704",
         "rawType": "float64",
         "type": "float"
        },
        {
         "name": "705",
         "rawType": "float64",
         "type": "float"
        },
        {
         "name": "706",
         "rawType": "float64",
         "type": "float"
        },
        {
         "name": "707",
         "rawType": "float64",
         "type": "float"
        },
        {
         "name": "708",
         "rawType": "float64",
         "type": "float"
        },
        {
         "name": "709",
         "rawType": "float64",
         "type": "float"
        },
        {
         "name": "710",
         "rawType": "float64",
         "type": "float"
        },
        {
         "name": "711",
         "rawType": "float64",
         "type": "float"
        },
        {
         "name": "712",
         "rawType": "float64",
         "type": "float"
        },
        {
         "name": "713",
         "rawType": "float64",
         "type": "float"
        },
        {
         "name": "714",
         "rawType": "float64",
         "type": "float"
        },
        {
         "name": "715",
         "rawType": "float64",
         "type": "float"
        },
        {
         "name": "716",
         "rawType": "float64",
         "type": "float"
        },
        {
         "name": "717",
         "rawType": "float64",
         "type": "float"
        },
        {
         "name": "718",
         "rawType": "float64",
         "type": "float"
        },
        {
         "name": "719",
         "rawType": "float64",
         "type": "float"
        },
        {
         "name": "720",
         "rawType": "float64",
         "type": "float"
        },
        {
         "name": "721",
         "rawType": "float64",
         "type": "float"
        },
        {
         "name": "722",
         "rawType": "float64",
         "type": "float"
        },
        {
         "name": "723",
         "rawType": "float64",
         "type": "float"
        },
        {
         "name": "724",
         "rawType": "float64",
         "type": "float"
        },
        {
         "name": "725",
         "rawType": "float64",
         "type": "float"
        },
        {
         "name": "726",
         "rawType": "float64",
         "type": "float"
        },
        {
         "name": "727",
         "rawType": "float64",
         "type": "float"
        },
        {
         "name": "728",
         "rawType": "float64",
         "type": "float"
        },
        {
         "name": "729",
         "rawType": "float64",
         "type": "float"
        },
        {
         "name": "730",
         "rawType": "float64",
         "type": "float"
        },
        {
         "name": "731",
         "rawType": "float64",
         "type": "float"
        },
        {
         "name": "732",
         "rawType": "float64",
         "type": "float"
        },
        {
         "name": "733",
         "rawType": "float64",
         "type": "float"
        },
        {
         "name": "734",
         "rawType": "float64",
         "type": "float"
        },
        {
         "name": "735",
         "rawType": "float64",
         "type": "float"
        },
        {
         "name": "736",
         "rawType": "float64",
         "type": "float"
        },
        {
         "name": "737",
         "rawType": "float64",
         "type": "float"
        },
        {
         "name": "738",
         "rawType": "float64",
         "type": "float"
        },
        {
         "name": "739",
         "rawType": "float64",
         "type": "float"
        },
        {
         "name": "740",
         "rawType": "float64",
         "type": "float"
        },
        {
         "name": "741",
         "rawType": "float64",
         "type": "float"
        },
        {
         "name": "742",
         "rawType": "float64",
         "type": "float"
        },
        {
         "name": "743",
         "rawType": "float64",
         "type": "float"
        },
        {
         "name": "744",
         "rawType": "float64",
         "type": "float"
        },
        {
         "name": "745",
         "rawType": "float64",
         "type": "float"
        },
        {
         "name": "746",
         "rawType": "float64",
         "type": "float"
        },
        {
         "name": "747",
         "rawType": "float64",
         "type": "float"
        },
        {
         "name": "748",
         "rawType": "float64",
         "type": "float"
        },
        {
         "name": "749",
         "rawType": "float64",
         "type": "float"
        },
        {
         "name": "750",
         "rawType": "float64",
         "type": "float"
        },
        {
         "name": "751",
         "rawType": "float64",
         "type": "float"
        },
        {
         "name": "752",
         "rawType": "float64",
         "type": "float"
        },
        {
         "name": "753",
         "rawType": "float64",
         "type": "float"
        },
        {
         "name": "754",
         "rawType": "float64",
         "type": "float"
        },
        {
         "name": "755",
         "rawType": "float64",
         "type": "float"
        },
        {
         "name": "756",
         "rawType": "float64",
         "type": "float"
        },
        {
         "name": "757",
         "rawType": "float64",
         "type": "float"
        },
        {
         "name": "758",
         "rawType": "float64",
         "type": "float"
        },
        {
         "name": "759",
         "rawType": "float64",
         "type": "float"
        },
        {
         "name": "760",
         "rawType": "float64",
         "type": "float"
        },
        {
         "name": "761",
         "rawType": "float64",
         "type": "float"
        },
        {
         "name": "762",
         "rawType": "float64",
         "type": "float"
        },
        {
         "name": "763",
         "rawType": "float64",
         "type": "float"
        },
        {
         "name": "764",
         "rawType": "float64",
         "type": "float"
        },
        {
         "name": "765",
         "rawType": "float64",
         "type": "float"
        },
        {
         "name": "766",
         "rawType": "float64",
         "type": "float"
        },
        {
         "name": "767",
         "rawType": "float64",
         "type": "float"
        },
        {
         "name": "768",
         "rawType": "float64",
         "type": "float"
        },
        {
         "name": "769",
         "rawType": "float64",
         "type": "float"
        },
        {
         "name": "770",
         "rawType": "float64",
         "type": "float"
        },
        {
         "name": "771",
         "rawType": "float64",
         "type": "float"
        },
        {
         "name": "772",
         "rawType": "float64",
         "type": "float"
        },
        {
         "name": "773",
         "rawType": "float64",
         "type": "float"
        },
        {
         "name": "774",
         "rawType": "float64",
         "type": "float"
        },
        {
         "name": "775",
         "rawType": "float64",
         "type": "float"
        },
        {
         "name": "776",
         "rawType": "float64",
         "type": "float"
        },
        {
         "name": "777",
         "rawType": "float64",
         "type": "float"
        },
        {
         "name": "778",
         "rawType": "float64",
         "type": "float"
        },
        {
         "name": "779",
         "rawType": "float64",
         "type": "float"
        },
        {
         "name": "780",
         "rawType": "float64",
         "type": "float"
        },
        {
         "name": "781",
         "rawType": "float64",
         "type": "float"
        },
        {
         "name": "782",
         "rawType": "float64",
         "type": "float"
        },
        {
         "name": "783",
         "rawType": "float64",
         "type": "float"
        }
       ],
       "conversionMethod": "pd.DataFrame",
       "ref": "bd8bd618-76c0-4beb-a3c6-6aa3e26bde62",
       "rows": [
        [
         "0",
         "0.0",
         "0.0",
         "0.0",
         "0.0",
         "0.0",
         "0.0",
         "0.0",
         "0.0",
         "0.0",
         "0.0",
         "0.0",
         "0.0",
         "0.0",
         "0.0",
         "0.0",
         "0.0",
         "0.0",
         "0.0",
         "0.0",
         "0.0",
         "0.0",
         "0.0",
         "0.0",
         "0.0",
         "0.0",
         "0.0",
         "0.0",
         "0.0",
         "0.0",
         "0.0",
         "0.0",
         "0.0",
         "0.0",
         "0.0",
         "0.0",
         "0.0",
         "0.0",
         "0.0",
         "0.0",
         "0.0",
         "0.0",
         "0.0",
         "0.0",
         "0.0",
         "0.0",
         "0.0",
         "0.0",
         "0.0",
         "0.0",
         "0.0",
         "0.0",
         "0.0",
         "0.0",
         "0.0",
         "0.0",
         "0.0",
         "0.0",
         "0.0",
         "0.0",
         "0.0",
         "0.0",
         "0.0",
         "0.0",
         "0.0",
         "0.0",
         "0.0",
         "0.0",
         "0.0",
         "0.0",
         "0.0",
         "0.0",
         "0.0",
         "0.0",
         "0.0",
         "0.0",
         "0.0",
         "0.0",
         "0.0",
         "0.0",
         "0.0",
         "0.0",
         "0.0",
         "0.0",
         "0.0",
         "0.0",
         "0.0",
         "0.0",
         "0.0",
         "0.0",
         "0.0",
         "0.0",
         "0.0",
         "0.0",
         "0.0",
         "0.0",
         "0.0",
         "0.0",
         "0.0",
         "0.0",
         "0.0",
         "0.0",
         "0.0",
         "0.0",
         "0.0",
         "0.0",
         "0.0",
         "0.0",
         "0.0",
         "0.0",
         "0.0",
         "0.0",
         "0.0",
         "0.0",
         "0.0",
         "0.0",
         "0.0",
         "0.0",
         "0.0",
         "0.0",
         "0.0",
         "0.0",
         "0.0",
         "0.0",
         "0.0",
         "0.0",
         "0.0",
         "0.0",
         "0.0",
         "0.0",
         "0.0",
         "0.0",
         "0.0",
         "0.0",
         "0.0",
         "0.0",
         "0.0",
         "0.0",
         "0.0",
         "0.0",
         "0.0",
         "0.0",
         "0.0",
         "0.0",
         "0.0",
         "0.0",
         "0.0196078431372549",
         "0.1450980392156863",
         "0.0",
         "0.0",
         "0.0",
         "0.0",
         "0.0",
         "0.0",
         "0.0",
         "0.0",
         "0.0",
         "0.0",
         "0.0",
         "0.0",
         "0.0",
         "0.0",
         "0.0",
         "0.0",
         "0.0",
         "0.0",
         "0.0",
         "0.0",
         "0.0",
         "0.0",
         "0.0",
         "0.0",
         "0.0",
         "0.0",
         "0.30196078431372547",
         "0.9450980392156862",
         "0.39215686274509803",
         "0.050980392156862744",
         "0.0",
         "0.0",
         "0.0",
         "0.0",
         "0.0",
         "0.0",
         "0.0",
         "0.0",
         "0.0",
         "0.0",
         "0.0",
         "0.0",
         "0.0",
         "0.0",
         "0.0",
         "0.0",
         "0.0",
         "0.0",
         "0.0",
         "0.0",
         "0.0",
         "0.0",
         "0.0",
         "0.0",
         "0.058823529411764705",
         "0.8627450980392157",
         "0.9921568627450981",
         "0.6784313725490196",
         "0.3607843137254902",
         "0.0",
         "0.0",
         "0.0",
         "0.0",
         "0.0",
         "0.0",
         "0.0",
         "0.0",
         "0.0",
         "0.0",
         "0.0",
         "0.0",
         "0.0",
         "0.0",
         "0.0",
         "0.0",
         "0.0",
         "0.0",
         "0.0",
         "0.0",
         "0.0",
         "0.0",
         "0.0",
         "0.0",
         "0.058823529411764705",
         "0.5450980392156862",
         "0.996078431372549",
         "0.996078431372549",
         "0.6196078431372549",
         "0.0",
         "0.0",
         "0.0",
         "0.0",
         "0.0",
         "0.0",
         "0.0",
         "0.0",
         "0.0",
         "0.0",
         "0.0",
         "0.0",
         "0.0",
         "0.0",
         "0.0",
         "0.0",
         "0.0",
         "0.0",
         "0.0",
         "0.0",
         "0.0",
         "0.0",
         "0.0",
         "0.0",
         "0.0",
         "0.16862745098039217",
         "0.9058823529411765",
         "0.996078431372549",
         "0.9921568627450981",
         "0.6627450980392157",
         "0.13725490196078433",
         "0.0",
         "0.0",
         "0.0",
         "0.0",
         "0.0",
         "0.0",
         "0.0",
         "0.0",
         "0.0",
         "0.0",
         "0.0",
         "0.0",
         "0.0",
         "0.0",
         "0.0",
         "0.0",
         "0.0",
         "0.0",
         "0.0",
         "0.0",
         "0.0",
         "0.0",
         "0.0",
         "0.16862745098039217",
         "0.40784313725490196",
         "0.9294117647058824",
         "0.9921568627450981",
         "0.8588235294117647",
         "0.6313725490196078",
         "0.08235294117647059",
         "0.0",
         "0.0",
         "0.0",
         "0.0",
         "0.0",
         "0.11764705882352941",
         "0.6313725490196078",
         "0.11372549019607843",
         "0.0",
         "0.0",
         "0.0",
         "0.0",
         "0.0",
         "0.0",
         "0.0",
         "0.0",
         "0.0",
         "0.0",
         "0.0",
         "0.0",
         "0.0",
         "0.0",
         "0.0",
         "0.5137254901960784",
         "0.9921568627450981",
         "0.9921568627450981",
         "0.9921568627450981",
         "0.807843137254902",
         "0.27058823529411763",
         "0.19607843137254902",
         "0.0",
         "0.0",
         "0.0",
         "0.050980392156862744",
         "0.8",
         "0.6039215686274509",
         "0.023529411764705882",
         "0.0",
         "0.0",
         "0.0",
         "0.0",
         "0.0",
         "0.0",
         "0.0",
         "0.0",
         "0.0",
         "0.0",
         "0.0",
         "0.0",
         "0.0",
         "0.0",
         "0.03529411764705882",
         "0.7725490196078432",
         "0.9921568627450981",
         "0.9921568627450981",
         "0.996078431372549",
         "0.9921568627450981",
         "0.9450980392156862",
         "0.6470588235294118",
         "0.19607843137254902",
         "0.0",
         "0.0",
         "0.3568627450980392",
         "0.9921568627450981",
         "0.09019607843137255",
         "0.0",
         "0.0",
         "0.0",
         "0.0",
         "0.0",
         "0.0",
         "0.0",
         "0.0",
         "0.0",
         "0.0",
         "0.0",
         "0.0",
         "0.0",
         "0.0",
         "0.0",
         "0.5215686274509804",
         "0.996078431372549",
         "0.17254901960784313",
         "0.13333333333333333",
         "0.6274509803921569",
         "0.996078431372549",
         "0.996078431372549",
         "0.9568627450980393",
         "0.9098039215686274",
         "0.615686274509804",
         "0.6039215686274509",
         "0.996078431372549",
         "0.5019607843137255",
         "0.0",
         "0.0",
         "0.0",
         "0.0",
         "0.0",
         "0.0",
         "0.0",
         "0.0",
         "0.0",
         "0.0",
         "0.0",
         "0.0",
         "0.0",
         "0.0",
         "0.0",
         "0.27450980392156865",
         "0.9921568627450981",
         "0.5372549019607843",
         "0.0",
         "0.0",
         "0.3333333333333333",
         "0.6196078431372549",
         "0.9058823529411765",
         "0.996078431372549",
         "0.9921568627450981",
         "0.9921568627450981",
         "0.9921568627450981",
         "0.7450980392156863",
         "0.0",
         "0.0",
         "0.0",
         "0.0",
         "0.0",
         "0.0",
         "0.0",
         "0.0",
         "0.0",
         "0.0",
         "0.0",
         "0.0",
         "0.0",
         "0.0",
         "0.0",
         "0.27450980392156865",
         "0.9921568627450981",
         "0.5372549019607843",
         "0.0",
         "0.0",
         "0.0",
         "0.0",
         "0.0",
         "0.40784313725490196",
         "0.8156862745098039",
         "0.8156862745098039",
         "0.8156862745098039",
         "0.23921568627450981",
         "0.0",
         "0.0",
         "0.0",
         "0.0",
         "0.0",
         "0.0",
         "0.0",
         "0.0",
         "0.12549019607843137",
         "0.0",
         "0.0",
         "0.0",
         "0.0",
         "0.0",
         "0.0",
         "0.27450980392156865",
         "0.9921568627450981",
         "0.5372549019607843",
         "0.0",
         "0.0",
         "0.0",
         "0.0",
         "0.0",
         "0.0",
         "0.0",
         "0.0",
         "0.0",
         "0.0",
         "0.0",
         "0.0",
         "0.0",
         "0.0",
         "0.0",
         "0.0",
         "0.0",
         "0.0",
         "0.5254901960784314",
         "0.6627450980392157",
         "0.0",
         "0.0",
         "0.0",
         "0.0",
         "0.0",
         "0.27450980392156865",
         "0.9921568627450981",
         "0.9098039215686274",
         "0.0",
         "0.0",
         "0.0",
         "0.0",
         "0.0",
         "0.0",
         "0.0",
         "0.0",
         "0.0",
         "0.0",
         "0.0",
         "0.0",
         "0.0",
         "0.0",
         "0.0",
         "0.0",
         "0.0",
         "0.0",
         "0.7529411764705882",
         "0.9803921568627451",
         "0.5764705882352941",
         "0.08235294117647059",
         "0.0",
         "0.0",
         "0.0",
         "0.6862745098039216",
         "0.996078431372549",
         "0.996078431372549",
         "0.0",
         "0.0",
         "0.0",
         "0.0",
         "0.0",
         "0.0",
         "0.0",
         "0.0",
         "0.0",
         "0.0",
         "0.0",
         "0.0",
         "0.0",
         "0.0",
         "0.0",
         "0.0",
         "0.0",
         "0.0",
         "0.08627450980392157",
         "0.9215686274509803",
         "0.9921568627450981",
         "0.9921568627450981",
         "0.3764705882352941",
         "0.043137254901960784",
         "0.0196078431372549",
         "0.7490196078431373",
         "0.9921568627450981",
         "0.5372549019607843",
         "0.0",
         "0.0",
         "0.0",
         "0.0",
         "0.0",
         "0.0",
         "0.0",
         "0.0",
         "0.0",
         "0.0",
         "0.0",
         "0.0",
         "0.0",
         "0.0",
         "0.0",
         "0.0",
         "0.0",
         "0.0",
         "0.0",
         "0.06666666666666667",
         "0.7411764705882353",
         "0.9921568627450981",
         "0.9921568627450981",
         "0.8",
         "0.6980392156862745",
         "0.9921568627450981",
         "0.9921568627450981",
         "0.2549019607843137",
         "0.0",
         "0.0",
         "0.0",
         "0.0",
         "0.0",
         "0.0",
         "0.0",
         "0.0",
         "0.0",
         "0.0",
         "0.0",
         "0.0",
         "0.0",
         "0.0",
         "0.0",
         "0.0",
         "0.0",
         "0.0",
         "0.0",
         "0.0",
         "0.0784313725490196",
         "0.27450980392156865",
         "0.6",
         "1.0",
         "0.9921568627450981",
         "0.9921568627450981",
         "0.8941176470588236",
         "0.06666666666666667",
         "0.0",
         "0.0",
         "0.0",
         "0.0",
         "0.0",
         "0.0",
         "0.0",
         "0.0",
         "0.0",
         "0.0",
         "0.0",
         "0.0",
         "0.0",
         "0.0",
         "0.0",
         "0.0",
         "0.0",
         "0.0",
         "0.0",
         "0.0",
         "0.0",
         "0.0",
         "0.08627450980392157",
         "0.6392156862745098",
         "0.6352941176470588",
         "0.6352941176470588",
         "0.2",
         "0.0",
         "0.0",
         "0.0",
         "0.0",
         "0.0",
         "0.0",
         "0.0",
         "0.0",
         "0.0",
         "0.0",
         "0.0",
         "0.0",
         "0.0",
         "0.0",
         "0.0",
         "0.0",
         "0.0",
         "0.0",
         "0.0",
         "0.0",
         "0.0",
         "0.0",
         "0.0",
         "0.0",
         "0.0",
         "0.0",
         "0.0",
         "0.0",
         "0.0",
         "0.0",
         "0.0",
         "0.0",
         "0.0",
         "0.0",
         "0.0",
         "0.0",
         "0.0",
         "0.0",
         "0.0",
         "0.0",
         "0.0",
         "0.0",
         "0.0",
         "0.0",
         "0.0",
         "0.0",
         "0.0",
         "0.0",
         "0.0",
         "0.0",
         "0.0",
         "0.0",
         "0.0",
         "0.0",
         "0.0",
         "0.0",
         "0.0",
         "0.0",
         "0.0",
         "0.0",
         "0.0",
         "0.0",
         "0.0",
         "0.0",
         "0.0",
         "0.0",
         "0.0",
         "0.0",
         "0.0",
         "0.0",
         "0.0",
         "0.0",
         "0.0",
         "0.0",
         "0.0",
         "0.0",
         "0.0",
         "0.0",
         "0.0",
         "0.0",
         "0.0",
         "0.0",
         "0.0",
         "0.0",
         "0.0",
         "0.0",
         "0.0",
         "0.0",
         "0.0",
         "0.0",
         "0.0",
         "0.0",
         "0.0",
         "0.0",
         "0.0",
         "0.0",
         "0.0",
         "0.0",
         "0.0",
         "0.0",
         "0.0",
         "0.0",
         "0.0",
         "0.0",
         "0.0",
         "0.0",
         "0.0",
         "0.0",
         "0.0",
         "0.0",
         "0.0",
         "0.0",
         "0.0",
         "0.0",
         "0.0",
         "0.0",
         "0.0",
         "0.0",
         "0.0",
         "0.0",
         "0.0",
         "0.0",
         "0.0",
         "0.0",
         "0.0",
         "0.0",
         "0.0",
         "0.0",
         "0.0",
         "0.0",
         "0.0",
         "0.0",
         "0.0",
         "0.0",
         "0.0",
         "0.0",
         "0.0",
         "0.0",
         "0.0",
         "0.0",
         "0.0",
         "0.0",
         "0.0",
         "0.0",
         "0.0",
         "0.0",
         "0.0",
         "0.0",
         "0.0",
         "0.0",
         "0.0",
         "0.0",
         "0.0",
         "0.0"
        ]
       ],
       "shape": {
        "columns": 784,
        "rows": 1
       }
      },
      "text/html": [
       "<div>\n",
       "<style scoped>\n",
       "    .dataframe tbody tr th:only-of-type {\n",
       "        vertical-align: middle;\n",
       "    }\n",
       "\n",
       "    .dataframe tbody tr th {\n",
       "        vertical-align: top;\n",
       "    }\n",
       "\n",
       "    .dataframe thead th {\n",
       "        text-align: right;\n",
       "    }\n",
       "</style>\n",
       "<table border=\"1\" class=\"dataframe\">\n",
       "  <thead>\n",
       "    <tr style=\"text-align: right;\">\n",
       "      <th></th>\n",
       "      <th>0</th>\n",
       "      <th>1</th>\n",
       "      <th>2</th>\n",
       "      <th>3</th>\n",
       "      <th>4</th>\n",
       "      <th>5</th>\n",
       "      <th>6</th>\n",
       "      <th>7</th>\n",
       "      <th>8</th>\n",
       "      <th>9</th>\n",
       "      <th>...</th>\n",
       "      <th>774</th>\n",
       "      <th>775</th>\n",
       "      <th>776</th>\n",
       "      <th>777</th>\n",
       "      <th>778</th>\n",
       "      <th>779</th>\n",
       "      <th>780</th>\n",
       "      <th>781</th>\n",
       "      <th>782</th>\n",
       "      <th>783</th>\n",
       "    </tr>\n",
       "  </thead>\n",
       "  <tbody>\n",
       "    <tr>\n",
       "      <th>0</th>\n",
       "      <td>0.0</td>\n",
       "      <td>0.0</td>\n",
       "      <td>0.0</td>\n",
       "      <td>0.0</td>\n",
       "      <td>0.0</td>\n",
       "      <td>0.0</td>\n",
       "      <td>0.0</td>\n",
       "      <td>0.0</td>\n",
       "      <td>0.0</td>\n",
       "      <td>0.0</td>\n",
       "      <td>...</td>\n",
       "      <td>0.0</td>\n",
       "      <td>0.0</td>\n",
       "      <td>0.0</td>\n",
       "      <td>0.0</td>\n",
       "      <td>0.0</td>\n",
       "      <td>0.0</td>\n",
       "      <td>0.0</td>\n",
       "      <td>0.0</td>\n",
       "      <td>0.0</td>\n",
       "      <td>0.0</td>\n",
       "    </tr>\n",
       "  </tbody>\n",
       "</table>\n",
       "<p>1 rows × 784 columns</p>\n",
       "</div>"
      ],
      "text/plain": [
       "   0    1    2    3    4    5    6    7    8    9    ...  774  775  776  777  \\\n",
       "0  0.0  0.0  0.0  0.0  0.0  0.0  0.0  0.0  0.0  0.0  ...  0.0  0.0  0.0  0.0   \n",
       "\n",
       "   778  779  780  781  782  783  \n",
       "0  0.0  0.0  0.0  0.0  0.0  0.0  \n",
       "\n",
       "[1 rows x 784 columns]"
      ]
     },
     "execution_count": 32,
     "metadata": {},
     "output_type": "execute_result"
    }
   ],
   "source": [
    "df = pd.DataFrame(rotimg)\n",
    "df"
   ]
  },
  {
   "cell_type": "code",
   "execution_count": 33,
   "metadata": {},
   "outputs": [
    {
     "data": {
      "text/plain": [
       "array([5], dtype=uint8)"
      ]
     },
     "execution_count": 33,
     "metadata": {},
     "output_type": "execute_result"
    }
   ],
   "source": [
    "knn.predict(df)"
   ]
  },
  {
   "cell_type": "markdown",
   "metadata": {},
   "source": [
    "### For Hard disk Image"
   ]
  },
  {
   "cell_type": "code",
   "execution_count": 34,
   "metadata": {},
   "outputs": [
    {
     "data": {
      "text/plain": [
       "array([[255, 255, 255, ..., 255, 255, 255],\n",
       "       [255, 255, 255, ..., 255, 255, 255],\n",
       "       [255, 255, 255, ..., 255, 255, 255],\n",
       "       ...,\n",
       "       [255, 255, 255, ..., 255, 255, 255],\n",
       "       [255, 255, 255, ..., 255, 255, 255],\n",
       "       [255, 255, 255, ..., 255, 255, 255]], dtype=uint8)"
      ]
     },
     "execution_count": 34,
     "metadata": {},
     "output_type": "execute_result"
    }
   ],
   "source": [
    "modified_image = cv2.imread('modified.png', cv2.IMREAD_GRAYSCALE)\n",
    "modified_image"
   ]
  },
  {
   "cell_type": "code",
   "execution_count": 35,
   "metadata": {},
   "outputs": [
    {
     "data": {
      "text/plain": [
       "(387, 386)"
      ]
     },
     "execution_count": 35,
     "metadata": {},
     "output_type": "execute_result"
    }
   ],
   "source": [
    "modified_image.shape"
   ]
  },
  {
   "cell_type": "code",
   "execution_count": 36,
   "metadata": {},
   "outputs": [
    {
     "data": {
      "text/plain": [
       "<matplotlib.image.AxesImage at 0x187272a92e0>"
      ]
     },
     "execution_count": 36,
     "metadata": {},
     "output_type": "execute_result"
    },
    {
     "data": {
      "image/png": "[encoded data removed]",
      "text/plain": [
       "<Figure size 640x480 with 1 Axes>"
      ]
     },
     "metadata": {},
     "output_type": "display_data"
    }
   ],
   "source": [
    "plt.imshow(modified_image, cmap='gray')"
   ]
  },
  {
   "cell_type": "code",
   "execution_count": 37,
   "metadata": {},
   "outputs": [
    {
     "data": {
      "text/plain": [
       "array([[0, 0, 0, ..., 0, 0, 0],\n",
       "       [0, 0, 0, ..., 0, 0, 0],\n",
       "       [0, 0, 0, ..., 0, 0, 0],\n",
       "       ...,\n",
       "       [0, 0, 0, ..., 0, 0, 0],\n",
       "       [0, 0, 0, ..., 0, 0, 0],\n",
       "       [0, 0, 0, ..., 0, 0, 0]], dtype=uint8)"
      ]
     },
     "execution_count": 37,
     "metadata": {},
     "output_type": "execute_result"
    }
   ],
   "source": [
    "img_resizedM = cv2.bitwise_not(modified_image)\n",
    "img_resizedM"
   ]
  },
  {
   "cell_type": "code",
   "execution_count": 38,
   "metadata": {},
   "outputs": [
    {
     "data": {
      "text/plain": [
       "<matplotlib.image.AxesImage at 0x187272ab980>"
      ]
     },
     "execution_count": 38,
     "metadata": {},
     "output_type": "execute_result"
    },
    {
     "data": {
      "image/png": "[encoded data removed]",
      "text/plain": [
       "<Figure size 640x480 with 1 Axes>"
      ]
     },
     "metadata": {},
     "output_type": "display_data"
    }
   ],
   "source": [
    "plt.imshow(img_resizedM, cmap='gray')"
   ]
  },
  {
   "cell_type": "code",
   "execution_count": 39,
   "metadata": {},
   "outputs": [
    {
     "data": {
      "text/plain": [
       "array([[  0,   0,   0,   0,   0,   0,   0,   0,   0,   0,   0,   0,   0,\n",
       "          0,   0,   0,   0,   0,   0,   0,   0,   0,   0,   0,   0,   0,\n",
       "          0,   0],\n",
       "       [  0,   0,   0,   0,   0,   0,   0,   0,   0,   0,   0,   0,   0,\n",
       "          0,   0,   0,   0,   0,   0,   0,   0,   0,   0,   0,   0,   0,\n",
       "          0,   0],\n",
       "       [  0,   0,   0,   0,   0,   0,   0,   0,   0,   0,   0,   0,   0,\n",
       "          0,   0,   0,   0,   0,   0,   0,   0,   0,   0,   0,   0,   0,\n",
       "          0,   0],\n",
       "       [  0,   0,   0,   0,   0,   0,   0,   0,   0,   0,   0,   0,   0,\n",
       "          0,   0,   0,   0,   0,   0,   0,   0,   0,   0,   0,   0,   0,\n",
       "          0,   0],\n",
       "       [  0,   0,   0,   0,   0,   0,   0,   0,   0,   0,   0,   0,   0,\n",
       "          0,   0,   0,   0,   0,   0,   0,   0,   0,   0,   0,   0,   0,\n",
       "          0,   0],\n",
       "       [  0,   0,   0,   0,   0,   0,   0,   0,   0,   0,   0,   0,   0,\n",
       "          0,   0,   0, 214,   0,   0,   0,   0,   0,   0,   0,   0,   0,\n",
       "          0,   0],\n",
       "       [  0,   0,   0,   0,   0,   0,   0,   0,   0,   0,   0,   0,   0,\n",
       "          0,   0,   0, 216,   0,   0,   0,   0,   0,   0,   0,   0,   0,\n",
       "          0,   0],\n",
       "       [  0,   0,   0,   0,   0,   0,   0, 122,   0,   0,   0,   0,   0,\n",
       "          0,   0,   0, 213,   0,   0,   0,   0,   0,   0,   0,   0,   0,\n",
       "          0,   0],\n",
       "       [  0,   0,   0,   0,   0,   0,   0, 178,   0,   0,   0,   0,   0,\n",
       "          0,   0,   0, 216,   0,   0,   0,   0,   0,   0,   0,   0,   0,\n",
       "          0,   0],\n",
       "       [  0,   0,   0,   0,   0,   0,  18, 160,   0,   0,   0,   0,   0,\n",
       "          0,   0,   0, 212, 112,   0,   0,   0,   0,   0,   0,   0,   0,\n",
       "          0,   0],\n",
       "       [  0,   0,   0,   0,   0,   0, 170, 146,   0,   0,   0,   0,   0,\n",
       "          0,   0,   0, 212, 149,   0,   0,   0,   0,   0,   0,   0,   0,\n",
       "          0,   0],\n",
       "       [  0,   0,   0,   0,   0,   0, 185, 132,   0,   0,   0,   0,   0,\n",
       "          0, 104, 147, 224, 208,   0,   0,   0,   0,   0,   0,   0,   0,\n",
       "          0,   0],\n",
       "       [  0,   0,   0,   0,   0,   0, 198, 127,   0,   0,   0,   0,  34,\n",
       "        205, 207, 177, 210, 161,   0,   0,   0,   0,   0,   0,   0,   0,\n",
       "          0,   0],\n",
       "       [  0,   0,   0,   0,   0,   0, 197, 126,   0,   0, 161, 205, 171,\n",
       "        120,   0,   0, 158, 178,   0,   0,   0,   0,   0,   0,   0,   0,\n",
       "          0,   0],\n",
       "       [  0,   0,   0,   0,   0,   0, 177, 201, 201, 211, 158,   0,   0,\n",
       "          0,   0,   0,   0, 195,   0,   0,   0,   0,   0,   0,   0,   0,\n",
       "          0,   0],\n",
       "       [  0,   0,   0,   0,   0,   0,   0,   0,   0,   0,   0,   0,   0,\n",
       "          0,   0,   0,   0, 203,   0,   0,   0,   0,   0,   0,   0,   0,\n",
       "          0,   0],\n",
       "       [  0,   0,   0,   0,   0,   0,   0,   0,   0,   0,   0,   0,   0,\n",
       "          0,   0,   0,   0, 209,   0,   0,   0,   0,   0,   0,   0,   0,\n",
       "          0,   0],\n",
       "       [  0,   0,   0,   0,   0,   0,   0,   0,   0,   0,   0,   0,   0,\n",
       "          0,   0,   0,   0, 212,   0,   0,   0,   0,   0,   0,   0,   0,\n",
       "          0,   0],\n",
       "       [  0,   0,   0,   0,   0,   0,   0,   0,   0,   0,   0,   0,   0,\n",
       "          0,   0,   0,   0, 212,   0,   0,   0,   0,   0,   0,   0,   0,\n",
       "          0,   0],\n",
       "       [  0,   0,   0,   0,   0,   0,   0,   0,   0,   0,   0,   0,   0,\n",
       "          0,   0,   0,   0, 211,   0,   0,   0,   0,   0,   0,   0,   0,\n",
       "          0,   0],\n",
       "       [  0,   0,   0,   0,   0,   0,   0,   0,   0,   0,   0,   0,   0,\n",
       "          0,   0,   0,   0, 207,  61,   0,   0,   0,   0,   0,   0,   0,\n",
       "          0,   0],\n",
       "       [  0,   0,   0,   0,   0,   0,   0,   0,   0,   0,   0,   0,   0,\n",
       "          0,   0,   0,   0, 191, 169,   0,   0,   0,   0,   0,   0,   0,\n",
       "          0,   0],\n",
       "       [  0,   0,   0,   0,   0,   0,   0,   0,   0,   0,   0,   0,   0,\n",
       "          0,   0,   0,   0, 169, 192,   0,   0,   0,   0,   0,   0,   0,\n",
       "          0,   0],\n",
       "       [  0,   0,   0,   0,   0,   0,   0,   0,   0,   0,   0,   0,   0,\n",
       "          0,   0,   0,   0, 161, 213,   0,   0,   0,   0,   0,   0,   0,\n",
       "          0,   0],\n",
       "       [  0,   0,   0,   0,   0,   0,   0,   0,   0,   0,   0,   0,   0,\n",
       "          0,   0,   0,   0,   0,   0,   0,   0,   0,   0,   0,   0,   0,\n",
       "          0,   0],\n",
       "       [  0,   0,   0,   0,   0,   0,   0,   0,   0,   0,   0,   0,   0,\n",
       "          0,   0,   0,   0,   0,   0,   0,   0,   0,   0,   0,   0,   0,\n",
       "          0,   0],\n",
       "       [  0,   0,   0,   0,   0,   0,   0,   0,   0,   0,   0,   0,   0,\n",
       "          0,   0,   0,   0,   0,   0,   0,   0,   0,   0,   0,   0,   0,\n",
       "          0,   0],\n",
       "       [  0,   0,   0,   0,   0,   0,   0,   0,   0,   0,   0,   0,   0,\n",
       "          0,   0,   0,   0,   0,   0,   0,   0,   0,   0,   0,   0,   0,\n",
       "          0,   0]], dtype=uint8)"
      ]
     },
     "execution_count": 39,
     "metadata": {},
     "output_type": "execute_result"
    }
   ],
   "source": [
    "img_resizedM = cv2.resize(img_resizedM, (28, 28), interpolation=cv2.INTER_LINEAR)\n",
    "img_resizedM"
   ]
  },
  {
   "cell_type": "code",
   "execution_count": 40,
   "metadata": {},
   "outputs": [
    {
     "data": {
      "text/plain": [
       "(28, 28)"
      ]
     },
     "execution_count": 40,
     "metadata": {},
     "output_type": "execute_result"
    }
   ],
   "source": [
    "img_resizedM.shape"
   ]
  },
  {
   "cell_type": "code",
   "execution_count": 41,
   "metadata": {},
   "outputs": [
    {
     "data": {
      "text/plain": [
       "<matplotlib.image.AxesImage at 0x187273ea300>"
      ]
     },
     "execution_count": 41,
     "metadata": {},
     "output_type": "execute_result"
    },
    {
     "data": {
      "image/png": "[encoded data removed]",
      "text/plain": [
       "<Figure size 640x480 with 1 Axes>"
      ]
     },
     "metadata": {},
     "output_type": "display_data"
    }
   ],
   "source": [
    "plt.imshow(img_resizedM, cmap='gray')"
   ]
  },
  {
   "cell_type": "code",
   "execution_count": 42,
   "metadata": {},
   "outputs": [
    {
     "data": {
      "text/plain": [
       "array([[0.        , 0.        , 0.        , 0.        , 0.        ,\n",
       "        0.        , 0.        , 0.        , 0.        , 0.        ,\n",
       "        0.        , 0.        , 0.        , 0.        , 0.        ,\n",
       "        0.        , 0.        , 0.        , 0.        , 0.        ,\n",
       "        0.        , 0.        , 0.        , 0.        , 0.        ,\n",
       "        0.        , 0.        , 0.        ],\n",
       "       [0.        , 0.        , 0.        , 0.        , 0.        ,\n",
       "        0.        , 0.        , 0.        , 0.        , 0.        ,\n",
       "        0.        , 0.        , 0.        , 0.        , 0.        ,\n",
       "        0.        , 0.        , 0.        , 0.        , 0.        ,\n",
       "        0.        , 0.        , 0.        , 0.        , 0.        ,\n",
       "        0.        , 0.        , 0.        ],\n",
       "       [0.        , 0.        , 0.        , 0.        , 0.        ,\n",
       "        0.        , 0.        , 0.        , 0.        , 0.        ,\n",
       "        0.        , 0.        , 0.        , 0.        , 0.        ,\n",
       "        0.        , 0.        , 0.        , 0.        , 0.        ,\n",
       "        0.        , 0.        , 0.        , 0.        , 0.        ,\n",
       "        0.        , 0.        , 0.        ],\n",
       "       [0.        , 0.        , 0.        , 0.        , 0.        ,\n",
       "        0.        , 0.        , 0.        , 0.        , 0.        ,\n",
       "        0.        , 0.        , 0.        , 0.        , 0.        ,\n",
       "        0.        , 0.        , 0.        , 0.        , 0.        ,\n",
       "        0.        , 0.        , 0.        , 0.        , 0.        ,\n",
       "        0.        , 0.        , 0.        ],\n",
       "       [0.        , 0.        , 0.        , 0.        , 0.        ,\n",
       "        0.        , 0.        , 0.        , 0.        , 0.        ,\n",
       "        0.        , 0.        , 0.        , 0.        , 0.        ,\n",
       "        0.        , 0.        , 0.        , 0.        , 0.        ,\n",
       "        0.        , 0.        , 0.        , 0.        , 0.        ,\n",
       "        0.        , 0.        , 0.        ],\n",
       "       [0.        , 0.        , 0.        , 0.        , 0.        ,\n",
       "        0.        , 0.        , 0.        , 0.        , 0.        ,\n",
       "        0.        , 0.        , 0.        , 0.        , 0.        ,\n",
       "        0.        , 0.83921569, 0.        , 0.        , 0.        ,\n",
       "        0.        , 0.        , 0.        , 0.        , 0.        ,\n",
       "        0.        , 0.        , 0.        ],\n",
       "       [0.        , 0.        , 0.        , 0.        , 0.        ,\n",
       "        0.        , 0.        , 0.        , 0.        , 0.        ,\n",
       "        0.        , 0.        , 0.        , 0.        , 0.        ,\n",
       "        0.        , 0.84705882, 0.        , 0.        , 0.        ,\n",
       "        0.        , 0.        , 0.        , 0.        , 0.        ,\n",
       "        0.        , 0.        , 0.        ],\n",
       "       [0.        , 0.        , 0.        , 0.        , 0.        ,\n",
       "        0.        , 0.        , 0.47843137, 0.        , 0.        ,\n",
       "        0.        , 0.        , 0.        , 0.        , 0.        ,\n",
       "        0.        , 0.83529412, 0.        , 0.        , 0.        ,\n",
       "        0.        , 0.        , 0.        , 0.        , 0.        ,\n",
       "        0.        , 0.        , 0.        ],\n",
       "       [0.        , 0.        , 0.        , 0.        , 0.        ,\n",
       "        0.        , 0.        , 0.69803922, 0.        , 0.        ,\n",
       "        0.        , 0.        , 0.        , 0.        , 0.        ,\n",
       "        0.        , 0.84705882, 0.        , 0.        , 0.        ,\n",
       "        0.        , 0.        , 0.        , 0.        , 0.        ,\n",
       "        0.        , 0.        , 0.        ],\n",
       "       [0.        , 0.        , 0.        , 0.        , 0.        ,\n",
       "        0.        , 0.07058824, 0.62745098, 0.        , 0.        ,\n",
       "        0.        , 0.        , 0.        , 0.        , 0.        ,\n",
       "        0.        , 0.83137255, 0.43921569, 0.        , 0.        ,\n",
       "        0.        , 0.        , 0.        , 0.        , 0.        ,\n",
       "        0.        , 0.        , 0.        ],\n",
       "       [0.        , 0.        , 0.        , 0.        , 0.        ,\n",
       "        0.        , 0.66666667, 0.57254902, 0.        , 0.        ,\n",
       "        0.        , 0.        , 0.        , 0.        , 0.        ,\n",
       "        0.        , 0.83137255, 0.58431373, 0.        , 0.        ,\n",
       "        0.        , 0.        , 0.        , 0.        , 0.        ,\n",
       "        0.        , 0.        , 0.        ],\n",
       "       [0.        , 0.        , 0.        , 0.        , 0.        ,\n",
       "        0.        , 0.7254902 , 0.51764706, 0.        , 0.        ,\n",
       "        0.        , 0.        , 0.        , 0.        , 0.40784314,\n",
       "        0.57647059, 0.87843137, 0.81568627, 0.        , 0.        ,\n",
       "        0.        , 0.        , 0.        , 0.        , 0.        ,\n",
       "        0.        , 0.        , 0.        ],\n",
       "       [0.        , 0.        , 0.        , 0.        , 0.        ,\n",
       "        0.        , 0.77647059, 0.49803922, 0.        , 0.        ,\n",
       "        0.        , 0.        , 0.13333333, 0.80392157, 0.81176471,\n",
       "        0.69411765, 0.82352941, 0.63137255, 0.        , 0.        ,\n",
       "        0.        , 0.        , 0.        , 0.        , 0.        ,\n",
       "        0.        , 0.        , 0.        ],\n",
       "       [0.        , 0.        , 0.        , 0.        , 0.        ,\n",
       "        0.        , 0.77254902, 0.49411765, 0.        , 0.        ,\n",
       "        0.63137255, 0.80392157, 0.67058824, 0.47058824, 0.        ,\n",
       "        0.        , 0.61960784, 0.69803922, 0.        , 0.        ,\n",
       "        0.        , 0.        , 0.        , 0.        , 0.        ,\n",
       "        0.        , 0.        , 0.        ],\n",
       "       [0.        , 0.        , 0.        , 0.        , 0.        ,\n",
       "        0.        , 0.69411765, 0.78823529, 0.78823529, 0.82745098,\n",
       "        0.61960784, 0.        , 0.        , 0.        , 0.        ,\n",
       "        0.        , 0.        , 0.76470588, 0.        , 0.        ,\n",
       "        0.        , 0.        , 0.        , 0.        , 0.        ,\n",
       "        0.        , 0.        , 0.        ],\n",
       "       [0.        , 0.        , 0.        , 0.        , 0.        ,\n",
       "        0.        , 0.        , 0.        , 0.        , 0.        ,\n",
       "        0.        , 0.        , 0.        , 0.        , 0.        ,\n",
       "        0.        , 0.        , 0.79607843, 0.        , 0.        ,\n",
       "        0.        , 0.        , 0.        , 0.        , 0.        ,\n",
       "        0.        , 0.        , 0.        ],\n",
       "       [0.        , 0.        , 0.        , 0.        , 0.        ,\n",
       "        0.        , 0.        , 0.        , 0.        , 0.        ,\n",
       "        0.        , 0.        , 0.        , 0.        , 0.        ,\n",
       "        0.        , 0.        , 0.81960784, 0.        , 0.        ,\n",
       "        0.        , 0.        , 0.        , 0.        , 0.        ,\n",
       "        0.        , 0.        , 0.        ],\n",
       "       [0.        , 0.        , 0.        , 0.        , 0.        ,\n",
       "        0.        , 0.        , 0.        , 0.        , 0.        ,\n",
       "        0.        , 0.        , 0.        , 0.        , 0.        ,\n",
       "        0.        , 0.        , 0.83137255, 0.        , 0.        ,\n",
       "        0.        , 0.        , 0.        , 0.        , 0.        ,\n",
       "        0.        , 0.        , 0.        ],\n",
       "       [0.        , 0.        , 0.        , 0.        , 0.        ,\n",
       "        0.        , 0.        , 0.        , 0.        , 0.        ,\n",
       "        0.        , 0.        , 0.        , 0.        , 0.        ,\n",
       "        0.        , 0.        , 0.83137255, 0.        , 0.        ,\n",
       "        0.        , 0.        , 0.        , 0.        , 0.        ,\n",
       "        0.        , 0.        , 0.        ],\n",
       "       [0.        , 0.        , 0.        , 0.        , 0.        ,\n",
       "        0.        , 0.        , 0.        , 0.        , 0.        ,\n",
       "        0.        , 0.        , 0.        , 0.        , 0.        ,\n",
       "        0.        , 0.        , 0.82745098, 0.        , 0.        ,\n",
       "        0.        , 0.        , 0.        , 0.        , 0.        ,\n",
       "        0.        , 0.        , 0.        ],\n",
       "       [0.        , 0.        , 0.        , 0.        , 0.        ,\n",
       "        0.        , 0.        , 0.        , 0.        , 0.        ,\n",
       "        0.        , 0.        , 0.        , 0.        , 0.        ,\n",
       "        0.        , 0.        , 0.81176471, 0.23921569, 0.        ,\n",
       "        0.        , 0.        , 0.        , 0.        , 0.        ,\n",
       "        0.        , 0.        , 0.        ],\n",
       "       [0.        , 0.        , 0.        , 0.        , 0.        ,\n",
       "        0.        , 0.        , 0.        , 0.        , 0.        ,\n",
       "        0.        , 0.        , 0.        , 0.        , 0.        ,\n",
       "        0.        , 0.        , 0.74901961, 0.6627451 , 0.        ,\n",
       "        0.        , 0.        , 0.        , 0.        , 0.        ,\n",
       "        0.        , 0.        , 0.        ],\n",
       "       [0.        , 0.        , 0.        , 0.        , 0.        ,\n",
       "        0.        , 0.        , 0.        , 0.        , 0.        ,\n",
       "        0.        , 0.        , 0.        , 0.        , 0.        ,\n",
       "        0.        , 0.        , 0.6627451 , 0.75294118, 0.        ,\n",
       "        0.        , 0.        , 0.        , 0.        , 0.        ,\n",
       "        0.        , 0.        , 0.        ],\n",
       "       [0.        , 0.        , 0.        , 0.        , 0.        ,\n",
       "        0.        , 0.        , 0.        , 0.        , 0.        ,\n",
       "        0.        , 0.        , 0.        , 0.        , 0.        ,\n",
       "        0.        , 0.        , 0.63137255, 0.83529412, 0.        ,\n",
       "        0.        , 0.        , 0.        , 0.        , 0.        ,\n",
       "        0.        , 0.        , 0.        ],\n",
       "       [0.        , 0.        , 0.        , 0.        , 0.        ,\n",
       "        0.        , 0.        , 0.        , 0.        , 0.        ,\n",
       "        0.        , 0.        , 0.        , 0.        , 0.        ,\n",
       "        0.        , 0.        , 0.        , 0.        , 0.        ,\n",
       "        0.        , 0.        , 0.        , 0.        , 0.        ,\n",
       "        0.        , 0.        , 0.        ],\n",
       "       [0.        , 0.        , 0.        , 0.        , 0.        ,\n",
       "        0.        , 0.        , 0.        , 0.        , 0.        ,\n",
       "        0.        , 0.        , 0.        , 0.        , 0.        ,\n",
       "        0.        , 0.        , 0.        , 0.        , 0.        ,\n",
       "        0.        , 0.        , 0.        , 0.        , 0.        ,\n",
       "        0.        , 0.        , 0.        ],\n",
       "       [0.        , 0.        , 0.        , 0.        , 0.        ,\n",
       "        0.        , 0.        , 0.        , 0.        , 0.        ,\n",
       "        0.        , 0.        , 0.        , 0.        , 0.        ,\n",
       "        0.        , 0.        , 0.        , 0.        , 0.        ,\n",
       "        0.        , 0.        , 0.        , 0.        , 0.        ,\n",
       "        0.        , 0.        , 0.        ],\n",
       "       [0.        , 0.        , 0.        , 0.        , 0.        ,\n",
       "        0.        , 0.        , 0.        , 0.        , 0.        ,\n",
       "        0.        , 0.        , 0.        , 0.        , 0.        ,\n",
       "        0.        , 0.        , 0.        , 0.        , 0.        ,\n",
       "        0.        , 0.        , 0.        , 0.        , 0.        ,\n",
       "        0.        , 0.        , 0.        ]])"
      ]
     },
     "execution_count": 42,
     "metadata": {},
     "output_type": "execute_result"
    }
   ],
   "source": [
    "img_resizedM=img_resizedM/255\n",
    "img_resizedM"
   ]
  },
  {
   "cell_type": "code",
   "execution_count": 43,
   "metadata": {
    "scrolled": false
   },
   "outputs": [
    {
     "data": {
      "text/plain": [
       "array([[0.        , 0.        , 0.        , 0.        , 0.        ,\n",
       "        0.        , 0.        , 0.        , 0.        , 0.        ,\n",
       "        0.        , 0.        , 0.        , 0.        , 0.        ,\n",
       "        0.        , 0.        , 0.        , 0.        , 0.        ,\n",
       "        0.        , 0.        , 0.        , 0.        , 0.        ,\n",
       "        0.        , 0.        , 0.        , 0.        , 0.        ,\n",
       "        0.        , 0.        , 0.        , 0.        , 0.        ,\n",
       "        0.        , 0.        , 0.        , 0.        , 0.        ,\n",
       "        0.        , 0.        , 0.        , 0.        , 0.        ,\n",
       "        0.        , 0.        , 0.        , 0.        , 0.        ,\n",
       "        0.        , 0.        , 0.        , 0.        , 0.        ,\n",
       "        0.        , 0.        , 0.        , 0.        , 0.        ,\n",
       "        0.        , 0.        , 0.        , 0.        , 0.        ,\n",
       "        0.        , 0.        , 0.        , 0.        , 0.        ,\n",
       "        0.        , 0.        , 0.        , 0.        , 0.        ,\n",
       "        0.        , 0.        , 0.        , 0.        , 0.        ,\n",
       "        0.        , 0.        , 0.        , 0.        , 0.        ,\n",
       "        0.        , 0.        , 0.        , 0.        , 0.        ,\n",
       "        0.        , 0.        , 0.        , 0.        , 0.        ,\n",
       "        0.        , 0.        , 0.        , 0.        , 0.        ,\n",
       "        0.        , 0.        , 0.        , 0.        , 0.        ,\n",
       "        0.        , 0.        , 0.        , 0.        , 0.        ,\n",
       "        0.        , 0.        , 0.        , 0.        , 0.        ,\n",
       "        0.        , 0.        , 0.        , 0.        , 0.        ,\n",
       "        0.        , 0.        , 0.        , 0.        , 0.        ,\n",
       "        0.        , 0.        , 0.        , 0.        , 0.        ,\n",
       "        0.        , 0.        , 0.        , 0.        , 0.        ,\n",
       "        0.        , 0.        , 0.        , 0.        , 0.        ,\n",
       "        0.        , 0.        , 0.        , 0.        , 0.        ,\n",
       "        0.        , 0.        , 0.        , 0.        , 0.        ,\n",
       "        0.        , 0.        , 0.        , 0.        , 0.        ,\n",
       "        0.        , 0.83921569, 0.        , 0.        , 0.        ,\n",
       "        0.        , 0.        , 0.        , 0.        , 0.        ,\n",
       "        0.        , 0.        , 0.        , 0.        , 0.        ,\n",
       "        0.        , 0.        , 0.        , 0.        , 0.        ,\n",
       "        0.        , 0.        , 0.        , 0.        , 0.        ,\n",
       "        0.        , 0.        , 0.        , 0.        , 0.84705882,\n",
       "        0.        , 0.        , 0.        , 0.        , 0.        ,\n",
       "        0.        , 0.        , 0.        , 0.        , 0.        ,\n",
       "        0.        , 0.        , 0.        , 0.        , 0.        ,\n",
       "        0.        , 0.        , 0.        , 0.47843137, 0.        ,\n",
       "        0.        , 0.        , 0.        , 0.        , 0.        ,\n",
       "        0.        , 0.        , 0.83529412, 0.        , 0.        ,\n",
       "        0.        , 0.        , 0.        , 0.        , 0.        ,\n",
       "        0.        , 0.        , 0.        , 0.        , 0.        ,\n",
       "        0.        , 0.        , 0.        , 0.        , 0.        ,\n",
       "        0.        , 0.69803922, 0.        , 0.        , 0.        ,\n",
       "        0.        , 0.        , 0.        , 0.        , 0.        ,\n",
       "        0.84705882, 0.        , 0.        , 0.        , 0.        ,\n",
       "        0.        , 0.        , 0.        , 0.        , 0.        ,\n",
       "        0.        , 0.        , 0.        , 0.        , 0.        ,\n",
       "        0.        , 0.        , 0.        , 0.07058824, 0.62745098,\n",
       "        0.        , 0.        , 0.        , 0.        , 0.        ,\n",
       "        0.        , 0.        , 0.        , 0.83137255, 0.43921569,\n",
       "        0.        , 0.        , 0.        , 0.        , 0.        ,\n",
       "        0.        , 0.        , 0.        , 0.        , 0.        ,\n",
       "        0.        , 0.        , 0.        , 0.        , 0.        ,\n",
       "        0.        , 0.66666667, 0.57254902, 0.        , 0.        ,\n",
       "        0.        , 0.        , 0.        , 0.        , 0.        ,\n",
       "        0.        , 0.83137255, 0.58431373, 0.        , 0.        ,\n",
       "        0.        , 0.        , 0.        , 0.        , 0.        ,\n",
       "        0.        , 0.        , 0.        , 0.        , 0.        ,\n",
       "        0.        , 0.        , 0.        , 0.        , 0.7254902 ,\n",
       "        0.51764706, 0.        , 0.        , 0.        , 0.        ,\n",
       "        0.        , 0.        , 0.40784314, 0.57647059, 0.87843137,\n",
       "        0.81568627, 0.        , 0.        , 0.        , 0.        ,\n",
       "        0.        , 0.        , 0.        , 0.        , 0.        ,\n",
       "        0.        , 0.        , 0.        , 0.        , 0.        ,\n",
       "        0.        , 0.        , 0.77647059, 0.49803922, 0.        ,\n",
       "        0.        , 0.        , 0.        , 0.13333333, 0.80392157,\n",
       "        0.81176471, 0.69411765, 0.82352941, 0.63137255, 0.        ,\n",
       "        0.        , 0.        , 0.        , 0.        , 0.        ,\n",
       "        0.        , 0.        , 0.        , 0.        , 0.        ,\n",
       "        0.        , 0.        , 0.        , 0.        , 0.        ,\n",
       "        0.77254902, 0.49411765, 0.        , 0.        , 0.63137255,\n",
       "        0.80392157, 0.67058824, 0.47058824, 0.        , 0.        ,\n",
       "        0.61960784, 0.69803922, 0.        , 0.        , 0.        ,\n",
       "        0.        , 0.        , 0.        , 0.        , 0.        ,\n",
       "        0.        , 0.        , 0.        , 0.        , 0.        ,\n",
       "        0.        , 0.        , 0.        , 0.69411765, 0.78823529,\n",
       "        0.78823529, 0.82745098, 0.61960784, 0.        , 0.        ,\n",
       "        0.        , 0.        , 0.        , 0.        , 0.76470588,\n",
       "        0.        , 0.        , 0.        , 0.        , 0.        ,\n",
       "        0.        , 0.        , 0.        , 0.        , 0.        ,\n",
       "        0.        , 0.        , 0.        , 0.        , 0.        ,\n",
       "        0.        , 0.        , 0.        , 0.        , 0.        ,\n",
       "        0.        , 0.        , 0.        , 0.        , 0.        ,\n",
       "        0.        , 0.        , 0.79607843, 0.        , 0.        ,\n",
       "        0.        , 0.        , 0.        , 0.        , 0.        ,\n",
       "        0.        , 0.        , 0.        , 0.        , 0.        ,\n",
       "        0.        , 0.        , 0.        , 0.        , 0.        ,\n",
       "        0.        , 0.        , 0.        , 0.        , 0.        ,\n",
       "        0.        , 0.        , 0.        , 0.        , 0.        ,\n",
       "        0.81960784, 0.        , 0.        , 0.        , 0.        ,\n",
       "        0.        , 0.        , 0.        , 0.        , 0.        ,\n",
       "        0.        , 0.        , 0.        , 0.        , 0.        ,\n",
       "        0.        , 0.        , 0.        , 0.        , 0.        ,\n",
       "        0.        , 0.        , 0.        , 0.        , 0.        ,\n",
       "        0.        , 0.        , 0.        , 0.83137255, 0.        ,\n",
       "        0.        , 0.        , 0.        , 0.        , 0.        ,\n",
       "        0.        , 0.        , 0.        , 0.        , 0.        ,\n",
       "        0.        , 0.        , 0.        , 0.        , 0.        ,\n",
       "        0.        , 0.        , 0.        , 0.        , 0.        ,\n",
       "        0.        , 0.        , 0.        , 0.        , 0.        ,\n",
       "        0.        , 0.83137255, 0.        , 0.        , 0.        ,\n",
       "        0.        , 0.        , 0.        , 0.        , 0.        ,\n",
       "        0.        , 0.        , 0.        , 0.        , 0.        ,\n",
       "        0.        , 0.        , 0.        , 0.        , 0.        ,\n",
       "        0.        , 0.        , 0.        , 0.        , 0.        ,\n",
       "        0.        , 0.        , 0.        , 0.        , 0.82745098,\n",
       "        0.        , 0.        , 0.        , 0.        , 0.        ,\n",
       "        0.        , 0.        , 0.        , 0.        , 0.        ,\n",
       "        0.        , 0.        , 0.        , 0.        , 0.        ,\n",
       "        0.        , 0.        , 0.        , 0.        , 0.        ,\n",
       "        0.        , 0.        , 0.        , 0.        , 0.        ,\n",
       "        0.        , 0.        , 0.81176471, 0.23921569, 0.        ,\n",
       "        0.        , 0.        , 0.        , 0.        , 0.        ,\n",
       "        0.        , 0.        , 0.        , 0.        , 0.        ,\n",
       "        0.        , 0.        , 0.        , 0.        , 0.        ,\n",
       "        0.        , 0.        , 0.        , 0.        , 0.        ,\n",
       "        0.        , 0.        , 0.        , 0.        , 0.        ,\n",
       "        0.74901961, 0.6627451 , 0.        , 0.        , 0.        ,\n",
       "        0.        , 0.        , 0.        , 0.        , 0.        ,\n",
       "        0.        , 0.        , 0.        , 0.        , 0.        ,\n",
       "        0.        , 0.        , 0.        , 0.        , 0.        ,\n",
       "        0.        , 0.        , 0.        , 0.        , 0.        ,\n",
       "        0.        , 0.        , 0.        , 0.6627451 , 0.75294118,\n",
       "        0.        , 0.        , 0.        , 0.        , 0.        ,\n",
       "        0.        , 0.        , 0.        , 0.        , 0.        ,\n",
       "        0.        , 0.        , 0.        , 0.        , 0.        ,\n",
       "        0.        , 0.        , 0.        , 0.        , 0.        ,\n",
       "        0.        , 0.        , 0.        , 0.        , 0.        ,\n",
       "        0.        , 0.63137255, 0.83529412, 0.        , 0.        ,\n",
       "        0.        , 0.        , 0.        , 0.        , 0.        ,\n",
       "        0.        , 0.        , 0.        , 0.        , 0.        ,\n",
       "        0.        , 0.        , 0.        , 0.        , 0.        ,\n",
       "        0.        , 0.        , 0.        , 0.        , 0.        ,\n",
       "        0.        , 0.        , 0.        , 0.        , 0.        ,\n",
       "        0.        , 0.        , 0.        , 0.        , 0.        ,\n",
       "        0.        , 0.        , 0.        , 0.        , 0.        ,\n",
       "        0.        , 0.        , 0.        , 0.        , 0.        ,\n",
       "        0.        , 0.        , 0.        , 0.        , 0.        ,\n",
       "        0.        , 0.        , 0.        , 0.        , 0.        ,\n",
       "        0.        , 0.        , 0.        , 0.        , 0.        ,\n",
       "        0.        , 0.        , 0.        , 0.        , 0.        ,\n",
       "        0.        , 0.        , 0.        , 0.        , 0.        ,\n",
       "        0.        , 0.        , 0.        , 0.        , 0.        ,\n",
       "        0.        , 0.        , 0.        , 0.        , 0.        ,\n",
       "        0.        , 0.        , 0.        , 0.        , 0.        ,\n",
       "        0.        , 0.        , 0.        , 0.        , 0.        ,\n",
       "        0.        , 0.        , 0.        , 0.        , 0.        ,\n",
       "        0.        , 0.        , 0.        , 0.        , 0.        ,\n",
       "        0.        , 0.        , 0.        , 0.        , 0.        ,\n",
       "        0.        , 0.        , 0.        , 0.        , 0.        ,\n",
       "        0.        , 0.        , 0.        , 0.        , 0.        ,\n",
       "        0.        , 0.        , 0.        , 0.        , 0.        ,\n",
       "        0.        , 0.        , 0.        , 0.        ]])"
      ]
     },
     "execution_count": 43,
     "metadata": {},
     "output_type": "execute_result"
    }
   ],
   "source": [
    "img_resizedM_Flat = img_resizedM.reshape(1, 28*28)\n",
    "img_resizedM_Flat"
   ]
  },
  {
   "cell_type": "code",
   "execution_count": 44,
   "metadata": {},
   "outputs": [
    {
     "data": {
      "application/vnd.microsoft.datawrangler.viewer.v0+json": {
       "columns": [
        {
         "name": "index",
         "rawType": "int64",
         "type": "integer"
        },
        {
         "name": "0",
         "rawType": "float64",
         "type": "float"
        },
        {
         "name": "1",
         "rawType": "float64",
         "type": "float"
        },
        {
         "name": "2",
         "rawType": "float64",
         "type": "float"
        },
        {
         "name": "3",
         "rawType": "float64",
         "type": "float"
        },
        {
         "name": "4",
         "rawType": "float64",
         "type": "float"
        },
        {
         "name": "5",
         "rawType": "float64",
         "type": "float"
        },
        {
         "name": "6",
         "rawType": "float64",
         "type": "float"
        },
        {
         "name": "7",
         "rawType": "float64",
         "type": "float"
        },
        {
         "name": "8",
         "rawType": "float64",
         "type": "float"
        },
        {
         "name": "9",
         "rawType": "float64",
         "type": "float"
        },
        {
         "name": "10",
         "rawType": "float64",
         "type": "float"
        },
        {
         "name": "11",
         "rawType": "float64",
         "type": "float"
        },
        {
         "name": "12",
         "rawType": "float64",
         "type": "float"
        },
        {
         "name": "13",
         "rawType": "float64",
         "type": "float"
        },
        {
         "name": "14",
         "rawType": "float64",
         "type": "float"
        },
        {
         "name": "15",
         "rawType": "float64",
         "type": "float"
        },
        {
         "name": "16",
         "rawType": "float64",
         "type": "float"
        },
        {
         "name": "17",
         "rawType": "float64",
         "type": "float"
        },
        {
         "name": "18",
         "rawType": "float64",
         "type": "float"
        },
        {
         "name": "19",
         "rawType": "float64",
         "type": "float"
        },
        {
         "name": "20",
         "rawType": "float64",
         "type": "float"
        },
        {
         "name": "21",
         "rawType": "float64",
         "type": "float"
        },
        {
         "name": "22",
         "rawType": "float64",
         "type": "float"
        },
        {
         "name": "23",
         "rawType": "float64",
         "type": "float"
        },
        {
         "name": "24",
         "rawType": "float64",
         "type": "float"
        },
        {
         "name": "25",
         "rawType": "float64",
         "type": "float"
        },
        {
         "name": "26",
         "rawType": "float64",
         "type": "float"
        },
        {
         "name": "27",
         "rawType": "float64",
         "type": "float"
        },
        {
         "name": "28",
         "rawType": "float64",
         "type": "float"
        },
        {
         "name": "29",
         "rawType": "float64",
         "type": "float"
        },
        {
         "name": "30",
         "rawType": "float64",
         "type": "float"
        },
        {
         "name": "31",
         "rawType": "float64",
         "type": "float"
        },
        {
         "name": "32",
         "rawType": "float64",
         "type": "float"
        },
        {
         "name": "33",
         "rawType": "float64",
         "type": "float"
        },
        {
         "name": "34",
         "rawType": "float64",
         "type": "float"
        },
        {
         "name": "35",
         "rawType": "float64",
         "type": "float"
        },
        {
         "name": "36",
         "rawType": "float64",
         "type": "float"
        },
        {
         "name": "37",
         "rawType": "float64",
         "type": "float"
        },
        {
         "name": "38",
         "rawType": "float64",
         "type": "float"
        },
        {
         "name": "39",
         "rawType": "float64",
         "type": "float"
        },
        {
         "name": "40",
         "rawType": "float64",
         "type": "float"
        },
        {
         "name": "41",
         "rawType": "float64",
         "type": "float"
        },
        {
         "name": "42",
         "rawType": "float64",
         "type": "float"
        },
        {
         "name": "43",
         "rawType": "float64",
         "type": "float"
        },
        {
         "name": "44",
         "rawType": "float64",
         "type": "float"
        },
        {
         "name": "45",
         "rawType": "float64",
         "type": "float"
        },
        {
         "name": "46",
         "rawType": "float64",
         "type": "float"
        },
        {
         "name": "47",
         "rawType": "float64",
         "type": "float"
        },
        {
         "name": "48",
         "rawType": "float64",
         "type": "float"
        },
        {
         "name": "49",
         "rawType": "float64",
         "type": "float"
        },
        {
         "name": "50",
         "rawType": "float64",
         "type": "float"
        },
        {
         "name": "51",
         "rawType": "float64",
         "type": "float"
        },
        {
         "name": "52",
         "rawType": "float64",
         "type": "float"
        },
        {
         "name": "53",
         "rawType": "float64",
         "type": "float"
        },
        {
         "name": "54",
         "rawType": "float64",
         "type": "float"
        },
        {
         "name": "55",
         "rawType": "float64",
         "type": "float"
        },
        {
         "name": "56",
         "rawType": "float64",
         "type": "float"
        },
        {
         "name": "57",
         "rawType": "float64",
         "type": "float"
        },
        {
         "name": "58",
         "rawType": "float64",
         "type": "float"
        },
        {
         "name": "59",
         "rawType": "float64",
         "type": "float"
        },
        {
         "name": "60",
         "rawType": "float64",
         "type": "float"
        },
        {
         "name": "61",
         "rawType": "float64",
         "type": "float"
        },
        {
         "name": "62",
         "rawType": "float64",
         "type": "float"
        },
        {
         "name": "63",
         "rawType": "float64",
         "type": "float"
        },
        {
         "name": "64",
         "rawType": "float64",
         "type": "float"
        },
        {
         "name": "65",
         "rawType": "float64",
         "type": "float"
        },
        {
         "name": "66",
         "rawType": "float64",
         "type": "float"
        },
        {
         "name": "67",
         "rawType": "float64",
         "type": "float"
        },
        {
         "name": "68",
         "rawType": "float64",
         "type": "float"
        },
        {
         "name": "69",
         "rawType": "float64",
         "type": "float"
        },
        {
         "name": "70",
         "rawType": "float64",
         "type": "float"
        },
        {
         "name": "71",
         "rawType": "float64",
         "type": "float"
        },
        {
         "name": "72",
         "rawType": "float64",
         "type": "float"
        },
        {
         "name": "73",
         "rawType": "float64",
         "type": "float"
        },
        {
         "name": "74",
         "rawType": "float64",
         "type": "float"
        },
        {
         "name": "75",
         "rawType": "float64",
         "type": "float"
        },
        {
         "name": "76",
         "rawType": "float64",
         "type": "float"
        },
        {
         "name": "77",
         "rawType": "float64",
         "type": "float"
        },
        {
         "name": "78",
         "rawType": "float64",
         "type": "float"
        },
        {
         "name": "79",
         "rawType": "float64",
         "type": "float"
        },
        {
         "name": "80",
         "rawType": "float64",
         "type": "float"
        },
        {
         "name": "81",
         "rawType": "float64",
         "type": "float"
        },
        {
         "name": "82",
         "rawType": "float64",
         "type": "float"
        },
        {
         "name": "83",
         "rawType": "float64",
         "type": "float"
        },
        {
         "name": "84",
         "rawType": "float64",
         "type": "float"
        },
        {
         "name": "85",
         "rawType": "float64",
         "type": "float"
        },
        {
         "name": "86",
         "rawType": "float64",
         "type": "float"
        },
        {
         "name": "87",
         "rawType": "float64",
         "type": "float"
        },
        {
         "name": "88",
         "rawType": "float64",
         "type": "float"
        },
        {
         "name": "89",
         "rawType": "float64",
         "type": "float"
        },
        {
         "name": "90",
         "rawType": "float64",
         "type": "float"
        },
        {
         "name": "91",
         "rawType": "float64",
         "type": "float"
        },
        {
         "name": "92",
         "rawType": "float64",
         "type": "float"
        },
        {
         "name": "93",
         "rawType": "float64",
         "type": "float"
        },
        {
         "name": "94",
         "rawType": "float64",
         "type": "float"
        },
        {
         "name": "95",
         "rawType": "float64",
         "type": "float"
        },
        {
         "name": "96",
         "rawType": "float64",
         "type": "float"
        },
        {
         "name": "97",
         "rawType": "float64",
         "type": "float"
        },
        {
         "name": "98",
         "rawType": "float64",
         "type": "float"
        },
        {
         "name": "99",
         "rawType": "float64",
         "type": "float"
        },
        {
         "name": "100",
         "rawType": "float64",
         "type": "float"
        },
        {
         "name": "101",
         "rawType": "float64",
         "type": "float"
        },
        {
         "name": "102",
         "rawType": "float64",
         "type": "float"
        },
        {
         "name": "103",
         "rawType": "float64",
         "type": "float"
        },
        {
         "name": "104",
         "rawType": "float64",
         "type": "float"
        },
        {
         "name": "105",
         "rawType": "float64",
         "type": "float"
        },
        {
         "name": "106",
         "rawType": "float64",
         "type": "float"
        },
        {
         "name": "107",
         "rawType": "float64",
         "type": "float"
        },
        {
         "name": "108",
         "rawType": "float64",
         "type": "float"
        },
        {
         "name": "109",
         "rawType": "float64",
         "type": "float"
        },
        {
         "name": "110",
         "rawType": "float64",
         "type": "float"
        },
        {
         "name": "111",
         "rawType": "float64",
         "type": "float"
        },
        {
         "name": "112",
         "rawType": "float64",
         "type": "float"
        },
        {
         "name": "113",
         "rawType": "float64",
         "type": "float"
        },
        {
         "name": "114",
         "rawType": "float64",
         "type": "float"
        },
        {
         "name": "115",
         "rawType": "float64",
         "type": "float"
        },
        {
         "name": "116",
         "rawType": "float64",
         "type": "float"
        },
        {
         "name": "117",
         "rawType": "float64",
         "type": "float"
        },
        {
         "name": "118",
         "rawType": "float64",
         "type": "float"
        },
        {
         "name": "119",
         "rawType": "float64",
         "type": "float"
        },
        {
         "name": "120",
         "rawType": "float64",
         "type": "float"
        },
        {
         "name": "121",
         "rawType": "float64",
         "type": "float"
        },
        {
         "name": "122",
         "rawType": "float64",
         "type": "float"
        },
        {
         "name": "123",
         "rawType": "float64",
         "type": "float"
        },
        {
         "name": "124",
         "rawType": "float64",
         "type": "float"
        },
        {
         "name": "125",
         "rawType": "float64",
         "type": "float"
        },
        {
         "name": "126",
         "rawType": "float64",
         "type": "float"
        },
        {
         "name": "127",
         "rawType": "float64",
         "type": "float"
        },
        {
         "name": "128",
         "rawType": "float64",
         "type": "float"
        },
        {
         "name": "129",
         "rawType": "float64",
         "type": "float"
        },
        {
         "name": "130",
         "rawType": "float64",
         "type": "float"
        },
        {
         "name": "131",
         "rawType": "float64",
         "type": "float"
        },
        {
         "name": "132",
         "rawType": "float64",
         "type": "float"
        },
        {
         "name": "133",
         "rawType": "float64",
         "type": "float"
        },
        {
         "name": "134",
         "rawType": "float64",
         "type": "float"
        },
        {
         "name": "135",
         "rawType": "float64",
         "type": "float"
        },
        {
         "name": "136",
         "rawType": "float64",
         "type": "float"
        },
        {
         "name": "137",
         "rawType": "float64",
         "type": "float"
        },
        {
         "name": "138",
         "rawType": "float64",
         "type": "float"
        },
        {
         "name": "139",
         "rawType": "float64",
         "type": "float"
        },
        {
         "name": "140",
         "rawType": "float64",
         "type": "float"
        },
        {
         "name": "141",
         "rawType": "float64",
         "type": "float"
        },
        {
         "name": "142",
         "rawType": "float64",
         "type": "float"
        },
        {
         "name": "143",
         "rawType": "float64",
         "type": "float"
        },
        {
         "name": "144",
         "rawType": "float64",
         "type": "float"
        },
        {
         "name": "145",
         "rawType": "float64",
         "type": "float"
        },
        {
         "name": "146",
         "rawType": "float64",
         "type": "float"
        },
        {
         "name": "147",
         "rawType": "float64",
         "type": "float"
        },
        {
         "name": "148",
         "rawType": "float64",
         "type": "float"
        },
        {
         "name": "149",
         "rawType": "float64",
         "type": "float"
        },
        {
         "name": "150",
         "rawType": "float64",
         "type": "float"
        },
        {
         "name": "151",
         "rawType": "float64",
         "type": "float"
        },
        {
         "name": "152",
         "rawType": "float64",
         "type": "float"
        },
        {
         "name": "153",
         "rawType": "float64",
         "type": "float"
        },
        {
         "name": "154",
         "rawType": "float64",
         "type": "float"
        },
        {
         "name": "155",
         "rawType": "float64",
         "type": "float"
        },
        {
         "name": "156",
         "rawType": "float64",
         "type": "float"
        },
        {
         "name": "157",
         "rawType": "float64",
         "type": "float"
        },
        {
         "name": "158",
         "rawType": "float64",
         "type": "float"
        },
        {
         "name": "159",
         "rawType": "float64",
         "type": "float"
        },
        {
         "name": "160",
         "rawType": "float64",
         "type": "float"
        },
        {
         "name": "161",
         "rawType": "float64",
         "type": "float"
        },
        {
         "name": "162",
         "rawType": "float64",
         "type": "float"
        },
        {
         "name": "163",
         "rawType": "float64",
         "type": "float"
        },
        {
         "name": "164",
         "rawType": "float64",
         "type": "float"
        },
        {
         "name": "165",
         "rawType": "float64",
         "type": "float"
        },
        {
         "name": "166",
         "rawType": "float64",
         "type": "float"
        },
        {
         "name": "167",
         "rawType": "float64",
         "type": "float"
        },
        {
         "name": "168",
         "rawType": "float64",
         "type": "float"
        },
        {
         "name": "169",
         "rawType": "float64",
         "type": "float"
        },
        {
         "name": "170",
         "rawType": "float64",
         "type": "float"
        },
        {
         "name": "171",
         "rawType": "float64",
         "type": "float"
        },
        {
         "name": "172",
         "rawType": "float64",
         "type": "float"
        },
        {
         "name": "173",
         "rawType": "float64",
         "type": "float"
        },
        {
         "name": "174",
         "rawType": "float64",
         "type": "float"
        },
        {
         "name": "175",
         "rawType": "float64",
         "type": "float"
        },
        {
         "name": "176",
         "rawType": "float64",
         "type": "float"
        },
        {
         "name": "177",
         "rawType": "float64",
         "type": "float"
        },
        {
         "name": "178",
         "rawType": "float64",
         "type": "float"
        },
        {
         "name": "179",
         "rawType": "float64",
         "type": "float"
        },
        {
         "name": "180",
         "rawType": "float64",
         "type": "float"
        },
        {
         "name": "181",
         "rawType": "float64",
         "type": "float"
        },
        {
         "name": "182",
         "rawType": "float64",
         "type": "float"
        },
        {
         "name": "183",
         "rawType": "float64",
         "type": "float"
        },
        {
         "name": "184",
         "rawType": "float64",
         "type": "float"
        },
        {
         "name": "185",
         "rawType": "float64",
         "type": "float"
        },
        {
         "name": "186",
         "rawType": "float64",
         "type": "float"
        },
        {
         "name": "187",
         "rawType": "float64",
         "type": "float"
        },
        {
         "name": "188",
         "rawType": "float64",
         "type": "float"
        },
        {
         "name": "189",
         "rawType": "float64",
         "type": "float"
        },
        {
         "name": "190",
         "rawType": "float64",
         "type": "float"
        },
        {
         "name": "191",
         "rawType": "float64",
         "type": "float"
        },
        {
         "name": "192",
         "rawType": "float64",
         "type": "float"
        },
        {
         "name": "193",
         "rawType": "float64",
         "type": "float"
        },
        {
         "name": "194",
         "rawType": "float64",
         "type": "float"
        },
        {
         "name": "195",
         "rawType": "float64",
         "type": "float"
        },
        {
         "name": "196",
         "rawType": "float64",
         "type": "float"
        },
        {
         "name": "197",
         "rawType": "float64",
         "type": "float"
        },
        {
         "name": "198",
         "rawType": "float64",
         "type": "float"
        },
        {
         "name": "199",
         "rawType": "float64",
         "type": "float"
        },
        {
         "name": "200",
         "rawType": "float64",
         "type": "float"
        },
        {
         "name": "201",
         "rawType": "float64",
         "type": "float"
        },
        {
         "name": "202",
         "rawType": "float64",
         "type": "float"
        },
        {
         "name": "203",
         "rawType": "float64",
         "type": "float"
        },
        {
         "name": "204",
         "rawType": "float64",
         "type": "float"
        },
        {
         "name": "205",
         "rawType": "float64",
         "type": "float"
        },
        {
         "name": "206",
         "rawType": "float64",
         "type": "float"
        },
        {
         "name": "207",
         "rawType": "float64",
         "type": "float"
        },
        {
         "name": "208",
         "rawType": "float64",
         "type": "float"
        },
        {
         "name": "209",
         "rawType": "float64",
         "type": "float"
        },
        {
         "name": "210",
         "rawType": "float64",
         "type": "float"
        },
        {
         "name": "211",
         "rawType": "float64",
         "type": "float"
        },
        {
         "name": "212",
         "rawType": "float64",
         "type": "float"
        },
        {
         "name": "213",
         "rawType": "float64",
         "type": "float"
        },
        {
         "name": "214",
         "rawType": "float64",
         "type": "float"
        },
        {
         "name": "215",
         "rawType": "float64",
         "type": "float"
        },
        {
         "name": "216",
         "rawType": "float64",
         "type": "float"
        },
        {
         "name": "217",
         "rawType": "float64",
         "type": "float"
        },
        {
         "name": "218",
         "rawType": "float64",
         "type": "float"
        },
        {
         "name": "219",
         "rawType": "float64",
         "type": "float"
        },
        {
         "name": "220",
         "rawType": "float64",
         "type": "float"
        },
        {
         "name": "221",
         "rawType": "float64",
         "type": "float"
        },
        {
         "name": "222",
         "rawType": "float64",
         "type": "float"
        },
        {
         "name": "223",
         "rawType": "float64",
         "type": "float"
        },
        {
         "name": "224",
         "rawType": "float64",
         "type": "float"
        },
        {
         "name": "225",
         "rawType": "float64",
         "type": "float"
        },
        {
         "name": "226",
         "rawType": "float64",
         "type": "float"
        },
        {
         "name": "227",
         "rawType": "float64",
         "type": "float"
        },
        {
         "name": "228",
         "rawType": "float64",
         "type": "float"
        },
        {
         "name": "229",
         "rawType": "float64",
         "type": "float"
        },
        {
         "name": "230",
         "rawType": "float64",
         "type": "float"
        },
        {
         "name": "231",
         "rawType": "float64",
         "type": "float"
        },
        {
         "name": "232",
         "rawType": "float64",
         "type": "float"
        },
        {
         "name": "233",
         "rawType": "float64",
         "type": "float"
        },
        {
         "name": "234",
         "rawType": "float64",
         "type": "float"
        },
        {
         "name": "235",
         "rawType": "float64",
         "type": "float"
        },
        {
         "name": "236",
         "rawType": "float64",
         "type": "float"
        },
        {
         "name": "237",
         "rawType": "float64",
         "type": "float"
        },
        {
         "name": "238",
         "rawType": "float64",
         "type": "float"
        },
        {
         "name": "239",
         "rawType": "float64",
         "type": "float"
        },
        {
         "name": "240",
         "rawType": "float64",
         "type": "float"
        },
        {
         "name": "241",
         "rawType": "float64",
         "type": "float"
        },
        {
         "name": "242",
         "rawType": "float64",
         "type": "float"
        },
        {
         "name": "243",
         "rawType": "float64",
         "type": "float"
        },
        {
         "name": "244",
         "rawType": "float64",
         "type": "float"
        },
        {
         "name": "245",
         "rawType": "float64",
         "type": "float"
        },
        {
         "name": "246",
         "rawType": "float64",
         "type": "float"
        },
        {
         "name": "247",
         "rawType": "float64",
         "type": "float"
        },
        {
         "name": "248",
         "rawType": "float64",
         "type": "float"
        },
        {
         "name": "249",
         "rawType": "float64",
         "type": "float"
        },
        {
         "name": "250",
         "rawType": "float64",
         "type": "float"
        },
        {
         "name": "251",
         "rawType": "float64",
         "type": "float"
        },
        {
         "name": "252",
         "rawType": "float64",
         "type": "float"
        },
        {
         "name": "253",
         "rawType": "float64",
         "type": "float"
        },
        {
         "name": "254",
         "rawType": "float64",
         "type": "float"
        },
        {
         "name": "255",
         "rawType": "float64",
         "type": "float"
        },
        {
         "name": "256",
         "rawType": "float64",
         "type": "float"
        },
        {
         "name": "257",
         "rawType": "float64",
         "type": "float"
        },
        {
         "name": "258",
         "rawType": "float64",
         "type": "float"
        },
        {
         "name": "259",
         "rawType": "float64",
         "type": "float"
        },
        {
         "name": "260",
         "rawType": "float64",
         "type": "float"
        },
        {
         "name": "261",
         "rawType": "float64",
         "type": "float"
        },
        {
         "name": "262",
         "rawType": "float64",
         "type": "float"
        },
        {
         "name": "263",
         "rawType": "float64",
         "type": "float"
        },
        {
         "name": "264",
         "rawType": "float64",
         "type": "float"
        },
        {
         "name": "265",
         "rawType": "float64",
         "type": "float"
        },
        {
         "name": "266",
         "rawType": "float64",
         "type": "float"
        },
        {
         "name": "267",
         "rawType": "float64",
         "type": "float"
        },
        {
         "name": "268",
         "rawType": "float64",
         "type": "float"
        },
        {
         "name": "269",
         "rawType": "float64",
         "type": "float"
        },
        {
         "name": "270",
         "rawType": "float64",
         "type": "float"
        },
        {
         "name": "271",
         "rawType": "float64",
         "type": "float"
        },
        {
         "name": "272",
         "rawType": "float64",
         "type": "float"
        },
        {
         "name": "273",
         "rawType": "float64",
         "type": "float"
        },
        {
         "name": "274",
         "rawType": "float64",
         "type": "float"
        },
        {
         "name": "275",
         "rawType": "float64",
         "type": "float"
        },
        {
         "name": "276",
         "rawType": "float64",
         "type": "float"
        },
        {
         "name": "277",
         "rawType": "float64",
         "type": "float"
        },
        {
         "name": "278",
         "rawType": "float64",
         "type": "float"
        },
        {
         "name": "279",
         "rawType": "float64",
         "type": "float"
        },
        {
         "name": "280",
         "rawType": "float64",
         "type": "float"
        },
        {
         "name": "281",
         "rawType": "float64",
         "type": "float"
        },
        {
         "name": "282",
         "rawType": "float64",
         "type": "float"
        },
        {
         "name": "283",
         "rawType": "float64",
         "type": "float"
        },
        {
         "name": "284",
         "rawType": "float64",
         "type": "float"
        },
        {
         "name": "285",
         "rawType": "float64",
         "type": "float"
        },
        {
         "name": "286",
         "rawType": "float64",
         "type": "float"
        },
        {
         "name": "287",
         "rawType": "float64",
         "type": "float"
        },
        {
         "name": "288",
         "rawType": "float64",
         "type": "float"
        },
        {
         "name": "289",
         "rawType": "float64",
         "type": "float"
        },
        {
         "name": "290",
         "rawType": "float64",
         "type": "float"
        },
        {
         "name": "291",
         "rawType": "float64",
         "type": "float"
        },
        {
         "name": "292",
         "rawType": "float64",
         "type": "float"
        },
        {
         "name": "293",
         "rawType": "float64",
         "type": "float"
        },
        {
         "name": "294",
         "rawType": "float64",
         "type": "float"
        },
        {
         "name": "295",
         "rawType": "float64",
         "type": "float"
        },
        {
         "name": "296",
         "rawType": "float64",
         "type": "float"
        },
        {
         "name": "297",
         "rawType": "float64",
         "type": "float"
        },
        {
         "name": "298",
         "rawType": "float64",
         "type": "float"
        },
        {
         "name": "299",
         "rawType": "float64",
         "type": "float"
        },
        {
         "name": "300",
         "rawType": "float64",
         "type": "float"
        },
        {
         "name": "301",
         "rawType": "float64",
         "type": "float"
        },
        {
         "name": "302",
         "rawType": "float64",
         "type": "float"
        },
        {
         "name": "303",
         "rawType": "float64",
         "type": "float"
        },
        {
         "name": "304",
         "rawType": "float64",
         "type": "float"
        },
        {
         "name": "305",
         "rawType": "float64",
         "type": "float"
        },
        {
         "name": "306",
         "rawType": "float64",
         "type": "float"
        },
        {
         "name": "307",
         "rawType": "float64",
         "type": "float"
        },
        {
         "name": "308",
         "rawType": "float64",
         "type": "float"
        },
        {
         "name": "309",
         "rawType": "float64",
         "type": "float"
        },
        {
         "name": "310",
         "rawType": "float64",
         "type": "float"
        },
        {
         "name": "311",
         "rawType": "float64",
         "type": "float"
        },
        {
         "name": "312",
         "rawType": "float64",
         "type": "float"
        },
        {
         "name": "313",
         "rawType": "float64",
         "type": "float"
        },
        {
         "name": "314",
         "rawType": "float64",
         "type": "float"
        },
        {
         "name": "315",
         "rawType": "float64",
         "type": "float"
        },
        {
         "name": "316",
         "rawType": "float64",
         "type": "float"
        },
        {
         "name": "317",
         "rawType": "float64",
         "type": "float"
        },
        {
         "name": "318",
         "rawType": "float64",
         "type": "float"
        },
        {
         "name": "319",
         "rawType": "float64",
         "type": "float"
        },
        {
         "name": "320",
         "rawType": "float64",
         "type": "float"
        },
        {
         "name": "321",
         "rawType": "float64",
         "type": "float"
        },
        {
         "name": "322",
         "rawType": "float64",
         "type": "float"
        },
        {
         "name": "323",
         "rawType": "float64",
         "type": "float"
        },
        {
         "name": "324",
         "rawType": "float64",
         "type": "float"
        },
        {
         "name": "325",
         "rawType": "float64",
         "type": "float"
        },
        {
         "name": "326",
         "rawType": "float64",
         "type": "float"
        },
        {
         "name": "327",
         "rawType": "float64",
         "type": "float"
        },
        {
         "name": "328",
         "rawType": "float64",
         "type": "float"
        },
        {
         "name": "329",
         "rawType": "float64",
         "type": "float"
        },
        {
         "name": "330",
         "rawType": "float64",
         "type": "float"
        },
        {
         "name": "331",
         "rawType": "float64",
         "type": "float"
        },
        {
         "name": "332",
         "rawType": "float64",
         "type": "float"
        },
        {
         "name": "333",
         "rawType": "float64",
         "type": "float"
        },
        {
         "name": "334",
         "rawType": "float64",
         "type": "float"
        },
        {
         "name": "335",
         "rawType": "float64",
         "type": "float"
        },
        {
         "name": "336",
         "rawType": "float64",
         "type": "float"
        },
        {
         "name": "337",
         "rawType": "float64",
         "type": "float"
        },
        {
         "name": "338",
         "rawType": "float64",
         "type": "float"
        },
        {
         "name": "339",
         "rawType": "float64",
         "type": "float"
        },
        {
         "name": "340",
         "rawType": "float64",
         "type": "float"
        },
        {
         "name": "341",
         "rawType": "float64",
         "type": "float"
        },
        {
         "name": "342",
         "rawType": "float64",
         "type": "float"
        },
        {
         "name": "343",
         "rawType": "float64",
         "type": "float"
        },
        {
         "name": "344",
         "rawType": "float64",
         "type": "float"
        },
        {
         "name": "345",
         "rawType": "float64",
         "type": "float"
        },
        {
         "name": "346",
         "rawType": "float64",
         "type": "float"
        },
        {
         "name": "347",
         "rawType": "float64",
         "type": "float"
        },
        {
         "name": "348",
         "rawType": "float64",
         "type": "float"
        },
        {
         "name": "349",
         "rawType": "float64",
         "type": "float"
        },
        {
         "name": "350",
         "rawType": "float64",
         "type": "float"
        },
        {
         "name": "351",
         "rawType": "float64",
         "type": "float"
        },
        {
         "name": "352",
         "rawType": "float64",
         "type": "float"
        },
        {
         "name": "353",
         "rawType": "float64",
         "type": "float"
        },
        {
         "name": "354",
         "rawType": "float64",
         "type": "float"
        },
        {
         "name": "355",
         "rawType": "float64",
         "type": "float"
        },
        {
         "name": "356",
         "rawType": "float64",
         "type": "float"
        },
        {
         "name": "357",
         "rawType": "float64",
         "type": "float"
        },
        {
         "name": "358",
         "rawType": "float64",
         "type": "float"
        },
        {
         "name": "359",
         "rawType": "float64",
         "type": "float"
        },
        {
         "name": "360",
         "rawType": "float64",
         "type": "float"
        },
        {
         "name": "361",
         "rawType": "float64",
         "type": "float"
        },
        {
         "name": "362",
         "rawType": "float64",
         "type": "float"
        },
        {
         "name": "363",
         "rawType": "float64",
         "type": "float"
        },
        {
         "name": "364",
         "rawType": "float64",
         "type": "float"
        },
        {
         "name": "365",
         "rawType": "float64",
         "type": "float"
        },
        {
         "name": "366",
         "rawType": "float64",
         "type": "float"
        },
        {
         "name": "367",
         "rawType": "float64",
         "type": "float"
        },
        {
         "name": "368",
         "rawType": "float64",
         "type": "float"
        },
        {
         "name": "369",
         "rawType": "float64",
         "type": "float"
        },
        {
         "name": "370",
         "rawType": "float64",
         "type": "float"
        },
        {
         "name": "371",
         "rawType": "float64",
         "type": "float"
        },
        {
         "name": "372",
         "rawType": "float64",
         "type": "float"
        },
        {
         "name": "373",
         "rawType": "float64",
         "type": "float"
        },
        {
         "name": "374",
         "rawType": "float64",
         "type": "float"
        },
        {
         "name": "375",
         "rawType": "float64",
         "type": "float"
        },
        {
         "name": "376",
         "rawType": "float64",
         "type": "float"
        },
        {
         "name": "377",
         "rawType": "float64",
         "type": "float"
        },
        {
         "name": "378",
         "rawType": "float64",
         "type": "float"
        },
        {
         "name": "379",
         "rawType": "float64",
         "type": "float"
        },
        {
         "name": "380",
         "rawType": "float64",
         "type": "float"
        },
        {
         "name": "381",
         "rawType": "float64",
         "type": "float"
        },
        {
         "name": "382",
         "rawType": "float64",
         "type": "float"
        },
        {
         "name": "383",
         "rawType": "float64",
         "type": "float"
        },
        {
         "name": "384",
         "rawType": "float64",
         "type": "float"
        },
        {
         "name": "385",
         "rawType": "float64",
         "type": "float"
        },
        {
         "name": "386",
         "rawType": "float64",
         "type": "float"
        },
        {
         "name": "387",
         "rawType": "float64",
         "type": "float"
        },
        {
         "name": "388",
         "rawType": "float64",
         "type": "float"
        },
        {
         "name": "389",
         "rawType": "float64",
         "type": "float"
        },
        {
         "name": "390",
         "rawType": "float64",
         "type": "float"
        },
        {
         "name": "391",
         "rawType": "float64",
         "type": "float"
        },
        {
         "name": "392",
         "rawType": "float64",
         "type": "float"
        },
        {
         "name": "393",
         "rawType": "float64",
         "type": "float"
        },
        {
         "name": "394",
         "rawType": "float64",
         "type": "float"
        },
        {
         "name": "395",
         "rawType": "float64",
         "type": "float"
        },
        {
         "name": "396",
         "rawType": "float64",
         "type": "float"
        },
        {
         "name": "397",
         "rawType": "float64",
         "type": "float"
        },
        {
         "name": "398",
         "rawType": "float64",
         "type": "float"
        },
        {
         "name": "399",
         "rawType": "float64",
         "type": "float"
        },
        {
         "name": "400",
         "rawType": "float64",
         "type": "float"
        },
        {
         "name": "401",
         "rawType": "float64",
         "type": "float"
        },
        {
         "name": "402",
         "rawType": "float64",
         "type": "float"
        },
        {
         "name": "403",
         "rawType": "float64",
         "type": "float"
        },
        {
         "name": "404",
         "rawType": "float64",
         "type": "float"
        },
        {
         "name": "405",
         "rawType": "float64",
         "type": "float"
        },
        {
         "name": "406",
         "rawType": "float64",
         "type": "float"
        },
        {
         "name": "407",
         "rawType": "float64",
         "type": "float"
        },
        {
         "name": "408",
         "rawType": "float64",
         "type": "float"
        },
        {
         "name": "409",
         "rawType": "float64",
         "type": "float"
        },
        {
         "name": "410",
         "rawType": "float64",
         "type": "float"
        },
        {
         "name": "411",
         "rawType": "float64",
         "type": "float"
        },
        {
         "name": "412",
         "rawType": "float64",
         "type": "float"
        },
        {
         "name": "413",
         "rawType": "float64",
         "type": "float"
        },
        {
         "name": "414",
         "rawType": "float64",
         "type": "float"
        },
        {
         "name": "415",
         "rawType": "float64",
         "type": "float"
        },
        {
         "name": "416",
         "rawType": "float64",
         "type": "float"
        },
        {
         "name": "417",
         "rawType": "float64",
         "type": "float"
        },
        {
         "name": "418",
         "rawType": "float64",
         "type": "float"
        },
        {
         "name": "419",
         "rawType": "float64",
         "type": "float"
        },
        {
         "name": "420",
         "rawType": "float64",
         "type": "float"
        },
        {
         "name": "421",
         "rawType": "float64",
         "type": "float"
        },
        {
         "name": "422",
         "rawType": "float64",
         "type": "float"
        },
        {
         "name": "423",
         "rawType": "float64",
         "type": "float"
        },
        {
         "name": "424",
         "rawType": "float64",
         "type": "float"
        },
        {
         "name": "425",
         "rawType": "float64",
         "type": "float"
        },
        {
         "name": "426",
         "rawType": "float64",
         "type": "float"
        },
        {
         "name": "427",
         "rawType": "float64",
         "type": "float"
        },
        {
         "name": "428",
         "rawType": "float64",
         "type": "float"
        },
        {
         "name": "429",
         "rawType": "float64",
         "type": "float"
        },
        {
         "name": "430",
         "rawType": "float64",
         "type": "float"
        },
        {
         "name": "431",
         "rawType": "float64",
         "type": "float"
        },
        {
         "name": "432",
         "rawType": "float64",
         "type": "float"
        },
        {
         "name": "433",
         "rawType": "float64",
         "type": "float"
        },
        {
         "name": "434",
         "rawType": "float64",
         "type": "float"
        },
        {
         "name": "435",
         "rawType": "float64",
         "type": "float"
        },
        {
         "name": "436",
         "rawType": "float64",
         "type": "float"
        },
        {
         "name": "437",
         "rawType": "float64",
         "type": "float"
        },
        {
         "name": "438",
         "rawType": "float64",
         "type": "float"
        },
        {
         "name": "439",
         "rawType": "float64",
         "type": "float"
        },
        {
         "name": "440",
         "rawType": "float64",
         "type": "float"
        },
        {
         "name": "441",
         "rawType": "float64",
         "type": "float"
        },
        {
         "name": "442",
         "rawType": "float64",
         "type": "float"
        },
        {
         "name": "443",
         "rawType": "float64",
         "type": "float"
        },
        {
         "name": "444",
         "rawType": "float64",
         "type": "float"
        },
        {
         "name": "445",
         "rawType": "float64",
         "type": "float"
        },
        {
         "name": "446",
         "rawType": "float64",
         "type": "float"
        },
        {
         "name": "447",
         "rawType": "float64",
         "type": "float"
        },
        {
         "name": "448",
         "rawType": "float64",
         "type": "float"
        },
        {
         "name": "449",
         "rawType": "float64",
         "type": "float"
        },
        {
         "name": "450",
         "rawType": "float64",
         "type": "float"
        },
        {
         "name": "451",
         "rawType": "float64",
         "type": "float"
        },
        {
         "name": "452",
         "rawType": "float64",
         "type": "float"
        },
        {
         "name": "453",
         "rawType": "float64",
         "type": "float"
        },
        {
         "name": "454",
         "rawType": "float64",
         "type": "float"
        },
        {
         "name": "455",
         "rawType": "float64",
         "type": "float"
        },
        {
         "name": "456",
         "rawType": "float64",
         "type": "float"
        },
        {
         "name": "457",
         "rawType": "float64",
         "type": "float"
        },
        {
         "name": "458",
         "rawType": "float64",
         "type": "float"
        },
        {
         "name": "459",
         "rawType": "float64",
         "type": "float"
        },
        {
         "name": "460",
         "rawType": "float64",
         "type": "float"
        },
        {
         "name": "461",
         "rawType": "float64",
         "type": "float"
        },
        {
         "name": "462",
         "rawType": "float64",
         "type": "float"
        },
        {
         "name": "463",
         "rawType": "float64",
         "type": "float"
        },
        {
         "name": "464",
         "rawType": "float64",
         "type": "float"
        },
        {
         "name": "465",
         "rawType": "float64",
         "type": "float"
        },
        {
         "name": "466",
         "rawType": "float64",
         "type": "float"
        },
        {
         "name": "467",
         "rawType": "float64",
         "type": "float"
        },
        {
         "name": "468",
         "rawType": "float64",
         "type": "float"
        },
        {
         "name": "469",
         "rawType": "float64",
         "type": "float"
        },
        {
         "name": "470",
         "rawType": "float64",
         "type": "float"
        },
        {
         "name": "471",
         "rawType": "float64",
         "type": "float"
        },
        {
         "name": "472",
         "rawType": "float64",
         "type": "float"
        },
        {
         "name": "473",
         "rawType": "float64",
         "type": "float"
        },
        {
         "name": "474",
         "rawType": "float64",
         "type": "float"
        },
        {
         "name": "475",
         "rawType": "float64",
         "type": "float"
        },
        {
         "name": "476",
         "rawType": "float64",
         "type": "float"
        },
        {
         "name": "477",
         "rawType": "float64",
         "type": "float"
        },
        {
         "name": "478",
         "rawType": "float64",
         "type": "float"
        },
        {
         "name": "479",
         "rawType": "float64",
         "type": "float"
        },
        {
         "name": "480",
         "rawType": "float64",
         "type": "float"
        },
        {
         "name": "481",
         "rawType": "float64",
         "type": "float"
        },
        {
         "name": "482",
         "rawType": "float64",
         "type": "float"
        },
        {
         "name": "483",
         "rawType": "float64",
         "type": "float"
        },
        {
         "name": "484",
         "rawType": "float64",
         "type": "float"
        },
        {
         "name": "485",
         "rawType": "float64",
         "type": "float"
        },
        {
         "name": "486",
         "rawType": "float64",
         "type": "float"
        },
        {
         "name": "487",
         "rawType": "float64",
         "type": "float"
        },
        {
         "name": "488",
         "rawType": "float64",
         "type": "float"
        },
        {
         "name": "489",
         "rawType": "float64",
         "type": "float"
        },
        {
         "name": "490",
         "rawType": "float64",
         "type": "float"
        },
        {
         "name": "491",
         "rawType": "float64",
         "type": "float"
        },
        {
         "name": "492",
         "rawType": "float64",
         "type": "float"
        },
        {
         "name": "493",
         "rawType": "float64",
         "type": "float"
        },
        {
         "name": "494",
         "rawType": "float64",
         "type": "float"
        },
        {
         "name": "495",
         "rawType": "float64",
         "type": "float"
        },
        {
         "name": "496",
         "rawType": "float64",
         "type": "float"
        },
        {
         "name": "497",
         "rawType": "float64",
         "type": "float"
        },
        {
         "name": "498",
         "rawType": "float64",
         "type": "float"
        },
        {
         "name": "499",
         "rawType": "float64",
         "type": "float"
        },
        {
         "name": "500",
         "rawType": "float64",
         "type": "float"
        },
        {
         "name": "501",
         "rawType": "float64",
         "type": "float"
        },
        {
         "name": "502",
         "rawType": "float64",
         "type": "float"
        },
        {
         "name": "503",
         "rawType": "float64",
         "type": "float"
        },
        {
         "name": "504",
         "rawType": "float64",
         "type": "float"
        },
        {
         "name": "505",
         "rawType": "float64",
         "type": "float"
        },
        {
         "name": "506",
         "rawType": "float64",
         "type": "float"
        },
        {
         "name": "507",
         "rawType": "float64",
         "type": "float"
        },
        {
         "name": "508",
         "rawType": "float64",
         "type": "float"
        },
        {
         "name": "509",
         "rawType": "float64",
         "type": "float"
        },
        {
         "name": "510",
         "rawType": "float64",
         "type": "float"
        },
        {
         "name": "511",
         "rawType": "float64",
         "type": "float"
        },
        {
         "name": "512",
         "rawType": "float64",
         "type": "float"
        },
        {
         "name": "513",
         "rawType": "float64",
         "type": "float"
        },
        {
         "name": "514",
         "rawType": "float64",
         "type": "float"
        },
        {
         "name": "515",
         "rawType": "float64",
         "type": "float"
        },
        {
         "name": "516",
         "rawType": "float64",
         "type": "float"
        },
        {
         "name": "517",
         "rawType": "float64",
         "type": "float"
        },
        {
         "name": "518",
         "rawType": "float64",
         "type": "float"
        },
        {
         "name": "519",
         "rawType": "float64",
         "type": "float"
        },
        {
         "name": "520",
         "rawType": "float64",
         "type": "float"
        },
        {
         "name": "521",
         "rawType": "float64",
         "type": "float"
        },
        {
         "name": "522",
         "rawType": "float64",
         "type": "float"
        },
        {
         "name": "523",
         "rawType": "float64",
         "type": "float"
        },
        {
         "name": "524",
         "rawType": "float64",
         "type": "float"
        },
        {
         "name": "525",
         "rawType": "float64",
         "type": "float"
        },
        {
         "name": "526",
         "rawType": "float64",
         "type": "float"
        },
        {
         "name": "527",
         "rawType": "float64",
         "type": "float"
        },
        {
         "name": "528",
         "rawType": "float64",
         "type": "float"
        },
        {
         "name": "529",
         "rawType": "float64",
         "type": "float"
        },
        {
         "name": "530",
         "rawType": "float64",
         "type": "float"
        },
        {
         "name": "531",
         "rawType": "float64",
         "type": "float"
        },
        {
         "name": "532",
         "rawType": "float64",
         "type": "float"
        },
        {
         "name": "533",
         "rawType": "float64",
         "type": "float"
        },
        {
         "name": "534",
         "rawType": "float64",
         "type": "float"
        },
        {
         "name": "535",
         "rawType": "float64",
         "type": "float"
        },
        {
         "name": "536",
         "rawType": "float64",
         "type": "float"
        },
        {
         "name": "537",
         "rawType": "float64",
         "type": "float"
        },
        {
         "name": "538",
         "rawType": "float64",
         "type": "float"
        },
        {
         "name": "539",
         "rawType": "float64",
         "type": "float"
        },
        {
         "name": "540",
         "rawType": "float64",
         "type": "float"
        },
        {
         "name": "541",
         "rawType": "float64",
         "type": "float"
        },
        {
         "name": "542",
         "rawType": "float64",
         "type": "float"
        },
        {
         "name": "543",
         "rawType": "float64",
         "type": "float"
        },
        {
         "name": "544",
         "rawType": "float64",
         "type": "float"
        },
        {
         "name": "545",
         "rawType": "float64",
         "type": "float"
        },
        {
         "name": "546",
         "rawType": "float64",
         "type": "float"
        },
        {
         "name": "547",
         "rawType": "float64",
         "type": "float"
        },
        {
         "name": "548",
         "rawType": "float64",
         "type": "float"
        },
        {
         "name": "549",
         "rawType": "float64",
         "type": "float"
        },
        {
         "name": "550",
         "rawType": "float64",
         "type": "float"
        },
        {
         "name": "551",
         "rawType": "float64",
         "type": "float"
        },
        {
         "name": "552",
         "rawType": "float64",
         "type": "float"
        },
        {
         "name": "553",
         "rawType": "float64",
         "type": "float"
        },
        {
         "name": "554",
         "rawType": "float64",
         "type": "float"
        },
        {
         "name": "555",
         "rawType": "float64",
         "type": "float"
        },
        {
         "name": "556",
         "rawType": "float64",
         "type": "float"
        },
        {
         "name": "557",
         "rawType": "float64",
         "type": "float"
        },
        {
         "name": "558",
         "rawType": "float64",
         "type": "float"
        },
        {
         "name": "559",
         "rawType": "float64",
         "type": "float"
        },
        {
         "name": "560",
         "rawType": "float64",
         "type": "float"
        },
        {
         "name": "561",
         "rawType": "float64",
         "type": "float"
        },
        {
         "name": "562",
         "rawType": "float64",
         "type": "float"
        },
        {
         "name": "563",
         "rawType": "float64",
         "type": "float"
        },
        {
         "name": "564",
         "rawType": "float64",
         "type": "float"
        },
        {
         "name": "565",
         "rawType": "float64",
         "type": "float"
        },
        {
         "name": "566",
         "rawType": "float64",
         "type": "float"
        },
        {
         "name": "567",
         "rawType": "float64",
         "type": "float"
        },
        {
         "name": "568",
         "rawType": "float64",
         "type": "float"
        },
        {
         "name": "569",
         "rawType": "float64",
         "type": "float"
        },
        {
         "name": "570",
         "rawType": "float64",
         "type": "float"
        },
        {
         "name": "571",
         "rawType": "float64",
         "type": "float"
        },
        {
         "name": "572",
         "rawType": "float64",
         "type": "float"
        },
        {
         "name": "573",
         "rawType": "float64",
         "type": "float"
        },
        {
         "name": "574",
         "rawType": "float64",
         "type": "float"
        },
        {
         "name": "575",
         "rawType": "float64",
         "type": "float"
        },
        {
         "name": "576",
         "rawType": "float64",
         "type": "float"
        },
        {
         "name": "577",
         "rawType": "float64",
         "type": "float"
        },
        {
         "name": "578",
         "rawType": "float64",
         "type": "float"
        },
        {
         "name": "579",
         "rawType": "float64",
         "type": "float"
        },
        {
         "name": "580",
         "rawType": "float64",
         "type": "float"
        },
        {
         "name": "581",
         "rawType": "float64",
         "type": "float"
        },
        {
         "name": "582",
         "rawType": "float64",
         "type": "float"
        },
        {
         "name": "583",
         "rawType": "float64",
         "type": "float"
        },
        {
         "name": "584",
         "rawType": "float64",
         "type": "float"
        },
        {
         "name": "585",
         "rawType": "float64",
         "type": "float"
        },
        {
         "name": "586",
         "rawType": "float64",
         "type": "float"
        },
        {
         "name": "587",
         "rawType": "float64",
         "type": "float"
        },
        {
         "name": "588",
         "rawType": "float64",
         "type": "float"
        },
        {
         "name": "589",
         "rawType": "float64",
         "type": "float"
        },
        {
         "name": "590",
         "rawType": "float64",
         "type": "float"
        },
        {
         "name": "591",
         "rawType": "float64",
         "type": "float"
        },
        {
         "name": "592",
         "rawType": "float64",
         "type": "float"
        },
        {
         "name": "593",
         "rawType": "float64",
         "type": "float"
        },
        {
         "name": "594",
         "rawType": "float64",
         "type": "float"
        },
        {
         "name": "595",
         "rawType": "float64",
         "type": "float"
        },
        {
         "name": "596",
         "rawType": "float64",
         "type": "float"
        },
        {
         "name": "597",
         "rawType": "float64",
         "type": "float"
        },
        {
         "name": "598",
         "rawType": "float64",
         "type": "float"
        },
        {
         "name": "599",
         "rawType": "float64",
         "type": "float"
        },
        {
         "name": "600",
         "rawType": "float64",
         "type": "float"
        },
        {
         "name": "601",
         "rawType": "float64",
         "type": "float"
        },
        {
         "name": "602",
         "rawType": "float64",
         "type": "float"
        },
        {
         "name": "603",
         "rawType": "float64",
         "type": "float"
        },
        {
         "name": "604",
         "rawType": "float64",
         "type": "float"
        },
        {
         "name": "605",
         "rawType": "float64",
         "type": "float"
        },
        {
         "name": "606",
         "rawType": "float64",
         "type": "float"
        },
        {
         "name": "607",
         "rawType": "float64",
         "type": "float"
        },
        {
         "name": "608",
         "rawType": "float64",
         "type": "float"
        },
        {
         "name": "609",
         "rawType": "float64",
         "type": "float"
        },
        {
         "name": "610",
         "rawType": "float64",
         "type": "float"
        },
        {
         "name": "611",
         "rawType": "float64",
         "type": "float"
        },
        {
         "name": "612",
         "rawType": "float64",
         "type": "float"
        },
        {
         "name": "613",
         "rawType": "float64",
         "type": "float"
        },
        {
         "name": "614",
         "rawType": "float64",
         "type": "float"
        },
        {
         "name": "615",
         "rawType": "float64",
         "type": "float"
        },
        {
         "name": "616",
         "rawType": "float64",
         "type": "float"
        },
        {
         "name": "617",
         "rawType": "float64",
         "type": "float"
        },
        {
         "name": "618",
         "rawType": "float64",
         "type": "float"
        },
        {
         "name": "619",
         "rawType": "float64",
         "type": "float"
        },
        {
         "name": "620",
         "rawType": "float64",
         "type": "float"
        },
        {
         "name": "621",
         "rawType": "float64",
         "type": "float"
        },
        {
         "name": "622",
         "rawType": "float64",
         "type": "float"
        },
        {
         "name": "623",
         "rawType": "float64",
         "type": "float"
        },
        {
         "name": "624",
         "rawType": "float64",
         "type": "float"
        },
        {
         "name": "625",
         "rawType": "float64",
         "type": "float"
        },
        {
         "name": "626",
         "rawType": "float64",
         "type": "float"
        },
        {
         "name": "627",
         "rawType": "float64",
         "type": "float"
        },
        {
         "name": "628",
         "rawType": "float64",
         "type": "float"
        },
        {
         "name": "629",
         "rawType": "float64",
         "type": "float"
        },
        {
         "name": "630",
         "rawType": "float64",
         "type": "float"
        },
        {
         "name": "631",
         "rawType": "float64",
         "type": "float"
        },
        {
         "name": "632",
         "rawType": "float64",
         "type": "float"
        },
        {
         "name": "633",
         "rawType": "float64",
         "type": "float"
        },
        {
         "name": "634",
         "rawType": "float64",
         "type": "float"
        },
        {
         "name": "635",
         "rawType": "float64",
         "type": "float"
        },
        {
         "name": "636",
         "rawType": "float64",
         "type": "float"
        },
        {
         "name": "637",
         "rawType": "float64",
         "type": "float"
        },
        {
         "name": "638",
         "rawType": "float64",
         "type": "float"
        },
        {
         "name": "639",
         "rawType": "float64",
         "type": "float"
        },
        {
         "name": "640",
         "rawType": "float64",
         "type": "float"
        },
        {
         "name": "641",
         "rawType": "float64",
         "type": "float"
        },
        {
         "name": "642",
         "rawType": "float64",
         "type": "float"
        },
        {
         "name": "643",
         "rawType": "float64",
         "type": "float"
        },
        {
         "name": "644",
         "rawType": "float64",
         "type": "float"
        },
        {
         "name": "645",
         "rawType": "float64",
         "type": "float"
        },
        {
         "name": "646",
         "rawType": "float64",
         "type": "float"
        },
        {
         "name": "647",
         "rawType": "float64",
         "type": "float"
        },
        {
         "name": "648",
         "rawType": "float64",
         "type": "float"
        },
        {
         "name": "649",
         "rawType": "float64",
         "type": "float"
        },
        {
         "name": "650",
         "rawType": "float64",
         "type": "float"
        },
        {
         "name": "651",
         "rawType": "float64",
         "type": "float"
        },
        {
         "name": "652",
         "rawType": "float64",
         "type": "float"
        },
        {
         "name": "653",
         "rawType": "float64",
         "type": "float"
        },
        {
         "name": "654",
         "rawType": "float64",
         "type": "float"
        },
        {
         "name": "655",
         "rawType": "float64",
         "type": "float"
        },
        {
         "name": "656",
         "rawType": "float64",
         "type": "float"
        },
        {
         "name": "657",
         "rawType": "float64",
         "type": "float"
        },
        {
         "name": "658",
         "rawType": "float64",
         "type": "float"
        },
        {
         "name": "659",
         "rawType": "float64",
         "type": "float"
        },
        {
         "name": "660",
         "rawType": "float64",
         "type": "float"
        },
        {
         "name": "661",
         "rawType": "float64",
         "type": "float"
        },
        {
         "name": "662",
         "rawType": "float64",
         "type": "float"
        },
        {
         "name": "663",
         "rawType": "float64",
         "type": "float"
        },
        {
         "name": "664",
         "rawType": "float64",
         "type": "float"
        },
        {
         "name": "665",
         "rawType": "float64",
         "type": "float"
        },
        {
         "name": "666",
         "rawType": "float64",
         "type": "float"
        },
        {
         "name": "667",
         "rawType": "float64",
         "type": "float"
        },
        {
         "name": "668",
         "rawType": "float64",
         "type": "float"
        },
        {
         "name": "669",
         "rawType": "float64",
         "type": "float"
        },
        {
         "name": "670",
         "rawType": "float64",
         "type": "float"
        },
        {
         "name": "671",
         "rawType": "float64",
         "type": "float"
        },
        {
         "name": "672",
         "rawType": "float64",
         "type": "float"
        },
        {
         "name": "673",
         "rawType": "float64",
         "type": "float"
        },
        {
         "name": "674",
         "rawType": "float64",
         "type": "float"
        },
        {
         "name": "675",
         "rawType": "float64",
         "type": "float"
        },
        {
         "name": "676",
         "rawType": "float64",
         "type": "float"
        },
        {
         "name": "677",
         "rawType": "float64",
         "type": "float"
        },
        {
         "name": "678",
         "rawType": "float64",
         "type": "float"
        },
        {
         "name": "679",
         "rawType": "float64",
         "type": "float"
        },
        {
         "name": "680",
         "rawType": "float64",
         "type": "float"
        },
        {
         "name": "681",
         "rawType": "float64",
         "type": "float"
        },
        {
         "name": "682",
         "rawType": "float64",
         "type": "float"
        },
        {
         "name": "683",
         "rawType": "float64",
         "type": "float"
        },
        {
         "name": "684",
         "rawType": "float64",
         "type": "float"
        },
        {
         "name": "685",
         "rawType": "float64",
         "type": "float"
        },
        {
         "name": "686",
         "rawType": "float64",
         "type": "float"
        },
        {
         "name": "687",
         "rawType": "float64",
         "type": "float"
        },
        {
         "name": "688",
         "rawType": "float64",
         "type": "float"
        },
        {
         "name": "689",
         "rawType": "float64",
         "type": "float"
        },
        {
         "name": "690",
         "rawType": "float64",
         "type": "float"
        },
        {
         "name": "691",
         "rawType": "float64",
         "type": "float"
        },
        {
         "name": "692",
         "rawType": "float64",
         "type": "float"
        },
        {
         "name": "693",
         "rawType": "float64",
         "type": "float"
        },
        {
         "name": "694",
         "rawType": "float64",
         "type": "float"
        },
        {
         "name": "695",
         "rawType": "float64",
         "type": "float"
        },
        {
         "name": "696",
         "rawType": "float64",
         "type": "float"
        },
        {
         "name": "697",
         "rawType": "float64",
         "type": "float"
        },
        {
         "name": "698",
         "rawType": "float64",
         "type": "float"
        },
        {
         "name": "699",
         "rawType": "float64",
         "type": "float"
        },
        {
         "name": "700",
         "rawType": "float64",
         "type": "float"
        },
        {
         "name": "701",
         "rawType": "float64",
         "type": "float"
        },
        {
         "name": "702",
         "rawType": "float64",
         "type": "float"
        },
        {
         "name": "703",
         "rawType": "float64",
         "type": "float"
        },
        {
         "name": "704",
         "rawType": "float64",
         "type": "float"
        },
        {
         "name": "705",
         "rawType": "float64",
         "type": "float"
        },
        {
         "name": "706",
         "rawType": "float64",
         "type": "float"
        },
        {
         "name": "707",
         "rawType": "float64",
         "type": "float"
        },
        {
         "name": "708",
         "rawType": "float64",
         "type": "float"
        },
        {
         "name": "709",
         "rawType": "float64",
         "type": "float"
        },
        {
         "name": "710",
         "rawType": "float64",
         "type": "float"
        },
        {
         "name": "711",
         "rawType": "float64",
         "type": "float"
        },
        {
         "name": "712",
         "rawType": "float64",
         "type": "float"
        },
        {
         "name": "713",
         "rawType": "float64",
         "type": "float"
        },
        {
         "name": "714",
         "rawType": "float64",
         "type": "float"
        },
        {
         "name": "715",
         "rawType": "float64",
         "type": "float"
        },
        {
         "name": "716",
         "rawType": "float64",
         "type": "float"
        },
        {
         "name": "717",
         "rawType": "float64",
         "type": "float"
        },
        {
         "name": "718",
         "rawType": "float64",
         "type": "float"
        },
        {
         "name": "719",
         "rawType": "float64",
         "type": "float"
        },
        {
         "name": "720",
         "rawType": "float64",
         "type": "float"
        },
        {
         "name": "721",
         "rawType": "float64",
         "type": "float"
        },
        {
         "name": "722",
         "rawType": "float64",
         "type": "float"
        },
        {
         "name": "723",
         "rawType": "float64",
         "type": "float"
        },
        {
         "name": "724",
         "rawType": "float64",
         "type": "float"
        },
        {
         "name": "725",
         "rawType": "float64",
         "type": "float"
        },
        {
         "name": "726",
         "rawType": "float64",
         "type": "float"
        },
        {
         "name": "727",
         "rawType": "float64",
         "type": "float"
        },
        {
         "name": "728",
         "rawType": "float64",
         "type": "float"
        },
        {
         "name": "729",
         "rawType": "float64",
         "type": "float"
        },
        {
         "name": "730",
         "rawType": "float64",
         "type": "float"
        },
        {
         "name": "731",
         "rawType": "float64",
         "type": "float"
        },
        {
         "name": "732",
         "rawType": "float64",
         "type": "float"
        },
        {
         "name": "733",
         "rawType": "float64",
         "type": "float"
        },
        {
         "name": "734",
         "rawType": "float64",
         "type": "float"
        },
        {
         "name": "735",
         "rawType": "float64",
         "type": "float"
        },
        {
         "name": "736",
         "rawType": "float64",
         "type": "float"
        },
        {
         "name": "737",
         "rawType": "float64",
         "type": "float"
        },
        {
         "name": "738",
         "rawType": "float64",
         "type": "float"
        },
        {
         "name": "739",
         "rawType": "float64",
         "type": "float"
        },
        {
         "name": "740",
         "rawType": "float64",
         "type": "float"
        },
        {
         "name": "741",
         "rawType": "float64",
         "type": "float"
        },
        {
         "name": "742",
         "rawType": "float64",
         "type": "float"
        },
        {
         "name": "743",
         "rawType": "float64",
         "type": "float"
        },
        {
         "name": "744",
         "rawType": "float64",
         "type": "float"
        },
        {
         "name": "745",
         "rawType": "float64",
         "type": "float"
        },
        {
         "name": "746",
         "rawType": "float64",
         "type": "float"
        },
        {
         "name": "747",
         "rawType": "float64",
         "type": "float"
        },
        {
         "name": "748",
         "rawType": "float64",
         "type": "float"
        },
        {
         "name": "749",
         "rawType": "float64",
         "type": "float"
        },
        {
         "name": "750",
         "rawType": "float64",
         "type": "float"
        },
        {
         "name": "751",
         "rawType": "float64",
         "type": "float"
        },
        {
         "name": "752",
         "rawType": "float64",
         "type": "float"
        },
        {
         "name": "753",
         "rawType": "float64",
         "type": "float"
        },
        {
         "name": "754",
         "rawType": "float64",
         "type": "float"
        },
        {
         "name": "755",
         "rawType": "float64",
         "type": "float"
        },
        {
         "name": "756",
         "rawType": "float64",
         "type": "float"
        },
        {
         "name": "757",
         "rawType": "float64",
         "type": "float"
        },
        {
         "name": "758",
         "rawType": "float64",
         "type": "float"
        },
        {
         "name": "759",
         "rawType": "float64",
         "type": "float"
        },
        {
         "name": "760",
         "rawType": "float64",
         "type": "float"
        },
        {
         "name": "761",
         "rawType": "float64",
         "type": "float"
        },
        {
         "name": "762",
         "rawType": "float64",
         "type": "float"
        },
        {
         "name": "763",
         "rawType": "float64",
         "type": "float"
        },
        {
         "name": "764",
         "rawType": "float64",
         "type": "float"
        },
        {
         "name": "765",
         "rawType": "float64",
         "type": "float"
        },
        {
         "name": "766",
         "rawType": "float64",
         "type": "float"
        },
        {
         "name": "767",
         "rawType": "float64",
         "type": "float"
        },
        {
         "name": "768",
         "rawType": "float64",
         "type": "float"
        },
        {
         "name": "769",
         "rawType": "float64",
         "type": "float"
        },
        {
         "name": "770",
         "rawType": "float64",
         "type": "float"
        },
        {
         "name": "771",
         "rawType": "float64",
         "type": "float"
        },
        {
         "name": "772",
         "rawType": "float64",
         "type": "float"
        },
        {
         "name": "773",
         "rawType": "float64",
         "type": "float"
        },
        {
         "name": "774",
         "rawType": "float64",
         "type": "float"
        },
        {
         "name": "775",
         "rawType": "float64",
         "type": "float"
        },
        {
         "name": "776",
         "rawType": "float64",
         "type": "float"
        },
        {
         "name": "777",
         "rawType": "float64",
         "type": "float"
        },
        {
         "name": "778",
         "rawType": "float64",
         "type": "float"
        },
        {
         "name": "779",
         "rawType": "float64",
         "type": "float"
        },
        {
         "name": "780",
         "rawType": "float64",
         "type": "float"
        },
        {
         "name": "781",
         "rawType": "float64",
         "type": "float"
        },
        {
         "name": "782",
         "rawType": "float64",
         "type": "float"
        },
        {
         "name": "783",
         "rawType": "float64",
         "type": "float"
        }
       ],
       "conversionMethod": "pd.DataFrame",
       "ref": "b9c65968-5d55-49cb-87cf-aea7acc0f81d",
       "rows": [
        [
         "0",
         "0.0",
         "0.0",
         "0.0",
         "0.0",
         "0.0",
         "0.0",
         "0.0",
         "0.0",
         "0.0",
         "0.0",
         "0.0",
         "0.0",
         "0.0",
         "0.0",
         "0.0",
         "0.0",
         "0.0",
         "0.0",
         "0.0",
         "0.0",
         "0.0",
         "0.0",
         "0.0",
         "0.0",
         "0.0",
         "0.0",
         "0.0",
         "0.0",
         "0.0",
         "0.0",
         "0.0",
         "0.0",
         "0.0",
         "0.0",
         "0.0",
         "0.0",
         "0.0",
         "0.0",
         "0.0",
         "0.0",
         "0.0",
         "0.0",
         "0.0",
         "0.0",
         "0.0",
         "0.0",
         "0.0",
         "0.0",
         "0.0",
         "0.0",
         "0.0",
         "0.0",
         "0.0",
         "0.0",
         "0.0",
         "0.0",
         "0.0",
         "0.0",
         "0.0",
         "0.0",
         "0.0",
         "0.0",
         "0.0",
         "0.0",
         "0.0",
         "0.0",
         "0.0",
         "0.0",
         "0.0",
         "0.0",
         "0.0",
         "0.0",
         "0.0",
         "0.0",
         "0.0",
         "0.0",
         "0.0",
         "0.0",
         "0.0",
         "0.0",
         "0.0",
         "0.0",
         "0.0",
         "0.0",
         "0.0",
         "0.0",
         "0.0",
         "0.0",
         "0.0",
         "0.0",
         "0.0",
         "0.0",
         "0.0",
         "0.0",
         "0.0",
         "0.0",
         "0.0",
         "0.0",
         "0.0",
         "0.0",
         "0.0",
         "0.0",
         "0.0",
         "0.0",
         "0.0",
         "0.0",
         "0.0",
         "0.0",
         "0.0",
         "0.0",
         "0.0",
         "0.0",
         "0.0",
         "0.0",
         "0.0",
         "0.0",
         "0.0",
         "0.0",
         "0.0",
         "0.0",
         "0.0",
         "0.0",
         "0.0",
         "0.0",
         "0.0",
         "0.0",
         "0.0",
         "0.0",
         "0.0",
         "0.0",
         "0.0",
         "0.0",
         "0.0",
         "0.0",
         "0.0",
         "0.0",
         "0.0",
         "0.0",
         "0.0",
         "0.0",
         "0.0",
         "0.0",
         "0.0",
         "0.0",
         "0.0",
         "0.0",
         "0.0",
         "0.0",
         "0.0",
         "0.0",
         "0.0",
         "0.0",
         "0.0",
         "0.0",
         "0.0",
         "0.0",
         "0.8392156862745098",
         "0.0",
         "0.0",
         "0.0",
         "0.0",
         "0.0",
         "0.0",
         "0.0",
         "0.0",
         "0.0",
         "0.0",
         "0.0",
         "0.0",
         "0.0",
         "0.0",
         "0.0",
         "0.0",
         "0.0",
         "0.0",
         "0.0",
         "0.0",
         "0.0",
         "0.0",
         "0.0",
         "0.0",
         "0.0",
         "0.0",
         "0.0",
         "0.8470588235294118",
         "0.0",
         "0.0",
         "0.0",
         "0.0",
         "0.0",
         "0.0",
         "0.0",
         "0.0",
         "0.0",
         "0.0",
         "0.0",
         "0.0",
         "0.0",
         "0.0",
         "0.0",
         "0.0",
         "0.0",
         "0.0",
         "0.47843137254901963",
         "0.0",
         "0.0",
         "0.0",
         "0.0",
         "0.0",
         "0.0",
         "0.0",
         "0.0",
         "0.8352941176470589",
         "0.0",
         "0.0",
         "0.0",
         "0.0",
         "0.0",
         "0.0",
         "0.0",
         "0.0",
         "0.0",
         "0.0",
         "0.0",
         "0.0",
         "0.0",
         "0.0",
         "0.0",
         "0.0",
         "0.0",
         "0.0",
         "0.6980392156862745",
         "0.0",
         "0.0",
         "0.0",
         "0.0",
         "0.0",
         "0.0",
         "0.0",
         "0.0",
         "0.8470588235294118",
         "0.0",
         "0.0",
         "0.0",
         "0.0",
         "0.0",
         "0.0",
         "0.0",
         "0.0",
         "0.0",
         "0.0",
         "0.0",
         "0.0",
         "0.0",
         "0.0",
         "0.0",
         "0.0",
         "0.0",
         "0.07058823529411765",
         "0.6274509803921569",
         "0.0",
         "0.0",
         "0.0",
         "0.0",
         "0.0",
         "0.0",
         "0.0",
         "0.0",
         "0.8313725490196079",
         "0.4392156862745098",
         "0.0",
         "0.0",
         "0.0",
         "0.0",
         "0.0",
         "0.0",
         "0.0",
         "0.0",
         "0.0",
         "0.0",
         "0.0",
         "0.0",
         "0.0",
         "0.0",
         "0.0",
         "0.0",
         "0.6666666666666666",
         "0.5725490196078431",
         "0.0",
         "0.0",
         "0.0",
         "0.0",
         "0.0",
         "0.0",
         "0.0",
         "0.0",
         "0.8313725490196079",
         "0.5843137254901961",
         "0.0",
         "0.0",
         "0.0",
         "0.0",
         "0.0",
         "0.0",
         "0.0",
         "0.0",
         "0.0",
         "0.0",
         "0.0",
         "0.0",
         "0.0",
         "0.0",
         "0.0",
         "0.0",
         "0.7254901960784313",
         "0.5176470588235295",
         "0.0",
         "0.0",
         "0.0",
         "0.0",
         "0.0",
         "0.0",
         "0.40784313725490196",
         "0.5764705882352941",
         "0.8784313725490196",
         "0.8156862745098039",
         "0.0",
         "0.0",
         "0.0",
         "0.0",
         "0.0",
         "0.0",
         "0.0",
         "0.0",
         "0.0",
         "0.0",
         "0.0",
         "0.0",
         "0.0",
         "0.0",
         "0.0",
         "0.0",
         "0.7764705882352941",
         "0.4980392156862745",
         "0.0",
         "0.0",
         "0.0",
         "0.0",
         "0.13333333333333333",
         "0.803921568627451",
         "0.8117647058823529",
         "0.6941176470588235",
         "0.8235294117647058",
         "0.6313725490196078",
         "0.0",
         "0.0",
         "0.0",
         "0.0",
         "0.0",
         "0.0",
         "0.0",
         "0.0",
         "0.0",
         "0.0",
         "0.0",
         "0.0",
         "0.0",
         "0.0",
         "0.0",
         "0.0",
         "0.7725490196078432",
         "0.49411764705882355",
         "0.0",
         "0.0",
         "0.6313725490196078",
         "0.803921568627451",
         "0.6705882352941176",
         "0.47058823529411764",
         "0.0",
         "0.0",
         "0.6196078431372549",
         "0.6980392156862745",
         "0.0",
         "0.0",
         "0.0",
         "0.0",
         "0.0",
         "0.0",
         "0.0",
         "0.0",
         "0.0",
         "0.0",
         "0.0",
         "0.0",
         "0.0",
         "0.0",
         "0.0",
         "0.0",
         "0.6941176470588235",
         "0.788235294117647",
         "0.788235294117647",
         "0.8274509803921568",
         "0.6196078431372549",
         "0.0",
         "0.0",
         "0.0",
         "0.0",
         "0.0",
         "0.0",
         "0.7647058823529411",
         "0.0",
         "0.0",
         "0.0",
         "0.0",
         "0.0",
         "0.0",
         "0.0",
         "0.0",
         "0.0",
         "0.0",
         "0.0",
         "0.0",
         "0.0",
         "0.0",
         "0.0",
         "0.0",
         "0.0",
         "0.0",
         "0.0",
         "0.0",
         "0.0",
         "0.0",
         "0.0",
         "0.0",
         "0.0",
         "0.0",
         "0.0",
         "0.796078431372549",
         "0.0",
         "0.0",
         "0.0",
         "0.0",
         "0.0",
         "0.0",
         "0.0",
         "0.0",
         "0.0",
         "0.0",
         "0.0",
         "0.0",
         "0.0",
         "0.0",
         "0.0",
         "0.0",
         "0.0",
         "0.0",
         "0.0",
         "0.0",
         "0.0",
         "0.0",
         "0.0",
         "0.0",
         "0.0",
         "0.0",
         "0.0",
         "0.8196078431372549",
         "0.0",
         "0.0",
         "0.0",
         "0.0",
         "0.0",
         "0.0",
         "0.0",
         "0.0",
         "0.0",
         "0.0",
         "0.0",
         "0.0",
         "0.0",
         "0.0",
         "0.0",
         "0.0",
         "0.0",
         "0.0",
         "0.0",
         "0.0",
         "0.0",
         "0.0",
         "0.0",
         "0.0",
         "0.0",
         "0.0",
         "0.0",
         "0.8313725490196079",
         "0.0",
         "0.0",
         "0.0",
         "0.0",
         "0.0",
         "0.0",
         "0.0",
         "0.0",
         "0.0",
         "0.0",
         "0.0",
         "0.0",
         "0.0",
         "0.0",
         "0.0",
         "0.0",
         "0.0",
         "0.0",
         "0.0",
         "0.0",
         "0.0",
         "0.0",
         "0.0",
         "0.0",
         "0.0",
         "0.0",
         "0.0",
         "0.8313725490196079",
         "0.0",
         "0.0",
         "0.0",
         "0.0",
         "0.0",
         "0.0",
         "0.0",
         "0.0",
         "0.0",
         "0.0",
         "0.0",
         "0.0",
         "0.0",
         "0.0",
         "0.0",
         "0.0",
         "0.0",
         "0.0",
         "0.0",
         "0.0",
         "0.0",
         "0.0",
         "0.0",
         "0.0",
         "0.0",
         "0.0",
         "0.0",
         "0.8274509803921568",
         "0.0",
         "0.0",
         "0.0",
         "0.0",
         "0.0",
         "0.0",
         "0.0",
         "0.0",
         "0.0",
         "0.0",
         "0.0",
         "0.0",
         "0.0",
         "0.0",
         "0.0",
         "0.0",
         "0.0",
         "0.0",
         "0.0",
         "0.0",
         "0.0",
         "0.0",
         "0.0",
         "0.0",
         "0.0",
         "0.0",
         "0.0",
         "0.8117647058823529",
         "0.23921568627450981",
         "0.0",
         "0.0",
         "0.0",
         "0.0",
         "0.0",
         "0.0",
         "0.0",
         "0.0",
         "0.0",
         "0.0",
         "0.0",
         "0.0",
         "0.0",
         "0.0",
         "0.0",
         "0.0",
         "0.0",
         "0.0",
         "0.0",
         "0.0",
         "0.0",
         "0.0",
         "0.0",
         "0.0",
         "0.0",
         "0.0",
         "0.7490196078431373",
         "0.6627450980392157",
         "0.0",
         "0.0",
         "0.0",
         "0.0",
         "0.0",
         "0.0",
         "0.0",
         "0.0",
         "0.0",
         "0.0",
         "0.0",
         "0.0",
         "0.0",
         "0.0",
         "0.0",
         "0.0",
         "0.0",
         "0.0",
         "0.0",
         "0.0",
         "0.0",
         "0.0",
         "0.0",
         "0.0",
         "0.0",
         "0.0",
         "0.6627450980392157",
         "0.7529411764705882",
         "0.0",
         "0.0",
         "0.0",
         "0.0",
         "0.0",
         "0.0",
         "0.0",
         "0.0",
         "0.0",
         "0.0",
         "0.0",
         "0.0",
         "0.0",
         "0.0",
         "0.0",
         "0.0",
         "0.0",
         "0.0",
         "0.0",
         "0.0",
         "0.0",
         "0.0",
         "0.0",
         "0.0",
         "0.0",
         "0.0",
         "0.6313725490196078",
         "0.8352941176470589",
         "0.0",
         "0.0",
         "0.0",
         "0.0",
         "0.0",
         "0.0",
         "0.0",
         "0.0",
         "0.0",
         "0.0",
         "0.0",
         "0.0",
         "0.0",
         "0.0",
         "0.0",
         "0.0",
         "0.0",
         "0.0",
         "0.0",
         "0.0",
         "0.0",
         "0.0",
         "0.0",
         "0.0",
         "0.0",
         "0.0",
         "0.0",
         "0.0",
         "0.0",
         "0.0",
         "0.0",
         "0.0",
         "0.0",
         "0.0",
         "0.0",
         "0.0",
         "0.0",
         "0.0",
         "0.0",
         "0.0",
         "0.0",
         "0.0",
         "0.0",
         "0.0",
         "0.0",
         "0.0",
         "0.0",
         "0.0",
         "0.0",
         "0.0",
         "0.0",
         "0.0",
         "0.0",
         "0.0",
         "0.0",
         "0.0",
         "0.0",
         "0.0",
         "0.0",
         "0.0",
         "0.0",
         "0.0",
         "0.0",
         "0.0",
         "0.0",
         "0.0",
         "0.0",
         "0.0",
         "0.0",
         "0.0",
         "0.0",
         "0.0",
         "0.0",
         "0.0",
         "0.0",
         "0.0",
         "0.0",
         "0.0",
         "0.0",
         "0.0",
         "0.0",
         "0.0",
         "0.0",
         "0.0",
         "0.0",
         "0.0",
         "0.0",
         "0.0",
         "0.0",
         "0.0",
         "0.0",
         "0.0",
         "0.0",
         "0.0",
         "0.0",
         "0.0",
         "0.0",
         "0.0",
         "0.0",
         "0.0",
         "0.0",
         "0.0",
         "0.0",
         "0.0",
         "0.0",
         "0.0",
         "0.0",
         "0.0",
         "0.0",
         "0.0",
         "0.0",
         "0.0",
         "0.0",
         "0.0",
         "0.0",
         "0.0",
         "0.0",
         "0.0",
         "0.0",
         "0.0",
         "0.0"
        ]
       ],
       "shape": {
        "columns": 784,
        "rows": 1
       }
      },
      "text/html": [
       "<div>\n",
       "<style scoped>\n",
       "    .dataframe tbody tr th:only-of-type {\n",
       "        vertical-align: middle;\n",
       "    }\n",
       "\n",
       "    .dataframe tbody tr th {\n",
       "        vertical-align: top;\n",
       "    }\n",
       "\n",
       "    .dataframe thead th {\n",
       "        text-align: right;\n",
       "    }\n",
       "</style>\n",
       "<table border=\"1\" class=\"dataframe\">\n",
       "  <thead>\n",
       "    <tr style=\"text-align: right;\">\n",
       "      <th></th>\n",
       "      <th>0</th>\n",
       "      <th>1</th>\n",
       "      <th>2</th>\n",
       "      <th>3</th>\n",
       "      <th>4</th>\n",
       "      <th>5</th>\n",
       "      <th>6</th>\n",
       "      <th>7</th>\n",
       "      <th>8</th>\n",
       "      <th>9</th>\n",
       "      <th>...</th>\n",
       "      <th>774</th>\n",
       "      <th>775</th>\n",
       "      <th>776</th>\n",
       "      <th>777</th>\n",
       "      <th>778</th>\n",
       "      <th>779</th>\n",
       "      <th>780</th>\n",
       "      <th>781</th>\n",
       "      <th>782</th>\n",
       "      <th>783</th>\n",
       "    </tr>\n",
       "  </thead>\n",
       "  <tbody>\n",
       "    <tr>\n",
       "      <th>0</th>\n",
       "      <td>0.0</td>\n",
       "      <td>0.0</td>\n",
       "      <td>0.0</td>\n",
       "      <td>0.0</td>\n",
       "      <td>0.0</td>\n",
       "      <td>0.0</td>\n",
       "      <td>0.0</td>\n",
       "      <td>0.0</td>\n",
       "      <td>0.0</td>\n",
       "      <td>0.0</td>\n",
       "      <td>...</td>\n",
       "      <td>0.0</td>\n",
       "      <td>0.0</td>\n",
       "      <td>0.0</td>\n",
       "      <td>0.0</td>\n",
       "      <td>0.0</td>\n",
       "      <td>0.0</td>\n",
       "      <td>0.0</td>\n",
       "      <td>0.0</td>\n",
       "      <td>0.0</td>\n",
       "      <td>0.0</td>\n",
       "    </tr>\n",
       "  </tbody>\n",
       "</table>\n",
       "<p>1 rows × 784 columns</p>\n",
       "</div>"
      ],
      "text/plain": [
       "   0    1    2    3    4    5    6    7    8    9    ...  774  775  776  777  \\\n",
       "0  0.0  0.0  0.0  0.0  0.0  0.0  0.0  0.0  0.0  0.0  ...  0.0  0.0  0.0  0.0   \n",
       "\n",
       "   778  779  780  781  782  783  \n",
       "0  0.0  0.0  0.0  0.0  0.0  0.0  \n",
       "\n",
       "[1 rows x 784 columns]"
      ]
     },
     "execution_count": 44,
     "metadata": {},
     "output_type": "execute_result"
    }
   ],
   "source": [
    "df = pd.DataFrame(img_resizedM_Flat)\n",
    "df = df\n",
    "df"
   ]
  },
  {
   "cell_type": "code",
   "execution_count": 45,
   "metadata": {},
   "outputs": [
    {
     "data": {
      "text/plain": [
       "array([4], dtype=uint8)"
      ]
     },
     "execution_count": 45,
     "metadata": {},
     "output_type": "execute_result"
    }
   ],
   "source": [
    "knn.predict(df)"
   ]
  },
  {
   "cell_type": "code",
   "execution_count": 48,
   "metadata": {},
   "outputs": [
    {
     "name": "stdout",
     "output_type": "stream",
     "text": [
      "Your number is: 4\n"
     ]
    }
   ],
   "source": [
    "print(\"Your number is:\", knn.predict(df)[0])"
   ]
  },
  {
   "cell_type": "code",
   "execution_count": null,
   "metadata": {},
   "outputs": [
    {
     "data": {
      "text/plain": [
       "['KNNModel_Job']"
      ]
     },
     "execution_count": 46,
     "metadata": {},
     "output_type": "execute_result"
    }
   ],
   "source": [
    "# import joblib as jbl\n",
    "\n",
    "# jbl.dump(knn,'KNNModel_Job')"
   ]
  }
 ],
 "metadata": {
  "kernelspec": {
   "display_name": "Python 3",
   "language": "python",
   "name": "python3"
  },
  "language_info": {
   "codemirror_mode": {
    "name": "ipython",
    "version": 3
   },
   "file_extension": ".py",
   "mimetype": "text/x-python",
   "name": "python",
   "nbconvert_exporter": "python",
   "pygments_lexer": "ipython3",
   "version": "3.12.3"
  }
 },
 "nbformat": 4,
 "nbformat_minor": 4
}

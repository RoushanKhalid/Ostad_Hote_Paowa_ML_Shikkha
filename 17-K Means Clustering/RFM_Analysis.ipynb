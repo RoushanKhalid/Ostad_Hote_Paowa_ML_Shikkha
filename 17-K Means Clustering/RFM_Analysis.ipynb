{
 "cells": [
  {
   "cell_type": "markdown",
   "metadata": {},
   "source": [
    "## RMF Analysis"
   ]
  },
  {
   "cell_type": "code",
   "execution_count": 214,
   "metadata": {},
   "outputs": [],
   "source": [
    "import pandas as pd\n",
    "import numpy as np\n",
    "import seaborn as sns\n",
    "import matplotlib.pyplot as plt"
   ]
  },
  {
   "cell_type": "code",
   "execution_count": 215,
   "metadata": {},
   "outputs": [
    {
     "data": {
      "application/vnd.microsoft.datawrangler.viewer.v0+json": {
       "columns": [
        {
         "name": "index",
         "rawType": "int64",
         "type": "integer"
        },
        {
         "name": "InvoiceNo",
         "rawType": "object",
         "type": "string"
        },
        {
         "name": "StockCode",
         "rawType": "object",
         "type": "string"
        },
        {
         "name": "Description",
         "rawType": "object",
         "type": "unknown"
        },
        {
         "name": "Quantity",
         "rawType": "int64",
         "type": "integer"
        },
        {
         "name": "InvoiceDate",
         "rawType": "object",
         "type": "string"
        },
        {
         "name": "UnitPrice",
         "rawType": "float64",
         "type": "float"
        },
        {
         "name": "CustomerID",
         "rawType": "float64",
         "type": "float"
        },
        {
         "name": "Country",
         "rawType": "object",
         "type": "string"
        }
       ],
       "conversionMethod": "pd.DataFrame",
       "ref": "e11a1328-38ec-4844-a923-a18877ee44bf",
       "rows": [
        [
         "0",
         "536365",
         "85123A",
         "WHITE HANGING HEART T-LIGHT HOLDER",
         "6",
         "12/1/2010 8:26",
         "2.55",
         "17850.0",
         "United Kingdom"
        ],
        [
         "1",
         "536365",
         "71053",
         "WHITE METAL LANTERN",
         "6",
         "12/1/2010 8:26",
         "3.39",
         "17850.0",
         "United Kingdom"
        ],
        [
         "2",
         "536365",
         "84406B",
         "CREAM CUPID HEARTS COAT HANGER",
         "8",
         "12/1/2010 8:26",
         "2.75",
         "17850.0",
         "United Kingdom"
        ],
        [
         "3",
         "536365",
         "84029G",
         "KNITTED UNION FLAG HOT WATER BOTTLE",
         "6",
         "12/1/2010 8:26",
         "3.39",
         "17850.0",
         "United Kingdom"
        ],
        [
         "4",
         "536365",
         "84029E",
         "RED WOOLLY HOTTIE WHITE HEART.",
         "6",
         "12/1/2010 8:26",
         "3.39",
         "17850.0",
         "United Kingdom"
        ],
        [
         "5",
         "536365",
         "22752",
         "SET 7 BABUSHKA NESTING BOXES",
         "2",
         "12/1/2010 8:26",
         "7.65",
         "17850.0",
         "United Kingdom"
        ],
        [
         "6",
         "536365",
         "21730",
         "GLASS STAR FROSTED T-LIGHT HOLDER",
         "6",
         "12/1/2010 8:26",
         "4.25",
         "17850.0",
         "United Kingdom"
        ],
        [
         "7",
         "536366",
         "22633",
         "HAND WARMER UNION JACK",
         "6",
         "12/1/2010 8:28",
         "1.85",
         "17850.0",
         "United Kingdom"
        ],
        [
         "8",
         "536366",
         "22632",
         "HAND WARMER RED POLKA DOT",
         "6",
         "12/1/2010 8:28",
         "1.85",
         "17850.0",
         "United Kingdom"
        ],
        [
         "9",
         "536367",
         "84879",
         "ASSORTED COLOUR BIRD ORNAMENT",
         "32",
         "12/1/2010 8:34",
         "1.69",
         "13047.0",
         "United Kingdom"
        ],
        [
         "10",
         "536367",
         "22745",
         "POPPY'S PLAYHOUSE BEDROOM ",
         "6",
         "12/1/2010 8:34",
         "2.1",
         "13047.0",
         "United Kingdom"
        ],
        [
         "11",
         "536367",
         "22748",
         "POPPY'S PLAYHOUSE KITCHEN",
         "6",
         "12/1/2010 8:34",
         "2.1",
         "13047.0",
         "United Kingdom"
        ],
        [
         "12",
         "536367",
         "22749",
         "FELTCRAFT PRINCESS CHARLOTTE DOLL",
         "8",
         "12/1/2010 8:34",
         "3.75",
         "13047.0",
         "United Kingdom"
        ],
        [
         "13",
         "536367",
         "22310",
         "IVORY KNITTED MUG COSY ",
         "6",
         "12/1/2010 8:34",
         "1.65",
         "13047.0",
         "United Kingdom"
        ],
        [
         "14",
         "536367",
         "84969",
         "BOX OF 6 ASSORTED COLOUR TEASPOONS",
         "6",
         "12/1/2010 8:34",
         "4.25",
         "13047.0",
         "United Kingdom"
        ],
        [
         "15",
         "536367",
         "22623",
         "BOX OF VINTAGE JIGSAW BLOCKS ",
         "3",
         "12/1/2010 8:34",
         "4.95",
         "13047.0",
         "United Kingdom"
        ],
        [
         "16",
         "536367",
         "22622",
         "BOX OF VINTAGE ALPHABET BLOCKS",
         "2",
         "12/1/2010 8:34",
         "9.95",
         "13047.0",
         "United Kingdom"
        ],
        [
         "17",
         "536367",
         "21754",
         "HOME BUILDING BLOCK WORD",
         "3",
         "12/1/2010 8:34",
         "5.95",
         "13047.0",
         "United Kingdom"
        ],
        [
         "18",
         "536367",
         "21755",
         "LOVE BUILDING BLOCK WORD",
         "3",
         "12/1/2010 8:34",
         "5.95",
         "13047.0",
         "United Kingdom"
        ],
        [
         "19",
         "536367",
         "21777",
         "RECIPE BOX WITH METAL HEART",
         "4",
         "12/1/2010 8:34",
         "7.95",
         "13047.0",
         "United Kingdom"
        ],
        [
         "20",
         "536367",
         "48187",
         "DOORMAT NEW ENGLAND",
         "4",
         "12/1/2010 8:34",
         "7.95",
         "13047.0",
         "United Kingdom"
        ],
        [
         "21",
         "536368",
         "22960",
         "JAM MAKING SET WITH JARS",
         "6",
         "12/1/2010 8:34",
         "4.25",
         "13047.0",
         "United Kingdom"
        ],
        [
         "22",
         "536368",
         "22913",
         "RED COAT RACK PARIS FASHION",
         "3",
         "12/1/2010 8:34",
         "4.95",
         "13047.0",
         "United Kingdom"
        ],
        [
         "23",
         "536368",
         "22912",
         "YELLOW COAT RACK PARIS FASHION",
         "3",
         "12/1/2010 8:34",
         "4.95",
         "13047.0",
         "United Kingdom"
        ],
        [
         "24",
         "536368",
         "22914",
         "BLUE COAT RACK PARIS FASHION",
         "3",
         "12/1/2010 8:34",
         "4.95",
         "13047.0",
         "United Kingdom"
        ],
        [
         "25",
         "536369",
         "21756",
         "BATH BUILDING BLOCK WORD",
         "3",
         "12/1/2010 8:35",
         "5.95",
         "13047.0",
         "United Kingdom"
        ],
        [
         "26",
         "536370",
         "22728",
         "ALARM CLOCK BAKELIKE PINK",
         "24",
         "12/1/2010 8:45",
         "3.75",
         "12583.0",
         "France"
        ],
        [
         "27",
         "536370",
         "22727",
         "ALARM CLOCK BAKELIKE RED ",
         "24",
         "12/1/2010 8:45",
         "3.75",
         "12583.0",
         "France"
        ],
        [
         "28",
         "536370",
         "22726",
         "ALARM CLOCK BAKELIKE GREEN",
         "12",
         "12/1/2010 8:45",
         "3.75",
         "12583.0",
         "France"
        ],
        [
         "29",
         "536370",
         "21724",
         "PANDA AND BUNNIES STICKER SHEET",
         "12",
         "12/1/2010 8:45",
         "0.85",
         "12583.0",
         "France"
        ],
        [
         "30",
         "536370",
         "21883",
         "STARS GIFT TAPE ",
         "24",
         "12/1/2010 8:45",
         "0.65",
         "12583.0",
         "France"
        ],
        [
         "31",
         "536370",
         "10002",
         "INFLATABLE POLITICAL GLOBE ",
         "48",
         "12/1/2010 8:45",
         "0.85",
         "12583.0",
         "France"
        ],
        [
         "32",
         "536370",
         "21791",
         "VINTAGE HEADS AND TAILS CARD GAME ",
         "24",
         "12/1/2010 8:45",
         "1.25",
         "12583.0",
         "France"
        ],
        [
         "33",
         "536370",
         "21035",
         "SET/2 RED RETROSPOT TEA TOWELS ",
         "18",
         "12/1/2010 8:45",
         "2.95",
         "12583.0",
         "France"
        ],
        [
         "34",
         "536370",
         "22326",
         "ROUND SNACK BOXES SET OF4 WOODLAND ",
         "24",
         "12/1/2010 8:45",
         "2.95",
         "12583.0",
         "France"
        ],
        [
         "35",
         "536370",
         "22629",
         "SPACEBOY LUNCH BOX ",
         "24",
         "12/1/2010 8:45",
         "1.95",
         "12583.0",
         "France"
        ],
        [
         "36",
         "536370",
         "22659",
         "LUNCH BOX I LOVE LONDON",
         "24",
         "12/1/2010 8:45",
         "1.95",
         "12583.0",
         "France"
        ],
        [
         "37",
         "536370",
         "22631",
         "CIRCUS PARADE LUNCH BOX ",
         "24",
         "12/1/2010 8:45",
         "1.95",
         "12583.0",
         "France"
        ],
        [
         "38",
         "536370",
         "22661",
         "CHARLOTTE BAG DOLLY GIRL DESIGN",
         "20",
         "12/1/2010 8:45",
         "0.85",
         "12583.0",
         "France"
        ],
        [
         "39",
         "536370",
         "21731",
         "RED TOADSTOOL LED NIGHT LIGHT",
         "24",
         "12/1/2010 8:45",
         "1.65",
         "12583.0",
         "France"
        ],
        [
         "40",
         "536370",
         "22900",
         " SET 2 TEA TOWELS I LOVE LONDON ",
         "24",
         "12/1/2010 8:45",
         "2.95",
         "12583.0",
         "France"
        ],
        [
         "41",
         "536370",
         "21913",
         "VINTAGE SEASIDE JIGSAW PUZZLES",
         "12",
         "12/1/2010 8:45",
         "3.75",
         "12583.0",
         "France"
        ],
        [
         "42",
         "536370",
         "22540",
         "MINI JIGSAW CIRCUS PARADE ",
         "24",
         "12/1/2010 8:45",
         "0.42",
         "12583.0",
         "France"
        ],
        [
         "43",
         "536370",
         "22544",
         "MINI JIGSAW SPACEBOY",
         "24",
         "12/1/2010 8:45",
         "0.42",
         "12583.0",
         "France"
        ],
        [
         "44",
         "536370",
         "22492",
         "MINI PAINT SET VINTAGE ",
         "36",
         "12/1/2010 8:45",
         "0.65",
         "12583.0",
         "France"
        ],
        [
         "45",
         "536370",
         "POST",
         "POSTAGE",
         "3",
         "12/1/2010 8:45",
         "18.0",
         "12583.0",
         "France"
        ],
        [
         "46",
         "536371",
         "22086",
         "PAPER CHAIN KIT 50'S CHRISTMAS ",
         "80",
         "12/1/2010 9:00",
         "2.55",
         "13748.0",
         "United Kingdom"
        ],
        [
         "47",
         "536372",
         "22632",
         "HAND WARMER RED POLKA DOT",
         "6",
         "12/1/2010 9:01",
         "1.85",
         "17850.0",
         "United Kingdom"
        ],
        [
         "48",
         "536372",
         "22633",
         "HAND WARMER UNION JACK",
         "6",
         "12/1/2010 9:01",
         "1.85",
         "17850.0",
         "United Kingdom"
        ],
        [
         "49",
         "536373",
         "85123A",
         "WHITE HANGING HEART T-LIGHT HOLDER",
         "6",
         "12/1/2010 9:02",
         "2.55",
         "17850.0",
         "United Kingdom"
        ]
       ],
       "shape": {
        "columns": 8,
        "rows": 541909
       }
      },
      "text/html": [
       "<div>\n",
       "<style scoped>\n",
       "    .dataframe tbody tr th:only-of-type {\n",
       "        vertical-align: middle;\n",
       "    }\n",
       "\n",
       "    .dataframe tbody tr th {\n",
       "        vertical-align: top;\n",
       "    }\n",
       "\n",
       "    .dataframe thead th {\n",
       "        text-align: right;\n",
       "    }\n",
       "</style>\n",
       "<table border=\"1\" class=\"dataframe\">\n",
       "  <thead>\n",
       "    <tr style=\"text-align: right;\">\n",
       "      <th></th>\n",
       "      <th>InvoiceNo</th>\n",
       "      <th>StockCode</th>\n",
       "      <th>Description</th>\n",
       "      <th>Quantity</th>\n",
       "      <th>InvoiceDate</th>\n",
       "      <th>UnitPrice</th>\n",
       "      <th>CustomerID</th>\n",
       "      <th>Country</th>\n",
       "    </tr>\n",
       "  </thead>\n",
       "  <tbody>\n",
       "    <tr>\n",
       "      <th>0</th>\n",
       "      <td>536365</td>\n",
       "      <td>85123A</td>\n",
       "      <td>WHITE HANGING HEART T-LIGHT HOLDER</td>\n",
       "      <td>6</td>\n",
       "      <td>12/1/2010 8:26</td>\n",
       "      <td>2.55</td>\n",
       "      <td>17850.0</td>\n",
       "      <td>United Kingdom</td>\n",
       "    </tr>\n",
       "    <tr>\n",
       "      <th>1</th>\n",
       "      <td>536365</td>\n",
       "      <td>71053</td>\n",
       "      <td>WHITE METAL LANTERN</td>\n",
       "      <td>6</td>\n",
       "      <td>12/1/2010 8:26</td>\n",
       "      <td>3.39</td>\n",
       "      <td>17850.0</td>\n",
       "      <td>United Kingdom</td>\n",
       "    </tr>\n",
       "    <tr>\n",
       "      <th>2</th>\n",
       "      <td>536365</td>\n",
       "      <td>84406B</td>\n",
       "      <td>CREAM CUPID HEARTS COAT HANGER</td>\n",
       "      <td>8</td>\n",
       "      <td>12/1/2010 8:26</td>\n",
       "      <td>2.75</td>\n",
       "      <td>17850.0</td>\n",
       "      <td>United Kingdom</td>\n",
       "    </tr>\n",
       "    <tr>\n",
       "      <th>3</th>\n",
       "      <td>536365</td>\n",
       "      <td>84029G</td>\n",
       "      <td>KNITTED UNION FLAG HOT WATER BOTTLE</td>\n",
       "      <td>6</td>\n",
       "      <td>12/1/2010 8:26</td>\n",
       "      <td>3.39</td>\n",
       "      <td>17850.0</td>\n",
       "      <td>United Kingdom</td>\n",
       "    </tr>\n",
       "    <tr>\n",
       "      <th>4</th>\n",
       "      <td>536365</td>\n",
       "      <td>84029E</td>\n",
       "      <td>RED WOOLLY HOTTIE WHITE HEART.</td>\n",
       "      <td>6</td>\n",
       "      <td>12/1/2010 8:26</td>\n",
       "      <td>3.39</td>\n",
       "      <td>17850.0</td>\n",
       "      <td>United Kingdom</td>\n",
       "    </tr>\n",
       "    <tr>\n",
       "      <th>...</th>\n",
       "      <td>...</td>\n",
       "      <td>...</td>\n",
       "      <td>...</td>\n",
       "      <td>...</td>\n",
       "      <td>...</td>\n",
       "      <td>...</td>\n",
       "      <td>...</td>\n",
       "      <td>...</td>\n",
       "    </tr>\n",
       "    <tr>\n",
       "      <th>541904</th>\n",
       "      <td>581587</td>\n",
       "      <td>22613</td>\n",
       "      <td>PACK OF 20 SPACEBOY NAPKINS</td>\n",
       "      <td>12</td>\n",
       "      <td>12/9/2011 12:50</td>\n",
       "      <td>0.85</td>\n",
       "      <td>12680.0</td>\n",
       "      <td>France</td>\n",
       "    </tr>\n",
       "    <tr>\n",
       "      <th>541905</th>\n",
       "      <td>581587</td>\n",
       "      <td>22899</td>\n",
       "      <td>CHILDREN'S APRON DOLLY GIRL</td>\n",
       "      <td>6</td>\n",
       "      <td>12/9/2011 12:50</td>\n",
       "      <td>2.10</td>\n",
       "      <td>12680.0</td>\n",
       "      <td>France</td>\n",
       "    </tr>\n",
       "    <tr>\n",
       "      <th>541906</th>\n",
       "      <td>581587</td>\n",
       "      <td>23254</td>\n",
       "      <td>CHILDRENS CUTLERY DOLLY GIRL</td>\n",
       "      <td>4</td>\n",
       "      <td>12/9/2011 12:50</td>\n",
       "      <td>4.15</td>\n",
       "      <td>12680.0</td>\n",
       "      <td>France</td>\n",
       "    </tr>\n",
       "    <tr>\n",
       "      <th>541907</th>\n",
       "      <td>581587</td>\n",
       "      <td>23255</td>\n",
       "      <td>CHILDRENS CUTLERY CIRCUS PARADE</td>\n",
       "      <td>4</td>\n",
       "      <td>12/9/2011 12:50</td>\n",
       "      <td>4.15</td>\n",
       "      <td>12680.0</td>\n",
       "      <td>France</td>\n",
       "    </tr>\n",
       "    <tr>\n",
       "      <th>541908</th>\n",
       "      <td>581587</td>\n",
       "      <td>22138</td>\n",
       "      <td>BAKING SET 9 PIECE RETROSPOT</td>\n",
       "      <td>3</td>\n",
       "      <td>12/9/2011 12:50</td>\n",
       "      <td>4.95</td>\n",
       "      <td>12680.0</td>\n",
       "      <td>France</td>\n",
       "    </tr>\n",
       "  </tbody>\n",
       "</table>\n",
       "<p>541909 rows × 8 columns</p>\n",
       "</div>"
      ],
      "text/plain": [
       "       InvoiceNo StockCode                          Description  Quantity  \\\n",
       "0         536365    85123A   WHITE HANGING HEART T-LIGHT HOLDER         6   \n",
       "1         536365     71053                  WHITE METAL LANTERN         6   \n",
       "2         536365    84406B       CREAM CUPID HEARTS COAT HANGER         8   \n",
       "3         536365    84029G  KNITTED UNION FLAG HOT WATER BOTTLE         6   \n",
       "4         536365    84029E       RED WOOLLY HOTTIE WHITE HEART.         6   \n",
       "...          ...       ...                                  ...       ...   \n",
       "541904    581587     22613          PACK OF 20 SPACEBOY NAPKINS        12   \n",
       "541905    581587     22899         CHILDREN'S APRON DOLLY GIRL          6   \n",
       "541906    581587     23254        CHILDRENS CUTLERY DOLLY GIRL          4   \n",
       "541907    581587     23255      CHILDRENS CUTLERY CIRCUS PARADE         4   \n",
       "541908    581587     22138        BAKING SET 9 PIECE RETROSPOT          3   \n",
       "\n",
       "            InvoiceDate  UnitPrice  CustomerID         Country  \n",
       "0        12/1/2010 8:26       2.55     17850.0  United Kingdom  \n",
       "1        12/1/2010 8:26       3.39     17850.0  United Kingdom  \n",
       "2        12/1/2010 8:26       2.75     17850.0  United Kingdom  \n",
       "3        12/1/2010 8:26       3.39     17850.0  United Kingdom  \n",
       "4        12/1/2010 8:26       3.39     17850.0  United Kingdom  \n",
       "...                 ...        ...         ...             ...  \n",
       "541904  12/9/2011 12:50       0.85     12680.0          France  \n",
       "541905  12/9/2011 12:50       2.10     12680.0          France  \n",
       "541906  12/9/2011 12:50       4.15     12680.0          France  \n",
       "541907  12/9/2011 12:50       4.15     12680.0          France  \n",
       "541908  12/9/2011 12:50       4.95     12680.0          France  \n",
       "\n",
       "[541909 rows x 8 columns]"
      ]
     },
     "execution_count": 215,
     "metadata": {},
     "output_type": "execute_result"
    }
   ],
   "source": [
    "df=pd.read_csv('OnlineRetail.csv', encoding = 'unicode_escape')\n",
    "df"
   ]
  },
  {
   "cell_type": "code",
   "execution_count": 216,
   "metadata": {},
   "outputs": [
    {
     "data": {
      "text/plain": [
       "InvoiceNo       object\n",
       "StockCode       object\n",
       "Description     object\n",
       "Quantity         int64\n",
       "InvoiceDate     object\n",
       "UnitPrice      float64\n",
       "CustomerID     float64\n",
       "Country         object\n",
       "dtype: object"
      ]
     },
     "execution_count": 216,
     "metadata": {},
     "output_type": "execute_result"
    }
   ],
   "source": [
    "df.dtypes"
   ]
  },
  {
   "cell_type": "code",
   "execution_count": 217,
   "metadata": {},
   "outputs": [
    {
     "data": {
      "application/vnd.microsoft.datawrangler.viewer.v0+json": {
       "columns": [
        {
         "name": "index",
         "rawType": "int64",
         "type": "integer"
        },
        {
         "name": "InvoiceNo",
         "rawType": "object",
         "type": "string"
        },
        {
         "name": "StockCode",
         "rawType": "object",
         "type": "string"
        },
        {
         "name": "Description",
         "rawType": "object",
         "type": "string"
        },
        {
         "name": "Quantity",
         "rawType": "int64",
         "type": "integer"
        },
        {
         "name": "InvoiceDate",
         "rawType": "object",
         "type": "string"
        },
        {
         "name": "UnitPrice",
         "rawType": "float64",
         "type": "float"
        },
        {
         "name": "CustomerID",
         "rawType": "float64",
         "type": "float"
        },
        {
         "name": "Country",
         "rawType": "object",
         "type": "string"
        }
       ],
       "conversionMethod": "pd.DataFrame",
       "ref": "1cc7566a-3959-42c4-81ea-a080a91a51bb",
       "rows": [
        [
         "541904",
         "581587",
         "22613",
         "PACK OF 20 SPACEBOY NAPKINS",
         "12",
         "12/9/2011 12:50",
         "0.85",
         "12680.0",
         "France"
        ],
        [
         "541905",
         "581587",
         "22899",
         "CHILDREN'S APRON DOLLY GIRL ",
         "6",
         "12/9/2011 12:50",
         "2.1",
         "12680.0",
         "France"
        ],
        [
         "541906",
         "581587",
         "23254",
         "CHILDRENS CUTLERY DOLLY GIRL ",
         "4",
         "12/9/2011 12:50",
         "4.15",
         "12680.0",
         "France"
        ],
        [
         "541907",
         "581587",
         "23255",
         "CHILDRENS CUTLERY CIRCUS PARADE",
         "4",
         "12/9/2011 12:50",
         "4.15",
         "12680.0",
         "France"
        ],
        [
         "541908",
         "581587",
         "22138",
         "BAKING SET 9 PIECE RETROSPOT ",
         "3",
         "12/9/2011 12:50",
         "4.95",
         "12680.0",
         "France"
        ]
       ],
       "shape": {
        "columns": 8,
        "rows": 5
       }
      },
      "text/html": [
       "<div>\n",
       "<style scoped>\n",
       "    .dataframe tbody tr th:only-of-type {\n",
       "        vertical-align: middle;\n",
       "    }\n",
       "\n",
       "    .dataframe tbody tr th {\n",
       "        vertical-align: top;\n",
       "    }\n",
       "\n",
       "    .dataframe thead th {\n",
       "        text-align: right;\n",
       "    }\n",
       "</style>\n",
       "<table border=\"1\" class=\"dataframe\">\n",
       "  <thead>\n",
       "    <tr style=\"text-align: right;\">\n",
       "      <th></th>\n",
       "      <th>InvoiceNo</th>\n",
       "      <th>StockCode</th>\n",
       "      <th>Description</th>\n",
       "      <th>Quantity</th>\n",
       "      <th>InvoiceDate</th>\n",
       "      <th>UnitPrice</th>\n",
       "      <th>CustomerID</th>\n",
       "      <th>Country</th>\n",
       "    </tr>\n",
       "  </thead>\n",
       "  <tbody>\n",
       "    <tr>\n",
       "      <th>541904</th>\n",
       "      <td>581587</td>\n",
       "      <td>22613</td>\n",
       "      <td>PACK OF 20 SPACEBOY NAPKINS</td>\n",
       "      <td>12</td>\n",
       "      <td>12/9/2011 12:50</td>\n",
       "      <td>0.85</td>\n",
       "      <td>12680.0</td>\n",
       "      <td>France</td>\n",
       "    </tr>\n",
       "    <tr>\n",
       "      <th>541905</th>\n",
       "      <td>581587</td>\n",
       "      <td>22899</td>\n",
       "      <td>CHILDREN'S APRON DOLLY GIRL</td>\n",
       "      <td>6</td>\n",
       "      <td>12/9/2011 12:50</td>\n",
       "      <td>2.10</td>\n",
       "      <td>12680.0</td>\n",
       "      <td>France</td>\n",
       "    </tr>\n",
       "    <tr>\n",
       "      <th>541906</th>\n",
       "      <td>581587</td>\n",
       "      <td>23254</td>\n",
       "      <td>CHILDRENS CUTLERY DOLLY GIRL</td>\n",
       "      <td>4</td>\n",
       "      <td>12/9/2011 12:50</td>\n",
       "      <td>4.15</td>\n",
       "      <td>12680.0</td>\n",
       "      <td>France</td>\n",
       "    </tr>\n",
       "    <tr>\n",
       "      <th>541907</th>\n",
       "      <td>581587</td>\n",
       "      <td>23255</td>\n",
       "      <td>CHILDRENS CUTLERY CIRCUS PARADE</td>\n",
       "      <td>4</td>\n",
       "      <td>12/9/2011 12:50</td>\n",
       "      <td>4.15</td>\n",
       "      <td>12680.0</td>\n",
       "      <td>France</td>\n",
       "    </tr>\n",
       "    <tr>\n",
       "      <th>541908</th>\n",
       "      <td>581587</td>\n",
       "      <td>22138</td>\n",
       "      <td>BAKING SET 9 PIECE RETROSPOT</td>\n",
       "      <td>3</td>\n",
       "      <td>12/9/2011 12:50</td>\n",
       "      <td>4.95</td>\n",
       "      <td>12680.0</td>\n",
       "      <td>France</td>\n",
       "    </tr>\n",
       "  </tbody>\n",
       "</table>\n",
       "</div>"
      ],
      "text/plain": [
       "       InvoiceNo StockCode                      Description  Quantity  \\\n",
       "541904    581587     22613      PACK OF 20 SPACEBOY NAPKINS        12   \n",
       "541905    581587     22899     CHILDREN'S APRON DOLLY GIRL          6   \n",
       "541906    581587     23254    CHILDRENS CUTLERY DOLLY GIRL          4   \n",
       "541907    581587     23255  CHILDRENS CUTLERY CIRCUS PARADE         4   \n",
       "541908    581587     22138    BAKING SET 9 PIECE RETROSPOT          3   \n",
       "\n",
       "            InvoiceDate  UnitPrice  CustomerID Country  \n",
       "541904  12/9/2011 12:50       0.85     12680.0  France  \n",
       "541905  12/9/2011 12:50       2.10     12680.0  France  \n",
       "541906  12/9/2011 12:50       4.15     12680.0  France  \n",
       "541907  12/9/2011 12:50       4.15     12680.0  France  \n",
       "541908  12/9/2011 12:50       4.95     12680.0  France  "
      ]
     },
     "execution_count": 217,
     "metadata": {},
     "output_type": "execute_result"
    }
   ],
   "source": [
    "df.tail(5)"
   ]
  },
  {
   "cell_type": "code",
   "execution_count": 218,
   "metadata": {},
   "outputs": [],
   "source": [
    "currentDate = pd.to_datetime(\"2012-01-01\")\n",
    "df['InvoiceDate']=pd.to_datetime(df[\"InvoiceDate\"])"
   ]
  },
  {
   "cell_type": "code",
   "execution_count": 219,
   "metadata": {},
   "outputs": [
    {
     "data": {
      "application/vnd.microsoft.datawrangler.viewer.v0+json": {
       "columns": [
        {
         "name": "index",
         "rawType": "int64",
         "type": "integer"
        },
        {
         "name": "InvoiceNo",
         "rawType": "object",
         "type": "string"
        },
        {
         "name": "StockCode",
         "rawType": "object",
         "type": "string"
        },
        {
         "name": "Description",
         "rawType": "object",
         "type": "unknown"
        },
        {
         "name": "Quantity",
         "rawType": "int64",
         "type": "integer"
        },
        {
         "name": "InvoiceDate",
         "rawType": "datetime64[ns]",
         "type": "datetime"
        },
        {
         "name": "UnitPrice",
         "rawType": "float64",
         "type": "float"
        },
        {
         "name": "CustomerID",
         "rawType": "float64",
         "type": "float"
        },
        {
         "name": "Country",
         "rawType": "object",
         "type": "string"
        }
       ],
       "conversionMethod": "pd.DataFrame",
       "ref": "4e378638-68c9-42da-abaf-95efff7e4583",
       "rows": [
        [
         "0",
         "536365",
         "85123A",
         "WHITE HANGING HEART T-LIGHT HOLDER",
         "6",
         "2010-12-01 08:26:00",
         "2.55",
         "17850.0",
         "United Kingdom"
        ],
        [
         "1",
         "536365",
         "71053",
         "WHITE METAL LANTERN",
         "6",
         "2010-12-01 08:26:00",
         "3.39",
         "17850.0",
         "United Kingdom"
        ],
        [
         "2",
         "536365",
         "84406B",
         "CREAM CUPID HEARTS COAT HANGER",
         "8",
         "2010-12-01 08:26:00",
         "2.75",
         "17850.0",
         "United Kingdom"
        ],
        [
         "3",
         "536365",
         "84029G",
         "KNITTED UNION FLAG HOT WATER BOTTLE",
         "6",
         "2010-12-01 08:26:00",
         "3.39",
         "17850.0",
         "United Kingdom"
        ],
        [
         "4",
         "536365",
         "84029E",
         "RED WOOLLY HOTTIE WHITE HEART.",
         "6",
         "2010-12-01 08:26:00",
         "3.39",
         "17850.0",
         "United Kingdom"
        ],
        [
         "5",
         "536365",
         "22752",
         "SET 7 BABUSHKA NESTING BOXES",
         "2",
         "2010-12-01 08:26:00",
         "7.65",
         "17850.0",
         "United Kingdom"
        ],
        [
         "6",
         "536365",
         "21730",
         "GLASS STAR FROSTED T-LIGHT HOLDER",
         "6",
         "2010-12-01 08:26:00",
         "4.25",
         "17850.0",
         "United Kingdom"
        ],
        [
         "7",
         "536366",
         "22633",
         "HAND WARMER UNION JACK",
         "6",
         "2010-12-01 08:28:00",
         "1.85",
         "17850.0",
         "United Kingdom"
        ],
        [
         "8",
         "536366",
         "22632",
         "HAND WARMER RED POLKA DOT",
         "6",
         "2010-12-01 08:28:00",
         "1.85",
         "17850.0",
         "United Kingdom"
        ],
        [
         "9",
         "536367",
         "84879",
         "ASSORTED COLOUR BIRD ORNAMENT",
         "32",
         "2010-12-01 08:34:00",
         "1.69",
         "13047.0",
         "United Kingdom"
        ],
        [
         "10",
         "536367",
         "22745",
         "POPPY'S PLAYHOUSE BEDROOM ",
         "6",
         "2010-12-01 08:34:00",
         "2.1",
         "13047.0",
         "United Kingdom"
        ],
        [
         "11",
         "536367",
         "22748",
         "POPPY'S PLAYHOUSE KITCHEN",
         "6",
         "2010-12-01 08:34:00",
         "2.1",
         "13047.0",
         "United Kingdom"
        ],
        [
         "12",
         "536367",
         "22749",
         "FELTCRAFT PRINCESS CHARLOTTE DOLL",
         "8",
         "2010-12-01 08:34:00",
         "3.75",
         "13047.0",
         "United Kingdom"
        ],
        [
         "13",
         "536367",
         "22310",
         "IVORY KNITTED MUG COSY ",
         "6",
         "2010-12-01 08:34:00",
         "1.65",
         "13047.0",
         "United Kingdom"
        ],
        [
         "14",
         "536367",
         "84969",
         "BOX OF 6 ASSORTED COLOUR TEASPOONS",
         "6",
         "2010-12-01 08:34:00",
         "4.25",
         "13047.0",
         "United Kingdom"
        ],
        [
         "15",
         "536367",
         "22623",
         "BOX OF VINTAGE JIGSAW BLOCKS ",
         "3",
         "2010-12-01 08:34:00",
         "4.95",
         "13047.0",
         "United Kingdom"
        ],
        [
         "16",
         "536367",
         "22622",
         "BOX OF VINTAGE ALPHABET BLOCKS",
         "2",
         "2010-12-01 08:34:00",
         "9.95",
         "13047.0",
         "United Kingdom"
        ],
        [
         "17",
         "536367",
         "21754",
         "HOME BUILDING BLOCK WORD",
         "3",
         "2010-12-01 08:34:00",
         "5.95",
         "13047.0",
         "United Kingdom"
        ],
        [
         "18",
         "536367",
         "21755",
         "LOVE BUILDING BLOCK WORD",
         "3",
         "2010-12-01 08:34:00",
         "5.95",
         "13047.0",
         "United Kingdom"
        ],
        [
         "19",
         "536367",
         "21777",
         "RECIPE BOX WITH METAL HEART",
         "4",
         "2010-12-01 08:34:00",
         "7.95",
         "13047.0",
         "United Kingdom"
        ],
        [
         "20",
         "536367",
         "48187",
         "DOORMAT NEW ENGLAND",
         "4",
         "2010-12-01 08:34:00",
         "7.95",
         "13047.0",
         "United Kingdom"
        ],
        [
         "21",
         "536368",
         "22960",
         "JAM MAKING SET WITH JARS",
         "6",
         "2010-12-01 08:34:00",
         "4.25",
         "13047.0",
         "United Kingdom"
        ],
        [
         "22",
         "536368",
         "22913",
         "RED COAT RACK PARIS FASHION",
         "3",
         "2010-12-01 08:34:00",
         "4.95",
         "13047.0",
         "United Kingdom"
        ],
        [
         "23",
         "536368",
         "22912",
         "YELLOW COAT RACK PARIS FASHION",
         "3",
         "2010-12-01 08:34:00",
         "4.95",
         "13047.0",
         "United Kingdom"
        ],
        [
         "24",
         "536368",
         "22914",
         "BLUE COAT RACK PARIS FASHION",
         "3",
         "2010-12-01 08:34:00",
         "4.95",
         "13047.0",
         "United Kingdom"
        ],
        [
         "25",
         "536369",
         "21756",
         "BATH BUILDING BLOCK WORD",
         "3",
         "2010-12-01 08:35:00",
         "5.95",
         "13047.0",
         "United Kingdom"
        ],
        [
         "26",
         "536370",
         "22728",
         "ALARM CLOCK BAKELIKE PINK",
         "24",
         "2010-12-01 08:45:00",
         "3.75",
         "12583.0",
         "France"
        ],
        [
         "27",
         "536370",
         "22727",
         "ALARM CLOCK BAKELIKE RED ",
         "24",
         "2010-12-01 08:45:00",
         "3.75",
         "12583.0",
         "France"
        ],
        [
         "28",
         "536370",
         "22726",
         "ALARM CLOCK BAKELIKE GREEN",
         "12",
         "2010-12-01 08:45:00",
         "3.75",
         "12583.0",
         "France"
        ],
        [
         "29",
         "536370",
         "21724",
         "PANDA AND BUNNIES STICKER SHEET",
         "12",
         "2010-12-01 08:45:00",
         "0.85",
         "12583.0",
         "France"
        ],
        [
         "30",
         "536370",
         "21883",
         "STARS GIFT TAPE ",
         "24",
         "2010-12-01 08:45:00",
         "0.65",
         "12583.0",
         "France"
        ],
        [
         "31",
         "536370",
         "10002",
         "INFLATABLE POLITICAL GLOBE ",
         "48",
         "2010-12-01 08:45:00",
         "0.85",
         "12583.0",
         "France"
        ],
        [
         "32",
         "536370",
         "21791",
         "VINTAGE HEADS AND TAILS CARD GAME ",
         "24",
         "2010-12-01 08:45:00",
         "1.25",
         "12583.0",
         "France"
        ],
        [
         "33",
         "536370",
         "21035",
         "SET/2 RED RETROSPOT TEA TOWELS ",
         "18",
         "2010-12-01 08:45:00",
         "2.95",
         "12583.0",
         "France"
        ],
        [
         "34",
         "536370",
         "22326",
         "ROUND SNACK BOXES SET OF4 WOODLAND ",
         "24",
         "2010-12-01 08:45:00",
         "2.95",
         "12583.0",
         "France"
        ],
        [
         "35",
         "536370",
         "22629",
         "SPACEBOY LUNCH BOX ",
         "24",
         "2010-12-01 08:45:00",
         "1.95",
         "12583.0",
         "France"
        ],
        [
         "36",
         "536370",
         "22659",
         "LUNCH BOX I LOVE LONDON",
         "24",
         "2010-12-01 08:45:00",
         "1.95",
         "12583.0",
         "France"
        ],
        [
         "37",
         "536370",
         "22631",
         "CIRCUS PARADE LUNCH BOX ",
         "24",
         "2010-12-01 08:45:00",
         "1.95",
         "12583.0",
         "France"
        ],
        [
         "38",
         "536370",
         "22661",
         "CHARLOTTE BAG DOLLY GIRL DESIGN",
         "20",
         "2010-12-01 08:45:00",
         "0.85",
         "12583.0",
         "France"
        ],
        [
         "39",
         "536370",
         "21731",
         "RED TOADSTOOL LED NIGHT LIGHT",
         "24",
         "2010-12-01 08:45:00",
         "1.65",
         "12583.0",
         "France"
        ],
        [
         "40",
         "536370",
         "22900",
         " SET 2 TEA TOWELS I LOVE LONDON ",
         "24",
         "2010-12-01 08:45:00",
         "2.95",
         "12583.0",
         "France"
        ],
        [
         "41",
         "536370",
         "21913",
         "VINTAGE SEASIDE JIGSAW PUZZLES",
         "12",
         "2010-12-01 08:45:00",
         "3.75",
         "12583.0",
         "France"
        ],
        [
         "42",
         "536370",
         "22540",
         "MINI JIGSAW CIRCUS PARADE ",
         "24",
         "2010-12-01 08:45:00",
         "0.42",
         "12583.0",
         "France"
        ],
        [
         "43",
         "536370",
         "22544",
         "MINI JIGSAW SPACEBOY",
         "24",
         "2010-12-01 08:45:00",
         "0.42",
         "12583.0",
         "France"
        ],
        [
         "44",
         "536370",
         "22492",
         "MINI PAINT SET VINTAGE ",
         "36",
         "2010-12-01 08:45:00",
         "0.65",
         "12583.0",
         "France"
        ],
        [
         "45",
         "536370",
         "POST",
         "POSTAGE",
         "3",
         "2010-12-01 08:45:00",
         "18.0",
         "12583.0",
         "France"
        ],
        [
         "46",
         "536371",
         "22086",
         "PAPER CHAIN KIT 50'S CHRISTMAS ",
         "80",
         "2010-12-01 09:00:00",
         "2.55",
         "13748.0",
         "United Kingdom"
        ],
        [
         "47",
         "536372",
         "22632",
         "HAND WARMER RED POLKA DOT",
         "6",
         "2010-12-01 09:01:00",
         "1.85",
         "17850.0",
         "United Kingdom"
        ],
        [
         "48",
         "536372",
         "22633",
         "HAND WARMER UNION JACK",
         "6",
         "2010-12-01 09:01:00",
         "1.85",
         "17850.0",
         "United Kingdom"
        ],
        [
         "49",
         "536373",
         "85123A",
         "WHITE HANGING HEART T-LIGHT HOLDER",
         "6",
         "2010-12-01 09:02:00",
         "2.55",
         "17850.0",
         "United Kingdom"
        ]
       ],
       "shape": {
        "columns": 8,
        "rows": 541909
       }
      },
      "text/html": [
       "<div>\n",
       "<style scoped>\n",
       "    .dataframe tbody tr th:only-of-type {\n",
       "        vertical-align: middle;\n",
       "    }\n",
       "\n",
       "    .dataframe tbody tr th {\n",
       "        vertical-align: top;\n",
       "    }\n",
       "\n",
       "    .dataframe thead th {\n",
       "        text-align: right;\n",
       "    }\n",
       "</style>\n",
       "<table border=\"1\" class=\"dataframe\">\n",
       "  <thead>\n",
       "    <tr style=\"text-align: right;\">\n",
       "      <th></th>\n",
       "      <th>InvoiceNo</th>\n",
       "      <th>StockCode</th>\n",
       "      <th>Description</th>\n",
       "      <th>Quantity</th>\n",
       "      <th>InvoiceDate</th>\n",
       "      <th>UnitPrice</th>\n",
       "      <th>CustomerID</th>\n",
       "      <th>Country</th>\n",
       "    </tr>\n",
       "  </thead>\n",
       "  <tbody>\n",
       "    <tr>\n",
       "      <th>0</th>\n",
       "      <td>536365</td>\n",
       "      <td>85123A</td>\n",
       "      <td>WHITE HANGING HEART T-LIGHT HOLDER</td>\n",
       "      <td>6</td>\n",
       "      <td>2010-12-01 08:26:00</td>\n",
       "      <td>2.55</td>\n",
       "      <td>17850.0</td>\n",
       "      <td>United Kingdom</td>\n",
       "    </tr>\n",
       "    <tr>\n",
       "      <th>1</th>\n",
       "      <td>536365</td>\n",
       "      <td>71053</td>\n",
       "      <td>WHITE METAL LANTERN</td>\n",
       "      <td>6</td>\n",
       "      <td>2010-12-01 08:26:00</td>\n",
       "      <td>3.39</td>\n",
       "      <td>17850.0</td>\n",
       "      <td>United Kingdom</td>\n",
       "    </tr>\n",
       "    <tr>\n",
       "      <th>2</th>\n",
       "      <td>536365</td>\n",
       "      <td>84406B</td>\n",
       "      <td>CREAM CUPID HEARTS COAT HANGER</td>\n",
       "      <td>8</td>\n",
       "      <td>2010-12-01 08:26:00</td>\n",
       "      <td>2.75</td>\n",
       "      <td>17850.0</td>\n",
       "      <td>United Kingdom</td>\n",
       "    </tr>\n",
       "    <tr>\n",
       "      <th>3</th>\n",
       "      <td>536365</td>\n",
       "      <td>84029G</td>\n",
       "      <td>KNITTED UNION FLAG HOT WATER BOTTLE</td>\n",
       "      <td>6</td>\n",
       "      <td>2010-12-01 08:26:00</td>\n",
       "      <td>3.39</td>\n",
       "      <td>17850.0</td>\n",
       "      <td>United Kingdom</td>\n",
       "    </tr>\n",
       "    <tr>\n",
       "      <th>4</th>\n",
       "      <td>536365</td>\n",
       "      <td>84029E</td>\n",
       "      <td>RED WOOLLY HOTTIE WHITE HEART.</td>\n",
       "      <td>6</td>\n",
       "      <td>2010-12-01 08:26:00</td>\n",
       "      <td>3.39</td>\n",
       "      <td>17850.0</td>\n",
       "      <td>United Kingdom</td>\n",
       "    </tr>\n",
       "    <tr>\n",
       "      <th>...</th>\n",
       "      <td>...</td>\n",
       "      <td>...</td>\n",
       "      <td>...</td>\n",
       "      <td>...</td>\n",
       "      <td>...</td>\n",
       "      <td>...</td>\n",
       "      <td>...</td>\n",
       "      <td>...</td>\n",
       "    </tr>\n",
       "    <tr>\n",
       "      <th>541904</th>\n",
       "      <td>581587</td>\n",
       "      <td>22613</td>\n",
       "      <td>PACK OF 20 SPACEBOY NAPKINS</td>\n",
       "      <td>12</td>\n",
       "      <td>2011-12-09 12:50:00</td>\n",
       "      <td>0.85</td>\n",
       "      <td>12680.0</td>\n",
       "      <td>France</td>\n",
       "    </tr>\n",
       "    <tr>\n",
       "      <th>541905</th>\n",
       "      <td>581587</td>\n",
       "      <td>22899</td>\n",
       "      <td>CHILDREN'S APRON DOLLY GIRL</td>\n",
       "      <td>6</td>\n",
       "      <td>2011-12-09 12:50:00</td>\n",
       "      <td>2.10</td>\n",
       "      <td>12680.0</td>\n",
       "      <td>France</td>\n",
       "    </tr>\n",
       "    <tr>\n",
       "      <th>541906</th>\n",
       "      <td>581587</td>\n",
       "      <td>23254</td>\n",
       "      <td>CHILDRENS CUTLERY DOLLY GIRL</td>\n",
       "      <td>4</td>\n",
       "      <td>2011-12-09 12:50:00</td>\n",
       "      <td>4.15</td>\n",
       "      <td>12680.0</td>\n",
       "      <td>France</td>\n",
       "    </tr>\n",
       "    <tr>\n",
       "      <th>541907</th>\n",
       "      <td>581587</td>\n",
       "      <td>23255</td>\n",
       "      <td>CHILDRENS CUTLERY CIRCUS PARADE</td>\n",
       "      <td>4</td>\n",
       "      <td>2011-12-09 12:50:00</td>\n",
       "      <td>4.15</td>\n",
       "      <td>12680.0</td>\n",
       "      <td>France</td>\n",
       "    </tr>\n",
       "    <tr>\n",
       "      <th>541908</th>\n",
       "      <td>581587</td>\n",
       "      <td>22138</td>\n",
       "      <td>BAKING SET 9 PIECE RETROSPOT</td>\n",
       "      <td>3</td>\n",
       "      <td>2011-12-09 12:50:00</td>\n",
       "      <td>4.95</td>\n",
       "      <td>12680.0</td>\n",
       "      <td>France</td>\n",
       "    </tr>\n",
       "  </tbody>\n",
       "</table>\n",
       "<p>541909 rows × 8 columns</p>\n",
       "</div>"
      ],
      "text/plain": [
       "       InvoiceNo StockCode                          Description  Quantity  \\\n",
       "0         536365    85123A   WHITE HANGING HEART T-LIGHT HOLDER         6   \n",
       "1         536365     71053                  WHITE METAL LANTERN         6   \n",
       "2         536365    84406B       CREAM CUPID HEARTS COAT HANGER         8   \n",
       "3         536365    84029G  KNITTED UNION FLAG HOT WATER BOTTLE         6   \n",
       "4         536365    84029E       RED WOOLLY HOTTIE WHITE HEART.         6   \n",
       "...          ...       ...                                  ...       ...   \n",
       "541904    581587     22613          PACK OF 20 SPACEBOY NAPKINS        12   \n",
       "541905    581587     22899         CHILDREN'S APRON DOLLY GIRL          6   \n",
       "541906    581587     23254        CHILDRENS CUTLERY DOLLY GIRL          4   \n",
       "541907    581587     23255      CHILDRENS CUTLERY CIRCUS PARADE         4   \n",
       "541908    581587     22138        BAKING SET 9 PIECE RETROSPOT          3   \n",
       "\n",
       "               InvoiceDate  UnitPrice  CustomerID         Country  \n",
       "0      2010-12-01 08:26:00       2.55     17850.0  United Kingdom  \n",
       "1      2010-12-01 08:26:00       3.39     17850.0  United Kingdom  \n",
       "2      2010-12-01 08:26:00       2.75     17850.0  United Kingdom  \n",
       "3      2010-12-01 08:26:00       3.39     17850.0  United Kingdom  \n",
       "4      2010-12-01 08:26:00       3.39     17850.0  United Kingdom  \n",
       "...                    ...        ...         ...             ...  \n",
       "541904 2011-12-09 12:50:00       0.85     12680.0          France  \n",
       "541905 2011-12-09 12:50:00       2.10     12680.0          France  \n",
       "541906 2011-12-09 12:50:00       4.15     12680.0          France  \n",
       "541907 2011-12-09 12:50:00       4.15     12680.0          France  \n",
       "541908 2011-12-09 12:50:00       4.95     12680.0          France  \n",
       "\n",
       "[541909 rows x 8 columns]"
      ]
     },
     "execution_count": 219,
     "metadata": {},
     "output_type": "execute_result"
    }
   ],
   "source": [
    "df"
   ]
  },
  {
   "cell_type": "code",
   "execution_count": 220,
   "metadata": {},
   "outputs": [
    {
     "data": {
      "text/plain": [
       "Timestamp('2012-01-01 00:00:00')"
      ]
     },
     "execution_count": 220,
     "metadata": {},
     "output_type": "execute_result"
    }
   ],
   "source": [
    "currentDate"
   ]
  },
  {
   "cell_type": "code",
   "execution_count": 221,
   "metadata": {},
   "outputs": [
    {
     "data": {
      "text/plain": [
       "InvoiceNo              object\n",
       "StockCode              object\n",
       "Description            object\n",
       "Quantity                int64\n",
       "InvoiceDate    datetime64[ns]\n",
       "UnitPrice             float64\n",
       "CustomerID            float64\n",
       "Country                object\n",
       "dtype: object"
      ]
     },
     "execution_count": 221,
     "metadata": {},
     "output_type": "execute_result"
    }
   ],
   "source": [
    "df.dtypes"
   ]
  },
  {
   "cell_type": "code",
   "execution_count": 222,
   "metadata": {},
   "outputs": [
    {
     "data": {
      "application/vnd.microsoft.datawrangler.viewer.v0+json": {
       "columns": [
        {
         "name": "CustomerID",
         "rawType": "float64",
         "type": "float"
        },
        {
         "name": "InvoiceDate",
         "rawType": "datetime64[ns]",
         "type": "datetime"
        }
       ],
       "conversionMethod": "pd.DataFrame",
       "ref": "82719f85-ff90-4e19-969d-1f931ae59dfe",
       "rows": [
        [
         "12346.0",
         "2011-01-18 10:17:00"
        ],
        [
         "12347.0",
         "2011-12-07 15:52:00"
        ],
        [
         "12348.0",
         "2011-09-25 13:13:00"
        ],
        [
         "12349.0",
         "2011-11-21 09:51:00"
        ],
        [
         "12350.0",
         "2011-02-02 16:01:00"
        ],
        [
         "12352.0",
         "2011-11-03 14:37:00"
        ],
        [
         "12353.0",
         "2011-05-19 17:47:00"
        ],
        [
         "12354.0",
         "2011-04-21 13:11:00"
        ],
        [
         "12355.0",
         "2011-05-09 13:49:00"
        ],
        [
         "12356.0",
         "2011-11-17 08:40:00"
        ],
        [
         "12357.0",
         "2011-11-06 16:07:00"
        ],
        [
         "12358.0",
         "2011-12-08 10:26:00"
        ],
        [
         "12359.0",
         "2011-12-02 11:21:00"
        ],
        [
         "12360.0",
         "2011-10-18 15:22:00"
        ],
        [
         "12361.0",
         "2011-02-25 13:51:00"
        ],
        [
         "12362.0",
         "2011-12-06 15:40:00"
        ],
        [
         "12363.0",
         "2011-08-22 10:18:00"
        ],
        [
         "12364.0",
         "2011-12-02 10:22:00"
        ],
        [
         "12365.0",
         "2011-02-21 14:04:00"
        ],
        [
         "12367.0",
         "2011-12-05 16:48:00"
        ],
        [
         "12370.0",
         "2011-10-19 14:51:00"
        ],
        [
         "12371.0",
         "2011-10-26 10:16:00"
        ],
        [
         "12372.0",
         "2011-09-29 12:12:00"
        ],
        [
         "12373.0",
         "2011-02-01 13:10:00"
        ],
        [
         "12374.0",
         "2011-11-14 15:37:00"
        ],
        [
         "12375.0",
         "2011-12-07 11:27:00"
        ],
        [
         "12377.0",
         "2011-01-28 15:45:00"
        ],
        [
         "12378.0",
         "2011-08-02 10:34:00"
        ],
        [
         "12379.0",
         "2011-09-19 10:09:00"
        ],
        [
         "12380.0",
         "2011-11-18 11:27:00"
        ],
        [
         "12381.0",
         "2011-12-05 12:44:00"
        ],
        [
         "12383.0",
         "2011-06-08 08:02:00"
        ],
        [
         "12384.0",
         "2011-11-11 08:39:00"
        ],
        [
         "12386.0",
         "2011-01-06 12:37:00"
        ],
        [
         "12388.0",
         "2011-11-24 12:30:00"
        ],
        [
         "12390.0",
         "2011-09-21 09:33:00"
        ],
        [
         "12391.0",
         "2011-11-18 12:07:00"
        ],
        [
         "12393.0",
         "2011-09-28 15:41:00"
        ],
        [
         "12394.0",
         "2011-10-07 08:08:00"
        ],
        [
         "12395.0",
         "2011-11-24 12:20:00"
        ],
        [
         "12397.0",
         "2011-11-04 09:52:00"
        ],
        [
         "12398.0",
         "2011-10-25 10:27:00"
        ],
        [
         "12399.0",
         "2011-08-12 13:15:00"
        ],
        [
         "12401.0",
         "2011-02-09 13:50:00"
        ],
        [
         "12402.0",
         "2011-01-20 13:49:00"
        ],
        [
         "12403.0",
         "2011-10-21 11:00:00"
        ],
        [
         "12405.0",
         "2011-07-14 08:52:00"
        ],
        [
         "12406.0",
         "2011-11-17 19:22:00"
        ],
        [
         "12407.0",
         "2011-10-21 10:11:00"
        ],
        [
         "12408.0",
         "2011-11-07 12:30:00"
        ]
       ],
       "shape": {
        "columns": 1,
        "rows": 4372
       }
      },
      "text/html": [
       "<div>\n",
       "<style scoped>\n",
       "    .dataframe tbody tr th:only-of-type {\n",
       "        vertical-align: middle;\n",
       "    }\n",
       "\n",
       "    .dataframe tbody tr th {\n",
       "        vertical-align: top;\n",
       "    }\n",
       "\n",
       "    .dataframe thead th {\n",
       "        text-align: right;\n",
       "    }\n",
       "</style>\n",
       "<table border=\"1\" class=\"dataframe\">\n",
       "  <thead>\n",
       "    <tr style=\"text-align: right;\">\n",
       "      <th></th>\n",
       "      <th>InvoiceDate</th>\n",
       "    </tr>\n",
       "    <tr>\n",
       "      <th>CustomerID</th>\n",
       "      <th></th>\n",
       "    </tr>\n",
       "  </thead>\n",
       "  <tbody>\n",
       "    <tr>\n",
       "      <th>12346.0</th>\n",
       "      <td>2011-01-18 10:17:00</td>\n",
       "    </tr>\n",
       "    <tr>\n",
       "      <th>12347.0</th>\n",
       "      <td>2011-12-07 15:52:00</td>\n",
       "    </tr>\n",
       "    <tr>\n",
       "      <th>12348.0</th>\n",
       "      <td>2011-09-25 13:13:00</td>\n",
       "    </tr>\n",
       "    <tr>\n",
       "      <th>12349.0</th>\n",
       "      <td>2011-11-21 09:51:00</td>\n",
       "    </tr>\n",
       "    <tr>\n",
       "      <th>12350.0</th>\n",
       "      <td>2011-02-02 16:01:00</td>\n",
       "    </tr>\n",
       "    <tr>\n",
       "      <th>...</th>\n",
       "      <td>...</td>\n",
       "    </tr>\n",
       "    <tr>\n",
       "      <th>18280.0</th>\n",
       "      <td>2011-03-07 09:52:00</td>\n",
       "    </tr>\n",
       "    <tr>\n",
       "      <th>18281.0</th>\n",
       "      <td>2011-06-12 10:53:00</td>\n",
       "    </tr>\n",
       "    <tr>\n",
       "      <th>18282.0</th>\n",
       "      <td>2011-12-02 11:43:00</td>\n",
       "    </tr>\n",
       "    <tr>\n",
       "      <th>18283.0</th>\n",
       "      <td>2011-12-06 12:02:00</td>\n",
       "    </tr>\n",
       "    <tr>\n",
       "      <th>18287.0</th>\n",
       "      <td>2011-10-28 09:29:00</td>\n",
       "    </tr>\n",
       "  </tbody>\n",
       "</table>\n",
       "<p>4372 rows × 1 columns</p>\n",
       "</div>"
      ],
      "text/plain": [
       "                   InvoiceDate\n",
       "CustomerID                    \n",
       "12346.0    2011-01-18 10:17:00\n",
       "12347.0    2011-12-07 15:52:00\n",
       "12348.0    2011-09-25 13:13:00\n",
       "12349.0    2011-11-21 09:51:00\n",
       "12350.0    2011-02-02 16:01:00\n",
       "...                        ...\n",
       "18280.0    2011-03-07 09:52:00\n",
       "18281.0    2011-06-12 10:53:00\n",
       "18282.0    2011-12-02 11:43:00\n",
       "18283.0    2011-12-06 12:02:00\n",
       "18287.0    2011-10-28 09:29:00\n",
       "\n",
       "[4372 rows x 1 columns]"
      ]
     },
     "execution_count": 222,
     "metadata": {},
     "output_type": "execute_result"
    }
   ],
   "source": [
    "maxdate = df.groupby([\"CustomerID\"]).max()[['InvoiceDate']]\n",
    "maxdate"
   ]
  },
  {
   "cell_type": "code",
   "execution_count": 223,
   "metadata": {},
   "outputs": [
    {
     "data": {
      "application/vnd.microsoft.datawrangler.viewer.v0+json": {
       "columns": [
        {
         "name": "CustomerID",
         "rawType": "float64",
         "type": "float"
        },
        {
         "name": "InvoiceDate",
         "rawType": "datetime64[ns]",
         "type": "datetime"
        },
        {
         "name": "InvoiceAge",
         "rawType": "int64",
         "type": "integer"
        }
       ],
       "conversionMethod": "pd.DataFrame",
       "ref": "bfae2c41-d348-4f85-8d8f-b9c7ae8d0bce",
       "rows": [
        [
         "12346.0",
         "2011-01-18 10:17:00",
         "347"
        ],
        [
         "12347.0",
         "2011-12-07 15:52:00",
         "24"
        ],
        [
         "12348.0",
         "2011-09-25 13:13:00",
         "97"
        ],
        [
         "12349.0",
         "2011-11-21 09:51:00",
         "40"
        ],
        [
         "12350.0",
         "2011-02-02 16:01:00",
         "332"
        ],
        [
         "12352.0",
         "2011-11-03 14:37:00",
         "58"
        ],
        [
         "12353.0",
         "2011-05-19 17:47:00",
         "226"
        ],
        [
         "12354.0",
         "2011-04-21 13:11:00",
         "254"
        ],
        [
         "12355.0",
         "2011-05-09 13:49:00",
         "236"
        ],
        [
         "12356.0",
         "2011-11-17 08:40:00",
         "44"
        ],
        [
         "12357.0",
         "2011-11-06 16:07:00",
         "55"
        ],
        [
         "12358.0",
         "2011-12-08 10:26:00",
         "23"
        ],
        [
         "12359.0",
         "2011-12-02 11:21:00",
         "29"
        ],
        [
         "12360.0",
         "2011-10-18 15:22:00",
         "74"
        ],
        [
         "12361.0",
         "2011-02-25 13:51:00",
         "309"
        ],
        [
         "12362.0",
         "2011-12-06 15:40:00",
         "25"
        ],
        [
         "12363.0",
         "2011-08-22 10:18:00",
         "131"
        ],
        [
         "12364.0",
         "2011-12-02 10:22:00",
         "29"
        ],
        [
         "12365.0",
         "2011-02-21 14:04:00",
         "313"
        ],
        [
         "12367.0",
         "2011-12-05 16:48:00",
         "26"
        ],
        [
         "12370.0",
         "2011-10-19 14:51:00",
         "73"
        ],
        [
         "12371.0",
         "2011-10-26 10:16:00",
         "66"
        ],
        [
         "12372.0",
         "2011-09-29 12:12:00",
         "93"
        ],
        [
         "12373.0",
         "2011-02-01 13:10:00",
         "333"
        ],
        [
         "12374.0",
         "2011-11-14 15:37:00",
         "47"
        ],
        [
         "12375.0",
         "2011-12-07 11:27:00",
         "24"
        ],
        [
         "12377.0",
         "2011-01-28 15:45:00",
         "337"
        ],
        [
         "12378.0",
         "2011-08-02 10:34:00",
         "151"
        ],
        [
         "12379.0",
         "2011-09-19 10:09:00",
         "103"
        ],
        [
         "12380.0",
         "2011-11-18 11:27:00",
         "43"
        ],
        [
         "12381.0",
         "2011-12-05 12:44:00",
         "26"
        ],
        [
         "12383.0",
         "2011-06-08 08:02:00",
         "206"
        ],
        [
         "12384.0",
         "2011-11-11 08:39:00",
         "50"
        ],
        [
         "12386.0",
         "2011-01-06 12:37:00",
         "359"
        ],
        [
         "12388.0",
         "2011-11-24 12:30:00",
         "37"
        ],
        [
         "12390.0",
         "2011-09-21 09:33:00",
         "101"
        ],
        [
         "12391.0",
         "2011-11-18 12:07:00",
         "43"
        ],
        [
         "12393.0",
         "2011-09-28 15:41:00",
         "94"
        ],
        [
         "12394.0",
         "2011-10-07 08:08:00",
         "85"
        ],
        [
         "12395.0",
         "2011-11-24 12:20:00",
         "37"
        ],
        [
         "12397.0",
         "2011-11-04 09:52:00",
         "57"
        ],
        [
         "12398.0",
         "2011-10-25 10:27:00",
         "67"
        ],
        [
         "12399.0",
         "2011-08-12 13:15:00",
         "141"
        ],
        [
         "12401.0",
         "2011-02-09 13:50:00",
         "325"
        ],
        [
         "12402.0",
         "2011-01-20 13:49:00",
         "345"
        ],
        [
         "12403.0",
         "2011-10-21 11:00:00",
         "71"
        ],
        [
         "12405.0",
         "2011-07-14 08:52:00",
         "170"
        ],
        [
         "12406.0",
         "2011-11-17 19:22:00",
         "44"
        ],
        [
         "12407.0",
         "2011-10-21 10:11:00",
         "71"
        ],
        [
         "12408.0",
         "2011-11-07 12:30:00",
         "54"
        ]
       ],
       "shape": {
        "columns": 2,
        "rows": 4372
       }
      },
      "text/html": [
       "<div>\n",
       "<style scoped>\n",
       "    .dataframe tbody tr th:only-of-type {\n",
       "        vertical-align: middle;\n",
       "    }\n",
       "\n",
       "    .dataframe tbody tr th {\n",
       "        vertical-align: top;\n",
       "    }\n",
       "\n",
       "    .dataframe thead th {\n",
       "        text-align: right;\n",
       "    }\n",
       "</style>\n",
       "<table border=\"1\" class=\"dataframe\">\n",
       "  <thead>\n",
       "    <tr style=\"text-align: right;\">\n",
       "      <th></th>\n",
       "      <th>InvoiceDate</th>\n",
       "      <th>InvoiceAge</th>\n",
       "    </tr>\n",
       "    <tr>\n",
       "      <th>CustomerID</th>\n",
       "      <th></th>\n",
       "      <th></th>\n",
       "    </tr>\n",
       "  </thead>\n",
       "  <tbody>\n",
       "    <tr>\n",
       "      <th>12346.0</th>\n",
       "      <td>2011-01-18 10:17:00</td>\n",
       "      <td>347</td>\n",
       "    </tr>\n",
       "    <tr>\n",
       "      <th>12347.0</th>\n",
       "      <td>2011-12-07 15:52:00</td>\n",
       "      <td>24</td>\n",
       "    </tr>\n",
       "    <tr>\n",
       "      <th>12348.0</th>\n",
       "      <td>2011-09-25 13:13:00</td>\n",
       "      <td>97</td>\n",
       "    </tr>\n",
       "    <tr>\n",
       "      <th>12349.0</th>\n",
       "      <td>2011-11-21 09:51:00</td>\n",
       "      <td>40</td>\n",
       "    </tr>\n",
       "    <tr>\n",
       "      <th>12350.0</th>\n",
       "      <td>2011-02-02 16:01:00</td>\n",
       "      <td>332</td>\n",
       "    </tr>\n",
       "    <tr>\n",
       "      <th>...</th>\n",
       "      <td>...</td>\n",
       "      <td>...</td>\n",
       "    </tr>\n",
       "    <tr>\n",
       "      <th>18280.0</th>\n",
       "      <td>2011-03-07 09:52:00</td>\n",
       "      <td>299</td>\n",
       "    </tr>\n",
       "    <tr>\n",
       "      <th>18281.0</th>\n",
       "      <td>2011-06-12 10:53:00</td>\n",
       "      <td>202</td>\n",
       "    </tr>\n",
       "    <tr>\n",
       "      <th>18282.0</th>\n",
       "      <td>2011-12-02 11:43:00</td>\n",
       "      <td>29</td>\n",
       "    </tr>\n",
       "    <tr>\n",
       "      <th>18283.0</th>\n",
       "      <td>2011-12-06 12:02:00</td>\n",
       "      <td>25</td>\n",
       "    </tr>\n",
       "    <tr>\n",
       "      <th>18287.0</th>\n",
       "      <td>2011-10-28 09:29:00</td>\n",
       "      <td>64</td>\n",
       "    </tr>\n",
       "  </tbody>\n",
       "</table>\n",
       "<p>4372 rows × 2 columns</p>\n",
       "</div>"
      ],
      "text/plain": [
       "                   InvoiceDate  InvoiceAge\n",
       "CustomerID                                \n",
       "12346.0    2011-01-18 10:17:00         347\n",
       "12347.0    2011-12-07 15:52:00          24\n",
       "12348.0    2011-09-25 13:13:00          97\n",
       "12349.0    2011-11-21 09:51:00          40\n",
       "12350.0    2011-02-02 16:01:00         332\n",
       "...                        ...         ...\n",
       "18280.0    2011-03-07 09:52:00         299\n",
       "18281.0    2011-06-12 10:53:00         202\n",
       "18282.0    2011-12-02 11:43:00          29\n",
       "18283.0    2011-12-06 12:02:00          25\n",
       "18287.0    2011-10-28 09:29:00          64\n",
       "\n",
       "[4372 rows x 2 columns]"
      ]
     },
     "execution_count": 223,
     "metadata": {},
     "output_type": "execute_result"
    }
   ],
   "source": [
    "maxdate['InvoiceAge'] = (currentDate - maxdate['InvoiceDate']).dt.days\n",
    "maxdate"
   ]
  },
  {
   "cell_type": "code",
   "execution_count": 224,
   "metadata": {},
   "outputs": [
    {
     "data": {
      "application/vnd.microsoft.datawrangler.viewer.v0+json": {
       "columns": [
        {
         "name": "CustomerID",
         "rawType": "float64",
         "type": "float"
        },
        {
         "name": "InvoiceAge",
         "rawType": "int64",
         "type": "integer"
        }
       ],
       "conversionMethod": "pd.DataFrame",
       "ref": "f9e42de6-0da8-4675-bcb4-8a7bc4870c5a",
       "rows": [
        [
         "12346.0",
         "347"
        ],
        [
         "12347.0",
         "24"
        ],
        [
         "12348.0",
         "97"
        ],
        [
         "12349.0",
         "40"
        ],
        [
         "12350.0",
         "332"
        ],
        [
         "12352.0",
         "58"
        ],
        [
         "12353.0",
         "226"
        ],
        [
         "12354.0",
         "254"
        ],
        [
         "12355.0",
         "236"
        ],
        [
         "12356.0",
         "44"
        ],
        [
         "12357.0",
         "55"
        ],
        [
         "12358.0",
         "23"
        ],
        [
         "12359.0",
         "29"
        ],
        [
         "12360.0",
         "74"
        ],
        [
         "12361.0",
         "309"
        ],
        [
         "12362.0",
         "25"
        ],
        [
         "12363.0",
         "131"
        ],
        [
         "12364.0",
         "29"
        ],
        [
         "12365.0",
         "313"
        ],
        [
         "12367.0",
         "26"
        ],
        [
         "12370.0",
         "73"
        ],
        [
         "12371.0",
         "66"
        ],
        [
         "12372.0",
         "93"
        ],
        [
         "12373.0",
         "333"
        ],
        [
         "12374.0",
         "47"
        ],
        [
         "12375.0",
         "24"
        ],
        [
         "12377.0",
         "337"
        ],
        [
         "12378.0",
         "151"
        ],
        [
         "12379.0",
         "103"
        ],
        [
         "12380.0",
         "43"
        ],
        [
         "12381.0",
         "26"
        ],
        [
         "12383.0",
         "206"
        ],
        [
         "12384.0",
         "50"
        ],
        [
         "12386.0",
         "359"
        ],
        [
         "12388.0",
         "37"
        ],
        [
         "12390.0",
         "101"
        ],
        [
         "12391.0",
         "43"
        ],
        [
         "12393.0",
         "94"
        ],
        [
         "12394.0",
         "85"
        ],
        [
         "12395.0",
         "37"
        ],
        [
         "12397.0",
         "57"
        ],
        [
         "12398.0",
         "67"
        ],
        [
         "12399.0",
         "141"
        ],
        [
         "12401.0",
         "325"
        ],
        [
         "12402.0",
         "345"
        ],
        [
         "12403.0",
         "71"
        ],
        [
         "12405.0",
         "170"
        ],
        [
         "12406.0",
         "44"
        ],
        [
         "12407.0",
         "71"
        ],
        [
         "12408.0",
         "54"
        ]
       ],
       "shape": {
        "columns": 1,
        "rows": 4372
       }
      },
      "text/html": [
       "<div>\n",
       "<style scoped>\n",
       "    .dataframe tbody tr th:only-of-type {\n",
       "        vertical-align: middle;\n",
       "    }\n",
       "\n",
       "    .dataframe tbody tr th {\n",
       "        vertical-align: top;\n",
       "    }\n",
       "\n",
       "    .dataframe thead th {\n",
       "        text-align: right;\n",
       "    }\n",
       "</style>\n",
       "<table border=\"1\" class=\"dataframe\">\n",
       "  <thead>\n",
       "    <tr style=\"text-align: right;\">\n",
       "      <th></th>\n",
       "      <th>InvoiceAge</th>\n",
       "    </tr>\n",
       "    <tr>\n",
       "      <th>CustomerID</th>\n",
       "      <th></th>\n",
       "    </tr>\n",
       "  </thead>\n",
       "  <tbody>\n",
       "    <tr>\n",
       "      <th>12346.0</th>\n",
       "      <td>347</td>\n",
       "    </tr>\n",
       "    <tr>\n",
       "      <th>12347.0</th>\n",
       "      <td>24</td>\n",
       "    </tr>\n",
       "    <tr>\n",
       "      <th>12348.0</th>\n",
       "      <td>97</td>\n",
       "    </tr>\n",
       "    <tr>\n",
       "      <th>12349.0</th>\n",
       "      <td>40</td>\n",
       "    </tr>\n",
       "    <tr>\n",
       "      <th>12350.0</th>\n",
       "      <td>332</td>\n",
       "    </tr>\n",
       "    <tr>\n",
       "      <th>...</th>\n",
       "      <td>...</td>\n",
       "    </tr>\n",
       "    <tr>\n",
       "      <th>18280.0</th>\n",
       "      <td>299</td>\n",
       "    </tr>\n",
       "    <tr>\n",
       "      <th>18281.0</th>\n",
       "      <td>202</td>\n",
       "    </tr>\n",
       "    <tr>\n",
       "      <th>18282.0</th>\n",
       "      <td>29</td>\n",
       "    </tr>\n",
       "    <tr>\n",
       "      <th>18283.0</th>\n",
       "      <td>25</td>\n",
       "    </tr>\n",
       "    <tr>\n",
       "      <th>18287.0</th>\n",
       "      <td>64</td>\n",
       "    </tr>\n",
       "  </tbody>\n",
       "</table>\n",
       "<p>4372 rows × 1 columns</p>\n",
       "</div>"
      ],
      "text/plain": [
       "            InvoiceAge\n",
       "CustomerID            \n",
       "12346.0            347\n",
       "12347.0             24\n",
       "12348.0             97\n",
       "12349.0             40\n",
       "12350.0            332\n",
       "...                ...\n",
       "18280.0            299\n",
       "18281.0            202\n",
       "18282.0             29\n",
       "18283.0             25\n",
       "18287.0             64\n",
       "\n",
       "[4372 rows x 1 columns]"
      ]
     },
     "execution_count": 224,
     "metadata": {},
     "output_type": "execute_result"
    }
   ],
   "source": [
    "#recenccy\n",
    "recency = maxdate.drop('InvoiceDate', axis=1)\n",
    "recency"
   ]
  },
  {
   "cell_type": "code",
   "execution_count": 225,
   "metadata": {},
   "outputs": [
    {
     "data": {
      "application/vnd.microsoft.datawrangler.viewer.v0+json": {
       "columns": [
        {
         "name": "index",
         "rawType": "int64",
         "type": "integer"
        },
        {
         "name": "InvoiceNo",
         "rawType": "object",
         "type": "string"
        },
        {
         "name": "StockCode",
         "rawType": "object",
         "type": "string"
        },
        {
         "name": "Description",
         "rawType": "object",
         "type": "unknown"
        },
        {
         "name": "Quantity",
         "rawType": "int64",
         "type": "integer"
        },
        {
         "name": "InvoiceDate",
         "rawType": "datetime64[ns]",
         "type": "datetime"
        },
        {
         "name": "UnitPrice",
         "rawType": "float64",
         "type": "float"
        },
        {
         "name": "CustomerID",
         "rawType": "float64",
         "type": "float"
        },
        {
         "name": "Country",
         "rawType": "object",
         "type": "string"
        }
       ],
       "conversionMethod": "pd.DataFrame",
       "ref": "ba1bda86-85b7-46df-8192-f8e9f1ba8f48",
       "rows": [
        [
         "0",
         "536365",
         "85123A",
         "WHITE HANGING HEART T-LIGHT HOLDER",
         "6",
         "2010-12-01 08:26:00",
         "2.55",
         "17850.0",
         "United Kingdom"
        ],
        [
         "7",
         "536366",
         "22633",
         "HAND WARMER UNION JACK",
         "6",
         "2010-12-01 08:28:00",
         "1.85",
         "17850.0",
         "United Kingdom"
        ],
        [
         "9",
         "536367",
         "84879",
         "ASSORTED COLOUR BIRD ORNAMENT",
         "32",
         "2010-12-01 08:34:00",
         "1.69",
         "13047.0",
         "United Kingdom"
        ],
        [
         "21",
         "536368",
         "22960",
         "JAM MAKING SET WITH JARS",
         "6",
         "2010-12-01 08:34:00",
         "4.25",
         "13047.0",
         "United Kingdom"
        ],
        [
         "25",
         "536369",
         "21756",
         "BATH BUILDING BLOCK WORD",
         "3",
         "2010-12-01 08:35:00",
         "5.95",
         "13047.0",
         "United Kingdom"
        ],
        [
         "26",
         "536370",
         "22728",
         "ALARM CLOCK BAKELIKE PINK",
         "24",
         "2010-12-01 08:45:00",
         "3.75",
         "12583.0",
         "France"
        ],
        [
         "46",
         "536371",
         "22086",
         "PAPER CHAIN KIT 50'S CHRISTMAS ",
         "80",
         "2010-12-01 09:00:00",
         "2.55",
         "13748.0",
         "United Kingdom"
        ],
        [
         "47",
         "536372",
         "22632",
         "HAND WARMER RED POLKA DOT",
         "6",
         "2010-12-01 09:01:00",
         "1.85",
         "17850.0",
         "United Kingdom"
        ],
        [
         "49",
         "536373",
         "85123A",
         "WHITE HANGING HEART T-LIGHT HOLDER",
         "6",
         "2010-12-01 09:02:00",
         "2.55",
         "17850.0",
         "United Kingdom"
        ],
        [
         "65",
         "536374",
         "21258",
         "VICTORIAN SEWING BOX LARGE",
         "32",
         "2010-12-01 09:09:00",
         "10.95",
         "15100.0",
         "United Kingdom"
        ],
        [
         "66",
         "536375",
         "85123A",
         "WHITE HANGING HEART T-LIGHT HOLDER",
         "6",
         "2010-12-01 09:32:00",
         "2.55",
         "17850.0",
         "United Kingdom"
        ],
        [
         "82",
         "536376",
         "22114",
         "HOT WATER BOTTLE TEA AND SYMPATHY",
         "48",
         "2010-12-01 09:32:00",
         "3.45",
         "15291.0",
         "United Kingdom"
        ],
        [
         "84",
         "536377",
         "22632",
         "HAND WARMER RED POLKA DOT",
         "6",
         "2010-12-01 09:34:00",
         "1.85",
         "17850.0",
         "United Kingdom"
        ],
        [
         "86",
         "536378",
         "22386",
         "JUMBO BAG PINK POLKADOT",
         "10",
         "2010-12-01 09:37:00",
         "1.95",
         "14688.0",
         "United Kingdom"
        ],
        [
         "105",
         "536380",
         "22961",
         "JAM MAKING SET PRINTED",
         "24",
         "2010-12-01 09:41:00",
         "1.45",
         "17809.0",
         "United Kingdom"
        ],
        [
         "106",
         "536381",
         "22139",
         "RETROSPOT TEA SET CERAMIC 11 PC ",
         "23",
         "2010-12-01 09:41:00",
         "4.25",
         "15311.0",
         "United Kingdom"
        ],
        [
         "141",
         "C536379",
         "D",
         "Discount",
         "-1",
         "2010-12-01 09:41:00",
         "27.5",
         "14527.0",
         "United Kingdom"
        ],
        [
         "142",
         "536382",
         "10002",
         "INFLATABLE POLITICAL GLOBE ",
         "12",
         "2010-12-01 09:45:00",
         "0.85",
         "16098.0",
         "United Kingdom"
        ],
        [
         "154",
         "C536383",
         "35004C",
         "SET OF 3 COLOURED  FLYING DUCKS",
         "-1",
         "2010-12-01 09:49:00",
         "4.65",
         "15311.0",
         "United Kingdom"
        ],
        [
         "155",
         "536384",
         "82484",
         "WOOD BLACK BOARD ANT WHITE FINISH",
         "3",
         "2010-12-01 09:53:00",
         "6.45",
         "18074.0",
         "United Kingdom"
        ],
        [
         "168",
         "536385",
         "22783",
         "SET 3 WICKER OVAL BASKETS W LIDS",
         "1",
         "2010-12-01 09:56:00",
         "19.95",
         "17420.0",
         "United Kingdom"
        ],
        [
         "175",
         "536386",
         "84880",
         "WHITE WIRE EGG HOLDER",
         "36",
         "2010-12-01 09:57:00",
         "4.95",
         "16029.0",
         "United Kingdom"
        ],
        [
         "178",
         "536387",
         "79321",
         "CHILLI LIGHTS",
         "192",
         "2010-12-01 09:58:00",
         "3.82",
         "16029.0",
         "United Kingdom"
        ],
        [
         "183",
         "536388",
         "21754",
         "HOME BUILDING BLOCK WORD",
         "3",
         "2010-12-01 09:59:00",
         "5.95",
         "16250.0",
         "United Kingdom"
        ],
        [
         "197",
         "536389",
         "22941",
         "CHRISTMAS LIGHTS 10 REINDEER",
         "6",
         "2010-12-01 10:03:00",
         "8.5",
         "12431.0",
         "Australia"
        ],
        [
         "211",
         "536390",
         "22941",
         "CHRISTMAS LIGHTS 10 REINDEER",
         "2",
         "2010-12-01 10:19:00",
         "8.5",
         "17511.0",
         "United Kingdom"
        ],
        [
         "235",
         "C536391",
         "22556",
         "PLASTERS IN TIN CIRCUS PARADE ",
         "-12",
         "2010-12-01 10:24:00",
         "1.65",
         "17548.0",
         "United Kingdom"
        ],
        [
         "242",
         "536392",
         "22150",
         "3 STRIPEY MICE FELTCRAFT",
         "6",
         "2010-12-01 10:29:00",
         "1.95",
         "13705.0",
         "United Kingdom"
        ],
        [
         "252",
         "536393",
         "22180",
         "RETROSPOT LAMP",
         "8",
         "2010-12-01 10:37:00",
         "9.95",
         "13747.0",
         "United Kingdom"
        ],
        [
         "253",
         "536394",
         "21506",
         "FANCY FONT BIRTHDAY CARD, ",
         "24",
         "2010-12-01 10:39:00",
         "0.42",
         "13408.0",
         "United Kingdom"
        ],
        [
         "264",
         "536395",
         "22188",
         "BLACK HEART CARD HOLDER",
         "8",
         "2010-12-01 10:47:00",
         "3.95",
         "13767.0",
         "United Kingdom"
        ],
        [
         "278",
         "536396",
         "85123A",
         "WHITE HANGING HEART T-LIGHT HOLDER",
         "6",
         "2010-12-01 10:51:00",
         "2.55",
         "17850.0",
         "United Kingdom"
        ],
        [
         "296",
         "536397",
         "35004B",
         "SET OF 3 BLACK FLYING DUCKS",
         "12",
         "2010-12-01 10:51:00",
         "4.65",
         "17924.0",
         "United Kingdom"
        ],
        [
         "298",
         "536398",
         "21980",
         "PACK OF 12 RED RETROSPOT TISSUES ",
         "24",
         "2010-12-01 10:52:00",
         "0.29",
         "13448.0",
         "United Kingdom"
        ],
        [
         "315",
         "536399",
         "22632",
         "HAND WARMER RED POLKA DOT",
         "6",
         "2010-12-01 10:52:00",
         "1.85",
         "17850.0",
         "United Kingdom"
        ],
        [
         "317",
         "536400",
         "22969",
         "HOMEMADE JAM SCENTED CANDLES",
         "12",
         "2010-12-01 10:53:00",
         "1.45",
         "13448.0",
         "United Kingdom"
        ],
        [
         "318",
         "536401",
         "22110",
         "BIRD HOUSE HOT WATER BOTTLE",
         "1",
         "2010-12-01 11:21:00",
         "2.55",
         "15862.0",
         "United Kingdom"
        ],
        [
         "382",
         "536402",
         "22086",
         "PAPER CHAIN KIT 50'S CHRISTMAS ",
         "40",
         "2010-12-01 11:22:00",
         "2.55",
         "15513.0",
         "United Kingdom"
        ],
        [
         "385",
         "536403",
         "22867",
         "HAND WARMER BIRD DESIGN",
         "96",
         "2010-12-01 11:27:00",
         "1.85",
         "12791.0",
         "Netherlands"
        ],
        [
         "387",
         "536404",
         "22297",
         "HEART IVORY TRELLIS SMALL",
         "24",
         "2010-12-01 11:29:00",
         "1.25",
         "16218.0",
         "United Kingdom"
        ],
        [
         "415",
         "536405",
         "20914",
         "SET/5 RED RETROSPOT LID GLASS BOWLS",
         "128",
         "2010-12-01 11:32:00",
         "2.55",
         "14045.0",
         "United Kingdom"
        ],
        [
         "416",
         "536406",
         "85123A",
         "WHITE HANGING HEART T-LIGHT HOLDER",
         "8",
         "2010-12-01 11:33:00",
         "2.55",
         "17850.0",
         "United Kingdom"
        ],
        [
         "433",
         "536407",
         "22632",
         "HAND WARMER RED POLKA DOT",
         "6",
         "2010-12-01 11:34:00",
         "1.85",
         "17850.0",
         "United Kingdom"
        ],
        [
         "435",
         "536408",
         "22537",
         "MAGIC DRAWING SLATE DINOSAUR",
         "24",
         "2010-12-01 11:41:00",
         "0.42",
         "14307.0",
         "United Kingdom"
        ],
        [
         "483",
         "536409",
         "90199C",
         "5 STRAND GLASS NECKLACE CRYSTAL",
         "3",
         "2010-12-01 11:45:00",
         "6.35",
         "17908.0",
         "United Kingdom"
        ],
        [
         "541",
         "536412",
         "20728",
         "LUNCH BAG CARS BLUE",
         "3",
         "2010-12-01 11:49:00",
         "1.65",
         "17920.0",
         "United Kingdom"
        ],
        [
         "622",
         "536414",
         "22139",
         null,
         "56",
         "2010-12-01 11:52:00",
         "0.0",
         null,
         "United Kingdom"
        ],
        [
         "623",
         "536415",
         "22952",
         "60 CAKE CASES VINTAGE CHRISTMAS",
         "10",
         "2010-12-01 11:57:00",
         "0.55",
         "12838.0",
         "United Kingdom"
        ],
        [
         "682",
         "536416",
         "21494",
         "ROTATING LEAVES T-LIGHT HOLDER",
         "12",
         "2010-12-01 11:58:00",
         "1.25",
         "13255.0",
         "United Kingdom"
        ],
        [
         "688",
         "536420",
         "21889",
         "WOODEN BOX OF DOMINOES",
         "12",
         "2010-12-01 12:03:00",
         "1.25",
         "16583.0",
         "United Kingdom"
        ]
       ],
       "shape": {
        "columns": 8,
        "rows": 25900
       }
      },
      "text/html": [
       "<div>\n",
       "<style scoped>\n",
       "    .dataframe tbody tr th:only-of-type {\n",
       "        vertical-align: middle;\n",
       "    }\n",
       "\n",
       "    .dataframe tbody tr th {\n",
       "        vertical-align: top;\n",
       "    }\n",
       "\n",
       "    .dataframe thead th {\n",
       "        text-align: right;\n",
       "    }\n",
       "</style>\n",
       "<table border=\"1\" class=\"dataframe\">\n",
       "  <thead>\n",
       "    <tr style=\"text-align: right;\">\n",
       "      <th></th>\n",
       "      <th>InvoiceNo</th>\n",
       "      <th>StockCode</th>\n",
       "      <th>Description</th>\n",
       "      <th>Quantity</th>\n",
       "      <th>InvoiceDate</th>\n",
       "      <th>UnitPrice</th>\n",
       "      <th>CustomerID</th>\n",
       "      <th>Country</th>\n",
       "    </tr>\n",
       "  </thead>\n",
       "  <tbody>\n",
       "    <tr>\n",
       "      <th>0</th>\n",
       "      <td>536365</td>\n",
       "      <td>85123A</td>\n",
       "      <td>WHITE HANGING HEART T-LIGHT HOLDER</td>\n",
       "      <td>6</td>\n",
       "      <td>2010-12-01 08:26:00</td>\n",
       "      <td>2.55</td>\n",
       "      <td>17850.0</td>\n",
       "      <td>United Kingdom</td>\n",
       "    </tr>\n",
       "    <tr>\n",
       "      <th>7</th>\n",
       "      <td>536366</td>\n",
       "      <td>22633</td>\n",
       "      <td>HAND WARMER UNION JACK</td>\n",
       "      <td>6</td>\n",
       "      <td>2010-12-01 08:28:00</td>\n",
       "      <td>1.85</td>\n",
       "      <td>17850.0</td>\n",
       "      <td>United Kingdom</td>\n",
       "    </tr>\n",
       "    <tr>\n",
       "      <th>9</th>\n",
       "      <td>536367</td>\n",
       "      <td>84879</td>\n",
       "      <td>ASSORTED COLOUR BIRD ORNAMENT</td>\n",
       "      <td>32</td>\n",
       "      <td>2010-12-01 08:34:00</td>\n",
       "      <td>1.69</td>\n",
       "      <td>13047.0</td>\n",
       "      <td>United Kingdom</td>\n",
       "    </tr>\n",
       "    <tr>\n",
       "      <th>21</th>\n",
       "      <td>536368</td>\n",
       "      <td>22960</td>\n",
       "      <td>JAM MAKING SET WITH JARS</td>\n",
       "      <td>6</td>\n",
       "      <td>2010-12-01 08:34:00</td>\n",
       "      <td>4.25</td>\n",
       "      <td>13047.0</td>\n",
       "      <td>United Kingdom</td>\n",
       "    </tr>\n",
       "    <tr>\n",
       "      <th>25</th>\n",
       "      <td>536369</td>\n",
       "      <td>21756</td>\n",
       "      <td>BATH BUILDING BLOCK WORD</td>\n",
       "      <td>3</td>\n",
       "      <td>2010-12-01 08:35:00</td>\n",
       "      <td>5.95</td>\n",
       "      <td>13047.0</td>\n",
       "      <td>United Kingdom</td>\n",
       "    </tr>\n",
       "    <tr>\n",
       "      <th>...</th>\n",
       "      <td>...</td>\n",
       "      <td>...</td>\n",
       "      <td>...</td>\n",
       "      <td>...</td>\n",
       "      <td>...</td>\n",
       "      <td>...</td>\n",
       "      <td>...</td>\n",
       "      <td>...</td>\n",
       "    </tr>\n",
       "    <tr>\n",
       "      <th>541865</th>\n",
       "      <td>581583</td>\n",
       "      <td>20725</td>\n",
       "      <td>LUNCH BAG RED RETROSPOT</td>\n",
       "      <td>40</td>\n",
       "      <td>2011-12-09 12:23:00</td>\n",
       "      <td>1.45</td>\n",
       "      <td>13777.0</td>\n",
       "      <td>United Kingdom</td>\n",
       "    </tr>\n",
       "    <tr>\n",
       "      <th>541867</th>\n",
       "      <td>581584</td>\n",
       "      <td>20832</td>\n",
       "      <td>RED FLOCK LOVE HEART PHOTO FRAME</td>\n",
       "      <td>72</td>\n",
       "      <td>2011-12-09 12:25:00</td>\n",
       "      <td>0.72</td>\n",
       "      <td>13777.0</td>\n",
       "      <td>United Kingdom</td>\n",
       "    </tr>\n",
       "    <tr>\n",
       "      <th>541869</th>\n",
       "      <td>581585</td>\n",
       "      <td>22481</td>\n",
       "      <td>BLACK TEA TOWEL CLASSIC DESIGN</td>\n",
       "      <td>12</td>\n",
       "      <td>2011-12-09 12:31:00</td>\n",
       "      <td>0.39</td>\n",
       "      <td>15804.0</td>\n",
       "      <td>United Kingdom</td>\n",
       "    </tr>\n",
       "    <tr>\n",
       "      <th>541890</th>\n",
       "      <td>581586</td>\n",
       "      <td>22061</td>\n",
       "      <td>LARGE CAKE STAND  HANGING STRAWBERY</td>\n",
       "      <td>8</td>\n",
       "      <td>2011-12-09 12:49:00</td>\n",
       "      <td>2.95</td>\n",
       "      <td>13113.0</td>\n",
       "      <td>United Kingdom</td>\n",
       "    </tr>\n",
       "    <tr>\n",
       "      <th>541894</th>\n",
       "      <td>581587</td>\n",
       "      <td>22631</td>\n",
       "      <td>CIRCUS PARADE LUNCH BOX</td>\n",
       "      <td>12</td>\n",
       "      <td>2011-12-09 12:50:00</td>\n",
       "      <td>1.95</td>\n",
       "      <td>12680.0</td>\n",
       "      <td>France</td>\n",
       "    </tr>\n",
       "  </tbody>\n",
       "</table>\n",
       "<p>25900 rows × 8 columns</p>\n",
       "</div>"
      ],
      "text/plain": [
       "       InvoiceNo StockCode                          Description  Quantity  \\\n",
       "0         536365    85123A   WHITE HANGING HEART T-LIGHT HOLDER         6   \n",
       "7         536366     22633               HAND WARMER UNION JACK         6   \n",
       "9         536367     84879        ASSORTED COLOUR BIRD ORNAMENT        32   \n",
       "21        536368     22960             JAM MAKING SET WITH JARS         6   \n",
       "25        536369     21756             BATH BUILDING BLOCK WORD         3   \n",
       "...          ...       ...                                  ...       ...   \n",
       "541865    581583     20725              LUNCH BAG RED RETROSPOT        40   \n",
       "541867    581584     20832     RED FLOCK LOVE HEART PHOTO FRAME        72   \n",
       "541869    581585     22481       BLACK TEA TOWEL CLASSIC DESIGN        12   \n",
       "541890    581586     22061  LARGE CAKE STAND  HANGING STRAWBERY         8   \n",
       "541894    581587     22631             CIRCUS PARADE LUNCH BOX         12   \n",
       "\n",
       "               InvoiceDate  UnitPrice  CustomerID         Country  \n",
       "0      2010-12-01 08:26:00       2.55     17850.0  United Kingdom  \n",
       "7      2010-12-01 08:28:00       1.85     17850.0  United Kingdom  \n",
       "9      2010-12-01 08:34:00       1.69     13047.0  United Kingdom  \n",
       "21     2010-12-01 08:34:00       4.25     13047.0  United Kingdom  \n",
       "25     2010-12-01 08:35:00       5.95     13047.0  United Kingdom  \n",
       "...                    ...        ...         ...             ...  \n",
       "541865 2011-12-09 12:23:00       1.45     13777.0  United Kingdom  \n",
       "541867 2011-12-09 12:25:00       0.72     13777.0  United Kingdom  \n",
       "541869 2011-12-09 12:31:00       0.39     15804.0  United Kingdom  \n",
       "541890 2011-12-09 12:49:00       2.95     13113.0  United Kingdom  \n",
       "541894 2011-12-09 12:50:00       1.95     12680.0          France  \n",
       "\n",
       "[25900 rows x 8 columns]"
      ]
     },
     "execution_count": 225,
     "metadata": {},
     "output_type": "execute_result"
    }
   ],
   "source": [
    "#frequency\n",
    "freq = df.drop_duplicates(subset=\"InvoiceNo\")\n",
    "freq"
   ]
  },
  {
   "cell_type": "code",
   "execution_count": 226,
   "metadata": {},
   "outputs": [
    {
     "data": {
      "application/vnd.microsoft.datawrangler.viewer.v0+json": {
       "columns": [
        {
         "name": "CustomerID",
         "rawType": "float64",
         "type": "float"
        },
        {
         "name": "InvoiceNo",
         "rawType": "int64",
         "type": "integer"
        }
       ],
       "conversionMethod": "pd.DataFrame",
       "ref": "f01e0264-93ca-42c8-9771-198d938f1960",
       "rows": [
        [
         "12346.0",
         "2"
        ],
        [
         "12347.0",
         "7"
        ],
        [
         "12348.0",
         "4"
        ],
        [
         "12349.0",
         "1"
        ],
        [
         "12350.0",
         "1"
        ],
        [
         "12352.0",
         "11"
        ],
        [
         "12353.0",
         "1"
        ],
        [
         "12354.0",
         "1"
        ],
        [
         "12355.0",
         "1"
        ],
        [
         "12356.0",
         "3"
        ],
        [
         "12357.0",
         "1"
        ],
        [
         "12358.0",
         "2"
        ],
        [
         "12359.0",
         "6"
        ],
        [
         "12360.0",
         "3"
        ],
        [
         "12361.0",
         "1"
        ],
        [
         "12362.0",
         "13"
        ],
        [
         "12363.0",
         "2"
        ],
        [
         "12364.0",
         "4"
        ],
        [
         "12365.0",
         "3"
        ],
        [
         "12367.0",
         "1"
        ],
        [
         "12370.0",
         "4"
        ],
        [
         "12371.0",
         "2"
        ],
        [
         "12372.0",
         "3"
        ],
        [
         "12373.0",
         "1"
        ],
        [
         "12374.0",
         "1"
        ],
        [
         "12375.0",
         "3"
        ],
        [
         "12377.0",
         "2"
        ],
        [
         "12378.0",
         "1"
        ],
        [
         "12379.0",
         "3"
        ],
        [
         "12380.0",
         "5"
        ],
        [
         "12381.0",
         "6"
        ],
        [
         "12383.0",
         "6"
        ],
        [
         "12384.0",
         "3"
        ],
        [
         "12386.0",
         "2"
        ],
        [
         "12388.0",
         "6"
        ],
        [
         "12390.0",
         "1"
        ],
        [
         "12391.0",
         "1"
        ],
        [
         "12393.0",
         "4"
        ],
        [
         "12394.0",
         "2"
        ],
        [
         "12395.0",
         "15"
        ],
        [
         "12397.0",
         "2"
        ],
        [
         "12398.0",
         "1"
        ],
        [
         "12399.0",
         "4"
        ],
        [
         "12401.0",
         "1"
        ],
        [
         "12402.0",
         "1"
        ],
        [
         "12403.0",
         "2"
        ],
        [
         "12405.0",
         "1"
        ],
        [
         "12406.0",
         "3"
        ],
        [
         "12407.0",
         "5"
        ],
        [
         "12408.0",
         "9"
        ]
       ],
       "shape": {
        "columns": 1,
        "rows": 4372
       }
      },
      "text/html": [
       "<div>\n",
       "<style scoped>\n",
       "    .dataframe tbody tr th:only-of-type {\n",
       "        vertical-align: middle;\n",
       "    }\n",
       "\n",
       "    .dataframe tbody tr th {\n",
       "        vertical-align: top;\n",
       "    }\n",
       "\n",
       "    .dataframe thead th {\n",
       "        text-align: right;\n",
       "    }\n",
       "</style>\n",
       "<table border=\"1\" class=\"dataframe\">\n",
       "  <thead>\n",
       "    <tr style=\"text-align: right;\">\n",
       "      <th></th>\n",
       "      <th>InvoiceNo</th>\n",
       "    </tr>\n",
       "    <tr>\n",
       "      <th>CustomerID</th>\n",
       "      <th></th>\n",
       "    </tr>\n",
       "  </thead>\n",
       "  <tbody>\n",
       "    <tr>\n",
       "      <th>12346.0</th>\n",
       "      <td>2</td>\n",
       "    </tr>\n",
       "    <tr>\n",
       "      <th>12347.0</th>\n",
       "      <td>7</td>\n",
       "    </tr>\n",
       "    <tr>\n",
       "      <th>12348.0</th>\n",
       "      <td>4</td>\n",
       "    </tr>\n",
       "    <tr>\n",
       "      <th>12349.0</th>\n",
       "      <td>1</td>\n",
       "    </tr>\n",
       "    <tr>\n",
       "      <th>12350.0</th>\n",
       "      <td>1</td>\n",
       "    </tr>\n",
       "    <tr>\n",
       "      <th>...</th>\n",
       "      <td>...</td>\n",
       "    </tr>\n",
       "    <tr>\n",
       "      <th>18280.0</th>\n",
       "      <td>1</td>\n",
       "    </tr>\n",
       "    <tr>\n",
       "      <th>18281.0</th>\n",
       "      <td>1</td>\n",
       "    </tr>\n",
       "    <tr>\n",
       "      <th>18282.0</th>\n",
       "      <td>3</td>\n",
       "    </tr>\n",
       "    <tr>\n",
       "      <th>18283.0</th>\n",
       "      <td>16</td>\n",
       "    </tr>\n",
       "    <tr>\n",
       "      <th>18287.0</th>\n",
       "      <td>3</td>\n",
       "    </tr>\n",
       "  </tbody>\n",
       "</table>\n",
       "<p>4372 rows × 1 columns</p>\n",
       "</div>"
      ],
      "text/plain": [
       "            InvoiceNo\n",
       "CustomerID           \n",
       "12346.0             2\n",
       "12347.0             7\n",
       "12348.0             4\n",
       "12349.0             1\n",
       "12350.0             1\n",
       "...               ...\n",
       "18280.0             1\n",
       "18281.0             1\n",
       "18282.0             3\n",
       "18283.0            16\n",
       "18287.0             3\n",
       "\n",
       "[4372 rows x 1 columns]"
      ]
     },
     "execution_count": 226,
     "metadata": {},
     "output_type": "execute_result"
    }
   ],
   "source": [
    "#frequency\n",
    "freq = freq.groupby([\"CustomerID\"]).count()[[\"InvoiceNo\"]]\n",
    "freq"
   ]
  },
  {
   "cell_type": "code",
   "execution_count": 227,
   "metadata": {},
   "outputs": [
    {
     "data": {
      "application/vnd.microsoft.datawrangler.viewer.v0+json": {
       "columns": [
        {
         "name": "index",
         "rawType": "int64",
         "type": "integer"
        },
        {
         "name": "InvoiceNo",
         "rawType": "object",
         "type": "string"
        },
        {
         "name": "StockCode",
         "rawType": "object",
         "type": "string"
        },
        {
         "name": "Description",
         "rawType": "object",
         "type": "unknown"
        },
        {
         "name": "Quantity",
         "rawType": "int64",
         "type": "integer"
        },
        {
         "name": "InvoiceDate",
         "rawType": "datetime64[ns]",
         "type": "datetime"
        },
        {
         "name": "UnitPrice",
         "rawType": "float64",
         "type": "float"
        },
        {
         "name": "CustomerID",
         "rawType": "float64",
         "type": "float"
        },
        {
         "name": "Country",
         "rawType": "object",
         "type": "string"
        },
        {
         "name": "total",
         "rawType": "float64",
         "type": "float"
        }
       ],
       "conversionMethod": "pd.DataFrame",
       "ref": "eb8becc4-af99-4baf-9031-a9dd999e0808",
       "rows": [
        [
         "0",
         "536365",
         "85123A",
         "WHITE HANGING HEART T-LIGHT HOLDER",
         "6",
         "2010-12-01 08:26:00",
         "2.55",
         "17850.0",
         "United Kingdom",
         "15.299999999999999"
        ],
        [
         "1",
         "536365",
         "71053",
         "WHITE METAL LANTERN",
         "6",
         "2010-12-01 08:26:00",
         "3.39",
         "17850.0",
         "United Kingdom",
         "20.34"
        ],
        [
         "2",
         "536365",
         "84406B",
         "CREAM CUPID HEARTS COAT HANGER",
         "8",
         "2010-12-01 08:26:00",
         "2.75",
         "17850.0",
         "United Kingdom",
         "22.0"
        ],
        [
         "3",
         "536365",
         "84029G",
         "KNITTED UNION FLAG HOT WATER BOTTLE",
         "6",
         "2010-12-01 08:26:00",
         "3.39",
         "17850.0",
         "United Kingdom",
         "20.34"
        ],
        [
         "4",
         "536365",
         "84029E",
         "RED WOOLLY HOTTIE WHITE HEART.",
         "6",
         "2010-12-01 08:26:00",
         "3.39",
         "17850.0",
         "United Kingdom",
         "20.34"
        ],
        [
         "5",
         "536365",
         "22752",
         "SET 7 BABUSHKA NESTING BOXES",
         "2",
         "2010-12-01 08:26:00",
         "7.65",
         "17850.0",
         "United Kingdom",
         "15.3"
        ],
        [
         "6",
         "536365",
         "21730",
         "GLASS STAR FROSTED T-LIGHT HOLDER",
         "6",
         "2010-12-01 08:26:00",
         "4.25",
         "17850.0",
         "United Kingdom",
         "25.5"
        ],
        [
         "7",
         "536366",
         "22633",
         "HAND WARMER UNION JACK",
         "6",
         "2010-12-01 08:28:00",
         "1.85",
         "17850.0",
         "United Kingdom",
         "11.100000000000001"
        ],
        [
         "8",
         "536366",
         "22632",
         "HAND WARMER RED POLKA DOT",
         "6",
         "2010-12-01 08:28:00",
         "1.85",
         "17850.0",
         "United Kingdom",
         "11.100000000000001"
        ],
        [
         "9",
         "536367",
         "84879",
         "ASSORTED COLOUR BIRD ORNAMENT",
         "32",
         "2010-12-01 08:34:00",
         "1.69",
         "13047.0",
         "United Kingdom",
         "54.08"
        ],
        [
         "10",
         "536367",
         "22745",
         "POPPY'S PLAYHOUSE BEDROOM ",
         "6",
         "2010-12-01 08:34:00",
         "2.1",
         "13047.0",
         "United Kingdom",
         "12.600000000000001"
        ],
        [
         "11",
         "536367",
         "22748",
         "POPPY'S PLAYHOUSE KITCHEN",
         "6",
         "2010-12-01 08:34:00",
         "2.1",
         "13047.0",
         "United Kingdom",
         "12.600000000000001"
        ],
        [
         "12",
         "536367",
         "22749",
         "FELTCRAFT PRINCESS CHARLOTTE DOLL",
         "8",
         "2010-12-01 08:34:00",
         "3.75",
         "13047.0",
         "United Kingdom",
         "30.0"
        ],
        [
         "13",
         "536367",
         "22310",
         "IVORY KNITTED MUG COSY ",
         "6",
         "2010-12-01 08:34:00",
         "1.65",
         "13047.0",
         "United Kingdom",
         "9.899999999999999"
        ],
        [
         "14",
         "536367",
         "84969",
         "BOX OF 6 ASSORTED COLOUR TEASPOONS",
         "6",
         "2010-12-01 08:34:00",
         "4.25",
         "13047.0",
         "United Kingdom",
         "25.5"
        ],
        [
         "15",
         "536367",
         "22623",
         "BOX OF VINTAGE JIGSAW BLOCKS ",
         "3",
         "2010-12-01 08:34:00",
         "4.95",
         "13047.0",
         "United Kingdom",
         "14.850000000000001"
        ],
        [
         "16",
         "536367",
         "22622",
         "BOX OF VINTAGE ALPHABET BLOCKS",
         "2",
         "2010-12-01 08:34:00",
         "9.95",
         "13047.0",
         "United Kingdom",
         "19.9"
        ],
        [
         "17",
         "536367",
         "21754",
         "HOME BUILDING BLOCK WORD",
         "3",
         "2010-12-01 08:34:00",
         "5.95",
         "13047.0",
         "United Kingdom",
         "17.85"
        ],
        [
         "18",
         "536367",
         "21755",
         "LOVE BUILDING BLOCK WORD",
         "3",
         "2010-12-01 08:34:00",
         "5.95",
         "13047.0",
         "United Kingdom",
         "17.85"
        ],
        [
         "19",
         "536367",
         "21777",
         "RECIPE BOX WITH METAL HEART",
         "4",
         "2010-12-01 08:34:00",
         "7.95",
         "13047.0",
         "United Kingdom",
         "31.8"
        ],
        [
         "20",
         "536367",
         "48187",
         "DOORMAT NEW ENGLAND",
         "4",
         "2010-12-01 08:34:00",
         "7.95",
         "13047.0",
         "United Kingdom",
         "31.8"
        ],
        [
         "21",
         "536368",
         "22960",
         "JAM MAKING SET WITH JARS",
         "6",
         "2010-12-01 08:34:00",
         "4.25",
         "13047.0",
         "United Kingdom",
         "25.5"
        ],
        [
         "22",
         "536368",
         "22913",
         "RED COAT RACK PARIS FASHION",
         "3",
         "2010-12-01 08:34:00",
         "4.95",
         "13047.0",
         "United Kingdom",
         "14.850000000000001"
        ],
        [
         "23",
         "536368",
         "22912",
         "YELLOW COAT RACK PARIS FASHION",
         "3",
         "2010-12-01 08:34:00",
         "4.95",
         "13047.0",
         "United Kingdom",
         "14.850000000000001"
        ],
        [
         "24",
         "536368",
         "22914",
         "BLUE COAT RACK PARIS FASHION",
         "3",
         "2010-12-01 08:34:00",
         "4.95",
         "13047.0",
         "United Kingdom",
         "14.850000000000001"
        ],
        [
         "25",
         "536369",
         "21756",
         "BATH BUILDING BLOCK WORD",
         "3",
         "2010-12-01 08:35:00",
         "5.95",
         "13047.0",
         "United Kingdom",
         "17.85"
        ],
        [
         "26",
         "536370",
         "22728",
         "ALARM CLOCK BAKELIKE PINK",
         "24",
         "2010-12-01 08:45:00",
         "3.75",
         "12583.0",
         "France",
         "90.0"
        ],
        [
         "27",
         "536370",
         "22727",
         "ALARM CLOCK BAKELIKE RED ",
         "24",
         "2010-12-01 08:45:00",
         "3.75",
         "12583.0",
         "France",
         "90.0"
        ],
        [
         "28",
         "536370",
         "22726",
         "ALARM CLOCK BAKELIKE GREEN",
         "12",
         "2010-12-01 08:45:00",
         "3.75",
         "12583.0",
         "France",
         "45.0"
        ],
        [
         "29",
         "536370",
         "21724",
         "PANDA AND BUNNIES STICKER SHEET",
         "12",
         "2010-12-01 08:45:00",
         "0.85",
         "12583.0",
         "France",
         "10.2"
        ],
        [
         "30",
         "536370",
         "21883",
         "STARS GIFT TAPE ",
         "24",
         "2010-12-01 08:45:00",
         "0.65",
         "12583.0",
         "France",
         "15.600000000000001"
        ],
        [
         "31",
         "536370",
         "10002",
         "INFLATABLE POLITICAL GLOBE ",
         "48",
         "2010-12-01 08:45:00",
         "0.85",
         "12583.0",
         "France",
         "40.8"
        ],
        [
         "32",
         "536370",
         "21791",
         "VINTAGE HEADS AND TAILS CARD GAME ",
         "24",
         "2010-12-01 08:45:00",
         "1.25",
         "12583.0",
         "France",
         "30.0"
        ],
        [
         "33",
         "536370",
         "21035",
         "SET/2 RED RETROSPOT TEA TOWELS ",
         "18",
         "2010-12-01 08:45:00",
         "2.95",
         "12583.0",
         "France",
         "53.1"
        ],
        [
         "34",
         "536370",
         "22326",
         "ROUND SNACK BOXES SET OF4 WOODLAND ",
         "24",
         "2010-12-01 08:45:00",
         "2.95",
         "12583.0",
         "France",
         "70.80000000000001"
        ],
        [
         "35",
         "536370",
         "22629",
         "SPACEBOY LUNCH BOX ",
         "24",
         "2010-12-01 08:45:00",
         "1.95",
         "12583.0",
         "France",
         "46.8"
        ],
        [
         "36",
         "536370",
         "22659",
         "LUNCH BOX I LOVE LONDON",
         "24",
         "2010-12-01 08:45:00",
         "1.95",
         "12583.0",
         "France",
         "46.8"
        ],
        [
         "37",
         "536370",
         "22631",
         "CIRCUS PARADE LUNCH BOX ",
         "24",
         "2010-12-01 08:45:00",
         "1.95",
         "12583.0",
         "France",
         "46.8"
        ],
        [
         "38",
         "536370",
         "22661",
         "CHARLOTTE BAG DOLLY GIRL DESIGN",
         "20",
         "2010-12-01 08:45:00",
         "0.85",
         "12583.0",
         "France",
         "17.0"
        ],
        [
         "39",
         "536370",
         "21731",
         "RED TOADSTOOL LED NIGHT LIGHT",
         "24",
         "2010-12-01 08:45:00",
         "1.65",
         "12583.0",
         "France",
         "39.599999999999994"
        ],
        [
         "40",
         "536370",
         "22900",
         " SET 2 TEA TOWELS I LOVE LONDON ",
         "24",
         "2010-12-01 08:45:00",
         "2.95",
         "12583.0",
         "France",
         "70.80000000000001"
        ],
        [
         "41",
         "536370",
         "21913",
         "VINTAGE SEASIDE JIGSAW PUZZLES",
         "12",
         "2010-12-01 08:45:00",
         "3.75",
         "12583.0",
         "France",
         "45.0"
        ],
        [
         "42",
         "536370",
         "22540",
         "MINI JIGSAW CIRCUS PARADE ",
         "24",
         "2010-12-01 08:45:00",
         "0.42",
         "12583.0",
         "France",
         "10.08"
        ],
        [
         "43",
         "536370",
         "22544",
         "MINI JIGSAW SPACEBOY",
         "24",
         "2010-12-01 08:45:00",
         "0.42",
         "12583.0",
         "France",
         "10.08"
        ],
        [
         "44",
         "536370",
         "22492",
         "MINI PAINT SET VINTAGE ",
         "36",
         "2010-12-01 08:45:00",
         "0.65",
         "12583.0",
         "France",
         "23.400000000000002"
        ],
        [
         "45",
         "536370",
         "POST",
         "POSTAGE",
         "3",
         "2010-12-01 08:45:00",
         "18.0",
         "12583.0",
         "France",
         "54.0"
        ],
        [
         "46",
         "536371",
         "22086",
         "PAPER CHAIN KIT 50'S CHRISTMAS ",
         "80",
         "2010-12-01 09:00:00",
         "2.55",
         "13748.0",
         "United Kingdom",
         "204.0"
        ],
        [
         "47",
         "536372",
         "22632",
         "HAND WARMER RED POLKA DOT",
         "6",
         "2010-12-01 09:01:00",
         "1.85",
         "17850.0",
         "United Kingdom",
         "11.100000000000001"
        ],
        [
         "48",
         "536372",
         "22633",
         "HAND WARMER UNION JACK",
         "6",
         "2010-12-01 09:01:00",
         "1.85",
         "17850.0",
         "United Kingdom",
         "11.100000000000001"
        ],
        [
         "49",
         "536373",
         "85123A",
         "WHITE HANGING HEART T-LIGHT HOLDER",
         "6",
         "2010-12-01 09:02:00",
         "2.55",
         "17850.0",
         "United Kingdom",
         "15.299999999999999"
        ]
       ],
       "shape": {
        "columns": 9,
        "rows": 541909
       }
      },
      "text/html": [
       "<div>\n",
       "<style scoped>\n",
       "    .dataframe tbody tr th:only-of-type {\n",
       "        vertical-align: middle;\n",
       "    }\n",
       "\n",
       "    .dataframe tbody tr th {\n",
       "        vertical-align: top;\n",
       "    }\n",
       "\n",
       "    .dataframe thead th {\n",
       "        text-align: right;\n",
       "    }\n",
       "</style>\n",
       "<table border=\"1\" class=\"dataframe\">\n",
       "  <thead>\n",
       "    <tr style=\"text-align: right;\">\n",
       "      <th></th>\n",
       "      <th>InvoiceNo</th>\n",
       "      <th>StockCode</th>\n",
       "      <th>Description</th>\n",
       "      <th>Quantity</th>\n",
       "      <th>InvoiceDate</th>\n",
       "      <th>UnitPrice</th>\n",
       "      <th>CustomerID</th>\n",
       "      <th>Country</th>\n",
       "      <th>total</th>\n",
       "    </tr>\n",
       "  </thead>\n",
       "  <tbody>\n",
       "    <tr>\n",
       "      <th>0</th>\n",
       "      <td>536365</td>\n",
       "      <td>85123A</td>\n",
       "      <td>WHITE HANGING HEART T-LIGHT HOLDER</td>\n",
       "      <td>6</td>\n",
       "      <td>2010-12-01 08:26:00</td>\n",
       "      <td>2.55</td>\n",
       "      <td>17850.0</td>\n",
       "      <td>United Kingdom</td>\n",
       "      <td>15.30</td>\n",
       "    </tr>\n",
       "    <tr>\n",
       "      <th>1</th>\n",
       "      <td>536365</td>\n",
       "      <td>71053</td>\n",
       "      <td>WHITE METAL LANTERN</td>\n",
       "      <td>6</td>\n",
       "      <td>2010-12-01 08:26:00</td>\n",
       "      <td>3.39</td>\n",
       "      <td>17850.0</td>\n",
       "      <td>United Kingdom</td>\n",
       "      <td>20.34</td>\n",
       "    </tr>\n",
       "    <tr>\n",
       "      <th>2</th>\n",
       "      <td>536365</td>\n",
       "      <td>84406B</td>\n",
       "      <td>CREAM CUPID HEARTS COAT HANGER</td>\n",
       "      <td>8</td>\n",
       "      <td>2010-12-01 08:26:00</td>\n",
       "      <td>2.75</td>\n",
       "      <td>17850.0</td>\n",
       "      <td>United Kingdom</td>\n",
       "      <td>22.00</td>\n",
       "    </tr>\n",
       "    <tr>\n",
       "      <th>3</th>\n",
       "      <td>536365</td>\n",
       "      <td>84029G</td>\n",
       "      <td>KNITTED UNION FLAG HOT WATER BOTTLE</td>\n",
       "      <td>6</td>\n",
       "      <td>2010-12-01 08:26:00</td>\n",
       "      <td>3.39</td>\n",
       "      <td>17850.0</td>\n",
       "      <td>United Kingdom</td>\n",
       "      <td>20.34</td>\n",
       "    </tr>\n",
       "    <tr>\n",
       "      <th>4</th>\n",
       "      <td>536365</td>\n",
       "      <td>84029E</td>\n",
       "      <td>RED WOOLLY HOTTIE WHITE HEART.</td>\n",
       "      <td>6</td>\n",
       "      <td>2010-12-01 08:26:00</td>\n",
       "      <td>3.39</td>\n",
       "      <td>17850.0</td>\n",
       "      <td>United Kingdom</td>\n",
       "      <td>20.34</td>\n",
       "    </tr>\n",
       "    <tr>\n",
       "      <th>...</th>\n",
       "      <td>...</td>\n",
       "      <td>...</td>\n",
       "      <td>...</td>\n",
       "      <td>...</td>\n",
       "      <td>...</td>\n",
       "      <td>...</td>\n",
       "      <td>...</td>\n",
       "      <td>...</td>\n",
       "      <td>...</td>\n",
       "    </tr>\n",
       "    <tr>\n",
       "      <th>541904</th>\n",
       "      <td>581587</td>\n",
       "      <td>22613</td>\n",
       "      <td>PACK OF 20 SPACEBOY NAPKINS</td>\n",
       "      <td>12</td>\n",
       "      <td>2011-12-09 12:50:00</td>\n",
       "      <td>0.85</td>\n",
       "      <td>12680.0</td>\n",
       "      <td>France</td>\n",
       "      <td>10.20</td>\n",
       "    </tr>\n",
       "    <tr>\n",
       "      <th>541905</th>\n",
       "      <td>581587</td>\n",
       "      <td>22899</td>\n",
       "      <td>CHILDREN'S APRON DOLLY GIRL</td>\n",
       "      <td>6</td>\n",
       "      <td>2011-12-09 12:50:00</td>\n",
       "      <td>2.10</td>\n",
       "      <td>12680.0</td>\n",
       "      <td>France</td>\n",
       "      <td>12.60</td>\n",
       "    </tr>\n",
       "    <tr>\n",
       "      <th>541906</th>\n",
       "      <td>581587</td>\n",
       "      <td>23254</td>\n",
       "      <td>CHILDRENS CUTLERY DOLLY GIRL</td>\n",
       "      <td>4</td>\n",
       "      <td>2011-12-09 12:50:00</td>\n",
       "      <td>4.15</td>\n",
       "      <td>12680.0</td>\n",
       "      <td>France</td>\n",
       "      <td>16.60</td>\n",
       "    </tr>\n",
       "    <tr>\n",
       "      <th>541907</th>\n",
       "      <td>581587</td>\n",
       "      <td>23255</td>\n",
       "      <td>CHILDRENS CUTLERY CIRCUS PARADE</td>\n",
       "      <td>4</td>\n",
       "      <td>2011-12-09 12:50:00</td>\n",
       "      <td>4.15</td>\n",
       "      <td>12680.0</td>\n",
       "      <td>France</td>\n",
       "      <td>16.60</td>\n",
       "    </tr>\n",
       "    <tr>\n",
       "      <th>541908</th>\n",
       "      <td>581587</td>\n",
       "      <td>22138</td>\n",
       "      <td>BAKING SET 9 PIECE RETROSPOT</td>\n",
       "      <td>3</td>\n",
       "      <td>2011-12-09 12:50:00</td>\n",
       "      <td>4.95</td>\n",
       "      <td>12680.0</td>\n",
       "      <td>France</td>\n",
       "      <td>14.85</td>\n",
       "    </tr>\n",
       "  </tbody>\n",
       "</table>\n",
       "<p>541909 rows × 9 columns</p>\n",
       "</div>"
      ],
      "text/plain": [
       "       InvoiceNo StockCode                          Description  Quantity  \\\n",
       "0         536365    85123A   WHITE HANGING HEART T-LIGHT HOLDER         6   \n",
       "1         536365     71053                  WHITE METAL LANTERN         6   \n",
       "2         536365    84406B       CREAM CUPID HEARTS COAT HANGER         8   \n",
       "3         536365    84029G  KNITTED UNION FLAG HOT WATER BOTTLE         6   \n",
       "4         536365    84029E       RED WOOLLY HOTTIE WHITE HEART.         6   \n",
       "...          ...       ...                                  ...       ...   \n",
       "541904    581587     22613          PACK OF 20 SPACEBOY NAPKINS        12   \n",
       "541905    581587     22899         CHILDREN'S APRON DOLLY GIRL          6   \n",
       "541906    581587     23254        CHILDRENS CUTLERY DOLLY GIRL          4   \n",
       "541907    581587     23255      CHILDRENS CUTLERY CIRCUS PARADE         4   \n",
       "541908    581587     22138        BAKING SET 9 PIECE RETROSPOT          3   \n",
       "\n",
       "               InvoiceDate  UnitPrice  CustomerID         Country  total  \n",
       "0      2010-12-01 08:26:00       2.55     17850.0  United Kingdom  15.30  \n",
       "1      2010-12-01 08:26:00       3.39     17850.0  United Kingdom  20.34  \n",
       "2      2010-12-01 08:26:00       2.75     17850.0  United Kingdom  22.00  \n",
       "3      2010-12-01 08:26:00       3.39     17850.0  United Kingdom  20.34  \n",
       "4      2010-12-01 08:26:00       3.39     17850.0  United Kingdom  20.34  \n",
       "...                    ...        ...         ...             ...    ...  \n",
       "541904 2011-12-09 12:50:00       0.85     12680.0          France  10.20  \n",
       "541905 2011-12-09 12:50:00       2.10     12680.0          France  12.60  \n",
       "541906 2011-12-09 12:50:00       4.15     12680.0          France  16.60  \n",
       "541907 2011-12-09 12:50:00       4.15     12680.0          France  16.60  \n",
       "541908 2011-12-09 12:50:00       4.95     12680.0          France  14.85  \n",
       "\n",
       "[541909 rows x 9 columns]"
      ]
     },
     "execution_count": 227,
     "metadata": {},
     "output_type": "execute_result"
    }
   ],
   "source": [
    "#monetary\n",
    "df[\"total\"]=df[\"Quantity\"]*df[\"UnitPrice\"]\n",
    "df"
   ]
  },
  {
   "cell_type": "code",
   "execution_count": 228,
   "metadata": {},
   "outputs": [
    {
     "data": {
      "application/vnd.microsoft.datawrangler.viewer.v0+json": {
       "columns": [
        {
         "name": "CustomerID",
         "rawType": "float64",
         "type": "float"
        },
        {
         "name": "total",
         "rawType": "float64",
         "type": "float"
        }
       ],
       "conversionMethod": "pd.DataFrame",
       "ref": "8819332f-67db-4858-a629-f9f1ae780b87",
       "rows": [
        [
         "12346.0",
         "0.0"
        ],
        [
         "12347.0",
         "4310.0"
        ],
        [
         "12348.0",
         "1797.24"
        ],
        [
         "12349.0",
         "1757.55"
        ],
        [
         "12350.0",
         "334.4"
        ],
        [
         "12352.0",
         "1545.41"
        ],
        [
         "12353.0",
         "89.0"
        ],
        [
         "12354.0",
         "1079.4"
        ],
        [
         "12355.0",
         "459.4"
        ],
        [
         "12356.0",
         "2811.43"
        ],
        [
         "12357.0",
         "6207.67"
        ],
        [
         "12358.0",
         "1168.06"
        ],
        [
         "12359.0",
         "6245.53"
        ],
        [
         "12360.0",
         "2662.06"
        ],
        [
         "12361.0",
         "189.9"
        ],
        [
         "12362.0",
         "5154.58"
        ],
        [
         "12363.0",
         "552.0"
        ],
        [
         "12364.0",
         "1313.1"
        ],
        [
         "12365.0",
         "320.69"
        ],
        [
         "12367.0",
         "168.9"
        ],
        [
         "12370.0",
         "3545.69"
        ],
        [
         "12371.0",
         "1887.96"
        ],
        [
         "12372.0",
         "1298.04"
        ],
        [
         "12373.0",
         "364.6"
        ],
        [
         "12374.0",
         "742.9300000000001"
        ],
        [
         "12375.0",
         "455.42"
        ],
        [
         "12377.0",
         "1628.12"
        ],
        [
         "12378.0",
         "4008.62"
        ],
        [
         "12379.0",
         "850.29"
        ],
        [
         "12380.0",
         "2720.56"
        ],
        [
         "12381.0",
         "1803.96"
        ],
        [
         "12383.0",
         "1839.31"
        ],
        [
         "12384.0",
         "566.16"
        ],
        [
         "12386.0",
         "401.9"
        ],
        [
         "12388.0",
         "2780.66"
        ],
        [
         "12390.0",
         "549.84"
        ],
        [
         "12391.0",
         "460.89"
        ],
        [
         "12393.0",
         "1582.6000000000001"
        ],
        [
         "12394.0",
         "1272.48"
        ],
        [
         "12395.0",
         "2998.28"
        ],
        [
         "12397.0",
         "2409.9"
        ],
        [
         "12398.0",
         "1635.6599999999999"
        ],
        [
         "12399.0",
         "1108.65"
        ],
        [
         "12401.0",
         "84.3"
        ],
        [
         "12402.0",
         "225.6"
        ],
        [
         "12403.0",
         "409.7"
        ],
        [
         "12405.0",
         "1710.39"
        ],
        [
         "12406.0",
         "3280.75"
        ],
        [
         "12407.0",
         "1708.1200000000001"
        ],
        [
         "12408.0",
         "2842.57"
        ]
       ],
       "shape": {
        "columns": 1,
        "rows": 4372
       }
      },
      "text/html": [
       "<div>\n",
       "<style scoped>\n",
       "    .dataframe tbody tr th:only-of-type {\n",
       "        vertical-align: middle;\n",
       "    }\n",
       "\n",
       "    .dataframe tbody tr th {\n",
       "        vertical-align: top;\n",
       "    }\n",
       "\n",
       "    .dataframe thead th {\n",
       "        text-align: right;\n",
       "    }\n",
       "</style>\n",
       "<table border=\"1\" class=\"dataframe\">\n",
       "  <thead>\n",
       "    <tr style=\"text-align: right;\">\n",
       "      <th></th>\n",
       "      <th>total</th>\n",
       "    </tr>\n",
       "    <tr>\n",
       "      <th>CustomerID</th>\n",
       "      <th></th>\n",
       "    </tr>\n",
       "  </thead>\n",
       "  <tbody>\n",
       "    <tr>\n",
       "      <th>12346.0</th>\n",
       "      <td>0.00</td>\n",
       "    </tr>\n",
       "    <tr>\n",
       "      <th>12347.0</th>\n",
       "      <td>4310.00</td>\n",
       "    </tr>\n",
       "    <tr>\n",
       "      <th>12348.0</th>\n",
       "      <td>1797.24</td>\n",
       "    </tr>\n",
       "    <tr>\n",
       "      <th>12349.0</th>\n",
       "      <td>1757.55</td>\n",
       "    </tr>\n",
       "    <tr>\n",
       "      <th>12350.0</th>\n",
       "      <td>334.40</td>\n",
       "    </tr>\n",
       "    <tr>\n",
       "      <th>...</th>\n",
       "      <td>...</td>\n",
       "    </tr>\n",
       "    <tr>\n",
       "      <th>18280.0</th>\n",
       "      <td>180.60</td>\n",
       "    </tr>\n",
       "    <tr>\n",
       "      <th>18281.0</th>\n",
       "      <td>80.82</td>\n",
       "    </tr>\n",
       "    <tr>\n",
       "      <th>18282.0</th>\n",
       "      <td>176.60</td>\n",
       "    </tr>\n",
       "    <tr>\n",
       "      <th>18283.0</th>\n",
       "      <td>2094.88</td>\n",
       "    </tr>\n",
       "    <tr>\n",
       "      <th>18287.0</th>\n",
       "      <td>1837.28</td>\n",
       "    </tr>\n",
       "  </tbody>\n",
       "</table>\n",
       "<p>4372 rows × 1 columns</p>\n",
       "</div>"
      ],
      "text/plain": [
       "              total\n",
       "CustomerID         \n",
       "12346.0        0.00\n",
       "12347.0     4310.00\n",
       "12348.0     1797.24\n",
       "12349.0     1757.55\n",
       "12350.0      334.40\n",
       "...             ...\n",
       "18280.0      180.60\n",
       "18281.0       80.82\n",
       "18282.0      176.60\n",
       "18283.0     2094.88\n",
       "18287.0     1837.28\n",
       "\n",
       "[4372 rows x 1 columns]"
      ]
     },
     "execution_count": 228,
     "metadata": {},
     "output_type": "execute_result"
    }
   ],
   "source": [
    "#monetary\n",
    "money=df.groupby([\"CustomerID\"])[[\"total\"]].sum()\n",
    "money"
   ]
  },
  {
   "cell_type": "code",
   "execution_count": 229,
   "metadata": {},
   "outputs": [
    {
     "data": {
      "application/vnd.microsoft.datawrangler.viewer.v0+json": {
       "columns": [
        {
         "name": "index",
         "rawType": "int64",
         "type": "integer"
        },
        {
         "name": "InvoiceNo",
         "rawType": "object",
         "type": "string"
        },
        {
         "name": "StockCode",
         "rawType": "object",
         "type": "string"
        },
        {
         "name": "Description",
         "rawType": "object",
         "type": "string"
        },
        {
         "name": "Quantity",
         "rawType": "int64",
         "type": "integer"
        },
        {
         "name": "InvoiceDate",
         "rawType": "datetime64[ns]",
         "type": "datetime"
        },
        {
         "name": "UnitPrice",
         "rawType": "float64",
         "type": "float"
        },
        {
         "name": "CustomerID",
         "rawType": "float64",
         "type": "float"
        },
        {
         "name": "Country",
         "rawType": "object",
         "type": "string"
        },
        {
         "name": "total",
         "rawType": "float64",
         "type": "float"
        }
       ],
       "conversionMethod": "pd.DataFrame",
       "ref": "da0c7b95-a8b7-4941-889d-cf4cbef3039f",
       "rows": [
        [
         "61619",
         "541431",
         "23166",
         "MEDIUM CERAMIC TOP STORAGE JAR",
         "74215",
         "2011-01-18 10:01:00",
         "1.04",
         "12346.0",
         "United Kingdom",
         "77183.6"
        ],
        [
         "61624",
         "C541433",
         "23166",
         "MEDIUM CERAMIC TOP STORAGE JAR",
         "-74215",
         "2011-01-18 10:17:00",
         "1.04",
         "12346.0",
         "United Kingdom",
         "-77183.6"
        ]
       ],
       "shape": {
        "columns": 9,
        "rows": 2
       }
      },
      "text/html": [
       "<div>\n",
       "<style scoped>\n",
       "    .dataframe tbody tr th:only-of-type {\n",
       "        vertical-align: middle;\n",
       "    }\n",
       "\n",
       "    .dataframe tbody tr th {\n",
       "        vertical-align: top;\n",
       "    }\n",
       "\n",
       "    .dataframe thead th {\n",
       "        text-align: right;\n",
       "    }\n",
       "</style>\n",
       "<table border=\"1\" class=\"dataframe\">\n",
       "  <thead>\n",
       "    <tr style=\"text-align: right;\">\n",
       "      <th></th>\n",
       "      <th>InvoiceNo</th>\n",
       "      <th>StockCode</th>\n",
       "      <th>Description</th>\n",
       "      <th>Quantity</th>\n",
       "      <th>InvoiceDate</th>\n",
       "      <th>UnitPrice</th>\n",
       "      <th>CustomerID</th>\n",
       "      <th>Country</th>\n",
       "      <th>total</th>\n",
       "    </tr>\n",
       "  </thead>\n",
       "  <tbody>\n",
       "    <tr>\n",
       "      <th>61619</th>\n",
       "      <td>541431</td>\n",
       "      <td>23166</td>\n",
       "      <td>MEDIUM CERAMIC TOP STORAGE JAR</td>\n",
       "      <td>74215</td>\n",
       "      <td>2011-01-18 10:01:00</td>\n",
       "      <td>1.04</td>\n",
       "      <td>12346.0</td>\n",
       "      <td>United Kingdom</td>\n",
       "      <td>77183.6</td>\n",
       "    </tr>\n",
       "    <tr>\n",
       "      <th>61624</th>\n",
       "      <td>C541433</td>\n",
       "      <td>23166</td>\n",
       "      <td>MEDIUM CERAMIC TOP STORAGE JAR</td>\n",
       "      <td>-74215</td>\n",
       "      <td>2011-01-18 10:17:00</td>\n",
       "      <td>1.04</td>\n",
       "      <td>12346.0</td>\n",
       "      <td>United Kingdom</td>\n",
       "      <td>-77183.6</td>\n",
       "    </tr>\n",
       "  </tbody>\n",
       "</table>\n",
       "</div>"
      ],
      "text/plain": [
       "      InvoiceNo StockCode                     Description  Quantity  \\\n",
       "61619    541431     23166  MEDIUM CERAMIC TOP STORAGE JAR     74215   \n",
       "61624   C541433     23166  MEDIUM CERAMIC TOP STORAGE JAR    -74215   \n",
       "\n",
       "              InvoiceDate  UnitPrice  CustomerID         Country    total  \n",
       "61619 2011-01-18 10:01:00       1.04     12346.0  United Kingdom  77183.6  \n",
       "61624 2011-01-18 10:17:00       1.04     12346.0  United Kingdom -77183.6  "
      ]
     },
     "execution_count": 229,
     "metadata": {},
     "output_type": "execute_result"
    }
   ],
   "source": [
    "df[df['CustomerID']==12346.0]"
   ]
  },
  {
   "cell_type": "code",
   "execution_count": 230,
   "metadata": {},
   "outputs": [
    {
     "data": {
      "application/vnd.microsoft.datawrangler.viewer.v0+json": {
       "columns": [
        {
         "name": "CustomerID",
         "rawType": "float64",
         "type": "float"
        },
        {
         "name": "InvoiceAge",
         "rawType": "int64",
         "type": "integer"
        },
        {
         "name": "InvoiceNo",
         "rawType": "int64",
         "type": "integer"
        },
        {
         "name": "total",
         "rawType": "float64",
         "type": "float"
        }
       ],
       "conversionMethod": "pd.DataFrame",
       "ref": "f8a444e0-3ee9-4f13-acac-ef509d121ac3",
       "rows": [
        [
         "12346.0",
         "347",
         "2",
         "0.0"
        ],
        [
         "12347.0",
         "24",
         "7",
         "4310.0"
        ],
        [
         "12348.0",
         "97",
         "4",
         "1797.24"
        ],
        [
         "12349.0",
         "40",
         "1",
         "1757.55"
        ],
        [
         "12350.0",
         "332",
         "1",
         "334.4"
        ],
        [
         "12352.0",
         "58",
         "11",
         "1545.41"
        ],
        [
         "12353.0",
         "226",
         "1",
         "89.0"
        ],
        [
         "12354.0",
         "254",
         "1",
         "1079.4"
        ],
        [
         "12355.0",
         "236",
         "1",
         "459.4"
        ],
        [
         "12356.0",
         "44",
         "3",
         "2811.43"
        ],
        [
         "12357.0",
         "55",
         "1",
         "6207.67"
        ],
        [
         "12358.0",
         "23",
         "2",
         "1168.06"
        ],
        [
         "12359.0",
         "29",
         "6",
         "6245.53"
        ],
        [
         "12360.0",
         "74",
         "3",
         "2662.06"
        ],
        [
         "12361.0",
         "309",
         "1",
         "189.9"
        ],
        [
         "12362.0",
         "25",
         "13",
         "5154.58"
        ],
        [
         "12363.0",
         "131",
         "2",
         "552.0"
        ],
        [
         "12364.0",
         "29",
         "4",
         "1313.1"
        ],
        [
         "12365.0",
         "313",
         "3",
         "320.69"
        ],
        [
         "12367.0",
         "26",
         "1",
         "168.9"
        ],
        [
         "12370.0",
         "73",
         "4",
         "3545.69"
        ],
        [
         "12371.0",
         "66",
         "2",
         "1887.96"
        ],
        [
         "12372.0",
         "93",
         "3",
         "1298.04"
        ],
        [
         "12373.0",
         "333",
         "1",
         "364.6"
        ],
        [
         "12374.0",
         "47",
         "1",
         "742.9300000000001"
        ],
        [
         "12375.0",
         "24",
         "3",
         "455.42"
        ],
        [
         "12377.0",
         "337",
         "2",
         "1628.12"
        ],
        [
         "12378.0",
         "151",
         "1",
         "4008.62"
        ],
        [
         "12379.0",
         "103",
         "3",
         "850.29"
        ],
        [
         "12380.0",
         "43",
         "5",
         "2720.56"
        ],
        [
         "12381.0",
         "26",
         "6",
         "1803.96"
        ],
        [
         "12383.0",
         "206",
         "6",
         "1839.31"
        ],
        [
         "12384.0",
         "50",
         "3",
         "566.16"
        ],
        [
         "12386.0",
         "359",
         "2",
         "401.9"
        ],
        [
         "12388.0",
         "37",
         "6",
         "2780.66"
        ],
        [
         "12390.0",
         "101",
         "1",
         "549.84"
        ],
        [
         "12391.0",
         "43",
         "1",
         "460.89"
        ],
        [
         "12393.0",
         "94",
         "4",
         "1582.6000000000001"
        ],
        [
         "12394.0",
         "85",
         "2",
         "1272.48"
        ],
        [
         "12395.0",
         "37",
         "15",
         "2998.28"
        ],
        [
         "12397.0",
         "57",
         "2",
         "2409.9"
        ],
        [
         "12398.0",
         "67",
         "1",
         "1635.6599999999999"
        ],
        [
         "12399.0",
         "141",
         "4",
         "1108.65"
        ],
        [
         "12401.0",
         "325",
         "1",
         "84.3"
        ],
        [
         "12402.0",
         "345",
         "1",
         "225.6"
        ],
        [
         "12403.0",
         "71",
         "2",
         "409.7"
        ],
        [
         "12405.0",
         "170",
         "1",
         "1710.39"
        ],
        [
         "12406.0",
         "44",
         "3",
         "3280.75"
        ],
        [
         "12407.0",
         "71",
         "5",
         "1708.1200000000001"
        ],
        [
         "12408.0",
         "54",
         "9",
         "2842.57"
        ]
       ],
       "shape": {
        "columns": 3,
        "rows": 4372
       }
      },
      "text/html": [
       "<div>\n",
       "<style scoped>\n",
       "    .dataframe tbody tr th:only-of-type {\n",
       "        vertical-align: middle;\n",
       "    }\n",
       "\n",
       "    .dataframe tbody tr th {\n",
       "        vertical-align: top;\n",
       "    }\n",
       "\n",
       "    .dataframe thead th {\n",
       "        text-align: right;\n",
       "    }\n",
       "</style>\n",
       "<table border=\"1\" class=\"dataframe\">\n",
       "  <thead>\n",
       "    <tr style=\"text-align: right;\">\n",
       "      <th></th>\n",
       "      <th>InvoiceAge</th>\n",
       "      <th>InvoiceNo</th>\n",
       "      <th>total</th>\n",
       "    </tr>\n",
       "    <tr>\n",
       "      <th>CustomerID</th>\n",
       "      <th></th>\n",
       "      <th></th>\n",
       "      <th></th>\n",
       "    </tr>\n",
       "  </thead>\n",
       "  <tbody>\n",
       "    <tr>\n",
       "      <th>12346.0</th>\n",
       "      <td>347</td>\n",
       "      <td>2</td>\n",
       "      <td>0.00</td>\n",
       "    </tr>\n",
       "    <tr>\n",
       "      <th>12347.0</th>\n",
       "      <td>24</td>\n",
       "      <td>7</td>\n",
       "      <td>4310.00</td>\n",
       "    </tr>\n",
       "    <tr>\n",
       "      <th>12348.0</th>\n",
       "      <td>97</td>\n",
       "      <td>4</td>\n",
       "      <td>1797.24</td>\n",
       "    </tr>\n",
       "    <tr>\n",
       "      <th>12349.0</th>\n",
       "      <td>40</td>\n",
       "      <td>1</td>\n",
       "      <td>1757.55</td>\n",
       "    </tr>\n",
       "    <tr>\n",
       "      <th>12350.0</th>\n",
       "      <td>332</td>\n",
       "      <td>1</td>\n",
       "      <td>334.40</td>\n",
       "    </tr>\n",
       "    <tr>\n",
       "      <th>...</th>\n",
       "      <td>...</td>\n",
       "      <td>...</td>\n",
       "      <td>...</td>\n",
       "    </tr>\n",
       "    <tr>\n",
       "      <th>18280.0</th>\n",
       "      <td>299</td>\n",
       "      <td>1</td>\n",
       "      <td>180.60</td>\n",
       "    </tr>\n",
       "    <tr>\n",
       "      <th>18281.0</th>\n",
       "      <td>202</td>\n",
       "      <td>1</td>\n",
       "      <td>80.82</td>\n",
       "    </tr>\n",
       "    <tr>\n",
       "      <th>18282.0</th>\n",
       "      <td>29</td>\n",
       "      <td>3</td>\n",
       "      <td>176.60</td>\n",
       "    </tr>\n",
       "    <tr>\n",
       "      <th>18283.0</th>\n",
       "      <td>25</td>\n",
       "      <td>16</td>\n",
       "      <td>2094.88</td>\n",
       "    </tr>\n",
       "    <tr>\n",
       "      <th>18287.0</th>\n",
       "      <td>64</td>\n",
       "      <td>3</td>\n",
       "      <td>1837.28</td>\n",
       "    </tr>\n",
       "  </tbody>\n",
       "</table>\n",
       "<p>4372 rows × 3 columns</p>\n",
       "</div>"
      ],
      "text/plain": [
       "            InvoiceAge  InvoiceNo    total\n",
       "CustomerID                                \n",
       "12346.0            347          2     0.00\n",
       "12347.0             24          7  4310.00\n",
       "12348.0             97          4  1797.24\n",
       "12349.0             40          1  1757.55\n",
       "12350.0            332          1   334.40\n",
       "...                ...        ...      ...\n",
       "18280.0            299          1   180.60\n",
       "18281.0            202          1    80.82\n",
       "18282.0             29          3   176.60\n",
       "18283.0             25         16  2094.88\n",
       "18287.0             64          3  1837.28\n",
       "\n",
       "[4372 rows x 3 columns]"
      ]
     },
     "execution_count": 230,
     "metadata": {},
     "output_type": "execute_result"
    }
   ],
   "source": [
    "RFM=pd.concat([recency,freq,money], axis=1)\n",
    "RFM"
   ]
  },
  {
   "cell_type": "code",
   "execution_count": 231,
   "metadata": {},
   "outputs": [
    {
     "data": {
      "application/vnd.microsoft.datawrangler.viewer.v0+json": {
       "columns": [
        {
         "name": "CustomerID",
         "rawType": "float64",
         "type": "float"
        },
        {
         "name": "Recency",
         "rawType": "int64",
         "type": "integer"
        },
        {
         "name": "Frequency",
         "rawType": "int64",
         "type": "integer"
        },
        {
         "name": "Monetary",
         "rawType": "float64",
         "type": "float"
        }
       ],
       "conversionMethod": "pd.DataFrame",
       "ref": "6ddec38e-ffef-4c25-b915-fbb1488147e5",
       "rows": [
        [
         "12346.0",
         "347",
         "2",
         "0.0"
        ],
        [
         "12347.0",
         "24",
         "7",
         "4310.0"
        ],
        [
         "12348.0",
         "97",
         "4",
         "1797.24"
        ],
        [
         "12349.0",
         "40",
         "1",
         "1757.55"
        ],
        [
         "12350.0",
         "332",
         "1",
         "334.4"
        ],
        [
         "12352.0",
         "58",
         "11",
         "1545.41"
        ],
        [
         "12353.0",
         "226",
         "1",
         "89.0"
        ],
        [
         "12354.0",
         "254",
         "1",
         "1079.4"
        ],
        [
         "12355.0",
         "236",
         "1",
         "459.4"
        ],
        [
         "12356.0",
         "44",
         "3",
         "2811.43"
        ],
        [
         "12357.0",
         "55",
         "1",
         "6207.67"
        ],
        [
         "12358.0",
         "23",
         "2",
         "1168.06"
        ],
        [
         "12359.0",
         "29",
         "6",
         "6245.53"
        ],
        [
         "12360.0",
         "74",
         "3",
         "2662.06"
        ],
        [
         "12361.0",
         "309",
         "1",
         "189.9"
        ],
        [
         "12362.0",
         "25",
         "13",
         "5154.58"
        ],
        [
         "12363.0",
         "131",
         "2",
         "552.0"
        ],
        [
         "12364.0",
         "29",
         "4",
         "1313.1"
        ],
        [
         "12365.0",
         "313",
         "3",
         "320.69"
        ],
        [
         "12367.0",
         "26",
         "1",
         "168.9"
        ],
        [
         "12370.0",
         "73",
         "4",
         "3545.69"
        ],
        [
         "12371.0",
         "66",
         "2",
         "1887.96"
        ],
        [
         "12372.0",
         "93",
         "3",
         "1298.04"
        ],
        [
         "12373.0",
         "333",
         "1",
         "364.6"
        ],
        [
         "12374.0",
         "47",
         "1",
         "742.9300000000001"
        ],
        [
         "12375.0",
         "24",
         "3",
         "455.42"
        ],
        [
         "12377.0",
         "337",
         "2",
         "1628.12"
        ],
        [
         "12378.0",
         "151",
         "1",
         "4008.62"
        ],
        [
         "12379.0",
         "103",
         "3",
         "850.29"
        ],
        [
         "12380.0",
         "43",
         "5",
         "2720.56"
        ],
        [
         "12381.0",
         "26",
         "6",
         "1803.96"
        ],
        [
         "12383.0",
         "206",
         "6",
         "1839.31"
        ],
        [
         "12384.0",
         "50",
         "3",
         "566.16"
        ],
        [
         "12386.0",
         "359",
         "2",
         "401.9"
        ],
        [
         "12388.0",
         "37",
         "6",
         "2780.66"
        ],
        [
         "12390.0",
         "101",
         "1",
         "549.84"
        ],
        [
         "12391.0",
         "43",
         "1",
         "460.89"
        ],
        [
         "12393.0",
         "94",
         "4",
         "1582.6000000000001"
        ],
        [
         "12394.0",
         "85",
         "2",
         "1272.48"
        ],
        [
         "12395.0",
         "37",
         "15",
         "2998.28"
        ],
        [
         "12397.0",
         "57",
         "2",
         "2409.9"
        ],
        [
         "12398.0",
         "67",
         "1",
         "1635.6599999999999"
        ],
        [
         "12399.0",
         "141",
         "4",
         "1108.65"
        ],
        [
         "12401.0",
         "325",
         "1",
         "84.3"
        ],
        [
         "12402.0",
         "345",
         "1",
         "225.6"
        ],
        [
         "12403.0",
         "71",
         "2",
         "409.7"
        ],
        [
         "12405.0",
         "170",
         "1",
         "1710.39"
        ],
        [
         "12406.0",
         "44",
         "3",
         "3280.75"
        ],
        [
         "12407.0",
         "71",
         "5",
         "1708.1200000000001"
        ],
        [
         "12408.0",
         "54",
         "9",
         "2842.57"
        ]
       ],
       "shape": {
        "columns": 3,
        "rows": 4372
       }
      },
      "text/html": [
       "<div>\n",
       "<style scoped>\n",
       "    .dataframe tbody tr th:only-of-type {\n",
       "        vertical-align: middle;\n",
       "    }\n",
       "\n",
       "    .dataframe tbody tr th {\n",
       "        vertical-align: top;\n",
       "    }\n",
       "\n",
       "    .dataframe thead th {\n",
       "        text-align: right;\n",
       "    }\n",
       "</style>\n",
       "<table border=\"1\" class=\"dataframe\">\n",
       "  <thead>\n",
       "    <tr style=\"text-align: right;\">\n",
       "      <th></th>\n",
       "      <th>Recency</th>\n",
       "      <th>Frequency</th>\n",
       "      <th>Monetary</th>\n",
       "    </tr>\n",
       "    <tr>\n",
       "      <th>CustomerID</th>\n",
       "      <th></th>\n",
       "      <th></th>\n",
       "      <th></th>\n",
       "    </tr>\n",
       "  </thead>\n",
       "  <tbody>\n",
       "    <tr>\n",
       "      <th>12346.0</th>\n",
       "      <td>347</td>\n",
       "      <td>2</td>\n",
       "      <td>0.00</td>\n",
       "    </tr>\n",
       "    <tr>\n",
       "      <th>12347.0</th>\n",
       "      <td>24</td>\n",
       "      <td>7</td>\n",
       "      <td>4310.00</td>\n",
       "    </tr>\n",
       "    <tr>\n",
       "      <th>12348.0</th>\n",
       "      <td>97</td>\n",
       "      <td>4</td>\n",
       "      <td>1797.24</td>\n",
       "    </tr>\n",
       "    <tr>\n",
       "      <th>12349.0</th>\n",
       "      <td>40</td>\n",
       "      <td>1</td>\n",
       "      <td>1757.55</td>\n",
       "    </tr>\n",
       "    <tr>\n",
       "      <th>12350.0</th>\n",
       "      <td>332</td>\n",
       "      <td>1</td>\n",
       "      <td>334.40</td>\n",
       "    </tr>\n",
       "    <tr>\n",
       "      <th>...</th>\n",
       "      <td>...</td>\n",
       "      <td>...</td>\n",
       "      <td>...</td>\n",
       "    </tr>\n",
       "    <tr>\n",
       "      <th>18280.0</th>\n",
       "      <td>299</td>\n",
       "      <td>1</td>\n",
       "      <td>180.60</td>\n",
       "    </tr>\n",
       "    <tr>\n",
       "      <th>18281.0</th>\n",
       "      <td>202</td>\n",
       "      <td>1</td>\n",
       "      <td>80.82</td>\n",
       "    </tr>\n",
       "    <tr>\n",
       "      <th>18282.0</th>\n",
       "      <td>29</td>\n",
       "      <td>3</td>\n",
       "      <td>176.60</td>\n",
       "    </tr>\n",
       "    <tr>\n",
       "      <th>18283.0</th>\n",
       "      <td>25</td>\n",
       "      <td>16</td>\n",
       "      <td>2094.88</td>\n",
       "    </tr>\n",
       "    <tr>\n",
       "      <th>18287.0</th>\n",
       "      <td>64</td>\n",
       "      <td>3</td>\n",
       "      <td>1837.28</td>\n",
       "    </tr>\n",
       "  </tbody>\n",
       "</table>\n",
       "<p>4372 rows × 3 columns</p>\n",
       "</div>"
      ],
      "text/plain": [
       "            Recency  Frequency  Monetary\n",
       "CustomerID                              \n",
       "12346.0         347          2      0.00\n",
       "12347.0          24          7   4310.00\n",
       "12348.0          97          4   1797.24\n",
       "12349.0          40          1   1757.55\n",
       "12350.0         332          1    334.40\n",
       "...             ...        ...       ...\n",
       "18280.0         299          1    180.60\n",
       "18281.0         202          1     80.82\n",
       "18282.0          29          3    176.60\n",
       "18283.0          25         16   2094.88\n",
       "18287.0          64          3   1837.28\n",
       "\n",
       "[4372 rows x 3 columns]"
      ]
     },
     "execution_count": 231,
     "metadata": {},
     "output_type": "execute_result"
    }
   ],
   "source": [
    "RFM.columns = ['Recency', 'Frequency', 'Monetary']\n",
    "RFM"
   ]
  },
  {
   "cell_type": "code",
   "execution_count": 232,
   "metadata": {},
   "outputs": [],
   "source": [
    "# Standardization\n",
    "\n",
    "from sklearn.preprocessing import StandardScaler\n",
    "scaler=StandardScaler()\n",
    "scaled=scaler.fit_transform(RFM)"
   ]
  },
  {
   "cell_type": "code",
   "execution_count": 233,
   "metadata": {},
   "outputs": [
    {
     "data": {
      "text/plain": [
       "array([[ 2.31656788, -0.32936215, -0.23100099],\n",
       "       [-0.88904975,  0.20610242,  0.29343167],\n",
       "       [-0.16456032, -0.11517632, -0.01231622],\n",
       "       ...,\n",
       "       [-0.83942719, -0.22226923, -0.20951263],\n",
       "       [-0.87912524,  1.16993863,  0.02390005],\n",
       "       [-0.49206924, -0.22226923, -0.00744423]])"
      ]
     },
     "execution_count": 233,
     "metadata": {},
     "output_type": "execute_result"
    }
   ],
   "source": [
    "scaled"
   ]
  },
  {
   "cell_type": "code",
   "execution_count": 234,
   "metadata": {},
   "outputs": [
    {
     "data": {
      "text/plain": [
       "(4372, 3)"
      ]
     },
     "execution_count": 234,
     "metadata": {},
     "output_type": "execute_result"
    }
   ],
   "source": [
    "scaled.shape"
   ]
  },
  {
   "cell_type": "code",
   "execution_count": 235,
   "metadata": {},
   "outputs": [],
   "source": [
    "from sklearn.cluster import KMeans"
   ]
  },
  {
   "cell_type": "markdown",
   "metadata": {},
   "source": [
    "### To find out the value of K"
   ]
  },
  {
   "cell_type": "code",
   "execution_count": 236,
   "metadata": {},
   "outputs": [],
   "source": [
    "k_range = range(2,11)\n",
    "sse = []\n",
    "for k in k_range:\n",
    "    km = KMeans(n_clusters=k) \n",
    "    km.fit(scaled)\n",
    "    sse.append(km.inertia_) #Sum of squared distances of samples to their closest cluster center."
   ]
  },
  {
   "cell_type": "code",
   "execution_count": 237,
   "metadata": {},
   "outputs": [
    {
     "data": {
      "text/plain": [
       "[9134.642381209182,\n",
       " 5579.619016131372,\n",
       " 4081.896097033866,\n",
       " 3602.193179284245,\n",
       " 2554.563065437761,\n",
       " 2023.2753536481052,\n",
       " 1585.703856664251,\n",
       " 1433.3558641766328,\n",
       " 1372.3467105313018]"
      ]
     },
     "execution_count": 237,
     "metadata": {},
     "output_type": "execute_result"
    }
   ],
   "source": [
    "sse"
   ]
  },
  {
   "cell_type": "code",
   "execution_count": 238,
   "metadata": {},
   "outputs": [
    {
     "data": {
      "image/png": "[encoded data removed]",
      "text/plain": [
       "<Figure size 800x550 with 1 Axes>"
      ]
     },
     "metadata": {},
     "output_type": "display_data"
    }
   ],
   "source": [
    "plt.plot(k_range, sse, 'r-*')\n",
    "plt.xlabel ='k'\n",
    "plt.ylabel = 'Sum of Squared Error'"
   ]
  },
  {
   "cell_type": "code",
   "execution_count": 239,
   "metadata": {},
   "outputs": [
    {
     "name": "stdout",
     "output_type": "stream",
     "text": [
      "Requirement already satisfied: yellowbrick in c:\\users\\hp\\appdata\\local\\programs\\python\\python312\\lib\\site-packages (1.5)\n",
      "Requirement already satisfied: matplotlib!=3.0.0,>=2.0.2 in c:\\users\\hp\\appdata\\local\\programs\\python\\python312\\lib\\site-packages (from yellowbrick) (3.10.0)\n",
      "Requirement already satisfied: scipy>=1.0.0 in c:\\users\\hp\\appdata\\local\\programs\\python\\python312\\lib\\site-packages (from yellowbrick) (1.14.0)\n",
      "Requirement already satisfied: scikit-learn>=1.0.0 in c:\\users\\hp\\appdata\\local\\programs\\python\\python312\\lib\\site-packages (from yellowbrick) (1.5.1)\n",
      "Requirement already satisfied: numpy>=1.16.0 in c:\\users\\hp\\appdata\\local\\programs\\python\\python312\\lib\\site-packages (from yellowbrick) (2.0.0)\n",
      "Requirement already satisfied: cycler>=0.10.0 in c:\\users\\hp\\appdata\\local\\programs\\python\\python312\\lib\\site-packages (from yellowbrick) (0.12.1)\n",
      "Requirement already satisfied: contourpy>=1.0.1 in c:\\users\\hp\\appdata\\local\\programs\\python\\python312\\lib\\site-packages (from matplotlib!=3.0.0,>=2.0.2->yellowbrick) (1.3.1)\n",
      "Requirement already satisfied: fonttools>=4.22.0 in c:\\users\\hp\\appdata\\local\\programs\\python\\python312\\lib\\site-packages (from matplotlib!=3.0.0,>=2.0.2->yellowbrick) (4.55.3)\n",
      "Requirement already satisfied: kiwisolver>=1.3.1 in c:\\users\\hp\\appdata\\local\\programs\\python\\python312\\lib\\site-packages (from matplotlib!=3.0.0,>=2.0.2->yellowbrick) (1.4.8)\n",
      "Requirement already satisfied: packaging>=20.0 in c:\\users\\hp\\appdata\\roaming\\python\\python312\\site-packages (from matplotlib!=3.0.0,>=2.0.2->yellowbrick) (24.1)\n",
      "Requirement already satisfied: pillow>=8 in c:\\users\\hp\\appdata\\local\\programs\\python\\python312\\lib\\site-packages (from matplotlib!=3.0.0,>=2.0.2->yellowbrick) (11.1.0)\n",
      "Requirement already satisfied: pyparsing>=2.3.1 in c:\\users\\hp\\appdata\\local\\programs\\python\\python312\\lib\\site-packages (from matplotlib!=3.0.0,>=2.0.2->yellowbrick) (3.2.1)\n",
      "Requirement already satisfied: python-dateutil>=2.7 in c:\\users\\hp\\appdata\\roaming\\python\\python312\\site-packages (from matplotlib!=3.0.0,>=2.0.2->yellowbrick) (2.9.0.post0)\n",
      "Requirement already satisfied: joblib>=1.2.0 in c:\\users\\hp\\appdata\\local\\programs\\python\\python312\\lib\\site-packages (from scikit-learn>=1.0.0->yellowbrick) (1.4.2)\n",
      "Requirement already satisfied: threadpoolctl>=3.1.0 in c:\\users\\hp\\appdata\\local\\programs\\python\\python312\\lib\\site-packages (from scikit-learn>=1.0.0->yellowbrick) (3.5.0)\n",
      "Requirement already satisfied: six>=1.5 in c:\\users\\hp\\appdata\\roaming\\python\\python312\\site-packages (from python-dateutil>=2.7->matplotlib!=3.0.0,>=2.0.2->yellowbrick) (1.16.0)\n",
      "Note: you may need to restart the kernel to use updated packages.\n"
     ]
    }
   ],
   "source": [
    "pip install yellowbrick"
   ]
  },
  {
   "cell_type": "code",
   "execution_count": 240,
   "metadata": {},
   "outputs": [
    {
     "data": {
      "image/png": "[encoded data removed]",
      "text/plain": [
       "<Figure size 800x550 with 2 Axes>"
      ]
     },
     "metadata": {},
     "output_type": "display_data"
    },
    {
     "data": {
      "text/plain": [
       "<Axes: title={'center': 'Distortion Score Elbow for KMeans Clustering'}, xlabel='k', ylabel='distortion score'>"
      ]
     },
     "execution_count": 240,
     "metadata": {},
     "output_type": "execute_result"
    }
   ],
   "source": [
    "from yellowbrick.cluster import KElbowVisualizer\n",
    "Elbow = KElbowVisualizer(KMeans(), k=10)\n",
    "Elbow.fit(scaled)\n",
    "Elbow.show()"
   ]
  },
  {
   "cell_type": "markdown",
   "metadata": {},
   "source": [
    "### Object Creation and data fitting"
   ]
  },
  {
   "cell_type": "code",
   "execution_count": 241,
   "metadata": {},
   "outputs": [
    {
     "data": {
      "text/html": [
       "<style>#sk-container-id-5 {\n",
       "  /* Definition of color scheme common for light and dark mode */\n",
       "  --sklearn-color-text: black;\n",
       "  --sklearn-color-line: gray;\n",
       "  /* Definition of color scheme for unfitted estimators */\n",
       "  --sklearn-color-unfitted-level-0: #fff5e6;\n",
       "  --sklearn-color-unfitted-level-1: #f6e4d2;\n",
       "  --sklearn-color-unfitted-level-2: #ffe0b3;\n",
       "  --sklearn-color-unfitted-level-3: chocolate;\n",
       "  /* Definition of color scheme for fitted estimators */\n",
       "  --sklearn-color-fitted-level-0: #f0f8ff;\n",
       "  --sklearn-color-fitted-level-1: #d4ebff;\n",
       "  --sklearn-color-fitted-level-2: #b3dbfd;\n",
       "  --sklearn-color-fitted-level-3: cornflowerblue;\n",
       "\n",
       "  /* Specific color for light theme */\n",
       "  --sklearn-color-text-on-default-background: var(--sg-text-color, var(--theme-code-foreground, var(--jp-content-font-color1, black)));\n",
       "  --sklearn-color-background: var(--sg-background-color, var(--theme-background, var(--jp-layout-color0, white)));\n",
       "  --sklearn-color-border-box: var(--sg-text-color, var(--theme-code-foreground, var(--jp-content-font-color1, black)));\n",
       "  --sklearn-color-icon: #696969;\n",
       "\n",
       "  @media (prefers-color-scheme: dark) {\n",
       "    /* Redefinition of color scheme for dark theme */\n",
       "    --sklearn-color-text-on-default-background: var(--sg-text-color, var(--theme-code-foreground, var(--jp-content-font-color1, white)));\n",
       "    --sklearn-color-background: var(--sg-background-color, var(--theme-background, var(--jp-layout-color0, #111)));\n",
       "    --sklearn-color-border-box: var(--sg-text-color, var(--theme-code-foreground, var(--jp-content-font-color1, white)));\n",
       "    --sklearn-color-icon: #878787;\n",
       "  }\n",
       "}\n",
       "\n",
       "#sk-container-id-5 {\n",
       "  color: var(--sklearn-color-text);\n",
       "}\n",
       "\n",
       "#sk-container-id-5 pre {\n",
       "  padding: 0;\n",
       "}\n",
       "\n",
       "#sk-container-id-5 input.sk-hidden--visually {\n",
       "  border: 0;\n",
       "  clip: rect(1px 1px 1px 1px);\n",
       "  clip: rect(1px, 1px, 1px, 1px);\n",
       "  height: 1px;\n",
       "  margin: -1px;\n",
       "  overflow: hidden;\n",
       "  padding: 0;\n",
       "  position: absolute;\n",
       "  width: 1px;\n",
       "}\n",
       "\n",
       "#sk-container-id-5 div.sk-dashed-wrapped {\n",
       "  border: 1px dashed var(--sklearn-color-line);\n",
       "  margin: 0 0.4em 0.5em 0.4em;\n",
       "  box-sizing: border-box;\n",
       "  padding-bottom: 0.4em;\n",
       "  background-color: var(--sklearn-color-background);\n",
       "}\n",
       "\n",
       "#sk-container-id-5 div.sk-container {\n",
       "  /* jupyter's `normalize.less` sets `[hidden] { display: none; }`\n",
       "     but bootstrap.min.css set `[hidden] { display: none !important; }`\n",
       "     so we also need the `!important` here to be able to override the\n",
       "     default hidden behavior on the sphinx rendered scikit-learn.org.\n",
       "     See: https://github.com/scikit-learn/scikit-learn/issues/21755 */\n",
       "  display: inline-block !important;\n",
       "  position: relative;\n",
       "}\n",
       "\n",
       "#sk-container-id-5 div.sk-text-repr-fallback {\n",
       "  display: none;\n",
       "}\n",
       "\n",
       "div.sk-parallel-item,\n",
       "div.sk-serial,\n",
       "div.sk-item {\n",
       "  /* draw centered vertical line to link estimators */\n",
       "  background-image: linear-gradient(var(--sklearn-color-text-on-default-background), var(--sklearn-color-text-on-default-background));\n",
       "  background-size: 2px 100%;\n",
       "  background-repeat: no-repeat;\n",
       "  background-position: center center;\n",
       "}\n",
       "\n",
       "/* Parallel-specific style estimator block */\n",
       "\n",
       "#sk-container-id-5 div.sk-parallel-item::after {\n",
       "  content: \"\";\n",
       "  width: 100%;\n",
       "  border-bottom: 2px solid var(--sklearn-color-text-on-default-background);\n",
       "  flex-grow: 1;\n",
       "}\n",
       "\n",
       "#sk-container-id-5 div.sk-parallel {\n",
       "  display: flex;\n",
       "  align-items: stretch;\n",
       "  justify-content: center;\n",
       "  background-color: var(--sklearn-color-background);\n",
       "  position: relative;\n",
       "}\n",
       "\n",
       "#sk-container-id-5 div.sk-parallel-item {\n",
       "  display: flex;\n",
       "  flex-direction: column;\n",
       "}\n",
       "\n",
       "#sk-container-id-5 div.sk-parallel-item:first-child::after {\n",
       "  align-self: flex-end;\n",
       "  width: 50%;\n",
       "}\n",
       "\n",
       "#sk-container-id-5 div.sk-parallel-item:last-child::after {\n",
       "  align-self: flex-start;\n",
       "  width: 50%;\n",
       "}\n",
       "\n",
       "#sk-container-id-5 div.sk-parallel-item:only-child::after {\n",
       "  width: 0;\n",
       "}\n",
       "\n",
       "/* Serial-specific style estimator block */\n",
       "\n",
       "#sk-container-id-5 div.sk-serial {\n",
       "  display: flex;\n",
       "  flex-direction: column;\n",
       "  align-items: center;\n",
       "  background-color: var(--sklearn-color-background);\n",
       "  padding-right: 1em;\n",
       "  padding-left: 1em;\n",
       "}\n",
       "\n",
       "\n",
       "/* Toggleable style: style used for estimator/Pipeline/ColumnTransformer box that is\n",
       "clickable and can be expanded/collapsed.\n",
       "- Pipeline and ColumnTransformer use this feature and define the default style\n",
       "- Estimators will overwrite some part of the style using the `sk-estimator` class\n",
       "*/\n",
       "\n",
       "/* Pipeline and ColumnTransformer style (default) */\n",
       "\n",
       "#sk-container-id-5 div.sk-toggleable {\n",
       "  /* Default theme specific background. It is overwritten whether we have a\n",
       "  specific estimator or a Pipeline/ColumnTransformer */\n",
       "  background-color: var(--sklearn-color-background);\n",
       "}\n",
       "\n",
       "/* Toggleable label */\n",
       "#sk-container-id-5 label.sk-toggleable__label {\n",
       "  cursor: pointer;\n",
       "  display: block;\n",
       "  width: 100%;\n",
       "  margin-bottom: 0;\n",
       "  padding: 0.5em;\n",
       "  box-sizing: border-box;\n",
       "  text-align: center;\n",
       "}\n",
       "\n",
       "#sk-container-id-5 label.sk-toggleable__label-arrow:before {\n",
       "  /* Arrow on the left of the label */\n",
       "  content: \"▸\";\n",
       "  float: left;\n",
       "  margin-right: 0.25em;\n",
       "  color: var(--sklearn-color-icon);\n",
       "}\n",
       "\n",
       "#sk-container-id-5 label.sk-toggleable__label-arrow:hover:before {\n",
       "  color: var(--sklearn-color-text);\n",
       "}\n",
       "\n",
       "/* Toggleable content - dropdown */\n",
       "\n",
       "#sk-container-id-5 div.sk-toggleable__content {\n",
       "  max-height: 0;\n",
       "  max-width: 0;\n",
       "  overflow: hidden;\n",
       "  text-align: left;\n",
       "  /* unfitted */\n",
       "  background-color: var(--sklearn-color-unfitted-level-0);\n",
       "}\n",
       "\n",
       "#sk-container-id-5 div.sk-toggleable__content.fitted {\n",
       "  /* fitted */\n",
       "  background-color: var(--sklearn-color-fitted-level-0);\n",
       "}\n",
       "\n",
       "#sk-container-id-5 div.sk-toggleable__content pre {\n",
       "  margin: 0.2em;\n",
       "  border-radius: 0.25em;\n",
       "  color: var(--sklearn-color-text);\n",
       "  /* unfitted */\n",
       "  background-color: var(--sklearn-color-unfitted-level-0);\n",
       "}\n",
       "\n",
       "#sk-container-id-5 div.sk-toggleable__content.fitted pre {\n",
       "  /* unfitted */\n",
       "  background-color: var(--sklearn-color-fitted-level-0);\n",
       "}\n",
       "\n",
       "#sk-container-id-5 input.sk-toggleable__control:checked~div.sk-toggleable__content {\n",
       "  /* Expand drop-down */\n",
       "  max-height: 200px;\n",
       "  max-width: 100%;\n",
       "  overflow: auto;\n",
       "}\n",
       "\n",
       "#sk-container-id-5 input.sk-toggleable__control:checked~label.sk-toggleable__label-arrow:before {\n",
       "  content: \"▾\";\n",
       "}\n",
       "\n",
       "/* Pipeline/ColumnTransformer-specific style */\n",
       "\n",
       "#sk-container-id-5 div.sk-label input.sk-toggleable__control:checked~label.sk-toggleable__label {\n",
       "  color: var(--sklearn-color-text);\n",
       "  background-color: var(--sklearn-color-unfitted-level-2);\n",
       "}\n",
       "\n",
       "#sk-container-id-5 div.sk-label.fitted input.sk-toggleable__control:checked~label.sk-toggleable__label {\n",
       "  background-color: var(--sklearn-color-fitted-level-2);\n",
       "}\n",
       "\n",
       "/* Estimator-specific style */\n",
       "\n",
       "/* Colorize estimator box */\n",
       "#sk-container-id-5 div.sk-estimator input.sk-toggleable__control:checked~label.sk-toggleable__label {\n",
       "  /* unfitted */\n",
       "  background-color: var(--sklearn-color-unfitted-level-2);\n",
       "}\n",
       "\n",
       "#sk-container-id-5 div.sk-estimator.fitted input.sk-toggleable__control:checked~label.sk-toggleable__label {\n",
       "  /* fitted */\n",
       "  background-color: var(--sklearn-color-fitted-level-2);\n",
       "}\n",
       "\n",
       "#sk-container-id-5 div.sk-label label.sk-toggleable__label,\n",
       "#sk-container-id-5 div.sk-label label {\n",
       "  /* The background is the default theme color */\n",
       "  color: var(--sklearn-color-text-on-default-background);\n",
       "}\n",
       "\n",
       "/* On hover, darken the color of the background */\n",
       "#sk-container-id-5 div.sk-label:hover label.sk-toggleable__label {\n",
       "  color: var(--sklearn-color-text);\n",
       "  background-color: var(--sklearn-color-unfitted-level-2);\n",
       "}\n",
       "\n",
       "/* Label box, darken color on hover, fitted */\n",
       "#sk-container-id-5 div.sk-label.fitted:hover label.sk-toggleable__label.fitted {\n",
       "  color: var(--sklearn-color-text);\n",
       "  background-color: var(--sklearn-color-fitted-level-2);\n",
       "}\n",
       "\n",
       "/* Estimator label */\n",
       "\n",
       "#sk-container-id-5 div.sk-label label {\n",
       "  font-family: monospace;\n",
       "  font-weight: bold;\n",
       "  display: inline-block;\n",
       "  line-height: 1.2em;\n",
       "}\n",
       "\n",
       "#sk-container-id-5 div.sk-label-container {\n",
       "  text-align: center;\n",
       "}\n",
       "\n",
       "/* Estimator-specific */\n",
       "#sk-container-id-5 div.sk-estimator {\n",
       "  font-family: monospace;\n",
       "  border: 1px dotted var(--sklearn-color-border-box);\n",
       "  border-radius: 0.25em;\n",
       "  box-sizing: border-box;\n",
       "  margin-bottom: 0.5em;\n",
       "  /* unfitted */\n",
       "  background-color: var(--sklearn-color-unfitted-level-0);\n",
       "}\n",
       "\n",
       "#sk-container-id-5 div.sk-estimator.fitted {\n",
       "  /* fitted */\n",
       "  background-color: var(--sklearn-color-fitted-level-0);\n",
       "}\n",
       "\n",
       "/* on hover */\n",
       "#sk-container-id-5 div.sk-estimator:hover {\n",
       "  /* unfitted */\n",
       "  background-color: var(--sklearn-color-unfitted-level-2);\n",
       "}\n",
       "\n",
       "#sk-container-id-5 div.sk-estimator.fitted:hover {\n",
       "  /* fitted */\n",
       "  background-color: var(--sklearn-color-fitted-level-2);\n",
       "}\n",
       "\n",
       "/* Specification for estimator info (e.g. \"i\" and \"?\") */\n",
       "\n",
       "/* Common style for \"i\" and \"?\" */\n",
       "\n",
       ".sk-estimator-doc-link,\n",
       "a:link.sk-estimator-doc-link,\n",
       "a:visited.sk-estimator-doc-link {\n",
       "  float: right;\n",
       "  font-size: smaller;\n",
       "  line-height: 1em;\n",
       "  font-family: monospace;\n",
       "  background-color: var(--sklearn-color-background);\n",
       "  border-radius: 1em;\n",
       "  height: 1em;\n",
       "  width: 1em;\n",
       "  text-decoration: none !important;\n",
       "  margin-left: 1ex;\n",
       "  /* unfitted */\n",
       "  border: var(--sklearn-color-unfitted-level-1) 1pt solid;\n",
       "  color: var(--sklearn-color-unfitted-level-1);\n",
       "}\n",
       "\n",
       ".sk-estimator-doc-link.fitted,\n",
       "a:link.sk-estimator-doc-link.fitted,\n",
       "a:visited.sk-estimator-doc-link.fitted {\n",
       "  /* fitted */\n",
       "  border: var(--sklearn-color-fitted-level-1) 1pt solid;\n",
       "  color: var(--sklearn-color-fitted-level-1);\n",
       "}\n",
       "\n",
       "/* On hover */\n",
       "div.sk-estimator:hover .sk-estimator-doc-link:hover,\n",
       ".sk-estimator-doc-link:hover,\n",
       "div.sk-label-container:hover .sk-estimator-doc-link:hover,\n",
       ".sk-estimator-doc-link:hover {\n",
       "  /* unfitted */\n",
       "  background-color: var(--sklearn-color-unfitted-level-3);\n",
       "  color: var(--sklearn-color-background);\n",
       "  text-decoration: none;\n",
       "}\n",
       "\n",
       "div.sk-estimator.fitted:hover .sk-estimator-doc-link.fitted:hover,\n",
       ".sk-estimator-doc-link.fitted:hover,\n",
       "div.sk-label-container:hover .sk-estimator-doc-link.fitted:hover,\n",
       ".sk-estimator-doc-link.fitted:hover {\n",
       "  /* fitted */\n",
       "  background-color: var(--sklearn-color-fitted-level-3);\n",
       "  color: var(--sklearn-color-background);\n",
       "  text-decoration: none;\n",
       "}\n",
       "\n",
       "/* Span, style for the box shown on hovering the info icon */\n",
       ".sk-estimator-doc-link span {\n",
       "  display: none;\n",
       "  z-index: 9999;\n",
       "  position: relative;\n",
       "  font-weight: normal;\n",
       "  right: .2ex;\n",
       "  padding: .5ex;\n",
       "  margin: .5ex;\n",
       "  width: min-content;\n",
       "  min-width: 20ex;\n",
       "  max-width: 50ex;\n",
       "  color: var(--sklearn-color-text);\n",
       "  box-shadow: 2pt 2pt 4pt #999;\n",
       "  /* unfitted */\n",
       "  background: var(--sklearn-color-unfitted-level-0);\n",
       "  border: .5pt solid var(--sklearn-color-unfitted-level-3);\n",
       "}\n",
       "\n",
       ".sk-estimator-doc-link.fitted span {\n",
       "  /* fitted */\n",
       "  background: var(--sklearn-color-fitted-level-0);\n",
       "  border: var(--sklearn-color-fitted-level-3);\n",
       "}\n",
       "\n",
       ".sk-estimator-doc-link:hover span {\n",
       "  display: block;\n",
       "}\n",
       "\n",
       "/* \"?\"-specific style due to the `<a>` HTML tag */\n",
       "\n",
       "#sk-container-id-5 a.estimator_doc_link {\n",
       "  float: right;\n",
       "  font-size: 1rem;\n",
       "  line-height: 1em;\n",
       "  font-family: monospace;\n",
       "  background-color: var(--sklearn-color-background);\n",
       "  border-radius: 1rem;\n",
       "  height: 1rem;\n",
       "  width: 1rem;\n",
       "  text-decoration: none;\n",
       "  /* unfitted */\n",
       "  color: var(--sklearn-color-unfitted-level-1);\n",
       "  border: var(--sklearn-color-unfitted-level-1) 1pt solid;\n",
       "}\n",
       "\n",
       "#sk-container-id-5 a.estimator_doc_link.fitted {\n",
       "  /* fitted */\n",
       "  border: var(--sklearn-color-fitted-level-1) 1pt solid;\n",
       "  color: var(--sklearn-color-fitted-level-1);\n",
       "}\n",
       "\n",
       "/* On hover */\n",
       "#sk-container-id-5 a.estimator_doc_link:hover {\n",
       "  /* unfitted */\n",
       "  background-color: var(--sklearn-color-unfitted-level-3);\n",
       "  color: var(--sklearn-color-background);\n",
       "  text-decoration: none;\n",
       "}\n",
       "\n",
       "#sk-container-id-5 a.estimator_doc_link.fitted:hover {\n",
       "  /* fitted */\n",
       "  background-color: var(--sklearn-color-fitted-level-3);\n",
       "}\n",
       "</style><div id=\"sk-container-id-5\" class=\"sk-top-container\"><div class=\"sk-text-repr-fallback\"><pre>KMeans(n_clusters=3)</pre><b>In a Jupyter environment, please rerun this cell to show the HTML representation or trust the notebook. <br />On GitHub, the HTML representation is unable to render, please try loading this page with nbviewer.org.</b></div><div class=\"sk-container\" hidden><div class=\"sk-item\"><div class=\"sk-estimator fitted sk-toggleable\"><input class=\"sk-toggleable__control sk-hidden--visually\" id=\"sk-estimator-id-5\" type=\"checkbox\" checked><label for=\"sk-estimator-id-5\" class=\"sk-toggleable__label fitted sk-toggleable__label-arrow fitted\">&nbsp;&nbsp;KMeans<a class=\"sk-estimator-doc-link fitted\" rel=\"noreferrer\" target=\"_blank\" href=\"https://scikit-learn.org/1.5/modules/generated/sklearn.cluster.KMeans.html\">?<span>Documentation for KMeans</span></a><span class=\"sk-estimator-doc-link fitted\">i<span>Fitted</span></span></label><div class=\"sk-toggleable__content fitted\"><pre>KMeans(n_clusters=3)</pre></div> </div></div></div></div>"
      ],
      "text/plain": [
       "KMeans(n_clusters=3)"
      ]
     },
     "execution_count": 241,
     "metadata": {},
     "output_type": "execute_result"
    }
   ],
   "source": [
    "kmeans=KMeans(n_clusters=3)\n",
    "kmeans.fit(scaled)"
   ]
  },
  {
   "cell_type": "code",
   "execution_count": 242,
   "metadata": {},
   "outputs": [
    {
     "data": {
      "text/plain": [
       "array([0, 1, 1, ..., 1, 1, 1], dtype=int32)"
      ]
     },
     "execution_count": 242,
     "metadata": {},
     "output_type": "execute_result"
    }
   ],
   "source": [
    "kmeans.labels_"
   ]
  },
  {
   "cell_type": "code",
   "execution_count": 243,
   "metadata": {},
   "outputs": [
    {
     "data": {
      "text/plain": [
       "(4372,)"
      ]
     },
     "execution_count": 243,
     "metadata": {},
     "output_type": "execute_result"
    }
   ],
   "source": [
    "kmeans.labels_.shape"
   ]
  },
  {
   "cell_type": "code",
   "execution_count": 244,
   "metadata": {},
   "outputs": [
    {
     "data": {
      "application/vnd.microsoft.datawrangler.viewer.v0+json": {
       "columns": [
        {
         "name": "CustomerID",
         "rawType": "float64",
         "type": "float"
        },
        {
         "name": "Recency",
         "rawType": "int64",
         "type": "integer"
        },
        {
         "name": "Frequency",
         "rawType": "int64",
         "type": "integer"
        },
        {
         "name": "Monetary",
         "rawType": "float64",
         "type": "float"
        },
        {
         "name": "Clusters",
         "rawType": "int32",
         "type": "integer"
        }
       ],
       "conversionMethod": "pd.DataFrame",
       "ref": "8b6169c4-59ba-4994-97c4-f55e4749a979",
       "rows": [
        [
         "12346.0",
         "347",
         "2",
         "0.0",
         "0"
        ],
        [
         "12347.0",
         "24",
         "7",
         "4310.0",
         "1"
        ],
        [
         "12348.0",
         "97",
         "4",
         "1797.24",
         "1"
        ],
        [
         "12349.0",
         "40",
         "1",
         "1757.55",
         "1"
        ],
        [
         "12350.0",
         "332",
         "1",
         "334.4",
         "0"
        ],
        [
         "12352.0",
         "58",
         "11",
         "1545.41",
         "1"
        ],
        [
         "12353.0",
         "226",
         "1",
         "89.0",
         "0"
        ],
        [
         "12354.0",
         "254",
         "1",
         "1079.4",
         "0"
        ],
        [
         "12355.0",
         "236",
         "1",
         "459.4",
         "0"
        ],
        [
         "12356.0",
         "44",
         "3",
         "2811.43",
         "1"
        ],
        [
         "12357.0",
         "55",
         "1",
         "6207.67",
         "1"
        ],
        [
         "12358.0",
         "23",
         "2",
         "1168.06",
         "1"
        ],
        [
         "12359.0",
         "29",
         "6",
         "6245.53",
         "1"
        ],
        [
         "12360.0",
         "74",
         "3",
         "2662.06",
         "1"
        ],
        [
         "12361.0",
         "309",
         "1",
         "189.9",
         "0"
        ],
        [
         "12362.0",
         "25",
         "13",
         "5154.58",
         "1"
        ],
        [
         "12363.0",
         "131",
         "2",
         "552.0",
         "1"
        ],
        [
         "12364.0",
         "29",
         "4",
         "1313.1",
         "1"
        ],
        [
         "12365.0",
         "313",
         "3",
         "320.69",
         "0"
        ],
        [
         "12367.0",
         "26",
         "1",
         "168.9",
         "1"
        ],
        [
         "12370.0",
         "73",
         "4",
         "3545.69",
         "1"
        ],
        [
         "12371.0",
         "66",
         "2",
         "1887.96",
         "1"
        ],
        [
         "12372.0",
         "93",
         "3",
         "1298.04",
         "1"
        ],
        [
         "12373.0",
         "333",
         "1",
         "364.6",
         "0"
        ],
        [
         "12374.0",
         "47",
         "1",
         "742.9300000000001",
         "1"
        ],
        [
         "12375.0",
         "24",
         "3",
         "455.42",
         "1"
        ],
        [
         "12377.0",
         "337",
         "2",
         "1628.12",
         "0"
        ],
        [
         "12378.0",
         "151",
         "1",
         "4008.62",
         "1"
        ],
        [
         "12379.0",
         "103",
         "3",
         "850.29",
         "1"
        ],
        [
         "12380.0",
         "43",
         "5",
         "2720.56",
         "1"
        ],
        [
         "12381.0",
         "26",
         "6",
         "1803.96",
         "1"
        ],
        [
         "12383.0",
         "206",
         "6",
         "1839.31",
         "0"
        ],
        [
         "12384.0",
         "50",
         "3",
         "566.16",
         "1"
        ],
        [
         "12386.0",
         "359",
         "2",
         "401.9",
         "0"
        ],
        [
         "12388.0",
         "37",
         "6",
         "2780.66",
         "1"
        ],
        [
         "12390.0",
         "101",
         "1",
         "549.84",
         "1"
        ],
        [
         "12391.0",
         "43",
         "1",
         "460.89",
         "1"
        ],
        [
         "12393.0",
         "94",
         "4",
         "1582.6000000000001",
         "1"
        ],
        [
         "12394.0",
         "85",
         "2",
         "1272.48",
         "1"
        ],
        [
         "12395.0",
         "37",
         "15",
         "2998.28",
         "1"
        ],
        [
         "12397.0",
         "57",
         "2",
         "2409.9",
         "1"
        ],
        [
         "12398.0",
         "67",
         "1",
         "1635.6599999999999",
         "1"
        ],
        [
         "12399.0",
         "141",
         "4",
         "1108.65",
         "1"
        ],
        [
         "12401.0",
         "325",
         "1",
         "84.3",
         "0"
        ],
        [
         "12402.0",
         "345",
         "1",
         "225.6",
         "0"
        ],
        [
         "12403.0",
         "71",
         "2",
         "409.7",
         "1"
        ],
        [
         "12405.0",
         "170",
         "1",
         "1710.39",
         "0"
        ],
        [
         "12406.0",
         "44",
         "3",
         "3280.75",
         "1"
        ],
        [
         "12407.0",
         "71",
         "5",
         "1708.1200000000001",
         "1"
        ],
        [
         "12408.0",
         "54",
         "9",
         "2842.57",
         "1"
        ]
       ],
       "shape": {
        "columns": 4,
        "rows": 4372
       }
      },
      "text/html": [
       "<div>\n",
       "<style scoped>\n",
       "    .dataframe tbody tr th:only-of-type {\n",
       "        vertical-align: middle;\n",
       "    }\n",
       "\n",
       "    .dataframe tbody tr th {\n",
       "        vertical-align: top;\n",
       "    }\n",
       "\n",
       "    .dataframe thead th {\n",
       "        text-align: right;\n",
       "    }\n",
       "</style>\n",
       "<table border=\"1\" class=\"dataframe\">\n",
       "  <thead>\n",
       "    <tr style=\"text-align: right;\">\n",
       "      <th></th>\n",
       "      <th>Recency</th>\n",
       "      <th>Frequency</th>\n",
       "      <th>Monetary</th>\n",
       "      <th>Clusters</th>\n",
       "    </tr>\n",
       "    <tr>\n",
       "      <th>CustomerID</th>\n",
       "      <th></th>\n",
       "      <th></th>\n",
       "      <th></th>\n",
       "      <th></th>\n",
       "    </tr>\n",
       "  </thead>\n",
       "  <tbody>\n",
       "    <tr>\n",
       "      <th>12346.0</th>\n",
       "      <td>347</td>\n",
       "      <td>2</td>\n",
       "      <td>0.00</td>\n",
       "      <td>0</td>\n",
       "    </tr>\n",
       "    <tr>\n",
       "      <th>12347.0</th>\n",
       "      <td>24</td>\n",
       "      <td>7</td>\n",
       "      <td>4310.00</td>\n",
       "      <td>1</td>\n",
       "    </tr>\n",
       "    <tr>\n",
       "      <th>12348.0</th>\n",
       "      <td>97</td>\n",
       "      <td>4</td>\n",
       "      <td>1797.24</td>\n",
       "      <td>1</td>\n",
       "    </tr>\n",
       "    <tr>\n",
       "      <th>12349.0</th>\n",
       "      <td>40</td>\n",
       "      <td>1</td>\n",
       "      <td>1757.55</td>\n",
       "      <td>1</td>\n",
       "    </tr>\n",
       "    <tr>\n",
       "      <th>12350.0</th>\n",
       "      <td>332</td>\n",
       "      <td>1</td>\n",
       "      <td>334.40</td>\n",
       "      <td>0</td>\n",
       "    </tr>\n",
       "    <tr>\n",
       "      <th>...</th>\n",
       "      <td>...</td>\n",
       "      <td>...</td>\n",
       "      <td>...</td>\n",
       "      <td>...</td>\n",
       "    </tr>\n",
       "    <tr>\n",
       "      <th>18280.0</th>\n",
       "      <td>299</td>\n",
       "      <td>1</td>\n",
       "      <td>180.60</td>\n",
       "      <td>0</td>\n",
       "    </tr>\n",
       "    <tr>\n",
       "      <th>18281.0</th>\n",
       "      <td>202</td>\n",
       "      <td>1</td>\n",
       "      <td>80.82</td>\n",
       "      <td>0</td>\n",
       "    </tr>\n",
       "    <tr>\n",
       "      <th>18282.0</th>\n",
       "      <td>29</td>\n",
       "      <td>3</td>\n",
       "      <td>176.60</td>\n",
       "      <td>1</td>\n",
       "    </tr>\n",
       "    <tr>\n",
       "      <th>18283.0</th>\n",
       "      <td>25</td>\n",
       "      <td>16</td>\n",
       "      <td>2094.88</td>\n",
       "      <td>1</td>\n",
       "    </tr>\n",
       "    <tr>\n",
       "      <th>18287.0</th>\n",
       "      <td>64</td>\n",
       "      <td>3</td>\n",
       "      <td>1837.28</td>\n",
       "      <td>1</td>\n",
       "    </tr>\n",
       "  </tbody>\n",
       "</table>\n",
       "<p>4372 rows × 4 columns</p>\n",
       "</div>"
      ],
      "text/plain": [
       "            Recency  Frequency  Monetary  Clusters\n",
       "CustomerID                                        \n",
       "12346.0         347          2      0.00         0\n",
       "12347.0          24          7   4310.00         1\n",
       "12348.0          97          4   1797.24         1\n",
       "12349.0          40          1   1757.55         1\n",
       "12350.0         332          1    334.40         0\n",
       "...             ...        ...       ...       ...\n",
       "18280.0         299          1    180.60         0\n",
       "18281.0         202          1     80.82         0\n",
       "18282.0          29          3    176.60         1\n",
       "18283.0          25         16   2094.88         1\n",
       "18287.0          64          3   1837.28         1\n",
       "\n",
       "[4372 rows x 4 columns]"
      ]
     },
     "execution_count": 244,
     "metadata": {},
     "output_type": "execute_result"
    }
   ],
   "source": [
    "RFM[\"Clusters\"]=(kmeans.labels_)\n",
    "RFM"
   ]
  },
  {
   "cell_type": "code",
   "execution_count": 245,
   "metadata": {},
   "outputs": [
    {
     "data": {
      "text/plain": [
       "array([0, 1, 2], dtype=int32)"
      ]
     },
     "execution_count": 245,
     "metadata": {},
     "output_type": "execute_result"
    }
   ],
   "source": [
    "RFM.Clusters.unique()"
   ]
  },
  {
   "cell_type": "code",
   "execution_count": 246,
   "metadata": {},
   "outputs": [
    {
     "data": {
      "image/png": "[encoded data removed]",
      "text/plain": [
       "<Figure size 1000x800 with 1 Axes>"
      ]
     },
     "metadata": {},
     "output_type": "display_data"
    }
   ],
   "source": [
    "fig = plt.figure(figsize=(10,8))\n",
    "ax = plt.subplot(111, projection='3d', label=\"bla\")\n",
    "ax.scatter(RFM[\"Recency\"],RFM[\"Frequency\"],RFM[\"Monetary\"], s=40, c=RFM[\"Clusters\"], marker='o', cmap = \"Accent\")\n",
    "ax.set_title(\"The Plot Of The Clusters\")\n",
    "plt.show()"
   ]
  },
  {
   "cell_type": "code",
   "execution_count": 262,
   "metadata": {},
   "outputs": [
    {
     "data": {
      "application/vnd.microsoft.datawrangler.viewer.v0+json": {
       "columns": [
        {
         "name": "CustomerID",
         "rawType": "float64",
         "type": "float"
        },
        {
         "name": "Recency",
         "rawType": "int64",
         "type": "integer"
        },
        {
         "name": "Frequency",
         "rawType": "int64",
         "type": "integer"
        },
        {
         "name": "Monetary",
         "rawType": "float64",
         "type": "float"
        },
        {
         "name": "Clusters",
         "rawType": "int32",
         "type": "integer"
        },
        {
         "name": "group",
         "rawType": "object",
         "type": "string"
        }
       ],
       "conversionMethod": "pd.DataFrame",
       "ref": "b28f308b-c853-4a80-880b-08161e6802a3",
       "rows": [
        [
         "12346.0",
         "347",
         "2",
         "0.0",
         "0",
         "Silver"
        ],
        [
         "12350.0",
         "332",
         "1",
         "334.4",
         "0",
         "Silver"
        ],
        [
         "12353.0",
         "226",
         "1",
         "89.0",
         "0",
         "Silver"
        ],
        [
         "12354.0",
         "254",
         "1",
         "1079.4",
         "0",
         "Silver"
        ],
        [
         "12355.0",
         "236",
         "1",
         "459.4",
         "0",
         "Silver"
        ],
        [
         "12361.0",
         "309",
         "1",
         "189.9",
         "0",
         "Silver"
        ],
        [
         "12365.0",
         "313",
         "3",
         "320.69",
         "0",
         "Silver"
        ],
        [
         "12373.0",
         "333",
         "1",
         "364.6",
         "0",
         "Silver"
        ],
        [
         "12377.0",
         "337",
         "2",
         "1628.12",
         "0",
         "Silver"
        ],
        [
         "12383.0",
         "206",
         "6",
         "1839.31",
         "0",
         "Silver"
        ],
        [
         "12386.0",
         "359",
         "2",
         "401.9",
         "0",
         "Silver"
        ],
        [
         "12401.0",
         "325",
         "1",
         "84.3",
         "0",
         "Silver"
        ],
        [
         "12402.0",
         "345",
         "1",
         "225.6",
         "0",
         "Silver"
        ],
        [
         "12405.0",
         "170",
         "1",
         "1710.39",
         "0",
         "Silver"
        ],
        [
         "12410.0",
         "323",
         "3",
         "681.0799999999999",
         "0",
         "Silver"
        ],
        [
         "12414.0",
         "239",
         "3",
         "562.41",
         "0",
         "Silver"
        ],
        [
         "12424.0",
         "184",
         "2",
         "1760.96",
         "0",
         "Silver"
        ],
        [
         "12426.0",
         "216",
         "1",
         "582.73",
         "0",
         "Silver"
        ],
        [
         "12441.0",
         "388",
         "1",
         "173.55",
         "0",
         "Silver"
        ],
        [
         "12447.0",
         "265",
         "1",
         "476.49",
         "0",
         "Silver"
        ],
        [
         "12450.0",
         "178",
         "2",
         "197.88",
         "0",
         "Silver"
        ],
        [
         "12468.0",
         "165",
         "3",
         "724.0400000000001",
         "0",
         "Silver"
        ],
        [
         "12489.0",
         "358",
         "1",
         "334.93",
         "0",
         "Silver"
        ],
        [
         "12493.0",
         "187",
         "3",
         "416.79",
         "0",
         "Silver"
        ],
        [
         "12501.0",
         "337",
         "2",
         "2089.68",
         "0",
         "Silver"
        ],
        [
         "12503.0",
         "359",
         "1",
         "-1126.0",
         "0",
         "Silver"
        ],
        [
         "12505.0",
         "323",
         "1",
         "-4.5",
         "0",
         "Silver"
        ],
        [
         "12506.0",
         "254",
         "1",
         "73.5",
         "0",
         "Silver"
        ],
        [
         "12509.0",
         "306",
         "1",
         "176.5",
         "0",
         "Silver"
        ],
        [
         "12510.0",
         "164",
         "2",
         "982.5699999999999",
         "0",
         "Silver"
        ],
        [
         "12514.0",
         "289",
         "1",
         "1017.68",
         "0",
         "Silver"
        ],
        [
         "12515.0",
         "375",
         "1",
         "383.7",
         "0",
         "Silver"
        ],
        [
         "12521.0",
         "164",
         "1",
         "599.68",
         "0",
         "Silver"
        ],
        [
         "12547.0",
         "219",
         "2",
         "207.79999999999998",
         "0",
         "Silver"
        ],
        [
         "12548.0",
         "188",
         "1",
         "95.19999999999999",
         "0",
         "Silver"
        ],
        [
         "12551.0",
         "379",
         "1",
         "168.0",
         "0",
         "Silver"
        ],
        [
         "12559.0",
         "332",
         "3",
         "536.21",
         "0",
         "Silver"
        ],
        [
         "12561.0",
         "324",
         "1",
         "238.85",
         "0",
         "Silver"
        ],
        [
         "12564.0",
         "283",
         "1",
         "456.9",
         "0",
         "Silver"
        ],
        [
         "12565.0",
         "303",
         "2",
         "131.17",
         "0",
         "Silver"
        ],
        [
         "12573.0",
         "249",
         "1",
         "160.54000000000002",
         "0",
         "Silver"
        ],
        [
         "12574.0",
         "337",
         "1",
         "218.45",
         "0",
         "Silver"
        ],
        [
         "12580.0",
         "268",
         "1",
         "415.7",
         "0",
         "Silver"
        ],
        [
         "12582.0",
         "260",
         "2",
         "511.36",
         "0",
         "Silver"
        ],
        [
         "12585.0",
         "256",
         "4",
         "1982.81",
         "0",
         "Silver"
        ],
        [
         "12590.0",
         "212",
         "3",
         "9861.38",
         "0",
         "Silver"
        ],
        [
         "12591.0",
         "339",
         "1",
         "452.84999999999997",
         "0",
         "Silver"
        ],
        [
         "12601.0",
         "211",
         "6",
         "569.5600000000001",
         "0",
         "Silver"
        ],
        [
         "12605.0",
         "387",
         "1",
         "-7.5",
         "0",
         "Silver"
        ],
        [
         "12614.0",
         "299",
         "1",
         "315.6",
         "0",
         "Silver"
        ]
       ],
       "shape": {
        "columns": 5,
        "rows": 1109
       }
      },
      "text/html": [
       "<div>\n",
       "<style scoped>\n",
       "    .dataframe tbody tr th:only-of-type {\n",
       "        vertical-align: middle;\n",
       "    }\n",
       "\n",
       "    .dataframe tbody tr th {\n",
       "        vertical-align: top;\n",
       "    }\n",
       "\n",
       "    .dataframe thead th {\n",
       "        text-align: right;\n",
       "    }\n",
       "</style>\n",
       "<table border=\"1\" class=\"dataframe\">\n",
       "  <thead>\n",
       "    <tr style=\"text-align: right;\">\n",
       "      <th></th>\n",
       "      <th>Recency</th>\n",
       "      <th>Frequency</th>\n",
       "      <th>Monetary</th>\n",
       "      <th>Clusters</th>\n",
       "      <th>group</th>\n",
       "    </tr>\n",
       "    <tr>\n",
       "      <th>CustomerID</th>\n",
       "      <th></th>\n",
       "      <th></th>\n",
       "      <th></th>\n",
       "      <th></th>\n",
       "      <th></th>\n",
       "    </tr>\n",
       "  </thead>\n",
       "  <tbody>\n",
       "    <tr>\n",
       "      <th>12346.0</th>\n",
       "      <td>347</td>\n",
       "      <td>2</td>\n",
       "      <td>0.00</td>\n",
       "      <td>0</td>\n",
       "      <td>Silver</td>\n",
       "    </tr>\n",
       "    <tr>\n",
       "      <th>12350.0</th>\n",
       "      <td>332</td>\n",
       "      <td>1</td>\n",
       "      <td>334.40</td>\n",
       "      <td>0</td>\n",
       "      <td>Silver</td>\n",
       "    </tr>\n",
       "    <tr>\n",
       "      <th>12353.0</th>\n",
       "      <td>226</td>\n",
       "      <td>1</td>\n",
       "      <td>89.00</td>\n",
       "      <td>0</td>\n",
       "      <td>Silver</td>\n",
       "    </tr>\n",
       "    <tr>\n",
       "      <th>12354.0</th>\n",
       "      <td>254</td>\n",
       "      <td>1</td>\n",
       "      <td>1079.40</td>\n",
       "      <td>0</td>\n",
       "      <td>Silver</td>\n",
       "    </tr>\n",
       "    <tr>\n",
       "      <th>12355.0</th>\n",
       "      <td>236</td>\n",
       "      <td>1</td>\n",
       "      <td>459.40</td>\n",
       "      <td>0</td>\n",
       "      <td>Silver</td>\n",
       "    </tr>\n",
       "    <tr>\n",
       "      <th>...</th>\n",
       "      <td>...</td>\n",
       "      <td>...</td>\n",
       "      <td>...</td>\n",
       "      <td>...</td>\n",
       "      <td>...</td>\n",
       "    </tr>\n",
       "    <tr>\n",
       "      <th>18260.0</th>\n",
       "      <td>194</td>\n",
       "      <td>8</td>\n",
       "      <td>2595.00</td>\n",
       "      <td>0</td>\n",
       "      <td>Silver</td>\n",
       "    </tr>\n",
       "    <tr>\n",
       "      <th>18262.0</th>\n",
       "      <td>162</td>\n",
       "      <td>1</td>\n",
       "      <td>149.48</td>\n",
       "      <td>0</td>\n",
       "      <td>Silver</td>\n",
       "    </tr>\n",
       "    <tr>\n",
       "      <th>18269.0</th>\n",
       "      <td>380</td>\n",
       "      <td>2</td>\n",
       "      <td>138.90</td>\n",
       "      <td>0</td>\n",
       "      <td>Silver</td>\n",
       "    </tr>\n",
       "    <tr>\n",
       "      <th>18280.0</th>\n",
       "      <td>299</td>\n",
       "      <td>1</td>\n",
       "      <td>180.60</td>\n",
       "      <td>0</td>\n",
       "      <td>Silver</td>\n",
       "    </tr>\n",
       "    <tr>\n",
       "      <th>18281.0</th>\n",
       "      <td>202</td>\n",
       "      <td>1</td>\n",
       "      <td>80.82</td>\n",
       "      <td>0</td>\n",
       "      <td>Silver</td>\n",
       "    </tr>\n",
       "  </tbody>\n",
       "</table>\n",
       "<p>1109 rows × 5 columns</p>\n",
       "</div>"
      ],
      "text/plain": [
       "            Recency  Frequency  Monetary  Clusters   group\n",
       "CustomerID                                                \n",
       "12346.0         347          2      0.00         0  Silver\n",
       "12350.0         332          1    334.40         0  Silver\n",
       "12353.0         226          1     89.00         0  Silver\n",
       "12354.0         254          1   1079.40         0  Silver\n",
       "12355.0         236          1    459.40         0  Silver\n",
       "...             ...        ...       ...       ...     ...\n",
       "18260.0         194          8   2595.00         0  Silver\n",
       "18262.0         162          1    149.48         0  Silver\n",
       "18269.0         380          2    138.90         0  Silver\n",
       "18280.0         299          1    180.60         0  Silver\n",
       "18281.0         202          1     80.82         0  Silver\n",
       "\n",
       "[1109 rows x 5 columns]"
      ]
     },
     "execution_count": 262,
     "metadata": {},
     "output_type": "execute_result"
    }
   ],
   "source": [
    "RFM[RFM.Clusters==0]"
   ]
  },
  {
   "cell_type": "code",
   "execution_count": 248,
   "metadata": {},
   "outputs": [
    {
     "data": {
      "application/vnd.microsoft.datawrangler.viewer.v0+json": {
       "columns": [
        {
         "name": "CustomerID",
         "rawType": "float64",
         "type": "float"
        },
        {
         "name": "Recency",
         "rawType": "int64",
         "type": "integer"
        },
        {
         "name": "Frequency",
         "rawType": "int64",
         "type": "integer"
        },
        {
         "name": "Monetary",
         "rawType": "float64",
         "type": "float"
        },
        {
         "name": "Clusters",
         "rawType": "int32",
         "type": "integer"
        }
       ],
       "conversionMethod": "pd.DataFrame",
       "ref": "b63e36d4-506f-493e-b2b4-fb04c7b644b4",
       "rows": [
        [
         "12347.0",
         "24",
         "7",
         "4310.0",
         "1"
        ],
        [
         "12348.0",
         "97",
         "4",
         "1797.24",
         "1"
        ],
        [
         "12349.0",
         "40",
         "1",
         "1757.55",
         "1"
        ],
        [
         "12352.0",
         "58",
         "11",
         "1545.41",
         "1"
        ],
        [
         "12356.0",
         "44",
         "3",
         "2811.43",
         "1"
        ],
        [
         "12357.0",
         "55",
         "1",
         "6207.67",
         "1"
        ],
        [
         "12358.0",
         "23",
         "2",
         "1168.06",
         "1"
        ],
        [
         "12359.0",
         "29",
         "6",
         "6245.53",
         "1"
        ],
        [
         "12360.0",
         "74",
         "3",
         "2662.06",
         "1"
        ],
        [
         "12362.0",
         "25",
         "13",
         "5154.58",
         "1"
        ],
        [
         "12363.0",
         "131",
         "2",
         "552.0",
         "1"
        ],
        [
         "12364.0",
         "29",
         "4",
         "1313.1",
         "1"
        ],
        [
         "12367.0",
         "26",
         "1",
         "168.9",
         "1"
        ],
        [
         "12370.0",
         "73",
         "4",
         "3545.69",
         "1"
        ],
        [
         "12371.0",
         "66",
         "2",
         "1887.96",
         "1"
        ],
        [
         "12372.0",
         "93",
         "3",
         "1298.04",
         "1"
        ],
        [
         "12374.0",
         "47",
         "1",
         "742.9300000000001",
         "1"
        ],
        [
         "12375.0",
         "24",
         "3",
         "455.42",
         "1"
        ],
        [
         "12378.0",
         "151",
         "1",
         "4008.62",
         "1"
        ],
        [
         "12379.0",
         "103",
         "3",
         "850.29",
         "1"
        ],
        [
         "12380.0",
         "43",
         "5",
         "2720.56",
         "1"
        ],
        [
         "12381.0",
         "26",
         "6",
         "1803.96",
         "1"
        ],
        [
         "12384.0",
         "50",
         "3",
         "566.16",
         "1"
        ],
        [
         "12388.0",
         "37",
         "6",
         "2780.66",
         "1"
        ],
        [
         "12390.0",
         "101",
         "1",
         "549.84",
         "1"
        ],
        [
         "12391.0",
         "43",
         "1",
         "460.89",
         "1"
        ],
        [
         "12393.0",
         "94",
         "4",
         "1582.6000000000001",
         "1"
        ],
        [
         "12394.0",
         "85",
         "2",
         "1272.48",
         "1"
        ],
        [
         "12395.0",
         "37",
         "15",
         "2998.28",
         "1"
        ],
        [
         "12397.0",
         "57",
         "2",
         "2409.9",
         "1"
        ],
        [
         "12398.0",
         "67",
         "1",
         "1635.6599999999999",
         "1"
        ],
        [
         "12399.0",
         "141",
         "4",
         "1108.65",
         "1"
        ],
        [
         "12403.0",
         "71",
         "2",
         "409.7",
         "1"
        ],
        [
         "12406.0",
         "44",
         "3",
         "3280.75",
         "1"
        ],
        [
         "12407.0",
         "71",
         "5",
         "1708.1200000000001",
         "1"
        ],
        [
         "12408.0",
         "54",
         "9",
         "2842.57",
         "1"
        ],
        [
         "12409.0",
         "100",
         "7",
         "11056.93",
         "1"
        ],
        [
         "12412.0",
         "96",
         "3",
         "1226.88",
         "1"
        ],
        [
         "12413.0",
         "88",
         "5",
         "694.15",
         "1"
        ],
        [
         "12417.0",
         "25",
         "12",
         "3578.8",
         "1"
        ],
        [
         "12418.0",
         "134",
         "1",
         "668.58",
         "1"
        ],
        [
         "12420.0",
         "85",
         "1",
         "600.39",
         "1"
        ],
        [
         "12421.0",
         "37",
         "5",
         "806.27",
         "1"
        ],
        [
         "12422.0",
         "117",
         "3",
         "803.5600000000001",
         "1"
        ],
        [
         "12423.0",
         "22",
         "9",
         "1849.11",
         "1"
        ],
        [
         "12425.0",
         "100",
         "1",
         "777.2",
         "1"
        ],
        [
         "12427.0",
         "33",
         "5",
         "708.37",
         "1"
        ],
        [
         "12428.0",
         "47",
         "12",
         "7877.2",
         "1"
        ],
        [
         "12429.0",
         "31",
         "4",
         "3750.4",
         "1"
        ],
        [
         "12430.0",
         "65",
         "1",
         "256.4",
         "1"
        ]
       ],
       "shape": {
        "columns": 4,
        "rows": 3240
       }
      },
      "text/html": [
       "<div>\n",
       "<style scoped>\n",
       "    .dataframe tbody tr th:only-of-type {\n",
       "        vertical-align: middle;\n",
       "    }\n",
       "\n",
       "    .dataframe tbody tr th {\n",
       "        vertical-align: top;\n",
       "    }\n",
       "\n",
       "    .dataframe thead th {\n",
       "        text-align: right;\n",
       "    }\n",
       "</style>\n",
       "<table border=\"1\" class=\"dataframe\">\n",
       "  <thead>\n",
       "    <tr style=\"text-align: right;\">\n",
       "      <th></th>\n",
       "      <th>Recency</th>\n",
       "      <th>Frequency</th>\n",
       "      <th>Monetary</th>\n",
       "      <th>Clusters</th>\n",
       "    </tr>\n",
       "    <tr>\n",
       "      <th>CustomerID</th>\n",
       "      <th></th>\n",
       "      <th></th>\n",
       "      <th></th>\n",
       "      <th></th>\n",
       "    </tr>\n",
       "  </thead>\n",
       "  <tbody>\n",
       "    <tr>\n",
       "      <th>12347.0</th>\n",
       "      <td>24</td>\n",
       "      <td>7</td>\n",
       "      <td>4310.00</td>\n",
       "      <td>1</td>\n",
       "    </tr>\n",
       "    <tr>\n",
       "      <th>12348.0</th>\n",
       "      <td>97</td>\n",
       "      <td>4</td>\n",
       "      <td>1797.24</td>\n",
       "      <td>1</td>\n",
       "    </tr>\n",
       "    <tr>\n",
       "      <th>12349.0</th>\n",
       "      <td>40</td>\n",
       "      <td>1</td>\n",
       "      <td>1757.55</td>\n",
       "      <td>1</td>\n",
       "    </tr>\n",
       "    <tr>\n",
       "      <th>12352.0</th>\n",
       "      <td>58</td>\n",
       "      <td>11</td>\n",
       "      <td>1545.41</td>\n",
       "      <td>1</td>\n",
       "    </tr>\n",
       "    <tr>\n",
       "      <th>12356.0</th>\n",
       "      <td>44</td>\n",
       "      <td>3</td>\n",
       "      <td>2811.43</td>\n",
       "      <td>1</td>\n",
       "    </tr>\n",
       "    <tr>\n",
       "      <th>...</th>\n",
       "      <td>...</td>\n",
       "      <td>...</td>\n",
       "      <td>...</td>\n",
       "      <td>...</td>\n",
       "    </tr>\n",
       "    <tr>\n",
       "      <th>18277.0</th>\n",
       "      <td>80</td>\n",
       "      <td>2</td>\n",
       "      <td>97.63</td>\n",
       "      <td>1</td>\n",
       "    </tr>\n",
       "    <tr>\n",
       "      <th>18278.0</th>\n",
       "      <td>95</td>\n",
       "      <td>1</td>\n",
       "      <td>173.90</td>\n",
       "      <td>1</td>\n",
       "    </tr>\n",
       "    <tr>\n",
       "      <th>18282.0</th>\n",
       "      <td>29</td>\n",
       "      <td>3</td>\n",
       "      <td>176.60</td>\n",
       "      <td>1</td>\n",
       "    </tr>\n",
       "    <tr>\n",
       "      <th>18283.0</th>\n",
       "      <td>25</td>\n",
       "      <td>16</td>\n",
       "      <td>2094.88</td>\n",
       "      <td>1</td>\n",
       "    </tr>\n",
       "    <tr>\n",
       "      <th>18287.0</th>\n",
       "      <td>64</td>\n",
       "      <td>3</td>\n",
       "      <td>1837.28</td>\n",
       "      <td>1</td>\n",
       "    </tr>\n",
       "  </tbody>\n",
       "</table>\n",
       "<p>3240 rows × 4 columns</p>\n",
       "</div>"
      ],
      "text/plain": [
       "            Recency  Frequency  Monetary  Clusters\n",
       "CustomerID                                        \n",
       "12347.0          24          7   4310.00         1\n",
       "12348.0          97          4   1797.24         1\n",
       "12349.0          40          1   1757.55         1\n",
       "12352.0          58         11   1545.41         1\n",
       "12356.0          44          3   2811.43         1\n",
       "...             ...        ...       ...       ...\n",
       "18277.0          80          2     97.63         1\n",
       "18278.0          95          1    173.90         1\n",
       "18282.0          29          3    176.60         1\n",
       "18283.0          25         16   2094.88         1\n",
       "18287.0          64          3   1837.28         1\n",
       "\n",
       "[3240 rows x 4 columns]"
      ]
     },
     "execution_count": 248,
     "metadata": {},
     "output_type": "execute_result"
    }
   ],
   "source": [
    "RFM[RFM.Clusters==1]"
   ]
  },
  {
   "cell_type": "code",
   "execution_count": 249,
   "metadata": {},
   "outputs": [
    {
     "data": {
      "application/vnd.microsoft.datawrangler.viewer.v0+json": {
       "columns": [
        {
         "name": "CustomerID",
         "rawType": "float64",
         "type": "float"
        },
        {
         "name": "Recency",
         "rawType": "int64",
         "type": "integer"
        },
        {
         "name": "Frequency",
         "rawType": "int64",
         "type": "integer"
        },
        {
         "name": "Monetary",
         "rawType": "float64",
         "type": "float"
        },
        {
         "name": "Clusters",
         "rawType": "int32",
         "type": "integer"
        }
       ],
       "conversionMethod": "pd.DataFrame",
       "ref": "1c88c3d1-ea4b-4509-b5ab-0de208a403b7",
       "rows": [
        [
         "12415.0",
         "46",
         "26",
         "123725.45",
         "2"
        ],
        [
         "12748.0",
         "22",
         "224",
         "29072.1",
         "2"
        ],
        [
         "12971.0",
         "25",
         "89",
         "10930.26",
         "2"
        ],
        [
         "13089.0",
         "24",
         "118",
         "57385.88",
         "2"
        ],
        [
         "13408.0",
         "23",
         "81",
         "27487.41",
         "2"
        ],
        [
         "13694.0",
         "25",
         "60",
         "62653.1",
         "2"
        ],
        [
         "13798.0",
         "23",
         "63",
         "36351.42",
         "2"
        ],
        [
         "14096.0",
         "26",
         "34",
         "57120.909999999996",
         "2"
        ],
        [
         "14156.0",
         "31",
         "66",
         "113384.14",
         "2"
        ],
        [
         "14298.0",
         "25",
         "45",
         "50862.44",
         "2"
        ],
        [
         "14606.0",
         "23",
         "128",
         "11713.85",
         "2"
        ],
        [
         "14646.0",
         "23",
         "77",
         "279489.02",
         "2"
        ],
        [
         "14911.0",
         "23",
         "248",
         "132572.62",
         "2"
        ],
        [
         "15061.0",
         "25",
         "55",
         "54228.74",
         "2"
        ],
        [
         "15311.0",
         "22",
         "118",
         "59419.340000000004",
         "2"
        ],
        [
         "16029.0",
         "60",
         "76",
         "50992.61",
         "2"
        ],
        [
         "16422.0",
         "39",
         "75",
         "33805.69",
         "2"
        ],
        [
         "16684.0",
         "26",
         "31",
         "65892.08",
         "2"
        ],
        [
         "17450.0",
         "30",
         "55",
         "187482.17",
         "2"
        ],
        [
         "17511.0",
         "24",
         "46",
         "88125.38",
         "2"
        ],
        [
         "17841.0",
         "23",
         "169",
         "40340.78",
         "2"
        ],
        [
         "17949.0",
         "23",
         "52",
         "52750.84",
         "2"
        ],
        [
         "18102.0",
         "22",
         "62",
         "256438.49",
         "2"
        ]
       ],
       "shape": {
        "columns": 4,
        "rows": 23
       }
      },
      "text/html": [
       "<div>\n",
       "<style scoped>\n",
       "    .dataframe tbody tr th:only-of-type {\n",
       "        vertical-align: middle;\n",
       "    }\n",
       "\n",
       "    .dataframe tbody tr th {\n",
       "        vertical-align: top;\n",
       "    }\n",
       "\n",
       "    .dataframe thead th {\n",
       "        text-align: right;\n",
       "    }\n",
       "</style>\n",
       "<table border=\"1\" class=\"dataframe\">\n",
       "  <thead>\n",
       "    <tr style=\"text-align: right;\">\n",
       "      <th></th>\n",
       "      <th>Recency</th>\n",
       "      <th>Frequency</th>\n",
       "      <th>Monetary</th>\n",
       "      <th>Clusters</th>\n",
       "    </tr>\n",
       "    <tr>\n",
       "      <th>CustomerID</th>\n",
       "      <th></th>\n",
       "      <th></th>\n",
       "      <th></th>\n",
       "      <th></th>\n",
       "    </tr>\n",
       "  </thead>\n",
       "  <tbody>\n",
       "    <tr>\n",
       "      <th>12415.0</th>\n",
       "      <td>46</td>\n",
       "      <td>26</td>\n",
       "      <td>123725.45</td>\n",
       "      <td>2</td>\n",
       "    </tr>\n",
       "    <tr>\n",
       "      <th>12748.0</th>\n",
       "      <td>22</td>\n",
       "      <td>224</td>\n",
       "      <td>29072.10</td>\n",
       "      <td>2</td>\n",
       "    </tr>\n",
       "    <tr>\n",
       "      <th>12971.0</th>\n",
       "      <td>25</td>\n",
       "      <td>89</td>\n",
       "      <td>10930.26</td>\n",
       "      <td>2</td>\n",
       "    </tr>\n",
       "    <tr>\n",
       "      <th>13089.0</th>\n",
       "      <td>24</td>\n",
       "      <td>118</td>\n",
       "      <td>57385.88</td>\n",
       "      <td>2</td>\n",
       "    </tr>\n",
       "    <tr>\n",
       "      <th>13408.0</th>\n",
       "      <td>23</td>\n",
       "      <td>81</td>\n",
       "      <td>27487.41</td>\n",
       "      <td>2</td>\n",
       "    </tr>\n",
       "    <tr>\n",
       "      <th>13694.0</th>\n",
       "      <td>25</td>\n",
       "      <td>60</td>\n",
       "      <td>62653.10</td>\n",
       "      <td>2</td>\n",
       "    </tr>\n",
       "    <tr>\n",
       "      <th>13798.0</th>\n",
       "      <td>23</td>\n",
       "      <td>63</td>\n",
       "      <td>36351.42</td>\n",
       "      <td>2</td>\n",
       "    </tr>\n",
       "    <tr>\n",
       "      <th>14096.0</th>\n",
       "      <td>26</td>\n",
       "      <td>34</td>\n",
       "      <td>57120.91</td>\n",
       "      <td>2</td>\n",
       "    </tr>\n",
       "    <tr>\n",
       "      <th>14156.0</th>\n",
       "      <td>31</td>\n",
       "      <td>66</td>\n",
       "      <td>113384.14</td>\n",
       "      <td>2</td>\n",
       "    </tr>\n",
       "    <tr>\n",
       "      <th>14298.0</th>\n",
       "      <td>25</td>\n",
       "      <td>45</td>\n",
       "      <td>50862.44</td>\n",
       "      <td>2</td>\n",
       "    </tr>\n",
       "    <tr>\n",
       "      <th>14606.0</th>\n",
       "      <td>23</td>\n",
       "      <td>128</td>\n",
       "      <td>11713.85</td>\n",
       "      <td>2</td>\n",
       "    </tr>\n",
       "    <tr>\n",
       "      <th>14646.0</th>\n",
       "      <td>23</td>\n",
       "      <td>77</td>\n",
       "      <td>279489.02</td>\n",
       "      <td>2</td>\n",
       "    </tr>\n",
       "    <tr>\n",
       "      <th>14911.0</th>\n",
       "      <td>23</td>\n",
       "      <td>248</td>\n",
       "      <td>132572.62</td>\n",
       "      <td>2</td>\n",
       "    </tr>\n",
       "    <tr>\n",
       "      <th>15061.0</th>\n",
       "      <td>25</td>\n",
       "      <td>55</td>\n",
       "      <td>54228.74</td>\n",
       "      <td>2</td>\n",
       "    </tr>\n",
       "    <tr>\n",
       "      <th>15311.0</th>\n",
       "      <td>22</td>\n",
       "      <td>118</td>\n",
       "      <td>59419.34</td>\n",
       "      <td>2</td>\n",
       "    </tr>\n",
       "    <tr>\n",
       "      <th>16029.0</th>\n",
       "      <td>60</td>\n",
       "      <td>76</td>\n",
       "      <td>50992.61</td>\n",
       "      <td>2</td>\n",
       "    </tr>\n",
       "    <tr>\n",
       "      <th>16422.0</th>\n",
       "      <td>39</td>\n",
       "      <td>75</td>\n",
       "      <td>33805.69</td>\n",
       "      <td>2</td>\n",
       "    </tr>\n",
       "    <tr>\n",
       "      <th>16684.0</th>\n",
       "      <td>26</td>\n",
       "      <td>31</td>\n",
       "      <td>65892.08</td>\n",
       "      <td>2</td>\n",
       "    </tr>\n",
       "    <tr>\n",
       "      <th>17450.0</th>\n",
       "      <td>30</td>\n",
       "      <td>55</td>\n",
       "      <td>187482.17</td>\n",
       "      <td>2</td>\n",
       "    </tr>\n",
       "    <tr>\n",
       "      <th>17511.0</th>\n",
       "      <td>24</td>\n",
       "      <td>46</td>\n",
       "      <td>88125.38</td>\n",
       "      <td>2</td>\n",
       "    </tr>\n",
       "    <tr>\n",
       "      <th>17841.0</th>\n",
       "      <td>23</td>\n",
       "      <td>169</td>\n",
       "      <td>40340.78</td>\n",
       "      <td>2</td>\n",
       "    </tr>\n",
       "    <tr>\n",
       "      <th>17949.0</th>\n",
       "      <td>23</td>\n",
       "      <td>52</td>\n",
       "      <td>52750.84</td>\n",
       "      <td>2</td>\n",
       "    </tr>\n",
       "    <tr>\n",
       "      <th>18102.0</th>\n",
       "      <td>22</td>\n",
       "      <td>62</td>\n",
       "      <td>256438.49</td>\n",
       "      <td>2</td>\n",
       "    </tr>\n",
       "  </tbody>\n",
       "</table>\n",
       "</div>"
      ],
      "text/plain": [
       "            Recency  Frequency   Monetary  Clusters\n",
       "CustomerID                                         \n",
       "12415.0          46         26  123725.45         2\n",
       "12748.0          22        224   29072.10         2\n",
       "12971.0          25         89   10930.26         2\n",
       "13089.0          24        118   57385.88         2\n",
       "13408.0          23         81   27487.41         2\n",
       "13694.0          25         60   62653.10         2\n",
       "13798.0          23         63   36351.42         2\n",
       "14096.0          26         34   57120.91         2\n",
       "14156.0          31         66  113384.14         2\n",
       "14298.0          25         45   50862.44         2\n",
       "14606.0          23        128   11713.85         2\n",
       "14646.0          23         77  279489.02         2\n",
       "14911.0          23        248  132572.62         2\n",
       "15061.0          25         55   54228.74         2\n",
       "15311.0          22        118   59419.34         2\n",
       "16029.0          60         76   50992.61         2\n",
       "16422.0          39         75   33805.69         2\n",
       "16684.0          26         31   65892.08         2\n",
       "17450.0          30         55  187482.17         2\n",
       "17511.0          24         46   88125.38         2\n",
       "17841.0          23        169   40340.78         2\n",
       "17949.0          23         52   52750.84         2\n",
       "18102.0          22         62  256438.49         2"
      ]
     },
     "execution_count": 249,
     "metadata": {},
     "output_type": "execute_result"
    }
   ],
   "source": [
    "RFM[RFM.Clusters==2]"
   ]
  },
  {
   "cell_type": "code",
   "execution_count": 250,
   "metadata": {},
   "outputs": [
    {
     "data": {
      "application/vnd.microsoft.datawrangler.viewer.v0+json": {
       "columns": [
        {
         "name": "Clusters",
         "rawType": "int32",
         "type": "integer"
        },
        {
         "name": "Recency",
         "rawType": "float64",
         "type": "float"
        },
        {
         "name": "Frequency",
         "rawType": "float64",
         "type": "float"
        },
        {
         "name": "Monetary",
         "rawType": "float64",
         "type": "float"
        }
       ],
       "conversionMethod": "pd.DataFrame",
       "ref": "e0ff210c-9109-4f1f-8467-6012b526e4d2",
       "rows": [
        [
         "0",
         "267.52750225428315",
         "1.8539224526600542",
         "460.1321109107304"
        ],
        [
         "1",
         "61.498765432098764",
         "5.597530864197531",
         "1823.3193157407406"
        ],
        [
         "2",
         "27.52173913043478",
         "86.8695652173913",
         "81835.85739130435"
        ]
       ],
       "shape": {
        "columns": 3,
        "rows": 3
       }
      },
      "text/html": [
       "<div>\n",
       "<style scoped>\n",
       "    .dataframe tbody tr th:only-of-type {\n",
       "        vertical-align: middle;\n",
       "    }\n",
       "\n",
       "    .dataframe tbody tr th {\n",
       "        vertical-align: top;\n",
       "    }\n",
       "\n",
       "    .dataframe thead th {\n",
       "        text-align: right;\n",
       "    }\n",
       "</style>\n",
       "<table border=\"1\" class=\"dataframe\">\n",
       "  <thead>\n",
       "    <tr style=\"text-align: right;\">\n",
       "      <th></th>\n",
       "      <th>Recency</th>\n",
       "      <th>Frequency</th>\n",
       "      <th>Monetary</th>\n",
       "    </tr>\n",
       "    <tr>\n",
       "      <th>Clusters</th>\n",
       "      <th></th>\n",
       "      <th></th>\n",
       "      <th></th>\n",
       "    </tr>\n",
       "  </thead>\n",
       "  <tbody>\n",
       "    <tr>\n",
       "      <th>0</th>\n",
       "      <td>267.527502</td>\n",
       "      <td>1.853922</td>\n",
       "      <td>460.132111</td>\n",
       "    </tr>\n",
       "    <tr>\n",
       "      <th>1</th>\n",
       "      <td>61.498765</td>\n",
       "      <td>5.597531</td>\n",
       "      <td>1823.319316</td>\n",
       "    </tr>\n",
       "    <tr>\n",
       "      <th>2</th>\n",
       "      <td>27.521739</td>\n",
       "      <td>86.869565</td>\n",
       "      <td>81835.857391</td>\n",
       "    </tr>\n",
       "  </tbody>\n",
       "</table>\n",
       "</div>"
      ],
      "text/plain": [
       "             Recency  Frequency      Monetary\n",
       "Clusters                                     \n",
       "0         267.527502   1.853922    460.132111\n",
       "1          61.498765   5.597531   1823.319316\n",
       "2          27.521739  86.869565  81835.857391"
      ]
     },
     "execution_count": 250,
     "metadata": {},
     "output_type": "execute_result"
    }
   ],
   "source": [
    "final=RFM.groupby(\"Clusters\").mean()[[\"Recency\",\"Frequency\",\"Monetary\"]]\n",
    "final"
   ]
  },
  {
   "cell_type": "code",
   "execution_count": 251,
   "metadata": {},
   "outputs": [],
   "source": [
    "def func(row):\n",
    "    if row[\"Clusters\"]==0:\n",
    "        return 'Silver'\n",
    "    elif row[\"Clusters\"]==2:\n",
    "        return 'Diamond'\n",
    "    else:\n",
    "        return 'Gold'"
   ]
  },
  {
   "cell_type": "code",
   "execution_count": 252,
   "metadata": {},
   "outputs": [],
   "source": [
    "RFM['group']=RFM.apply(func, axis=1)"
   ]
  },
  {
   "cell_type": "code",
   "execution_count": 253,
   "metadata": {},
   "outputs": [
    {
     "data": {
      "application/vnd.microsoft.datawrangler.viewer.v0+json": {
       "columns": [
        {
         "name": "CustomerID",
         "rawType": "float64",
         "type": "float"
        },
        {
         "name": "Recency",
         "rawType": "int64",
         "type": "integer"
        },
        {
         "name": "Frequency",
         "rawType": "int64",
         "type": "integer"
        },
        {
         "name": "Monetary",
         "rawType": "float64",
         "type": "float"
        },
        {
         "name": "Clusters",
         "rawType": "int32",
         "type": "integer"
        },
        {
         "name": "group",
         "rawType": "object",
         "type": "string"
        }
       ],
       "conversionMethod": "pd.DataFrame",
       "ref": "c5cf601d-5d10-4573-9585-d1256db7fc38",
       "rows": [
        [
         "12346.0",
         "347",
         "2",
         "0.0",
         "0",
         "Silver"
        ],
        [
         "12347.0",
         "24",
         "7",
         "4310.0",
         "1",
         "Gold"
        ],
        [
         "12348.0",
         "97",
         "4",
         "1797.24",
         "1",
         "Gold"
        ],
        [
         "12349.0",
         "40",
         "1",
         "1757.55",
         "1",
         "Gold"
        ],
        [
         "12350.0",
         "332",
         "1",
         "334.4",
         "0",
         "Silver"
        ],
        [
         "12352.0",
         "58",
         "11",
         "1545.41",
         "1",
         "Gold"
        ],
        [
         "12353.0",
         "226",
         "1",
         "89.0",
         "0",
         "Silver"
        ],
        [
         "12354.0",
         "254",
         "1",
         "1079.4",
         "0",
         "Silver"
        ],
        [
         "12355.0",
         "236",
         "1",
         "459.4",
         "0",
         "Silver"
        ],
        [
         "12356.0",
         "44",
         "3",
         "2811.43",
         "1",
         "Gold"
        ],
        [
         "12357.0",
         "55",
         "1",
         "6207.67",
         "1",
         "Gold"
        ],
        [
         "12358.0",
         "23",
         "2",
         "1168.06",
         "1",
         "Gold"
        ],
        [
         "12359.0",
         "29",
         "6",
         "6245.53",
         "1",
         "Gold"
        ],
        [
         "12360.0",
         "74",
         "3",
         "2662.06",
         "1",
         "Gold"
        ],
        [
         "12361.0",
         "309",
         "1",
         "189.9",
         "0",
         "Silver"
        ],
        [
         "12362.0",
         "25",
         "13",
         "5154.58",
         "1",
         "Gold"
        ],
        [
         "12363.0",
         "131",
         "2",
         "552.0",
         "1",
         "Gold"
        ],
        [
         "12364.0",
         "29",
         "4",
         "1313.1",
         "1",
         "Gold"
        ],
        [
         "12365.0",
         "313",
         "3",
         "320.69",
         "0",
         "Silver"
        ],
        [
         "12367.0",
         "26",
         "1",
         "168.9",
         "1",
         "Gold"
        ],
        [
         "12370.0",
         "73",
         "4",
         "3545.69",
         "1",
         "Gold"
        ],
        [
         "12371.0",
         "66",
         "2",
         "1887.96",
         "1",
         "Gold"
        ],
        [
         "12372.0",
         "93",
         "3",
         "1298.04",
         "1",
         "Gold"
        ],
        [
         "12373.0",
         "333",
         "1",
         "364.6",
         "0",
         "Silver"
        ],
        [
         "12374.0",
         "47",
         "1",
         "742.9300000000001",
         "1",
         "Gold"
        ],
        [
         "12375.0",
         "24",
         "3",
         "455.42",
         "1",
         "Gold"
        ],
        [
         "12377.0",
         "337",
         "2",
         "1628.12",
         "0",
         "Silver"
        ],
        [
         "12378.0",
         "151",
         "1",
         "4008.62",
         "1",
         "Gold"
        ],
        [
         "12379.0",
         "103",
         "3",
         "850.29",
         "1",
         "Gold"
        ],
        [
         "12380.0",
         "43",
         "5",
         "2720.56",
         "1",
         "Gold"
        ],
        [
         "12381.0",
         "26",
         "6",
         "1803.96",
         "1",
         "Gold"
        ],
        [
         "12383.0",
         "206",
         "6",
         "1839.31",
         "0",
         "Silver"
        ],
        [
         "12384.0",
         "50",
         "3",
         "566.16",
         "1",
         "Gold"
        ],
        [
         "12386.0",
         "359",
         "2",
         "401.9",
         "0",
         "Silver"
        ],
        [
         "12388.0",
         "37",
         "6",
         "2780.66",
         "1",
         "Gold"
        ],
        [
         "12390.0",
         "101",
         "1",
         "549.84",
         "1",
         "Gold"
        ],
        [
         "12391.0",
         "43",
         "1",
         "460.89",
         "1",
         "Gold"
        ],
        [
         "12393.0",
         "94",
         "4",
         "1582.6000000000001",
         "1",
         "Gold"
        ],
        [
         "12394.0",
         "85",
         "2",
         "1272.48",
         "1",
         "Gold"
        ],
        [
         "12395.0",
         "37",
         "15",
         "2998.28",
         "1",
         "Gold"
        ],
        [
         "12397.0",
         "57",
         "2",
         "2409.9",
         "1",
         "Gold"
        ],
        [
         "12398.0",
         "67",
         "1",
         "1635.6599999999999",
         "1",
         "Gold"
        ],
        [
         "12399.0",
         "141",
         "4",
         "1108.65",
         "1",
         "Gold"
        ],
        [
         "12401.0",
         "325",
         "1",
         "84.3",
         "0",
         "Silver"
        ],
        [
         "12402.0",
         "345",
         "1",
         "225.6",
         "0",
         "Silver"
        ],
        [
         "12403.0",
         "71",
         "2",
         "409.7",
         "1",
         "Gold"
        ],
        [
         "12405.0",
         "170",
         "1",
         "1710.39",
         "0",
         "Silver"
        ],
        [
         "12406.0",
         "44",
         "3",
         "3280.75",
         "1",
         "Gold"
        ],
        [
         "12407.0",
         "71",
         "5",
         "1708.1200000000001",
         "1",
         "Gold"
        ],
        [
         "12408.0",
         "54",
         "9",
         "2842.57",
         "1",
         "Gold"
        ]
       ],
       "shape": {
        "columns": 5,
        "rows": 4372
       }
      },
      "text/html": [
       "<div>\n",
       "<style scoped>\n",
       "    .dataframe tbody tr th:only-of-type {\n",
       "        vertical-align: middle;\n",
       "    }\n",
       "\n",
       "    .dataframe tbody tr th {\n",
       "        vertical-align: top;\n",
       "    }\n",
       "\n",
       "    .dataframe thead th {\n",
       "        text-align: right;\n",
       "    }\n",
       "</style>\n",
       "<table border=\"1\" class=\"dataframe\">\n",
       "  <thead>\n",
       "    <tr style=\"text-align: right;\">\n",
       "      <th></th>\n",
       "      <th>Recency</th>\n",
       "      <th>Frequency</th>\n",
       "      <th>Monetary</th>\n",
       "      <th>Clusters</th>\n",
       "      <th>group</th>\n",
       "    </tr>\n",
       "    <tr>\n",
       "      <th>CustomerID</th>\n",
       "      <th></th>\n",
       "      <th></th>\n",
       "      <th></th>\n",
       "      <th></th>\n",
       "      <th></th>\n",
       "    </tr>\n",
       "  </thead>\n",
       "  <tbody>\n",
       "    <tr>\n",
       "      <th>12346.0</th>\n",
       "      <td>347</td>\n",
       "      <td>2</td>\n",
       "      <td>0.00</td>\n",
       "      <td>0</td>\n",
       "      <td>Silver</td>\n",
       "    </tr>\n",
       "    <tr>\n",
       "      <th>12347.0</th>\n",
       "      <td>24</td>\n",
       "      <td>7</td>\n",
       "      <td>4310.00</td>\n",
       "      <td>1</td>\n",
       "      <td>Gold</td>\n",
       "    </tr>\n",
       "    <tr>\n",
       "      <th>12348.0</th>\n",
       "      <td>97</td>\n",
       "      <td>4</td>\n",
       "      <td>1797.24</td>\n",
       "      <td>1</td>\n",
       "      <td>Gold</td>\n",
       "    </tr>\n",
       "    <tr>\n",
       "      <th>12349.0</th>\n",
       "      <td>40</td>\n",
       "      <td>1</td>\n",
       "      <td>1757.55</td>\n",
       "      <td>1</td>\n",
       "      <td>Gold</td>\n",
       "    </tr>\n",
       "    <tr>\n",
       "      <th>12350.0</th>\n",
       "      <td>332</td>\n",
       "      <td>1</td>\n",
       "      <td>334.40</td>\n",
       "      <td>0</td>\n",
       "      <td>Silver</td>\n",
       "    </tr>\n",
       "    <tr>\n",
       "      <th>...</th>\n",
       "      <td>...</td>\n",
       "      <td>...</td>\n",
       "      <td>...</td>\n",
       "      <td>...</td>\n",
       "      <td>...</td>\n",
       "    </tr>\n",
       "    <tr>\n",
       "      <th>18280.0</th>\n",
       "      <td>299</td>\n",
       "      <td>1</td>\n",
       "      <td>180.60</td>\n",
       "      <td>0</td>\n",
       "      <td>Silver</td>\n",
       "    </tr>\n",
       "    <tr>\n",
       "      <th>18281.0</th>\n",
       "      <td>202</td>\n",
       "      <td>1</td>\n",
       "      <td>80.82</td>\n",
       "      <td>0</td>\n",
       "      <td>Silver</td>\n",
       "    </tr>\n",
       "    <tr>\n",
       "      <th>18282.0</th>\n",
       "      <td>29</td>\n",
       "      <td>3</td>\n",
       "      <td>176.60</td>\n",
       "      <td>1</td>\n",
       "      <td>Gold</td>\n",
       "    </tr>\n",
       "    <tr>\n",
       "      <th>18283.0</th>\n",
       "      <td>25</td>\n",
       "      <td>16</td>\n",
       "      <td>2094.88</td>\n",
       "      <td>1</td>\n",
       "      <td>Gold</td>\n",
       "    </tr>\n",
       "    <tr>\n",
       "      <th>18287.0</th>\n",
       "      <td>64</td>\n",
       "      <td>3</td>\n",
       "      <td>1837.28</td>\n",
       "      <td>1</td>\n",
       "      <td>Gold</td>\n",
       "    </tr>\n",
       "  </tbody>\n",
       "</table>\n",
       "<p>4372 rows × 5 columns</p>\n",
       "</div>"
      ],
      "text/plain": [
       "            Recency  Frequency  Monetary  Clusters   group\n",
       "CustomerID                                                \n",
       "12346.0         347          2      0.00         0  Silver\n",
       "12347.0          24          7   4310.00         1    Gold\n",
       "12348.0          97          4   1797.24         1    Gold\n",
       "12349.0          40          1   1757.55         1    Gold\n",
       "12350.0         332          1    334.40         0  Silver\n",
       "...             ...        ...       ...       ...     ...\n",
       "18280.0         299          1    180.60         0  Silver\n",
       "18281.0         202          1     80.82         0  Silver\n",
       "18282.0          29          3    176.60         1    Gold\n",
       "18283.0          25         16   2094.88         1    Gold\n",
       "18287.0          64          3   1837.28         1    Gold\n",
       "\n",
       "[4372 rows x 5 columns]"
      ]
     },
     "execution_count": 253,
     "metadata": {},
     "output_type": "execute_result"
    }
   ],
   "source": [
    "RFM"
   ]
  },
  {
   "cell_type": "code",
   "execution_count": 254,
   "metadata": {},
   "outputs": [
    {
     "data": {
      "application/vnd.microsoft.datawrangler.viewer.v0+json": {
       "columns": [
        {
         "name": "group",
         "rawType": "object",
         "type": "string"
        },
        {
         "name": "count",
         "rawType": "int64",
         "type": "integer"
        }
       ],
       "conversionMethod": "pd.DataFrame",
       "ref": "3a915d4c-b6a9-4775-911a-4054c8079987",
       "rows": [
        [
         "Gold",
         "3240"
        ],
        [
         "Silver",
         "1109"
        ],
        [
         "Diamond",
         "23"
        ]
       ],
       "shape": {
        "columns": 1,
        "rows": 3
       }
      },
      "text/html": [
       "<div>\n",
       "<style scoped>\n",
       "    .dataframe tbody tr th:only-of-type {\n",
       "        vertical-align: middle;\n",
       "    }\n",
       "\n",
       "    .dataframe tbody tr th {\n",
       "        vertical-align: top;\n",
       "    }\n",
       "\n",
       "    .dataframe thead th {\n",
       "        text-align: right;\n",
       "    }\n",
       "</style>\n",
       "<table border=\"1\" class=\"dataframe\">\n",
       "  <thead>\n",
       "    <tr style=\"text-align: right;\">\n",
       "      <th></th>\n",
       "      <th>count</th>\n",
       "    </tr>\n",
       "    <tr>\n",
       "      <th>group</th>\n",
       "      <th></th>\n",
       "    </tr>\n",
       "  </thead>\n",
       "  <tbody>\n",
       "    <tr>\n",
       "      <th>Gold</th>\n",
       "      <td>3240</td>\n",
       "    </tr>\n",
       "    <tr>\n",
       "      <th>Silver</th>\n",
       "      <td>1109</td>\n",
       "    </tr>\n",
       "    <tr>\n",
       "      <th>Diamond</th>\n",
       "      <td>23</td>\n",
       "    </tr>\n",
       "  </tbody>\n",
       "</table>\n",
       "</div>"
      ],
      "text/plain": [
       "         count\n",
       "group         \n",
       "Gold      3240\n",
       "Silver    1109\n",
       "Diamond     23"
      ]
     },
     "execution_count": 254,
     "metadata": {},
     "output_type": "execute_result"
    }
   ],
   "source": [
    "result = pd.DataFrame(RFM.group.value_counts())\n",
    "result"
   ]
  },
  {
   "cell_type": "code",
   "execution_count": 255,
   "metadata": {},
   "outputs": [
    {
     "data": {
      "application/vnd.microsoft.datawrangler.viewer.v0+json": {
       "columns": [
        {
         "name": "index",
         "rawType": "int64",
         "type": "integer"
        },
        {
         "name": "group",
         "rawType": "object",
         "type": "string"
        },
        {
         "name": "count",
         "rawType": "int64",
         "type": "integer"
        }
       ],
       "conversionMethod": "pd.DataFrame",
       "ref": "3a7c33a8-7a22-418e-b1ee-0d76603fbfb1",
       "rows": [
        [
         "0",
         "Gold",
         "3240"
        ],
        [
         "1",
         "Silver",
         "1109"
        ],
        [
         "2",
         "Diamond",
         "23"
        ]
       ],
       "shape": {
        "columns": 2,
        "rows": 3
       }
      },
      "text/html": [
       "<div>\n",
       "<style scoped>\n",
       "    .dataframe tbody tr th:only-of-type {\n",
       "        vertical-align: middle;\n",
       "    }\n",
       "\n",
       "    .dataframe tbody tr th {\n",
       "        vertical-align: top;\n",
       "    }\n",
       "\n",
       "    .dataframe thead th {\n",
       "        text-align: right;\n",
       "    }\n",
       "</style>\n",
       "<table border=\"1\" class=\"dataframe\">\n",
       "  <thead>\n",
       "    <tr style=\"text-align: right;\">\n",
       "      <th></th>\n",
       "      <th>group</th>\n",
       "      <th>count</th>\n",
       "    </tr>\n",
       "  </thead>\n",
       "  <tbody>\n",
       "    <tr>\n",
       "      <th>0</th>\n",
       "      <td>Gold</td>\n",
       "      <td>3240</td>\n",
       "    </tr>\n",
       "    <tr>\n",
       "      <th>1</th>\n",
       "      <td>Silver</td>\n",
       "      <td>1109</td>\n",
       "    </tr>\n",
       "    <tr>\n",
       "      <th>2</th>\n",
       "      <td>Diamond</td>\n",
       "      <td>23</td>\n",
       "    </tr>\n",
       "  </tbody>\n",
       "</table>\n",
       "</div>"
      ],
      "text/plain": [
       "     group  count\n",
       "0     Gold   3240\n",
       "1   Silver   1109\n",
       "2  Diamond     23"
      ]
     },
     "execution_count": 255,
     "metadata": {},
     "output_type": "execute_result"
    }
   ],
   "source": [
    "result = result.reset_index()\n",
    "result"
   ]
  },
  {
   "cell_type": "code",
   "execution_count": 256,
   "metadata": {},
   "outputs": [],
   "source": [
    "import seaborn as sns"
   ]
  },
  {
   "cell_type": "code",
   "execution_count": 257,
   "metadata": {},
   "outputs": [
    {
     "data": {
      "image/png": "[encoded data removed]",
      "text/plain": [
       "<Figure size 800x550 with 1 Axes>"
      ]
     },
     "metadata": {},
     "output_type": "display_data"
    }
   ],
   "source": [
    "datalabel=sns.barplot(x=\"group\", y=\"count\", data=result, estimator=np.sum)\n",
    "for i in datalabel.containers:\n",
    "    datalabel.bar_label(i,)"
   ]
  },
  {
   "cell_type": "code",
   "execution_count": 258,
   "metadata": {},
   "outputs": [],
   "source": [
    "ABC = RFM[RFM.Clusters==2]"
   ]
  },
  {
   "cell_type": "code",
   "execution_count": 259,
   "metadata": {},
   "outputs": [
    {
     "data": {
      "application/vnd.microsoft.datawrangler.viewer.v0+json": {
       "columns": [
        {
         "name": "CustomerID",
         "rawType": "float64",
         "type": "float"
        },
        {
         "name": "Recency",
         "rawType": "int64",
         "type": "integer"
        },
        {
         "name": "Frequency",
         "rawType": "int64",
         "type": "integer"
        },
        {
         "name": "Monetary",
         "rawType": "float64",
         "type": "float"
        },
        {
         "name": "Clusters",
         "rawType": "int32",
         "type": "integer"
        },
        {
         "name": "group",
         "rawType": "object",
         "type": "string"
        }
       ],
       "conversionMethod": "pd.DataFrame",
       "ref": "80dbba32-211f-4bb4-8d53-0701402635be",
       "rows": [
        [
         "12971.0",
         "25",
         "89",
         "10930.26",
         "2",
         "Diamond"
        ]
       ],
       "shape": {
        "columns": 5,
        "rows": 1
       }
      },
      "text/html": [
       "<div>\n",
       "<style scoped>\n",
       "    .dataframe tbody tr th:only-of-type {\n",
       "        vertical-align: middle;\n",
       "    }\n",
       "\n",
       "    .dataframe tbody tr th {\n",
       "        vertical-align: top;\n",
       "    }\n",
       "\n",
       "    .dataframe thead th {\n",
       "        text-align: right;\n",
       "    }\n",
       "</style>\n",
       "<table border=\"1\" class=\"dataframe\">\n",
       "  <thead>\n",
       "    <tr style=\"text-align: right;\">\n",
       "      <th></th>\n",
       "      <th>Recency</th>\n",
       "      <th>Frequency</th>\n",
       "      <th>Monetary</th>\n",
       "      <th>Clusters</th>\n",
       "      <th>group</th>\n",
       "    </tr>\n",
       "    <tr>\n",
       "      <th>CustomerID</th>\n",
       "      <th></th>\n",
       "      <th></th>\n",
       "      <th></th>\n",
       "      <th></th>\n",
       "      <th></th>\n",
       "    </tr>\n",
       "  </thead>\n",
       "  <tbody>\n",
       "    <tr>\n",
       "      <th>12971.0</th>\n",
       "      <td>25</td>\n",
       "      <td>89</td>\n",
       "      <td>10930.26</td>\n",
       "      <td>2</td>\n",
       "      <td>Diamond</td>\n",
       "    </tr>\n",
       "  </tbody>\n",
       "</table>\n",
       "</div>"
      ],
      "text/plain": [
       "            Recency  Frequency  Monetary  Clusters    group\n",
       "CustomerID                                                 \n",
       "12971.0          25         89  10930.26         2  Diamond"
      ]
     },
     "execution_count": 259,
     "metadata": {},
     "output_type": "execute_result"
    }
   ],
   "source": [
    "ABC[ABC['Monetary']==ABC['Monetary'].min()]"
   ]
  },
  {
   "cell_type": "code",
   "execution_count": 260,
   "metadata": {},
   "outputs": [
    {
     "data": {
      "application/vnd.microsoft.datawrangler.viewer.v0+json": {
       "columns": [
        {
         "name": "CustomerID",
         "rawType": "float64",
         "type": "float"
        },
        {
         "name": "Recency",
         "rawType": "int64",
         "type": "integer"
        },
        {
         "name": "Frequency",
         "rawType": "int64",
         "type": "integer"
        },
        {
         "name": "Monetary",
         "rawType": "float64",
         "type": "float"
        },
        {
         "name": "Clusters",
         "rawType": "int32",
         "type": "integer"
        },
        {
         "name": "group",
         "rawType": "object",
         "type": "string"
        }
       ],
       "conversionMethod": "pd.DataFrame",
       "ref": "74dc8769-dccb-4e19-a7a8-b246fca4ee72",
       "rows": [
        [
         "14646.0",
         "23",
         "77",
         "279489.02",
         "2",
         "Diamond"
        ]
       ],
       "shape": {
        "columns": 5,
        "rows": 1
       }
      },
      "text/html": [
       "<div>\n",
       "<style scoped>\n",
       "    .dataframe tbody tr th:only-of-type {\n",
       "        vertical-align: middle;\n",
       "    }\n",
       "\n",
       "    .dataframe tbody tr th {\n",
       "        vertical-align: top;\n",
       "    }\n",
       "\n",
       "    .dataframe thead th {\n",
       "        text-align: right;\n",
       "    }\n",
       "</style>\n",
       "<table border=\"1\" class=\"dataframe\">\n",
       "  <thead>\n",
       "    <tr style=\"text-align: right;\">\n",
       "      <th></th>\n",
       "      <th>Recency</th>\n",
       "      <th>Frequency</th>\n",
       "      <th>Monetary</th>\n",
       "      <th>Clusters</th>\n",
       "      <th>group</th>\n",
       "    </tr>\n",
       "    <tr>\n",
       "      <th>CustomerID</th>\n",
       "      <th></th>\n",
       "      <th></th>\n",
       "      <th></th>\n",
       "      <th></th>\n",
       "      <th></th>\n",
       "    </tr>\n",
       "  </thead>\n",
       "  <tbody>\n",
       "    <tr>\n",
       "      <th>14646.0</th>\n",
       "      <td>23</td>\n",
       "      <td>77</td>\n",
       "      <td>279489.02</td>\n",
       "      <td>2</td>\n",
       "      <td>Diamond</td>\n",
       "    </tr>\n",
       "  </tbody>\n",
       "</table>\n",
       "</div>"
      ],
      "text/plain": [
       "            Recency  Frequency   Monetary  Clusters    group\n",
       "CustomerID                                                  \n",
       "14646.0          23         77  279489.02         2  Diamond"
      ]
     },
     "execution_count": 260,
     "metadata": {},
     "output_type": "execute_result"
    }
   ],
   "source": [
    "ABC[ABC['Monetary']==ABC['Monetary'].max()]"
   ]
  },
  {
   "cell_type": "code",
   "execution_count": 261,
   "metadata": {},
   "outputs": [
    {
     "data": {
      "application/vnd.microsoft.datawrangler.viewer.v0+json": {
       "columns": [
        {
         "name": "CustomerID",
         "rawType": "float64",
         "type": "float"
        },
        {
         "name": "Recency",
         "rawType": "int64",
         "type": "integer"
        },
        {
         "name": "Frequency",
         "rawType": "int64",
         "type": "integer"
        },
        {
         "name": "Monetary",
         "rawType": "float64",
         "type": "float"
        },
        {
         "name": "Clusters",
         "rawType": "int32",
         "type": "integer"
        },
        {
         "name": "group",
         "rawType": "object",
         "type": "string"
        }
       ],
       "conversionMethod": "pd.DataFrame",
       "ref": "2861f9d7-7736-44ed-bcdc-8f2fe1f55bc2",
       "rows": [
        [
         "15749.0",
         "257",
         "4",
         "21535.9",
         "0",
         "Silver"
        ]
       ],
       "shape": {
        "columns": 5,
        "rows": 1
       }
      },
      "text/html": [
       "<div>\n",
       "<style scoped>\n",
       "    .dataframe tbody tr th:only-of-type {\n",
       "        vertical-align: middle;\n",
       "    }\n",
       "\n",
       "    .dataframe tbody tr th {\n",
       "        vertical-align: top;\n",
       "    }\n",
       "\n",
       "    .dataframe thead th {\n",
       "        text-align: right;\n",
       "    }\n",
       "</style>\n",
       "<table border=\"1\" class=\"dataframe\">\n",
       "  <thead>\n",
       "    <tr style=\"text-align: right;\">\n",
       "      <th></th>\n",
       "      <th>Recency</th>\n",
       "      <th>Frequency</th>\n",
       "      <th>Monetary</th>\n",
       "      <th>Clusters</th>\n",
       "      <th>group</th>\n",
       "    </tr>\n",
       "    <tr>\n",
       "      <th>CustomerID</th>\n",
       "      <th></th>\n",
       "      <th></th>\n",
       "      <th></th>\n",
       "      <th></th>\n",
       "      <th></th>\n",
       "    </tr>\n",
       "  </thead>\n",
       "  <tbody>\n",
       "    <tr>\n",
       "      <th>15749.0</th>\n",
       "      <td>257</td>\n",
       "      <td>4</td>\n",
       "      <td>21535.9</td>\n",
       "      <td>0</td>\n",
       "      <td>Silver</td>\n",
       "    </tr>\n",
       "  </tbody>\n",
       "</table>\n",
       "</div>"
      ],
      "text/plain": [
       "            Recency  Frequency  Monetary  Clusters   group\n",
       "CustomerID                                                \n",
       "15749.0         257          4   21535.9         0  Silver"
      ]
     },
     "execution_count": 261,
     "metadata": {},
     "output_type": "execute_result"
    }
   ],
   "source": [
    "ABC = RFM[RFM.Clusters==0]\n",
    "ABC[ABC['Monetary']==ABC['Monetary'].max()]"
   ]
  }
 ],
 "metadata": {
  "kernelspec": {
   "display_name": "Python 3",
   "language": "python",
   "name": "python3"
  },
  "language_info": {
   "codemirror_mode": {
    "name": "ipython",
    "version": 3
   },
   "file_extension": ".py",
   "mimetype": "text/x-python",
   "name": "python",
   "nbconvert_exporter": "python",
   "pygments_lexer": "ipython3",
   "version": "3.12.3"
  }
 },
 "nbformat": 4,
 "nbformat_minor": 2
}
